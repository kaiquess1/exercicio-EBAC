{
  "nbformat": 4,
  "nbformat_minor": 0,
  "metadata": {
    "colab": {
      "provenance": [],
      "toc_visible": true
    },
    "kernelspec": {
      "name": "python3",
      "display_name": "Python 3"
    },
    "language_info": {
      "name": "python"
    }
  },
  "cells": [
    {
      "cell_type": "code",
      "execution_count": null,
      "metadata": {
        "id": "b5yFChYGU0PY"
      },
      "outputs": [],
      "source": []
    },
    {
      "cell_type": "markdown",
      "source": [
        "\n",
        "$\\color{blue}{Fórmula\\;de\\;Bhaskara}$\n",
        "\n",
        "A solução para uma função de segundo grau depende das suas raízes (valores de X). Como já vimos, os coeficientes precisam ser números reais e o angular diferente de zero. Sendo assim, temos a seguinte fórmula de Bhaskara:\n",
        "\n",
        "# $$X=\\frac{-b\\pm\\sqrt{b~^2-4.a.c}}{2a}$$\n",
        "###### $$ Fórmula\\;de\\;Bhaskara.$$\n",
        " \n",
        "\n",
        "Para melhor compreensão o seu cálculo é dividido em duas partes: discriminante da equação e operações para determinar as raízes.\n",
        "\n",
        "#### Discriminante \n",
        "\n",
        "A figura dentro da raiz na formula de Bhaskara é nomeada de discriminante. Seu símbolo é a letra grega delta e apresenta a determinada fórmula:\n",
        "\n",
        "# $$\\Delta = b^2-4.a.c$$\n",
        "###### $$Fórmula\\;da\\;Discriminante.$$\n",
        "\n",
        "- Se o delta for maior que zero,a equação terá dois valores reais e distintos.\n",
        "- Se o delta for igual a zero,a equação terá somente um valor real ou dois resultados iguais.\n",
        "- Se o delta for menor que zero, a equação não possuirá valores reais. \n",
        "\n",
        "\n"
      ],
      "metadata": {
        "id": "Jp6Vh6-_VUln"
      }
    }
  ]
}