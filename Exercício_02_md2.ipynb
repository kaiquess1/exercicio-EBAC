{
  "nbformat": 4,
  "nbformat_minor": 0,
  "metadata": {
    "colab": {
      "provenance": []
    },
    "kernelspec": {
      "name": "python3",
      "display_name": "Python 3"
    },
    "language_info": {
      "name": "python"
    }
  },
  "cells": [
    {
      "cell_type": "markdown",
      "source": [
        "\n",
        "\n",
        "### Tarefa 01"
      ],
      "metadata": {
        "id": "IZPUtAGnt8XW"
      }
    },
    {
      "cell_type": "code",
      "source": [
        "import pandas as pd"
      ],
      "metadata": {
        "id": "rh_EzqXiUzPa"
      },
      "execution_count": 61,
      "outputs": []
    },
    {
      "cell_type": "code",
      "source": [
        "dados=['M',0],['F',6]\n",
        "df=pd.DataFrame(dados,columns=['sexo','bg'])\n",
        "df\n"
      ],
      "metadata": {
        "colab": {
          "base_uri": "https://localhost:8080/",
          "height": 112
        },
        "id": "SRwkcsVGHrxH",
        "outputId": "e0ec1022-d632-4941-aacd-6d8586e652f7"
      },
      "execution_count": 62,
      "outputs": [
        {
          "output_type": "execute_result",
          "data": {
            "text/plain": [
              "  sexo  bg\n",
              "0    M   0\n",
              "1    F   6"
            ],
            "text/html": [
              "\n",
              "  <div id=\"df-5a401b18-2664-48cb-a2c1-d1f0a0fa5bb7\">\n",
              "    <div class=\"colab-df-container\">\n",
              "      <div>\n",
              "<style scoped>\n",
              "    .dataframe tbody tr th:only-of-type {\n",
              "        vertical-align: middle;\n",
              "    }\n",
              "\n",
              "    .dataframe tbody tr th {\n",
              "        vertical-align: top;\n",
              "    }\n",
              "\n",
              "    .dataframe thead th {\n",
              "        text-align: right;\n",
              "    }\n",
              "</style>\n",
              "<table border=\"1\" class=\"dataframe\">\n",
              "  <thead>\n",
              "    <tr style=\"text-align: right;\">\n",
              "      <th></th>\n",
              "      <th>sexo</th>\n",
              "      <th>bg</th>\n",
              "    </tr>\n",
              "  </thead>\n",
              "  <tbody>\n",
              "    <tr>\n",
              "      <th>0</th>\n",
              "      <td>M</td>\n",
              "      <td>0</td>\n",
              "    </tr>\n",
              "    <tr>\n",
              "      <th>1</th>\n",
              "      <td>F</td>\n",
              "      <td>6</td>\n",
              "    </tr>\n",
              "  </tbody>\n",
              "</table>\n",
              "</div>\n",
              "      <button class=\"colab-df-convert\" onclick=\"convertToInteractive('df-5a401b18-2664-48cb-a2c1-d1f0a0fa5bb7')\"\n",
              "              title=\"Convert this dataframe to an interactive table.\"\n",
              "              style=\"display:none;\">\n",
              "        \n",
              "  <svg xmlns=\"http://www.w3.org/2000/svg\" height=\"24px\"viewBox=\"0 0 24 24\"\n",
              "       width=\"24px\">\n",
              "    <path d=\"M0 0h24v24H0V0z\" fill=\"none\"/>\n",
              "    <path d=\"M18.56 5.44l.94 2.06.94-2.06 2.06-.94-2.06-.94-.94-2.06-.94 2.06-2.06.94zm-11 1L8.5 8.5l.94-2.06 2.06-.94-2.06-.94L8.5 2.5l-.94 2.06-2.06.94zm10 10l.94 2.06.94-2.06 2.06-.94-2.06-.94-.94-2.06-.94 2.06-2.06.94z\"/><path d=\"M17.41 7.96l-1.37-1.37c-.4-.4-.92-.59-1.43-.59-.52 0-1.04.2-1.43.59L10.3 9.45l-7.72 7.72c-.78.78-.78 2.05 0 2.83L4 21.41c.39.39.9.59 1.41.59.51 0 1.02-.2 1.41-.59l7.78-7.78 2.81-2.81c.8-.78.8-2.07 0-2.86zM5.41 20L4 18.59l7.72-7.72 1.47 1.35L5.41 20z\"/>\n",
              "  </svg>\n",
              "      </button>\n",
              "      \n",
              "  <style>\n",
              "    .colab-df-container {\n",
              "      display:flex;\n",
              "      flex-wrap:wrap;\n",
              "      gap: 12px;\n",
              "    }\n",
              "\n",
              "    .colab-df-convert {\n",
              "      background-color: #E8F0FE;\n",
              "      border: none;\n",
              "      border-radius: 50%;\n",
              "      cursor: pointer;\n",
              "      display: none;\n",
              "      fill: #1967D2;\n",
              "      height: 32px;\n",
              "      padding: 0 0 0 0;\n",
              "      width: 32px;\n",
              "    }\n",
              "\n",
              "    .colab-df-convert:hover {\n",
              "      background-color: #E2EBFA;\n",
              "      box-shadow: 0px 1px 2px rgba(60, 64, 67, 0.3), 0px 1px 3px 1px rgba(60, 64, 67, 0.15);\n",
              "      fill: #174EA6;\n",
              "    }\n",
              "\n",
              "    [theme=dark] .colab-df-convert {\n",
              "      background-color: #3B4455;\n",
              "      fill: #D2E3FC;\n",
              "    }\n",
              "\n",
              "    [theme=dark] .colab-df-convert:hover {\n",
              "      background-color: #434B5C;\n",
              "      box-shadow: 0px 1px 3px 1px rgba(0, 0, 0, 0.15);\n",
              "      filter: drop-shadow(0px 1px 2px rgba(0, 0, 0, 0.3));\n",
              "      fill: #FFFFFF;\n",
              "    }\n",
              "  </style>\n",
              "\n",
              "      <script>\n",
              "        const buttonEl =\n",
              "          document.querySelector('#df-5a401b18-2664-48cb-a2c1-d1f0a0fa5bb7 button.colab-df-convert');\n",
              "        buttonEl.style.display =\n",
              "          google.colab.kernel.accessAllowed ? 'block' : 'none';\n",
              "\n",
              "        async function convertToInteractive(key) {\n",
              "          const element = document.querySelector('#df-5a401b18-2664-48cb-a2c1-d1f0a0fa5bb7');\n",
              "          const dataTable =\n",
              "            await google.colab.kernel.invokeFunction('convertToInteractive',\n",
              "                                                     [key], {});\n",
              "          if (!dataTable) return;\n",
              "\n",
              "          const docLinkHtml = 'Like what you see? Visit the ' +\n",
              "            '<a target=\"_blank\" href=https://colab.research.google.com/notebooks/data_table.ipynb>data table notebook</a>'\n",
              "            + ' to learn more about interactive tables.';\n",
              "          element.innerHTML = '';\n",
              "          dataTable['output_type'] = 'display_data';\n",
              "          await google.colab.output.renderOutput(dataTable, element);\n",
              "          const docLink = document.createElement('div');\n",
              "          docLink.innerHTML = docLinkHtml;\n",
              "          element.appendChild(docLink);\n",
              "        }\n",
              "      </script>\n",
              "    </div>\n",
              "  </div>\n",
              "  "
            ]
          },
          "metadata": {},
          "execution_count": 62
        }
      ]
    },
    {
      "cell_type": "code",
      "source": [
        "\n",
        "for i in df['bg']:\n",
        "  if i >= 5:\n",
        "    print('Positivo! Parabéns você está grávida')\n",
        "\n",
        "  else:\n",
        "    print( 'Negativo! Não foi dessa vez')"
      ],
      "metadata": {
        "colab": {
          "base_uri": "https://localhost:8080/"
        },
        "id": "3jj2E5jsT-eB",
        "outputId": "708624ee-16f0-4533-b98f-17a3242961f1"
      },
      "execution_count": 65,
      "outputs": [
        {
          "output_type": "stream",
          "name": "stdout",
          "text": [
            "Negativo! Não foi dessa vez\n",
            "Positivo! Parabéns você está grávida\n"
          ]
        }
      ]
    },
    {
      "cell_type": "code",
      "source": [
        "for i,a in df['sexo'],df['bg']:\n",
        "  if a == \"F\":\n",
        "    print('Voce está gravida')\n",
        "  else:\n",
        "    print('Não foi dessa vez bb')"
      ],
      "metadata": {
        "colab": {
          "base_uri": "https://localhost:8080/"
        },
        "id": "106QMMW0T-gz",
        "outputId": "53c11c50-67cf-49d8-e452-45d60c780b50"
      },
      "execution_count": 69,
      "outputs": [
        {
          "output_type": "stream",
          "name": "stdout",
          "text": [
            "Voce está gravida\n",
            "Não foi dessa vez bb\n"
          ]
        }
      ]
    },
    {
      "cell_type": "markdown",
      "source": [
        "### Tarefa 02\n"
      ],
      "metadata": {
        "id": "z-IbmapZt0s1"
      }
    },
    {
      "cell_type": "code",
      "source": [
        "renomeacao={'name':'nome',\n",
        "            'age':'idade',\n",
        "            'income':'renda'}\n",
        "renomeacao"
      ],
      "metadata": {
        "colab": {
          "base_uri": "https://localhost:8080/"
        },
        "id": "NkAbWnFIlNNB",
        "outputId": "3f02f6b2-1697-457c-fc45-decb431f64f3"
      },
      "execution_count": 6,
      "outputs": [
        {
          "output_type": "execute_result",
          "data": {
            "text/plain": [
              "{'name': 'nome', 'age': 'idade', 'income': 'renda'}"
            ]
          },
          "metadata": {},
          "execution_count": 6
        }
      ]
    },
    {
      "cell_type": "markdown",
      "source": [
        "### Tarefa 03"
      ],
      "metadata": {
        "id": "vVSnt4wcuGAK"
      }
    },
    {
      "cell_type": "code",
      "source": [
        "N=42\n",
        "M=7\n",
        "p= int(input('Informe o valor de P' ))\n",
        "w=N+M,N-M,N*M,N/M\n",
        "for i in w:\n",
        "  if i % p:\n",
        "    print('Valor de (%d) é divisivel por p' % i)\n",
        "  else:\n",
        "    print('Valor de (%d) não divisivel p' % i)"
      ],
      "metadata": {
        "colab": {
          "base_uri": "https://localhost:8080/"
        },
        "id": "A7bmwme1T-iw",
        "outputId": "15cbbdcc-eb25-4eca-9827-ca8ae132f165"
      },
      "execution_count": 104,
      "outputs": [
        {
          "output_type": "stream",
          "name": "stdout",
          "text": [
            "Informe o valor de P290\n",
            "Valor de (49) é divisivel por p\n",
            "Valor de (35) é divisivel por p\n",
            "Valor de (294) é divisivel por p\n",
            "Valor de (6) é divisivel por p\n"
          ]
        }
      ]
    },
    {
      "cell_type": "markdown",
      "source": [
        "### Tarefa 04"
      ],
      "metadata": {
        "id": "LrxjBsBU3dMC"
      }
    },
    {
      "cell_type": "code",
      "source": [
        "N=47\n",
        "total=0\n"
      ],
      "metadata": {
        "id": "_ZHHgIJgT-ng"
      },
      "execution_count": 105,
      "outputs": []
    },
    {
      "cell_type": "code",
      "source": [
        "for i in range(1,N+1):\n",
        "  if N % i ==0:\n",
        "    print('\\033[32m',end=' ')\n",
        "    total +=1\n",
        "  else:\n",
        "    print('\\033[33m',end=' ')\n",
        "  print('{}'.format(i),end=\" \")\n",
        "print('\\nO número {} é divisivel por {} vezes\\n'.format(N,total))\n",
        "if total == 2:\n",
        "  print('O {} é um número primo'.format(N))\n",
        "else: \n",
        "  print('\\n Não é número primo')"
      ],
      "metadata": {
        "colab": {
          "base_uri": "https://localhost:8080/"
        },
        "id": "BgaIF3uRT-rD",
        "outputId": "3de0fe84-8371-4e7c-8193-c14ef6c83ed6"
      },
      "execution_count": 106,
      "outputs": [
        {
          "output_type": "stream",
          "name": "stdout",
          "text": [
            "\u001b[32m 1 \u001b[33m 2 \u001b[33m 3 \u001b[33m 4 \u001b[33m 5 \u001b[33m 6 \u001b[33m 7 \u001b[33m 8 \u001b[33m 9 \u001b[33m 10 \u001b[33m 11 \u001b[33m 12 \u001b[33m 13 \u001b[33m 14 \u001b[33m 15 \u001b[33m 16 \u001b[33m 17 \u001b[33m 18 \u001b[33m 19 \u001b[33m 20 \u001b[33m 21 \u001b[33m 22 \u001b[33m 23 \u001b[33m 24 \u001b[33m 25 \u001b[33m 26 \u001b[33m 27 \u001b[33m 28 \u001b[33m 29 \u001b[33m 30 \u001b[33m 31 \u001b[33m 32 \u001b[33m 33 \u001b[33m 34 \u001b[33m 35 \u001b[33m 36 \u001b[33m 37 \u001b[33m 38 \u001b[33m 39 \u001b[33m 40 \u001b[33m 41 \u001b[33m 42 \u001b[33m 43 \u001b[33m 44 \u001b[33m 45 \u001b[33m 46 \u001b[32m 47 \n",
            "O número 47 é divisivel por 2 vezes\n",
            "\n",
            "O 47 é um número primo\n"
          ]
        }
      ]
    },
    {
      "cell_type": "markdown",
      "source": [
        "### Tarefa 05"
      ],
      "metadata": {
        "id": "walk3GeJmxsa"
      }
    },
    {
      "cell_type": "code",
      "source": [
        "#Podemos definir uma função para identificar se o número é primo sem percorrer todos os números. \n",
        "\n",
        "def primo(n):\n",
        "  if n <= 1:\n",
        "    return 'Não é primo.'\n",
        "  for i in range(2,n//2):\n",
        "    if n % i ==0:\n",
        "      return 'Não é primo.'\n",
        "  return 'É primo.'\n",
        "\n",
        "N=98\n",
        "numero=primo(N)\n",
        "print('O número {} é primo?\\n{}'.format(N,numero))"
      ],
      "metadata": {
        "colab": {
          "base_uri": "https://localhost:8080/"
        },
        "id": "cY3a27iPT-tu",
        "outputId": "d8cc4a17-1d60-4c04-ac9c-27931c9e06af"
      },
      "execution_count": 1,
      "outputs": [
        {
          "output_type": "stream",
          "name": "stdout",
          "text": [
            "O número 98 é primo?\n",
            "Não é primo.\n"
          ]
        }
      ]
    },
    {
      "cell_type": "markdown",
      "source": [
        "### Tarefa 06"
      ],
      "metadata": {
        "id": "o95kU6JjyfOj"
      }
    },
    {
      "cell_type": "code",
      "source": [
        "#Tive dificuldade nessa questão"
      ],
      "metadata": {
        "id": "c-_Av7yUHr46"
      },
      "execution_count": 70,
      "outputs": []
    },
    {
      "cell_type": "markdown",
      "source": [
        "### Tarefa 07\n"
      ],
      "metadata": {
        "id": "nfYA2ONc3U89"
      }
    },
    {
      "cell_type": "code",
      "source": [
        "peso=float(input('Informe o seu peso:'))\n",
        "altura=1.70\n",
        "imc= peso/ (altura**2)\n",
        "\n",
        "if imc <=18.5:\n",
        "  print('Voce está abaixo do peso')\n",
        "elif 18.5 <= imc < 25:\n",
        "  print('Voce está no seu peso ideal')\n",
        "elif 25 <= imc <30:\n",
        "  print('Você está com sobrepeso')\n",
        "elif 30 <= imc < 40:\n",
        "  print('Você está com obecidade')\n",
        "else:\n",
        "  print('Voce está com obecidade mórbida')"
      ],
      "metadata": {
        "colab": {
          "base_uri": "https://localhost:8080/"
        },
        "id": "h-kgfMZSu3lO",
        "outputId": "c45f223f-c533-4f63-d941-021c9c397240"
      },
      "execution_count": 22,
      "outputs": [
        {
          "output_type": "stream",
          "name": "stdout",
          "text": [
            "Informe o seu peso:70\n",
            "Voce está no seu peso ideal\n"
          ]
        }
      ]
    },
    {
      "cell_type": "code",
      "source": [
        "peso_ideal=(altura**2)*20\n",
        "print(f'O peso ideal para uma pessoa que tem {altura} de altura é de {peso_ideal}')"
      ],
      "metadata": {
        "colab": {
          "base_uri": "https://localhost:8080/"
        },
        "id": "HICRQXPr2OP7",
        "outputId": "47f17d42-df8c-46b4-84ad-e3bd36e5111c"
      },
      "execution_count": 23,
      "outputs": [
        {
          "output_type": "stream",
          "name": "stdout",
          "text": [
            "O peso ideal para uma pessoa que tem 1.7 de altura é de 57.8\n"
          ]
        }
      ]
    },
    {
      "cell_type": "markdown",
      "source": [
        "### Tarefa 08"
      ],
      "metadata": {
        "id": "WTITb_bZ4klT"
      }
    },
    {
      "cell_type": "code",
      "source": [
        "peso=float(input('Informe o seu peso:'))\n",
        "#peso=float(range(40,160))\n",
        "lista_alturas = [1.95, 2.05, 1.70, 1.65]\n",
        "imc= peso/ (altura**2)\n",
        "lista_imc_ideal=[]\n",
        "lista_ideal_peso=[]\n",
        "for altura in lista_alturas:\n",
        "  #peso_ideal=(altura**2)*20\n",
        "  imc= peso/ (altura**2)\n",
        "  if imc <=18.5:\n",
        "    lista_imc_ideal.append(imc)\n",
        "    print(f'Voce está abaixo do peso com {peso}kg')\n",
        "  elif 18.5 <= imc < 25:\n",
        "    lista_imc_ideal.append(imc)\n",
        "    print(f'Voce está no seu peso ideal {peso}kg')\n",
        "  elif 25 <= imc <30:\n",
        "    lista_imc_ideal.append(imc)\n",
        "    print(f'Você está com sobrepeso {peso}kg')\n",
        "  elif 30 <= imc < 40:\n",
        "    lista_imc_ideal.append(imc)\n",
        "    print(f'Você está com obecidade {peso}kg')\n",
        "  else:\n",
        "    lista_imc_ideal.append(imc)\n",
        "    print(f'Voce está com obecidade mórbida {peso}kg')\n",
        "print('Lista com IMC ideal para cada paciente:',lista_imc_ideal)\n",
        "for ideal_imc in lista_imc_ideal:\n",
        "  peso= (altura**2)*ideal_imc\n",
        "  lista_ideal_peso.append(peso)\n",
        "print('Lista com o PESO ideal para cada paciente:',lista_ideal_peso)\n",
        "      \n",
        "#Tive dificuldade nessa questão\n",
        "    "
      ],
      "metadata": {
        "colab": {
          "base_uri": "https://localhost:8080/"
        },
        "id": "cJ8mVl7S4roa",
        "outputId": "fb347239-43b0-4375-c2a4-72405c8537cc"
      },
      "execution_count": 71,
      "outputs": [
        {
          "output_type": "stream",
          "name": "stdout",
          "text": [
            "Informe o seu peso:60\n",
            "Voce está abaixo do peso com 60.0kg\n",
            "Voce está abaixo do peso com 60.0kg\n",
            "Voce está no seu peso ideal 60.0kg\n",
            "Voce está no seu peso ideal 60.0kg\n",
            "Lista com IMC ideal para cada paciente: [15.779092702169626, 14.277215942891138, 20.761245674740486, 22.03856749311295]\n",
            "Lista com o PESO ideal para cada paciente: [42.9585798816568, 38.86972040452112, 56.522491349480966, 60.0]\n"
          ]
        }
      ]
    },
    {
      "cell_type": "markdown",
      "source": [
        "### Tarefa 09"
      ],
      "metadata": {
        "id": "TI33WqG2K2qt"
      }
    },
    {
      "cell_type": "code",
      "source": [
        "altura_peso = [(1.80, 90), (1.65, 75), (1.91, 70)]\n",
        "imc=[]\n",
        "for a,p in altura_peso:\n",
        "  imc.append(p/(a**2))\n",
        "print('Lista com IMC:',imc)\n"
      ],
      "metadata": {
        "colab": {
          "base_uri": "https://localhost:8080/"
        },
        "id": "TqxgFkNAF622",
        "outputId": "7f863211-23e3-4dfe-e4a3-34273824598f"
      },
      "execution_count": 58,
      "outputs": [
        {
          "output_type": "stream",
          "name": "stdout",
          "text": [
            "Lista com IMC: [27.777777777777775, 27.548209366391188, 19.188070502453332]\n"
          ]
        }
      ]
    },
    {
      "cell_type": "markdown",
      "source": [
        "### Tarefa 10"
      ],
      "metadata": {
        "id": "nunyFmj_M8U-"
      }
    },
    {
      "cell_type": "code",
      "source": [
        "altura_peso = [(1.80, 90), (1.65, 75), (1.91, 70)]\n",
        "imc=[]\n",
        "for a,p in altura_peso:\n",
        "  imc=(p/(a**2))\n",
        "  if imc <=18.5:\n",
        "    #lista_imc_ideal.append(imc)\n",
        "    altura_peso.append('baixo')\n",
        "    print(f'Voce está abaixo do peso com {p}kg')\n",
        "  elif 18.5 <= imc < 25:\n",
        "    altura_peso.append('peso ideal')\n",
        "    #lista_imc_ideal.append('peso ideal')\n",
        "    print(f'Voce está no seu peso ideal {p}kg')\n",
        "  elif 25 <= imc <30:\n",
        "    altura_peso.append('sobrepeso')\n",
        "    #lista_imc_ideal.append(imc)\n",
        "    print(f'Você está com sobrepeso {p}kg')\n",
        "  elif 30 <= imc < 40:\n",
        "    altura_peso.append('obecidade')\n",
        "    #lista_imc_ideal.append(imc)\n",
        "    print(f'Você está com obecidade {p}kg')\n",
        "  else:\n",
        "    altura_peso.append('obecidade mordida')\n",
        "    #lista_imc_ideal.append(imc)\n",
        "    print(f'Voce está com obecidade mórbida {p}kg')\n",
        "print(altura_peso)\n",
        "\n",
        "#Tive dificuldade nessa questão"
      ],
      "metadata": {
        "colab": {
          "base_uri": "https://localhost:8080/",
          "height": 287
        },
        "id": "i3qCVHixMUO5",
        "outputId": "6ca95796-7b5a-4d30-95f2-f81312f31a9c"
      },
      "execution_count": 60,
      "outputs": [
        {
          "output_type": "stream",
          "name": "stdout",
          "text": [
            "Você está com sobrepeso 90kg\n",
            "Você está com sobrepeso 75kg\n",
            "Voce está no seu peso ideal 70kg\n"
          ]
        },
        {
          "output_type": "error",
          "ename": "ValueError",
          "evalue": "ignored",
          "traceback": [
            "\u001b[0;31m---------------------------------------------------------------------------\u001b[0m",
            "\u001b[0;31mValueError\u001b[0m                                Traceback (most recent call last)",
            "\u001b[0;32m<ipython-input-60-d7071a32457b>\u001b[0m in \u001b[0;36m<module>\u001b[0;34m\u001b[0m\n\u001b[1;32m      1\u001b[0m \u001b[0maltura_peso\u001b[0m \u001b[0;34m=\u001b[0m \u001b[0;34m[\u001b[0m\u001b[0;34m(\u001b[0m\u001b[0;36m1.80\u001b[0m\u001b[0;34m,\u001b[0m \u001b[0;36m90\u001b[0m\u001b[0;34m)\u001b[0m\u001b[0;34m,\u001b[0m \u001b[0;34m(\u001b[0m\u001b[0;36m1.65\u001b[0m\u001b[0;34m,\u001b[0m \u001b[0;36m75\u001b[0m\u001b[0;34m)\u001b[0m\u001b[0;34m,\u001b[0m \u001b[0;34m(\u001b[0m\u001b[0;36m1.91\u001b[0m\u001b[0;34m,\u001b[0m \u001b[0;36m70\u001b[0m\u001b[0;34m)\u001b[0m\u001b[0;34m]\u001b[0m\u001b[0;34m\u001b[0m\u001b[0;34m\u001b[0m\u001b[0m\n\u001b[1;32m      2\u001b[0m \u001b[0mimc\u001b[0m\u001b[0;34m=\u001b[0m\u001b[0;34m[\u001b[0m\u001b[0;34m]\u001b[0m\u001b[0;34m\u001b[0m\u001b[0;34m\u001b[0m\u001b[0m\n\u001b[0;32m----> 3\u001b[0;31m \u001b[0;32mfor\u001b[0m \u001b[0ma\u001b[0m\u001b[0;34m,\u001b[0m\u001b[0mp\u001b[0m \u001b[0;32min\u001b[0m \u001b[0maltura_peso\u001b[0m\u001b[0;34m:\u001b[0m\u001b[0;34m\u001b[0m\u001b[0;34m\u001b[0m\u001b[0m\n\u001b[0m\u001b[1;32m      4\u001b[0m   \u001b[0mimc\u001b[0m\u001b[0;34m=\u001b[0m\u001b[0;34m(\u001b[0m\u001b[0mp\u001b[0m\u001b[0;34m/\u001b[0m\u001b[0;34m(\u001b[0m\u001b[0ma\u001b[0m\u001b[0;34m**\u001b[0m\u001b[0;36m2\u001b[0m\u001b[0;34m)\u001b[0m\u001b[0;34m)\u001b[0m\u001b[0;34m\u001b[0m\u001b[0;34m\u001b[0m\u001b[0m\n\u001b[1;32m      5\u001b[0m   \u001b[0;32mif\u001b[0m \u001b[0mimc\u001b[0m \u001b[0;34m<=\u001b[0m\u001b[0;36m18.5\u001b[0m\u001b[0;34m:\u001b[0m\u001b[0;34m\u001b[0m\u001b[0;34m\u001b[0m\u001b[0m\n",
            "\u001b[0;31mValueError\u001b[0m: too many values to unpack (expected 2)"
          ]
        }
      ]
    }
  ]
}