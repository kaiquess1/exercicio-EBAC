{
 "cells": [
  {
   "cell_type": "markdown",
   "id": "05b21304",
   "metadata": {},
   "source": [
    "## 1. Qual a principal diferença entre um *behaviour score* e um *credit score*?\n",
    "\n",
    "<font color='red'>**Resposta**</font> = O *behaviour score* faz uma avalianção mais completa verificando o histórico e movimentação financeira do cliente  uso de limites,inadimplencia,pagamentos,dividas em atraso, nivel de endividamento. Já o *credit score* avaliar apenas o historico de inadimplencia. \n",
    "\n",
    "\n",
    "\n",
    "\n",
    "## 2. Por que é tão comum se estabelecer janelas de desempenho de 12 meses, e 12 safras para o desenvolvimento de modelos?\n",
    "\n",
    "\n",
    "<font color='red'>**Resposta**</font> =  É comum usar as janelas de desempenho de 12 meses também chamado de 12 safras a partir da data de contratação ou data de referência para eliminar os efeitos de sazionalidade tendo em vista que não é de praxe modelar com eventos de inadimplência\n",
    "\n",
    "\n",
    "\n",
    "## 3. Qual a diferença entre amostra *out of time* e amostra *out of sample*?\n",
    "\n",
    "\n",
    "<font color='red'>**Resposta**</font> =  Amostra *out of time* (OOT) é a divisão temporal dos para treinamento e teste já  *out of sample* (OOS) é essa divisão ocorre de forma aleatoria. É importante ressaltar que amostra OOT é considerada mais poderosa no entanto é necessário verificar as especificidade da base de dados que está sendo usada. \n",
    "\n",
    "\n",
    "\n",
    "## 4. Se os dados da variavel resposta estão sistematicamente corrompidos para duas das safras de desenvolvimento, o que você faria?\n",
    "\n",
    "\n",
    "<font color='red'>**Resposta**</font> = Caso isso ocorra essas duas safras não são representativas para avaliação, sendo necessário descarta-las. \n"
   ]
  }
 ],
 "metadata": {
  "kernelspec": {
   "display_name": "Python 3 (ipykernel)",
   "language": "python",
   "name": "python3"
  },
  "language_info": {
   "codemirror_mode": {
    "name": "ipython",
    "version": 3
   },
   "file_extension": ".py",
   "mimetype": "text/x-python",
   "name": "python",
   "nbconvert_exporter": "python",
   "pygments_lexer": "ipython3",
   "version": "3.9.12"
  }
 },
 "nbformat": 4,
 "nbformat_minor": 5
}
