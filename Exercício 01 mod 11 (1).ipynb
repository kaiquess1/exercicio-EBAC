{
 "cells": [
  {
   "cell_type": "markdown",
   "id": "061f91fb",
   "metadata": {},
   "source": [
    "###Tarefa 01"
   ]
  },
  {
   "cell_type": "code",
   "execution_count": 16,
   "id": "c4eee9d9",
   "metadata": {},
   "outputs": [
    {
     "name": "stderr",
     "output_type": "stream",
     "text": [
      "C:\\Users\\General\\anaconda3\\lib\\site-packages\\sklearn\\utils\\deprecation.py:87: FutureWarning: Function load_boston is deprecated; `load_boston` is deprecated in 1.0 and will be removed in 1.2.\n",
      "\n",
      "    The Boston housing prices dataset has an ethical problem. You can refer to\n",
      "    the documentation of this function for further details.\n",
      "\n",
      "    The scikit-learn maintainers therefore strongly discourage the use of this\n",
      "    dataset unless the purpose of the code is to study and educate about\n",
      "    ethical issues in data science and machine learning.\n",
      "\n",
      "    In this special case, you can fetch the dataset from the original\n",
      "    source::\n",
      "\n",
      "        import pandas as pd\n",
      "        import numpy as np\n",
      "\n",
      "        data_url = \"http://lib.stat.cmu.edu/datasets/boston\"\n",
      "        raw_df = pd.read_csv(data_url, sep=\"\\s+\", skiprows=22, header=None)\n",
      "        data = np.hstack([raw_df.values[::2, :], raw_df.values[1::2, :2]])\n",
      "        target = raw_df.values[1::2, 2]\n",
      "\n",
      "    Alternative datasets include the California housing dataset (i.e.\n",
      "    :func:`~sklearn.datasets.fetch_california_housing`) and the Ames housing\n",
      "    dataset. You can load the datasets as follows::\n",
      "\n",
      "        from sklearn.datasets import fetch_california_housing\n",
      "        housing = fetch_california_housing()\n",
      "\n",
      "    for the California housing dataset and::\n",
      "\n",
      "        from sklearn.datasets import fetch_openml\n",
      "        housing = fetch_openml(name=\"house_prices\", as_frame=True)\n",
      "\n",
      "    for the Ames housing dataset.\n",
      "  warnings.warn(msg, category=FutureWarning)\n"
     ]
    }
   ],
   "source": [
    "import pandas as pd\n",
    "\n",
    "import seaborn as sns\n",
    "import matplotlib.pyplot as plt\n",
    "\n",
    "from sklearn import datasets\n",
    "#from sklearn.datasets import load_boston\n",
    "from sklearn.tree import DecisionTreeRegressor\n",
    "from sklearn import tree\n",
    "from sklearn.model_selection import train_test_split\n",
    "\n",
    "\n",
    "boston = datasets.load_boston()\n",
    "X = pd.DataFrame(boston.data, columns = boston.feature_names)\n",
    "y = pd.DataFrame(boston.target, columns = ['MEDV'])"
   ]
  },
  {
   "cell_type": "code",
   "execution_count": 6,
   "id": "e38c3277",
   "metadata": {},
   "outputs": [
    {
     "name": "stdout",
     "output_type": "stream",
     "text": [
      "<class 'pandas.core.frame.DataFrame'>\n",
      "RangeIndex: 506 entries, 0 to 505\n",
      "Data columns (total 13 columns):\n",
      " #   Column   Non-Null Count  Dtype  \n",
      "---  ------   --------------  -----  \n",
      " 0   CRIM     506 non-null    float64\n",
      " 1   ZN       506 non-null    float64\n",
      " 2   INDUS    506 non-null    float64\n",
      " 3   CHAS     506 non-null    float64\n",
      " 4   NOX      506 non-null    float64\n",
      " 5   RM       506 non-null    float64\n",
      " 6   AGE      506 non-null    float64\n",
      " 7   DIS      506 non-null    float64\n",
      " 8   RAD      506 non-null    float64\n",
      " 9   TAX      506 non-null    float64\n",
      " 10  PTRATIO  506 non-null    float64\n",
      " 11  B        506 non-null    float64\n",
      " 12  LSTAT    506 non-null    float64\n",
      "dtypes: float64(13)\n",
      "memory usage: 51.5 KB\n"
     ]
    }
   ],
   "source": [
    "X.info()"
   ]
  },
  {
   "cell_type": "code",
   "execution_count": 5,
   "id": "eac552bf",
   "metadata": {},
   "outputs": [
    {
     "name": "stdout",
     "output_type": "stream",
     "text": [
      "<class 'pandas.core.frame.DataFrame'>\n",
      "RangeIndex: 506 entries, 0 to 505\n",
      "Data columns (total 1 columns):\n",
      " #   Column  Non-Null Count  Dtype  \n",
      "---  ------  --------------  -----  \n",
      " 0   MEDV    506 non-null    float64\n",
      "dtypes: float64(1)\n",
      "memory usage: 4.1 KB\n"
     ]
    }
   ],
   "source": [
    "y.info()"
   ]
  },
  {
   "cell_type": "code",
   "execution_count": 105,
   "id": "97154f5b",
   "metadata": {},
   "outputs": [],
   "source": [
    "df=pd.concat([X,y], axis=1)"
   ]
  },
  {
   "cell_type": "code",
   "execution_count": 120,
   "id": "e85f9e01",
   "metadata": {},
   "outputs": [
    {
     "name": "stdout",
     "output_type": "stream",
     "text": [
      "<class 'pandas.core.frame.DataFrame'>\n",
      "RangeIndex: 506 entries, 0 to 505\n",
      "Data columns (total 14 columns):\n",
      " #   Column   Non-Null Count  Dtype\n",
      "---  ------   --------------  -----\n",
      " 0   CRIM     506 non-null    int32\n",
      " 1   ZN       506 non-null    int32\n",
      " 2   INDUS    506 non-null    int32\n",
      " 3   CHAS     506 non-null    int32\n",
      " 4   NOX      506 non-null    int32\n",
      " 5   RM       506 non-null    int32\n",
      " 6   AGE      506 non-null    int32\n",
      " 7   DIS      506 non-null    int32\n",
      " 8   RAD      506 non-null    int32\n",
      " 9   TAX      506 non-null    int32\n",
      " 10  PTRATIO  506 non-null    int32\n",
      " 11  B        506 non-null    int32\n",
      " 12  LSTAT    506 non-null    int32\n",
      " 13  MEDV     506 non-null    int32\n",
      "dtypes: int32(14)\n",
      "memory usage: 27.8 KB\n",
      "None\n",
      "<class 'pandas.core.frame.DataFrame'>\n",
      "RangeIndex: 506 entries, 0 to 505\n",
      "Data columns (total 14 columns):\n",
      " #   Column   Non-Null Count  Dtype\n",
      "---  ------   --------------  -----\n",
      " 0   CRIM     506 non-null    int32\n",
      " 1   ZN       506 non-null    int32\n",
      " 2   INDUS    506 non-null    int32\n",
      " 3   CHAS     506 non-null    int32\n",
      " 4   NOX      506 non-null    int32\n",
      " 5   RM       506 non-null    int32\n",
      " 6   AGE      506 non-null    int32\n",
      " 7   DIS      506 non-null    int32\n",
      " 8   RAD      506 non-null    int32\n",
      " 9   TAX      506 non-null    int32\n",
      " 10  PTRATIO  506 non-null    int32\n",
      " 11  B        506 non-null    int32\n",
      " 12  LSTAT    506 non-null    int32\n",
      " 13  MEDV     506 non-null    int32\n",
      "dtypes: int32(14)\n",
      "memory usage: 27.8 KB\n",
      "None\n",
      "<class 'pandas.core.frame.DataFrame'>\n",
      "RangeIndex: 506 entries, 0 to 505\n",
      "Data columns (total 14 columns):\n",
      " #   Column   Non-Null Count  Dtype\n",
      "---  ------   --------------  -----\n",
      " 0   CRIM     506 non-null    int32\n",
      " 1   ZN       506 non-null    int32\n",
      " 2   INDUS    506 non-null    int32\n",
      " 3   CHAS     506 non-null    int32\n",
      " 4   NOX      506 non-null    int32\n",
      " 5   RM       506 non-null    int32\n",
      " 6   AGE      506 non-null    int32\n",
      " 7   DIS      506 non-null    int32\n",
      " 8   RAD      506 non-null    int32\n",
      " 9   TAX      506 non-null    int32\n",
      " 10  PTRATIO  506 non-null    int32\n",
      " 11  B        506 non-null    int32\n",
      " 12  LSTAT    506 non-null    int32\n",
      " 13  MEDV     506 non-null    int32\n",
      "dtypes: int32(14)\n",
      "memory usage: 27.8 KB\n",
      "None\n",
      "<class 'pandas.core.frame.DataFrame'>\n",
      "RangeIndex: 506 entries, 0 to 505\n",
      "Data columns (total 14 columns):\n",
      " #   Column   Non-Null Count  Dtype\n",
      "---  ------   --------------  -----\n",
      " 0   CRIM     506 non-null    int32\n",
      " 1   ZN       506 non-null    int32\n",
      " 2   INDUS    506 non-null    int32\n",
      " 3   CHAS     506 non-null    int32\n",
      " 4   NOX      506 non-null    int32\n",
      " 5   RM       506 non-null    int32\n",
      " 6   AGE      506 non-null    int32\n",
      " 7   DIS      506 non-null    int32\n",
      " 8   RAD      506 non-null    int32\n",
      " 9   TAX      506 non-null    int32\n",
      " 10  PTRATIO  506 non-null    int32\n",
      " 11  B        506 non-null    int32\n",
      " 12  LSTAT    506 non-null    int32\n",
      " 13  MEDV     506 non-null    int32\n",
      "dtypes: int32(14)\n",
      "memory usage: 27.8 KB\n",
      "None\n",
      "<class 'pandas.core.frame.DataFrame'>\n",
      "RangeIndex: 506 entries, 0 to 505\n",
      "Data columns (total 14 columns):\n",
      " #   Column   Non-Null Count  Dtype\n",
      "---  ------   --------------  -----\n",
      " 0   CRIM     506 non-null    int32\n",
      " 1   ZN       506 non-null    int32\n",
      " 2   INDUS    506 non-null    int32\n",
      " 3   CHAS     506 non-null    int32\n",
      " 4   NOX      506 non-null    int32\n",
      " 5   RM       506 non-null    int32\n",
      " 6   AGE      506 non-null    int32\n",
      " 7   DIS      506 non-null    int32\n",
      " 8   RAD      506 non-null    int32\n",
      " 9   TAX      506 non-null    int32\n",
      " 10  PTRATIO  506 non-null    int32\n",
      " 11  B        506 non-null    int32\n",
      " 12  LSTAT    506 non-null    int32\n",
      " 13  MEDV     506 non-null    int32\n",
      "dtypes: int32(14)\n",
      "memory usage: 27.8 KB\n",
      "None\n",
      "<class 'pandas.core.frame.DataFrame'>\n",
      "RangeIndex: 506 entries, 0 to 505\n",
      "Data columns (total 14 columns):\n",
      " #   Column   Non-Null Count  Dtype\n",
      "---  ------   --------------  -----\n",
      " 0   CRIM     506 non-null    int32\n",
      " 1   ZN       506 non-null    int32\n",
      " 2   INDUS    506 non-null    int32\n",
      " 3   CHAS     506 non-null    int32\n",
      " 4   NOX      506 non-null    int32\n",
      " 5   RM       506 non-null    int32\n",
      " 6   AGE      506 non-null    int32\n",
      " 7   DIS      506 non-null    int32\n",
      " 8   RAD      506 non-null    int32\n",
      " 9   TAX      506 non-null    int32\n",
      " 10  PTRATIO  506 non-null    int32\n",
      " 11  B        506 non-null    int32\n",
      " 12  LSTAT    506 non-null    int32\n",
      " 13  MEDV     506 non-null    int32\n",
      "dtypes: int32(14)\n",
      "memory usage: 27.8 KB\n",
      "None\n",
      "<class 'pandas.core.frame.DataFrame'>\n",
      "RangeIndex: 506 entries, 0 to 505\n",
      "Data columns (total 14 columns):\n",
      " #   Column   Non-Null Count  Dtype\n",
      "---  ------   --------------  -----\n",
      " 0   CRIM     506 non-null    int32\n",
      " 1   ZN       506 non-null    int32\n",
      " 2   INDUS    506 non-null    int32\n",
      " 3   CHAS     506 non-null    int32\n",
      " 4   NOX      506 non-null    int32\n",
      " 5   RM       506 non-null    int32\n",
      " 6   AGE      506 non-null    int32\n",
      " 7   DIS      506 non-null    int32\n",
      " 8   RAD      506 non-null    int32\n",
      " 9   TAX      506 non-null    int32\n",
      " 10  PTRATIO  506 non-null    int32\n",
      " 11  B        506 non-null    int32\n",
      " 12  LSTAT    506 non-null    int32\n",
      " 13  MEDV     506 non-null    int32\n",
      "dtypes: int32(14)\n",
      "memory usage: 27.8 KB\n",
      "None\n",
      "<class 'pandas.core.frame.DataFrame'>\n",
      "RangeIndex: 506 entries, 0 to 505\n",
      "Data columns (total 14 columns):\n",
      " #   Column   Non-Null Count  Dtype\n",
      "---  ------   --------------  -----\n",
      " 0   CRIM     506 non-null    int32\n",
      " 1   ZN       506 non-null    int32\n",
      " 2   INDUS    506 non-null    int32\n",
      " 3   CHAS     506 non-null    int32\n",
      " 4   NOX      506 non-null    int32\n",
      " 5   RM       506 non-null    int32\n",
      " 6   AGE      506 non-null    int32\n",
      " 7   DIS      506 non-null    int32\n",
      " 8   RAD      506 non-null    int32\n",
      " 9   TAX      506 non-null    int32\n",
      " 10  PTRATIO  506 non-null    int32\n",
      " 11  B        506 non-null    int32\n",
      " 12  LSTAT    506 non-null    int32\n",
      " 13  MEDV     506 non-null    int32\n",
      "dtypes: int32(14)\n",
      "memory usage: 27.8 KB\n",
      "None\n",
      "<class 'pandas.core.frame.DataFrame'>\n",
      "RangeIndex: 506 entries, 0 to 505\n",
      "Data columns (total 14 columns):\n",
      " #   Column   Non-Null Count  Dtype\n",
      "---  ------   --------------  -----\n",
      " 0   CRIM     506 non-null    int32\n",
      " 1   ZN       506 non-null    int32\n",
      " 2   INDUS    506 non-null    int32\n",
      " 3   CHAS     506 non-null    int32\n",
      " 4   NOX      506 non-null    int32\n",
      " 5   RM       506 non-null    int32\n",
      " 6   AGE      506 non-null    int32\n",
      " 7   DIS      506 non-null    int32\n",
      " 8   RAD      506 non-null    int32\n",
      " 9   TAX      506 non-null    int32\n",
      " 10  PTRATIO  506 non-null    int32\n",
      " 11  B        506 non-null    int32\n",
      " 12  LSTAT    506 non-null    int32\n",
      " 13  MEDV     506 non-null    int32\n",
      "dtypes: int32(14)\n",
      "memory usage: 27.8 KB\n",
      "None\n",
      "<class 'pandas.core.frame.DataFrame'>\n",
      "RangeIndex: 506 entries, 0 to 505\n",
      "Data columns (total 14 columns):\n",
      " #   Column   Non-Null Count  Dtype\n",
      "---  ------   --------------  -----\n",
      " 0   CRIM     506 non-null    int32\n",
      " 1   ZN       506 non-null    int32\n",
      " 2   INDUS    506 non-null    int32\n",
      " 3   CHAS     506 non-null    int32\n",
      " 4   NOX      506 non-null    int32\n",
      " 5   RM       506 non-null    int32\n",
      " 6   AGE      506 non-null    int32\n",
      " 7   DIS      506 non-null    int32\n",
      " 8   RAD      506 non-null    int32\n",
      " 9   TAX      506 non-null    int32\n",
      " 10  PTRATIO  506 non-null    int32\n",
      " 11  B        506 non-null    int32\n",
      " 12  LSTAT    506 non-null    int32\n",
      " 13  MEDV     506 non-null    int32\n",
      "dtypes: int32(14)\n",
      "memory usage: 27.8 KB\n",
      "None\n",
      "<class 'pandas.core.frame.DataFrame'>\n",
      "RangeIndex: 506 entries, 0 to 505\n",
      "Data columns (total 14 columns):\n",
      " #   Column   Non-Null Count  Dtype\n",
      "---  ------   --------------  -----\n",
      " 0   CRIM     506 non-null    int32\n",
      " 1   ZN       506 non-null    int32\n",
      " 2   INDUS    506 non-null    int32\n",
      " 3   CHAS     506 non-null    int32\n",
      " 4   NOX      506 non-null    int32\n",
      " 5   RM       506 non-null    int32\n",
      " 6   AGE      506 non-null    int32\n",
      " 7   DIS      506 non-null    int32\n",
      " 8   RAD      506 non-null    int32\n",
      " 9   TAX      506 non-null    int32\n",
      " 10  PTRATIO  506 non-null    int32\n",
      " 11  B        506 non-null    int32\n",
      " 12  LSTAT    506 non-null    int32\n",
      " 13  MEDV     506 non-null    int32\n",
      "dtypes: int32(14)\n",
      "memory usage: 27.8 KB\n",
      "None\n",
      "<class 'pandas.core.frame.DataFrame'>\n",
      "RangeIndex: 506 entries, 0 to 505\n",
      "Data columns (total 14 columns):\n",
      " #   Column   Non-Null Count  Dtype\n",
      "---  ------   --------------  -----\n",
      " 0   CRIM     506 non-null    int32\n",
      " 1   ZN       506 non-null    int32\n",
      " 2   INDUS    506 non-null    int32\n",
      " 3   CHAS     506 non-null    int32\n",
      " 4   NOX      506 non-null    int32\n",
      " 5   RM       506 non-null    int32\n",
      " 6   AGE      506 non-null    int32\n",
      " 7   DIS      506 non-null    int32\n",
      " 8   RAD      506 non-null    int32\n",
      " 9   TAX      506 non-null    int32\n",
      " 10  PTRATIO  506 non-null    int32\n",
      " 11  B        506 non-null    int32\n",
      " 12  LSTAT    506 non-null    int32\n",
      " 13  MEDV     506 non-null    int32\n",
      "dtypes: int32(14)\n",
      "memory usage: 27.8 KB\n",
      "None\n",
      "<class 'pandas.core.frame.DataFrame'>\n",
      "RangeIndex: 506 entries, 0 to 505\n",
      "Data columns (total 14 columns):\n",
      " #   Column   Non-Null Count  Dtype\n",
      "---  ------   --------------  -----\n",
      " 0   CRIM     506 non-null    int32\n",
      " 1   ZN       506 non-null    int32\n",
      " 2   INDUS    506 non-null    int32\n",
      " 3   CHAS     506 non-null    int32\n",
      " 4   NOX      506 non-null    int32\n",
      " 5   RM       506 non-null    int32\n",
      " 6   AGE      506 non-null    int32\n",
      " 7   DIS      506 non-null    int32\n",
      " 8   RAD      506 non-null    int32\n",
      " 9   TAX      506 non-null    int32\n",
      " 10  PTRATIO  506 non-null    int32\n",
      " 11  B        506 non-null    int32\n",
      " 12  LSTAT    506 non-null    int32\n",
      " 13  MEDV     506 non-null    int32\n",
      "dtypes: int32(14)\n",
      "memory usage: 27.8 KB\n",
      "None\n",
      "<class 'pandas.core.frame.DataFrame'>\n",
      "RangeIndex: 506 entries, 0 to 505\n",
      "Data columns (total 14 columns):\n",
      " #   Column   Non-Null Count  Dtype\n",
      "---  ------   --------------  -----\n",
      " 0   CRIM     506 non-null    int32\n",
      " 1   ZN       506 non-null    int32\n",
      " 2   INDUS    506 non-null    int32\n",
      " 3   CHAS     506 non-null    int32\n",
      " 4   NOX      506 non-null    int32\n",
      " 5   RM       506 non-null    int32\n",
      " 6   AGE      506 non-null    int32\n",
      " 7   DIS      506 non-null    int32\n",
      " 8   RAD      506 non-null    int32\n",
      " 9   TAX      506 non-null    int32\n",
      " 10  PTRATIO  506 non-null    int32\n",
      " 11  B        506 non-null    int32\n",
      " 12  LSTAT    506 non-null    int32\n",
      " 13  MEDV     506 non-null    int32\n",
      "dtypes: int32(14)\n",
      "memory usage: 27.8 KB\n",
      "None\n"
     ]
    }
   ],
   "source": [
    "for coluna in df:\n",
    "    novo=df.astype(int)\n",
    "    print(novo.info())"
   ]
  },
  {
   "cell_type": "code",
   "execution_count": 121,
   "id": "19a90b1d",
   "metadata": {},
   "outputs": [
    {
     "data": {
      "text/plain": [
       "<AxesSubplot:>"
      ]
     },
     "execution_count": 121,
     "metadata": {},
     "output_type": "execute_result"
    },
    {
     "data": {
      "image/png": "[encoded data removed]",
      "text/plain": [
       "<Figure size 1080x576 with 2 Axes>"
      ]
     },
     "metadata": {
      "needs_background": "light"
     },
     "output_type": "display_data"
    }
   ],
   "source": [
    "plt.figure(figsize=(15,8))\n",
    "sns.heatmap(novo.corr(), annot=True,center=0,cmap=sns.cubehelix_palette(as_cmap=True))"
   ]
  },
  {
   "cell_type": "markdown",
   "id": "d2375492",
   "metadata": {},
   "source": [
    "###Tarefa 02\n",
    "As variavéis **RM**, **ZN**,**B**, **DIS** e **CHAS** possuem muita correlação com a variavél resposta"
   ]
  },
  {
   "cell_type": "markdown",
   "id": "c434b00c",
   "metadata": {},
   "source": [
    "###Tarefa 03\n"
   ]
  },
  {
   "cell_type": "code",
   "execution_count": 122,
   "id": "e18e9391",
   "metadata": {},
   "outputs": [],
   "source": [
    "x= novo.drop(columns='MEDV').values\n",
    "Y=novo['MEDV'].values"
   ]
  },
  {
   "cell_type": "code",
   "execution_count": 123,
   "id": "b78927b8",
   "metadata": {},
   "outputs": [
    {
     "name": "stdout",
     "output_type": "stream",
     "text": [
      "(339, 13)\n",
      "(339,)\n",
      "(167, 13)\n",
      "(167,)\n"
     ]
    }
   ],
   "source": [
    " X_train, X_test, y_train, y_test = train_test_split(x, Y, test_size=0.33, random_state=42)\n",
    "print(X_train.shape)\n",
    "print(y_train.shape)\n",
    "print(X_test.shape)\n",
    "print(y_test.shape)"
   ]
  },
  {
   "cell_type": "markdown",
   "id": "df44fc91",
   "metadata": {},
   "source": [
    "###Tarefa 04"
   ]
  },
  {
   "cell_type": "code",
   "execution_count": 124,
   "id": "fe0fdd2a",
   "metadata": {},
   "outputs": [
    {
     "data": {
      "text/plain": [
       "array([14, 16, 27, 20, 19, 21, 41, 23, 20, 18, 29, 36, 24, 11, 13, 12, 17,\n",
       "       33, 26, 13, 14, 50, 22, 19, 23, 17, 12,  5, 31, 26, 19, 16, 13, 22,\n",
       "       15, 27, 36, 22, 24, 25, 50, 34, 31, 24, 22, 14, 42, 19, 32, 26, 21,\n",
       "       21,  8, 46, 43, 31, 10, 16, 20, 33, 17, 50, 20, 23, 13, 19, 22, 28,\n",
       "       30, 22, 21, 23, 32, 24, 21, 24,  8, 26, 23, 15,  8, 19, 23, 24, 19,\n",
       "       23, 13, 29, 27, 34, 13, 15, 12, 14, 11, 24, 17,  8, 21, 15, 23, 32,\n",
       "       38, 30, 20, 32, 42, 24, 20, 22, 18, 15,  6, 20, 21, 28, 30, 20, 23,\n",
       "       14, 11, 37, 17, 10, 23, 22, 20, 21, 50,  8, 18, 37, 16, 16, 22, 20,\n",
       "       13, 48, 23, 22, 17, 30, 36, 41, 18, 22, 18, 44, 11, 18, 16, 22,  7,\n",
       "       20, 13, 13, 18, 23, 21, 23, 23, 50, 26, 22, 50,  8, 23, 21, 18, 18,\n",
       "       17, 13, 12, 26, 21, 28, 20, 22, 13, 11, 29, 26, 10, 23, 24, 46, 21,\n",
       "        7, 36, 44, 17, 27, 37, 14, 28, 10, 19, 43, 27, 25, 16, 16, 13, 50,\n",
       "       22, 32, 15, 14, 13, 24, 33, 22, 50,  9, 13, 22, 18, 18, 25, 16, 23,\n",
       "       20, 33, 24, 18, 13, 34, 10, 19, 27, 23, 35, 12, 22, 18, 25, 22, 22,\n",
       "       28, 19, 24, 24, 21, 33, 22, 20, 24, 50, 24, 28,  7, 37, 20, 30, 19,\n",
       "       23, 11, 21, 14, 15, 19,  8, 28, 22, 13, 14, 31, 10, 21, 22, 19, 21,\n",
       "       25, 17, 36, 20, 20, 16, 23,  7, 35, 50, 19, 21, 15, 33, 19, 21, 23,\n",
       "       18, 16, 19, 17, 22, 11, 34, 20, 20, 32, 22, 23, 14, 31, 24, 29, 19,\n",
       "       21, 20, 27, 33, 15, 30,  7, 23, 16, 23, 50, 22, 15, 19, 19, 22, 33,\n",
       "       50, 22, 14, 19, 23, 19, 20, 11, 13, 29, 21, 19, 21, 24, 13, 18])"
      ]
     },
     "execution_count": 124,
     "metadata": {},
     "output_type": "execute_result"
    }
   ],
   "source": [
    "y_train"
   ]
  },
  {
   "cell_type": "code",
   "execution_count": 129,
   "id": "8b83ad7a",
   "metadata": {},
   "outputs": [],
   "source": [
    "from sklearn.tree import DecisionTreeClassifier\n",
    "from sklearn.metrics import r2_score\n",
    "from sklearn.tree import DecisionTreeRegressor\n"
   ]
  },
  {
   "cell_type": "code",
   "execution_count": 134,
   "id": "77678469",
   "metadata": {},
   "outputs": [
    {
     "data": {
      "text/html": [
       "<style>#sk-container-id-12 {color: black;background-color: white;}#sk-container-id-12 pre{padding: 0;}#sk-container-id-12 div.sk-toggleable {background-color: white;}#sk-container-id-12 label.sk-toggleable__label {cursor: pointer;display: block;width: 100%;margin-bottom: 0;padding: 0.3em;box-sizing: border-box;text-align: center;}#sk-container-id-12 label.sk-toggleable__label-arrow:before {content: \"▸\";float: left;margin-right: 0.25em;color: #696969;}#sk-container-id-12 label.sk-toggleable__label-arrow:hover:before {color: black;}#sk-container-id-12 div.sk-estimator:hover label.sk-toggleable__label-arrow:before {color: black;}#sk-container-id-12 div.sk-toggleable__content {max-height: 0;max-width: 0;overflow: hidden;text-align: left;background-color: #f0f8ff;}#sk-container-id-12 div.sk-toggleable__content pre {margin: 0.2em;color: black;border-radius: 0.25em;background-color: #f0f8ff;}#sk-container-id-12 input.sk-toggleable__control:checked~div.sk-toggleable__content {max-height: 200px;max-width: 100%;overflow: auto;}#sk-container-id-12 input.sk-toggleable__control:checked~label.sk-toggleable__label-arrow:before {content: \"▾\";}#sk-container-id-12 div.sk-estimator input.sk-toggleable__control:checked~label.sk-toggleable__label {background-color: #d4ebff;}#sk-container-id-12 div.sk-label input.sk-toggleable__control:checked~label.sk-toggleable__label {background-color: #d4ebff;}#sk-container-id-12 input.sk-hidden--visually {border: 0;clip: rect(1px 1px 1px 1px);clip: rect(1px, 1px, 1px, 1px);height: 1px;margin: -1px;overflow: hidden;padding: 0;position: absolute;width: 1px;}#sk-container-id-12 div.sk-estimator {font-family: monospace;background-color: #f0f8ff;border: 1px dotted black;border-radius: 0.25em;box-sizing: border-box;margin-bottom: 0.5em;}#sk-container-id-12 div.sk-estimator:hover {background-color: #d4ebff;}#sk-container-id-12 div.sk-parallel-item::after {content: \"\";width: 100%;border-bottom: 1px solid gray;flex-grow: 1;}#sk-container-id-12 div.sk-label:hover label.sk-toggleable__label {background-color: #d4ebff;}#sk-container-id-12 div.sk-serial::before {content: \"\";position: absolute;border-left: 1px solid gray;box-sizing: border-box;top: 0;bottom: 0;left: 50%;z-index: 0;}#sk-container-id-12 div.sk-serial {display: flex;flex-direction: column;align-items: center;background-color: white;padding-right: 0.2em;padding-left: 0.2em;position: relative;}#sk-container-id-12 div.sk-item {position: relative;z-index: 1;}#sk-container-id-12 div.sk-parallel {display: flex;align-items: stretch;justify-content: center;background-color: white;position: relative;}#sk-container-id-12 div.sk-item::before, #sk-container-id-12 div.sk-parallel-item::before {content: \"\";position: absolute;border-left: 1px solid gray;box-sizing: border-box;top: 0;bottom: 0;left: 50%;z-index: -1;}#sk-container-id-12 div.sk-parallel-item {display: flex;flex-direction: column;z-index: 1;position: relative;background-color: white;}#sk-container-id-12 div.sk-parallel-item:first-child::after {align-self: flex-end;width: 50%;}#sk-container-id-12 div.sk-parallel-item:last-child::after {align-self: flex-start;width: 50%;}#sk-container-id-12 div.sk-parallel-item:only-child::after {width: 0;}#sk-container-id-12 div.sk-dashed-wrapped {border: 1px dashed gray;margin: 0 0.4em 0.5em 0.4em;box-sizing: border-box;padding-bottom: 0.4em;background-color: white;}#sk-container-id-12 div.sk-label label {font-family: monospace;font-weight: bold;display: inline-block;line-height: 1.2em;}#sk-container-id-12 div.sk-label-container {text-align: center;}#sk-container-id-12 div.sk-container {/* jupyter's `normalize.less` sets `[hidden] { display: none; }` but bootstrap.min.css set `[hidden] { display: none !important; }` so we also need the `!important` here to be able to override the default hidden behavior on the sphinx rendered scikit-learn.org. See: https://github.com/scikit-learn/scikit-learn/issues/21755 */display: inline-block !important;position: relative;}#sk-container-id-12 div.sk-text-repr-fallback {display: none;}</style><div id=\"sk-container-id-12\" class=\"sk-top-container\"><div class=\"sk-text-repr-fallback\"><pre>DecisionTreeRegressor(max_depth=8)</pre><b>In a Jupyter environment, please rerun this cell to show the HTML representation or trust the notebook. <br />On GitHub, the HTML representation is unable to render, please try loading this page with nbviewer.org.</b></div><div class=\"sk-container\" hidden><div class=\"sk-item\"><div class=\"sk-estimator sk-toggleable\"><input class=\"sk-toggleable__control sk-hidden--visually\" id=\"sk-estimator-id-12\" type=\"checkbox\" checked><label for=\"sk-estimator-id-12\" class=\"sk-toggleable__label sk-toggleable__label-arrow\">DecisionTreeRegressor</label><div class=\"sk-toggleable__content\"><pre>DecisionTreeRegressor(max_depth=8)</pre></div></div></div></div></div>"
      ],
      "text/plain": [
       "DecisionTreeRegressor(max_depth=8)"
      ]
     },
     "execution_count": 134,
     "metadata": {},
     "output_type": "execute_result"
    }
   ],
   "source": [
    "clf1= DecisionTreeRegressor(max_depth=8)\n",
    "clf2= DecisionTreeRegressor(max_depth=2)\n",
    "clf1\n"
   ]
  },
  {
   "cell_type": "code",
   "execution_count": 135,
   "id": "10d73ef6",
   "metadata": {},
   "outputs": [],
   "source": [
    "modelo=clf1.fit(X_train,y_train)\n",
    "modelo2=clf2.fit(X_train,y_train)"
   ]
  },
  {
   "cell_type": "code",
   "execution_count": 140,
   "id": "e3aee886",
   "metadata": {},
   "outputs": [
    {
     "name": "stdout",
     "output_type": "stream",
     "text": [
      "Modelo com máximo de profundidade 8 \n",
      "44.658923600818746\n",
      "\n",
      " --------------------------------- \n",
      "\n",
      " Modelo com máximo de profundidade 2 \n",
      " 43.965242753611186\n"
     ]
    }
   ],
   "source": [
    "y_pred1=modelo.predict(X_test)\n",
    "y_pred2=modelo2.predict(X_test)\n",
    "print(f'Modelo com máximo de profundidade 8 \\n{r2_score(y_pred1,y_test)*100}')\n",
    "print('\\n --------------------------------- \\n')\n",
    "print(f' Modelo com máximo de profundidade 2 \\n {r2_score(y_pred2,y_test)*100}')"
   ]
  },
  {
   "cell_type": "markdown",
   "id": "32ed3b3a",
   "metadata": {},
   "source": [
    "###Tarefa 05"
   ]
  },
  {
   "cell_type": "code",
   "execution_count": 144,
   "id": "244468a5",
   "metadata": {},
   "outputs": [],
   "source": [
    "from sklearn.metrics import mean_squared_error\n"
   ]
  },
  {
   "cell_type": "code",
   "execution_count": 146,
   "id": "f1044c32",
   "metadata": {},
   "outputs": [
    {
     "name": "stdout",
     "output_type": "stream",
     "text": [
      "40.936118288771326\n",
      "26.409406969008607\n"
     ]
    }
   ],
   "source": [
    "print(mean_squared_error(y_test, y_pred1))\n",
    "print(mean_squared_error(y_test, y_pred2))"
   ]
  },
  {
   "cell_type": "markdown",
   "id": "fd2352df",
   "metadata": {},
   "source": [
    "###Tarefa 06"
   ]
  },
  {
   "cell_type": "markdown",
   "id": "355b2fce",
   "metadata": {},
   "source": [
    "O modelo com profundidade 2 aparentemente é melhor que o modelo com profundidade 8"
   ]
  },
  {
   "cell_type": "code",
   "execution_count": null,
   "id": "6cd700ea",
   "metadata": {},
   "outputs": [],
   "source": []
  }
 ],
 "metadata": {
  "kernelspec": {
   "display_name": "Python 3 (ipykernel)",
   "language": "python",
   "name": "python3"
  },
  "language_info": {
   "codemirror_mode": {
    "name": "ipython",
    "version": 3
   },
   "file_extension": ".py",
   "mimetype": "text/x-python",
   "name": "python",
   "nbconvert_exporter": "python",
   "pygments_lexer": "ipython3",
   "version": "3.9.12"
  }
 },
 "nbformat": 4,
 "nbformat_minor": 5
}
