{
 "cells": [
  {
   "cell_type": "code",
   "execution_count": 17,
   "id": "198ac26e",
   "metadata": {},
   "outputs": [],
   "source": [
    "import pandas as pd\n",
    "import numpy as np \n",
    "import matplotlib.pyplot as plt\n",
    "\n",
    "from sklearn.tree import DecisionTreeClassifier\n",
    "\n",
    "from sklearn.decomposition import PCA\n",
    "from sklearn.metrics import accuracy_score\n",
    "from sklearn.model_selection import cross_val_score\n",
    "from sklearn.model_selection import GridSearchCV\n",
    "import time"
   ]
  },
  {
   "cell_type": "code",
   "execution_count": 39,
   "id": "599db35c",
   "metadata": {},
   "outputs": [],
   "source": [
    "X_train=pd.read_csv('X_train.csv')\n",
    "X_test=pd.read_csv('X_test.csv')\n",
    "y_train=pd.read_csv('y_train.csv')\n",
    "y_test=pd.read_csv('y_test.csv')\n",
    "X_train.drop(columns=['Unnamed: 0','ID'],inplace=True)\n",
    "X_test.drop(columns=['Unnamed: 0','ID'],inplace=True)\n",
    "y_train.drop(columns='Unnamed: 0',inplace=True)\n",
    "y_test.drop(columns='Unnamed: 0',inplace=True)"
   ]
  },
  {
   "cell_type": "markdown",
   "id": "e458e569",
   "metadata": {},
   "source": [
    "# Árvore de decisão"
   ]
  },
  {
   "cell_type": "code",
   "execution_count": 40,
   "id": "4d133f05",
   "metadata": {},
   "outputs": [
    {
     "name": "stdout",
     "output_type": "stream",
     "text": [
      "Acurácia do modelo com todas as variáveis 87.99% \n",
      "Tempo de processamento: 7.62 segundos\n",
      "\n"
     ]
    }
   ],
   "source": [
    "start_time = time.time()\n",
    "clf=DecisionTreeClassifier(ccp_alpha=0.001)\n",
    "clf=clf.fit(X_train,y_train)\n",
    "end_time = time.time()\n",
    "y_pred=clf.predict(X_test)\n",
    "accuracy=accuracy_score(y_test,y_pred)\n",
    "print('Acurácia do modelo com todas as variáveis {0:.2f}% '.format(accuracy*100))\n",
    "print(\"Tempo de processamento: {0:.2f} segundos\\n\".format(end_time - start_time))"
   ]
  },
  {
   "cell_type": "markdown",
   "id": "9ee700ed",
   "metadata": {},
   "source": [
    "# Árvore com PCA"
   ]
  },
  {
   "cell_type": "code",
   "execution_count": 41,
   "id": "9b8e5f69",
   "metadata": {},
   "outputs": [
    {
     "data": {
      "text/plain": [
       "array([[-5.52028030e+00, -2.90277517e-01, -1.52992855e+00, ...,\n",
       "         2.08089425e-01,  6.39683948e-01,  3.57306603e-01],\n",
       "       [-5.53534954e+00, -8.25302495e-02, -1.92480428e+00, ...,\n",
       "        -4.10049807e-01, -1.07368425e-01, -4.26093326e-01],\n",
       "       [-5.47498801e+00,  2.87387051e-01, -2.14464160e+00, ...,\n",
       "        -4.72914919e-01,  4.12188873e-02, -1.70566988e-01],\n",
       "       ...,\n",
       "       [ 5.85750527e+00, -3.08184349e+00,  6.71207302e-01, ...,\n",
       "         9.52825644e-02,  6.35938902e-02, -2.12958362e-01],\n",
       "       [ 5.42109482e+00, -3.42643018e+00,  6.71243268e-01, ...,\n",
       "         1.89901258e-01,  2.06694167e-01,  1.63389672e-01],\n",
       "       [ 5.49797027e+00, -2.78992873e+00,  5.72224008e-03, ...,\n",
       "         4.08337051e-01,  3.36842426e-01, -1.24989841e-01]])"
      ]
     },
     "execution_count": 41,
     "metadata": {},
     "output_type": "execute_result"
    }
   ],
   "source": [
    "pca = PCA(n_components=50)\n",
    "x_train_pca=pca.fit_transform(X_train)\n",
    "x_test_pca=pca.fit_transform(X_test)\n",
    "x_train_pca"
   ]
  },
  {
   "cell_type": "code",
   "execution_count": 42,
   "id": "1cf85d0c",
   "metadata": {},
   "outputs": [
    {
     "name": "stdout",
     "output_type": "stream",
     "text": [
      "Acucária do modelo na base de test 41.91%\n",
      "Acurácia do modelo na base de treinamento 91.80%\n",
      "Tempo de processamento: 0.86 segundos\n",
      "\n"
     ]
    }
   ],
   "source": [
    "\n",
    "start_time = time.time()\n",
    "clf=DecisionTreeClassifier(ccp_alpha=0.001)\n",
    "clf=clf.fit(x_train_pca,y_train)\n",
    "end_time = time.time()\n",
    "base_treino=clf.score(x_train_pca,y_train)\n",
    "base_test=clf.score(x_test_pca,y_test)\n",
    "print('Acucária do modelo na base de test {0:.2f}%'.format(base_test*100))\n",
    "print('Acurácia do modelo na base de treinamento {0:.2f}%'.format(base_treino*100))\n",
    "print(\"Tempo de processamento: {0:.2f} segundos\\n\".format(end_time - start_time))\n"
   ]
  },
  {
   "cell_type": "markdown",
   "id": "6258faa8",
   "metadata": {},
   "source": [
    "# Testando o número de componentes"
   ]
  },
  {
   "cell_type": "code",
   "execution_count": 43,
   "id": "65795873",
   "metadata": {},
   "outputs": [
    {
     "name": "stdout",
     "output_type": "stream",
     "text": [
      "\n",
      "Quantidade de componentes: 1\n",
      "Acurácia na base treinamento: 49.97%\n",
      "Acurácia na base teste: 47.44%\n",
      "Tempo de processamento: 0.08 segundos\n",
      "\n",
      "\n",
      "Quantidade de componentes: 2\n",
      "Acurácia na base treinamento: 61.28%\n",
      "Acurácia na base teste: 51.85%\n",
      "Tempo de processamento: 0.06 segundos\n",
      "\n",
      "\n",
      "Quantidade de componentes: 5\n",
      "Acurácia na base treinamento: 84.60%\n",
      "Acurácia na base teste: 50.83%\n",
      "Tempo de processamento: 0.08 segundos\n",
      "\n",
      "\n",
      "Quantidade de componentes: 10\n",
      "Acurácia na base treinamento: 89.27%\n",
      "Acurácia na base teste: 43.06%\n",
      "Tempo de processamento: 0.15 segundos\n",
      "\n",
      "\n",
      "Quantidade de componentes: 50\n",
      "Acurácia na base treinamento: 91.73%\n",
      "Acurácia na base teste: 44.04%\n",
      "Tempo de processamento: 0.84 segundos\n",
      "\n"
     ]
    }
   ],
   "source": [
    "lista_n=[1, 2, 5, 10, 50]\n",
    "\n",
    "for i in lista_n:\n",
    "    pca = PCA(n_components=i)\n",
    "    x_train_pca=pca.fit_transform(X_train)\n",
    "    x_test_pca=pca.fit_transform(X_test)\n",
    "    start_time = time.time()\n",
    "    clf=DecisionTreeClassifier(ccp_alpha=0.001)\n",
    "    clf.fit(x_train_pca, y_train)\n",
    "    end_time = time.time()\n",
    "\n",
    "    train_accuracy = accuracy_score(y_train, clf.predict(x_train_pca))\n",
    "    test_accuracy = accuracy_score(y_test, clf.predict(x_test_pca))\n",
    "    print(f\"\\nQuantidade de componentes: {i}\")\n",
    "    print(\"Acurácia na base treinamento: {0:.2f}%\".format(train_accuracy*100))\n",
    "    print(\"Acurácia na base teste: {0:.2f}%\".format(test_accuracy*100))\n",
    "    print(\"Tempo de processamento: {0:.2f} segundos\\n\".format(end_time - start_time))\n",
    "    "
   ]
  },
  {
   "cell_type": "markdown",
   "id": "e1e92a9d",
   "metadata": {},
   "source": [
    "# Conclusão "
   ]
  },
  {
   "cell_type": "markdown",
   "id": "b9746f13",
   "metadata": {},
   "source": [
    "- Acurácia na base de treino fica cada vez melhor cada vez que o número de componentes aumenta, assim como o tempo de processamento também. No entanto na base teste não teve um desempenho muito bom, seria necessário verificar se o modelo tá 'overfittado'. "
   ]
  }
 ],
 "metadata": {
  "kernelspec": {
   "display_name": "Python 3 (ipykernel)",
   "language": "python",
   "name": "python3"
  },
  "language_info": {
   "codemirror_mode": {
    "name": "ipython",
    "version": 3
   },
   "file_extension": ".py",
   "mimetype": "text/x-python",
   "name": "python",
   "nbconvert_exporter": "python",
   "pygments_lexer": "ipython3",
   "version": "3.9.12"
  }
 },
 "nbformat": 4,
 "nbformat_minor": 5
}
