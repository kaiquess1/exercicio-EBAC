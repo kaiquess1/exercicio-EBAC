{
 "cells": [
  {
   "cell_type": "markdown",
   "id": "4e99ca39",
   "metadata": {},
   "source": [
    "# 1. Calculando a função $x^3$ avalianda entre os pontos 1 e 2. "
   ]
  },
  {
   "cell_type": "code",
   "execution_count": 6,
   "id": "d16d343f",
   "metadata": {},
   "outputs": [],
   "source": [
    "import numpy as np"
   ]
  },
  {
   "cell_type": "code",
   "execution_count": 1,
   "id": "167457d8",
   "metadata": {},
   "outputs": [],
   "source": [
    "def f(x):\n",
    "    return x ** 3"
   ]
  },
  {
   "cell_type": "code",
   "execution_count": 3,
   "id": "b565e22c",
   "metadata": {},
   "outputs": [],
   "source": [
    "a = 1 \n",
    "b = 2  \n",
    "n = 10"
   ]
  },
  {
   "cell_type": "code",
   "execution_count": 4,
   "id": "9a640553",
   "metadata": {},
   "outputs": [],
   "source": [
    "def calcula_area(a,b,f,frame_num):\n",
    "    num_bins=frame_num+1\n",
    "    delta=(b-a)/num_bins\n",
    "    x_cols=np.linspace(a,b-delta,num_bins)+delta/2\n",
    "    y_cols=f(x_cols)\n",
    "    return sum(delta*y_cols)"
   ]
  },
  {
   "cell_type": "code",
   "execution_count": 7,
   "id": "c50eee53",
   "metadata": {},
   "outputs": [
    {
     "data": {
      "text/plain": [
       "3.7469008264462813"
      ]
     },
     "execution_count": 7,
     "metadata": {},
     "output_type": "execute_result"
    }
   ],
   "source": [
    "calcula_area(a,b,f,n)"
   ]
  },
  {
   "cell_type": "markdown",
   "id": "d5753a57",
   "metadata": {},
   "source": [
    "# 2. Calcule a area de forma analitica"
   ]
  },
  {
   "cell_type": "markdown",
   "id": "39d4f1e6",
   "metadata": {},
   "source": [
    "\n",
    "\n",
    "$$\\int_1^2 x^3 dx = F(2) - F(1) = (\\dfrac{1}{4})(2^4) - (\\dfrac{1}{4})(1^4) = 2 - (\\dfrac{1}{4}) = \\dfrac{7}{4}$$\n",
    "\n"
   ]
  }
 ],
 "metadata": {
  "kernelspec": {
   "display_name": "Python 3 (ipykernel)",
   "language": "python",
   "name": "python3"
  },
  "language_info": {
   "codemirror_mode": {
    "name": "ipython",
    "version": 3
   },
   "file_extension": ".py",
   "mimetype": "text/x-python",
   "name": "python",
   "nbconvert_exporter": "python",
   "pygments_lexer": "ipython3",
   "version": "3.9.12"
  }
 },
 "nbformat": 4,
 "nbformat_minor": 5
}
