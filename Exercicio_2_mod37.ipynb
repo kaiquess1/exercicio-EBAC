{
 "cells": [
  {
   "cell_type": "markdown",
   "id": "756fa955",
   "metadata": {},
   "source": [
    "# Tarefa II\n",
    "\n",
    "Neste projeto, estamos construindo um credit scoring para cartão de crédito, em um desenho amostral com 15 safras, e utilizando 12 meses de performance.\n",
    "\n",
    "Carregue a base de dados ```credit_scoring.ftr```."
   ]
  },
  {
   "cell_type": "code",
   "execution_count": 252,
   "id": "6baaca56",
   "metadata": {},
   "outputs": [],
   "source": [
    "import pandas as pd\n",
    "import matplotlib.pyplot as plt\n",
    "import plotly.express as px\n",
    "import numpy as np\n",
    "import statsmodels.formula.api as smf\n",
    "import statsmodels.api as sm\n",
    "import seaborn as sns\n",
    "\n",
    "from sklearn import metrics\n",
    "from scipy.stats import ks_2samp\n",
    "from scipy.stats import t\n",
    "from statsmodels.stats.outliers_influence import variance_inflation_factor as vif"
   ]
  },
  {
   "cell_type": "code",
   "execution_count": 253,
   "id": "f3b4470e",
   "metadata": {},
   "outputs": [
    {
     "data": {
      "text/html": [
       "<div>\n",
       "<style scoped>\n",
       "    .dataframe tbody tr th:only-of-type {\n",
       "        vertical-align: middle;\n",
       "    }\n",
       "\n",
       "    .dataframe tbody tr th {\n",
       "        vertical-align: top;\n",
       "    }\n",
       "\n",
       "    .dataframe thead th {\n",
       "        text-align: right;\n",
       "    }\n",
       "</style>\n",
       "<table border=\"1\" class=\"dataframe\">\n",
       "  <thead>\n",
       "    <tr style=\"text-align: right;\">\n",
       "      <th></th>\n",
       "      <th>data_ref</th>\n",
       "      <th>index</th>\n",
       "      <th>sexo</th>\n",
       "      <th>posse_de_veiculo</th>\n",
       "      <th>posse_de_imovel</th>\n",
       "      <th>qtd_filhos</th>\n",
       "      <th>tipo_renda</th>\n",
       "      <th>educacao</th>\n",
       "      <th>estado_civil</th>\n",
       "      <th>tipo_residencia</th>\n",
       "      <th>idade</th>\n",
       "      <th>tempo_emprego</th>\n",
       "      <th>qt_pessoas_residencia</th>\n",
       "      <th>renda</th>\n",
       "      <th>mau</th>\n",
       "    </tr>\n",
       "  </thead>\n",
       "  <tbody>\n",
       "    <tr>\n",
       "      <th>0</th>\n",
       "      <td>2015-01-01</td>\n",
       "      <td>5733</td>\n",
       "      <td>F</td>\n",
       "      <td>N</td>\n",
       "      <td>N</td>\n",
       "      <td>0</td>\n",
       "      <td>Empresário</td>\n",
       "      <td>Médio</td>\n",
       "      <td>Solteiro</td>\n",
       "      <td>Casa</td>\n",
       "      <td>43</td>\n",
       "      <td>6.873973</td>\n",
       "      <td>1.0</td>\n",
       "      <td>2515.39</td>\n",
       "      <td>False</td>\n",
       "    </tr>\n",
       "    <tr>\n",
       "      <th>1</th>\n",
       "      <td>2015-01-01</td>\n",
       "      <td>727</td>\n",
       "      <td>F</td>\n",
       "      <td>S</td>\n",
       "      <td>S</td>\n",
       "      <td>0</td>\n",
       "      <td>Assalariado</td>\n",
       "      <td>Médio</td>\n",
       "      <td>Casado</td>\n",
       "      <td>Casa</td>\n",
       "      <td>35</td>\n",
       "      <td>4.526027</td>\n",
       "      <td>2.0</td>\n",
       "      <td>3180.19</td>\n",
       "      <td>False</td>\n",
       "    </tr>\n",
       "    <tr>\n",
       "      <th>2</th>\n",
       "      <td>2015-01-01</td>\n",
       "      <td>6374</td>\n",
       "      <td>F</td>\n",
       "      <td>N</td>\n",
       "      <td>N</td>\n",
       "      <td>2</td>\n",
       "      <td>Assalariado</td>\n",
       "      <td>Médio</td>\n",
       "      <td>Casado</td>\n",
       "      <td>Casa</td>\n",
       "      <td>31</td>\n",
       "      <td>0.243836</td>\n",
       "      <td>4.0</td>\n",
       "      <td>1582.29</td>\n",
       "      <td>False</td>\n",
       "    </tr>\n",
       "    <tr>\n",
       "      <th>3</th>\n",
       "      <td>2015-01-01</td>\n",
       "      <td>9566</td>\n",
       "      <td>F</td>\n",
       "      <td>N</td>\n",
       "      <td>N</td>\n",
       "      <td>0</td>\n",
       "      <td>Assalariado</td>\n",
       "      <td>Médio</td>\n",
       "      <td>Casado</td>\n",
       "      <td>Casa</td>\n",
       "      <td>54</td>\n",
       "      <td>12.772603</td>\n",
       "      <td>2.0</td>\n",
       "      <td>13721.17</td>\n",
       "      <td>False</td>\n",
       "    </tr>\n",
       "    <tr>\n",
       "      <th>4</th>\n",
       "      <td>2015-01-01</td>\n",
       "      <td>9502</td>\n",
       "      <td>F</td>\n",
       "      <td>S</td>\n",
       "      <td>N</td>\n",
       "      <td>0</td>\n",
       "      <td>Assalariado</td>\n",
       "      <td>Superior incompleto</td>\n",
       "      <td>Solteiro</td>\n",
       "      <td>Casa</td>\n",
       "      <td>31</td>\n",
       "      <td>8.432877</td>\n",
       "      <td>1.0</td>\n",
       "      <td>2891.08</td>\n",
       "      <td>False</td>\n",
       "    </tr>\n",
       "  </tbody>\n",
       "</table>\n",
       "</div>"
      ],
      "text/plain": [
       "    data_ref  index sexo posse_de_veiculo posse_de_imovel  qtd_filhos  \\\n",
       "0 2015-01-01   5733    F                N               N           0   \n",
       "1 2015-01-01    727    F                S               S           0   \n",
       "2 2015-01-01   6374    F                N               N           2   \n",
       "3 2015-01-01   9566    F                N               N           0   \n",
       "4 2015-01-01   9502    F                S               N           0   \n",
       "\n",
       "    tipo_renda             educacao estado_civil tipo_residencia  idade  \\\n",
       "0   Empresário                Médio     Solteiro            Casa     43   \n",
       "1  Assalariado                Médio       Casado            Casa     35   \n",
       "2  Assalariado                Médio       Casado            Casa     31   \n",
       "3  Assalariado                Médio       Casado            Casa     54   \n",
       "4  Assalariado  Superior incompleto     Solteiro            Casa     31   \n",
       "\n",
       "   tempo_emprego  qt_pessoas_residencia     renda    mau  \n",
       "0       6.873973                    1.0   2515.39  False  \n",
       "1       4.526027                    2.0   3180.19  False  \n",
       "2       0.243836                    4.0   1582.29  False  \n",
       "3      12.772603                    2.0  13721.17  False  \n",
       "4       8.432877                    1.0   2891.08  False  "
      ]
     },
     "execution_count": 253,
     "metadata": {},
     "output_type": "execute_result"
    }
   ],
   "source": [
    "# Carregando a base de dados\n",
    "\n",
    "df = pd.read_feather('credit_scoring.ftr')\n",
    "df.head()"
   ]
  },
  {
   "cell_type": "code",
   "execution_count": 254,
   "id": "a809e603",
   "metadata": {},
   "outputs": [
    {
     "data": {
      "text/plain": [
       "data_ref                      0\n",
       "index                         0\n",
       "sexo                          0\n",
       "posse_de_veiculo              0\n",
       "posse_de_imovel               0\n",
       "qtd_filhos                    0\n",
       "tipo_renda                    0\n",
       "educacao                      0\n",
       "estado_civil                  0\n",
       "tipo_residencia               0\n",
       "idade                         0\n",
       "tempo_emprego            125957\n",
       "qt_pessoas_residencia         0\n",
       "renda                         0\n",
       "mau                           0\n",
       "dtype: int64"
      ]
     },
     "execution_count": 254,
     "metadata": {},
     "output_type": "execute_result"
    }
   ],
   "source": [
    "#Verificando valores faltantes\n",
    "df.isna().sum()"
   ]
  },
  {
   "cell_type": "markdown",
   "id": "c3fc7736",
   "metadata": {},
   "source": [
    "- Na base de dados só existe valores faltantes na variavel **tempo_emprego** "
   ]
  },
  {
   "cell_type": "code",
   "execution_count": 255,
   "id": "006d567c",
   "metadata": {},
   "outputs": [],
   "source": [
    "#df.fillna(df['tempo_emprego'].std(),inplace=True)\n",
    "df.dropna(inplace=True)"
   ]
  },
  {
   "cell_type": "markdown",
   "id": "49ea4a19",
   "metadata": {},
   "source": [
    "## Amostragem\n",
    "\n",
    "Separe os três últimos meses como safras de validação *out of time* (oot).\n",
    "\n",
    "Variáveis:<br>\n",
    "Considere que a variável ```data_ref``` não é uma variável explicativa, é somente uma variável indicadora da safra, e não deve ser utilizada na modelagem. A variávei ```index``` é um identificador do cliente, e também não deve ser utilizada como covariável (variável explicativa). As restantes podem ser utilizadas para prever a inadimplência, incluindo a renda."
   ]
  },
  {
   "cell_type": "code",
   "execution_count": 256,
   "id": "c9d78791",
   "metadata": {},
   "outputs": [
    {
     "data": {
      "text/html": [
       "<div>\n",
       "<style scoped>\n",
       "    .dataframe tbody tr th:only-of-type {\n",
       "        vertical-align: middle;\n",
       "    }\n",
       "\n",
       "    .dataframe tbody tr th {\n",
       "        vertical-align: top;\n",
       "    }\n",
       "\n",
       "    .dataframe thead th {\n",
       "        text-align: right;\n",
       "    }\n",
       "</style>\n",
       "<table border=\"1\" class=\"dataframe\">\n",
       "  <thead>\n",
       "    <tr style=\"text-align: right;\">\n",
       "      <th></th>\n",
       "      <th>data_ref</th>\n",
       "      <th>index</th>\n",
       "      <th>sexo</th>\n",
       "      <th>posse_de_veiculo</th>\n",
       "      <th>posse_de_imovel</th>\n",
       "      <th>qtd_filhos</th>\n",
       "      <th>tipo_renda</th>\n",
       "      <th>educacao</th>\n",
       "      <th>estado_civil</th>\n",
       "      <th>tipo_residencia</th>\n",
       "      <th>idade</th>\n",
       "      <th>tempo_emprego</th>\n",
       "      <th>qt_pessoas_residencia</th>\n",
       "      <th>renda</th>\n",
       "      <th>mau</th>\n",
       "    </tr>\n",
       "  </thead>\n",
       "  <tbody>\n",
       "    <tr>\n",
       "      <th>0</th>\n",
       "      <td>2015-01-01</td>\n",
       "      <td>5733</td>\n",
       "      <td>F</td>\n",
       "      <td>N</td>\n",
       "      <td>N</td>\n",
       "      <td>0</td>\n",
       "      <td>Empresário</td>\n",
       "      <td>Médio</td>\n",
       "      <td>Solteiro</td>\n",
       "      <td>Casa</td>\n",
       "      <td>43</td>\n",
       "      <td>6.873973</td>\n",
       "      <td>1.0</td>\n",
       "      <td>2515.39</td>\n",
       "      <td>False</td>\n",
       "    </tr>\n",
       "    <tr>\n",
       "      <th>1</th>\n",
       "      <td>2015-01-01</td>\n",
       "      <td>727</td>\n",
       "      <td>F</td>\n",
       "      <td>S</td>\n",
       "      <td>S</td>\n",
       "      <td>0</td>\n",
       "      <td>Assalariado</td>\n",
       "      <td>Médio</td>\n",
       "      <td>Casado</td>\n",
       "      <td>Casa</td>\n",
       "      <td>35</td>\n",
       "      <td>4.526027</td>\n",
       "      <td>2.0</td>\n",
       "      <td>3180.19</td>\n",
       "      <td>False</td>\n",
       "    </tr>\n",
       "    <tr>\n",
       "      <th>2</th>\n",
       "      <td>2015-01-01</td>\n",
       "      <td>6374</td>\n",
       "      <td>F</td>\n",
       "      <td>N</td>\n",
       "      <td>N</td>\n",
       "      <td>2</td>\n",
       "      <td>Assalariado</td>\n",
       "      <td>Médio</td>\n",
       "      <td>Casado</td>\n",
       "      <td>Casa</td>\n",
       "      <td>31</td>\n",
       "      <td>0.243836</td>\n",
       "      <td>4.0</td>\n",
       "      <td>1582.29</td>\n",
       "      <td>False</td>\n",
       "    </tr>\n",
       "    <tr>\n",
       "      <th>3</th>\n",
       "      <td>2015-01-01</td>\n",
       "      <td>9566</td>\n",
       "      <td>F</td>\n",
       "      <td>N</td>\n",
       "      <td>N</td>\n",
       "      <td>0</td>\n",
       "      <td>Assalariado</td>\n",
       "      <td>Médio</td>\n",
       "      <td>Casado</td>\n",
       "      <td>Casa</td>\n",
       "      <td>54</td>\n",
       "      <td>12.772603</td>\n",
       "      <td>2.0</td>\n",
       "      <td>13721.17</td>\n",
       "      <td>False</td>\n",
       "    </tr>\n",
       "    <tr>\n",
       "      <th>4</th>\n",
       "      <td>2015-01-01</td>\n",
       "      <td>9502</td>\n",
       "      <td>F</td>\n",
       "      <td>S</td>\n",
       "      <td>N</td>\n",
       "      <td>0</td>\n",
       "      <td>Assalariado</td>\n",
       "      <td>Superior incompleto</td>\n",
       "      <td>Solteiro</td>\n",
       "      <td>Casa</td>\n",
       "      <td>31</td>\n",
       "      <td>8.432877</td>\n",
       "      <td>1.0</td>\n",
       "      <td>2891.08</td>\n",
       "      <td>False</td>\n",
       "    </tr>\n",
       "    <tr>\n",
       "      <th>...</th>\n",
       "      <td>...</td>\n",
       "      <td>...</td>\n",
       "      <td>...</td>\n",
       "      <td>...</td>\n",
       "      <td>...</td>\n",
       "      <td>...</td>\n",
       "      <td>...</td>\n",
       "      <td>...</td>\n",
       "      <td>...</td>\n",
       "      <td>...</td>\n",
       "      <td>...</td>\n",
       "      <td>...</td>\n",
       "      <td>...</td>\n",
       "      <td>...</td>\n",
       "      <td>...</td>\n",
       "    </tr>\n",
       "    <tr>\n",
       "      <th>599993</th>\n",
       "      <td>2015-12-01</td>\n",
       "      <td>5411</td>\n",
       "      <td>M</td>\n",
       "      <td>S</td>\n",
       "      <td>S</td>\n",
       "      <td>0</td>\n",
       "      <td>Assalariado</td>\n",
       "      <td>Médio</td>\n",
       "      <td>Casado</td>\n",
       "      <td>Casa</td>\n",
       "      <td>36</td>\n",
       "      <td>18.189041</td>\n",
       "      <td>2.0</td>\n",
       "      <td>34984.95</td>\n",
       "      <td>False</td>\n",
       "    </tr>\n",
       "    <tr>\n",
       "      <th>599994</th>\n",
       "      <td>2015-12-01</td>\n",
       "      <td>5350</td>\n",
       "      <td>F</td>\n",
       "      <td>N</td>\n",
       "      <td>S</td>\n",
       "      <td>0</td>\n",
       "      <td>Assalariado</td>\n",
       "      <td>Superior completo</td>\n",
       "      <td>Solteiro</td>\n",
       "      <td>Casa</td>\n",
       "      <td>46</td>\n",
       "      <td>13.104110</td>\n",
       "      <td>1.0</td>\n",
       "      <td>28604.39</td>\n",
       "      <td>False</td>\n",
       "    </tr>\n",
       "    <tr>\n",
       "      <th>599995</th>\n",
       "      <td>2015-12-01</td>\n",
       "      <td>2205</td>\n",
       "      <td>F</td>\n",
       "      <td>S</td>\n",
       "      <td>N</td>\n",
       "      <td>0</td>\n",
       "      <td>Assalariado</td>\n",
       "      <td>Médio</td>\n",
       "      <td>União</td>\n",
       "      <td>Casa</td>\n",
       "      <td>47</td>\n",
       "      <td>23.690411</td>\n",
       "      <td>2.0</td>\n",
       "      <td>11009.92</td>\n",
       "      <td>False</td>\n",
       "    </tr>\n",
       "    <tr>\n",
       "      <th>599996</th>\n",
       "      <td>2015-12-01</td>\n",
       "      <td>1266</td>\n",
       "      <td>M</td>\n",
       "      <td>S</td>\n",
       "      <td>N</td>\n",
       "      <td>1</td>\n",
       "      <td>Empresário</td>\n",
       "      <td>Superior completo</td>\n",
       "      <td>Casado</td>\n",
       "      <td>Casa</td>\n",
       "      <td>31</td>\n",
       "      <td>3.756164</td>\n",
       "      <td>3.0</td>\n",
       "      <td>4472.60</td>\n",
       "      <td>False</td>\n",
       "    </tr>\n",
       "    <tr>\n",
       "      <th>599998</th>\n",
       "      <td>2015-12-01</td>\n",
       "      <td>10964</td>\n",
       "      <td>F</td>\n",
       "      <td>N</td>\n",
       "      <td>N</td>\n",
       "      <td>0</td>\n",
       "      <td>Assalariado</td>\n",
       "      <td>Superior completo</td>\n",
       "      <td>Casado</td>\n",
       "      <td>Casa</td>\n",
       "      <td>40</td>\n",
       "      <td>12.939726</td>\n",
       "      <td>2.0</td>\n",
       "      <td>2885.45</td>\n",
       "      <td>True</td>\n",
       "    </tr>\n",
       "  </tbody>\n",
       "</table>\n",
       "<p>499125 rows × 15 columns</p>\n",
       "</div>"
      ],
      "text/plain": [
       "         data_ref  index sexo posse_de_veiculo posse_de_imovel  qtd_filhos  \\\n",
       "0      2015-01-01   5733    F                N               N           0   \n",
       "1      2015-01-01    727    F                S               S           0   \n",
       "2      2015-01-01   6374    F                N               N           2   \n",
       "3      2015-01-01   9566    F                N               N           0   \n",
       "4      2015-01-01   9502    F                S               N           0   \n",
       "...           ...    ...  ...              ...             ...         ...   \n",
       "599993 2015-12-01   5411    M                S               S           0   \n",
       "599994 2015-12-01   5350    F                N               S           0   \n",
       "599995 2015-12-01   2205    F                S               N           0   \n",
       "599996 2015-12-01   1266    M                S               N           1   \n",
       "599998 2015-12-01  10964    F                N               N           0   \n",
       "\n",
       "         tipo_renda             educacao estado_civil tipo_residencia  idade  \\\n",
       "0        Empresário                Médio     Solteiro            Casa     43   \n",
       "1       Assalariado                Médio       Casado            Casa     35   \n",
       "2       Assalariado                Médio       Casado            Casa     31   \n",
       "3       Assalariado                Médio       Casado            Casa     54   \n",
       "4       Assalariado  Superior incompleto     Solteiro            Casa     31   \n",
       "...             ...                  ...          ...             ...    ...   \n",
       "599993  Assalariado                Médio       Casado            Casa     36   \n",
       "599994  Assalariado    Superior completo     Solteiro            Casa     46   \n",
       "599995  Assalariado                Médio        União            Casa     47   \n",
       "599996   Empresário    Superior completo       Casado            Casa     31   \n",
       "599998  Assalariado    Superior completo       Casado            Casa     40   \n",
       "\n",
       "        tempo_emprego  qt_pessoas_residencia     renda    mau  \n",
       "0            6.873973                    1.0   2515.39  False  \n",
       "1            4.526027                    2.0   3180.19  False  \n",
       "2            0.243836                    4.0   1582.29  False  \n",
       "3           12.772603                    2.0  13721.17  False  \n",
       "4            8.432877                    1.0   2891.08  False  \n",
       "...               ...                    ...       ...    ...  \n",
       "599993      18.189041                    2.0  34984.95  False  \n",
       "599994      13.104110                    1.0  28604.39  False  \n",
       "599995      23.690411                    2.0  11009.92  False  \n",
       "599996       3.756164                    3.0   4472.60  False  \n",
       "599998      12.939726                    2.0   2885.45   True  \n",
       "\n",
       "[499125 rows x 15 columns]"
      ]
     },
     "execution_count": 256,
     "metadata": {},
     "output_type": "execute_result"
    }
   ],
   "source": [
    "#Separando os dados *out of time*\n",
    "oot=df[df['data_ref']> '2015-12-01']\n",
    "data=df[df['data_ref']<= '2015-12-01']\n",
    "data"
   ]
  },
  {
   "cell_type": "markdown",
   "id": "b875b62c",
   "metadata": {},
   "source": [
    "## Descritiva básica univariada\n",
    "\n",
    "- Descreva a base quanto ao número de linhas, número de linhas para cada mês em ```data_ref```.\n",
    "- Faça uma descritiva básica univariada de cada variável. Considere as naturezas diferentes: qualitativas e quantitativas."
   ]
  },
  {
   "cell_type": "code",
   "execution_count": 257,
   "id": "a72ce5dd",
   "metadata": {},
   "outputs": [
    {
     "data": {
      "text/plain": [
       "Index(['data_ref', 'index', 'sexo', 'posse_de_veiculo', 'posse_de_imovel',\n",
       "       'qtd_filhos', 'tipo_renda', 'educacao', 'estado_civil',\n",
       "       'tipo_residencia', 'idade', 'tempo_emprego', 'qt_pessoas_residencia',\n",
       "       'renda', 'mau'],\n",
       "      dtype='object')"
      ]
     },
     "execution_count": 257,
     "metadata": {},
     "output_type": "execute_result"
    }
   ],
   "source": [
    "data.columns"
   ]
  },
  {
   "cell_type": "code",
   "execution_count": 258,
   "id": "0880ac7d",
   "metadata": {},
   "outputs": [],
   "source": [
    "def quantitativa(data,var):\n",
    "    \n",
    "    return plt.hist(data[var])\n",
    "    "
   ]
  },
  {
   "cell_type": "code",
   "execution_count": 273,
   "id": "dd2707df",
   "metadata": {},
   "outputs": [
    {
     "data": {
      "image/png": "[encoded data removed]",
      "text/plain": [
       "<Figure size 432x288 with 1 Axes>"
      ]
     },
     "metadata": {
      "needs_background": "light"
     },
     "output_type": "display_data"
    }
   ],
   "source": [
    "quantitativa(data,'qt_pessoas_residencia');"
   ]
  },
  {
   "cell_type": "markdown",
   "id": "7128bc04",
   "metadata": {},
   "source": [
    "- Majoritariamente as residencias dos clientes possuem até 2 moradores."
   ]
  },
  {
   "cell_type": "code",
   "execution_count": 260,
   "id": "d7630c68",
   "metadata": {},
   "outputs": [
    {
     "data": {
      "image/png": "[encoded data removed]",
      "text/plain": [
       "<Figure size 432x288 with 1 Axes>"
      ]
     },
     "metadata": {
      "needs_background": "light"
     },
     "output_type": "display_data"
    }
   ],
   "source": [
    "quantitativa(data,'qtd_filhos');"
   ]
  },
  {
   "cell_type": "markdown",
   "id": "650e8ad3",
   "metadata": {},
   "source": [
    "- A maioria dos clientes possuem somente um filho;"
   ]
  },
  {
   "cell_type": "code",
   "execution_count": 261,
   "id": "38a623a8",
   "metadata": {},
   "outputs": [
    {
     "data": {
      "image/png": "[encoded data removed]",
      "text/plain": [
       "<Figure size 432x288 with 1 Axes>"
      ]
     },
     "metadata": {
      "needs_background": "light"
     },
     "output_type": "display_data"
    }
   ],
   "source": [
    "quantitativa(data,'idade');"
   ]
  },
  {
   "cell_type": "markdown",
   "id": "826823d6",
   "metadata": {},
   "source": [
    "- Há um distribuição quase simetrica na idade dos clientes"
   ]
  },
  {
   "cell_type": "code",
   "execution_count": 262,
   "id": "f3a428c8",
   "metadata": {},
   "outputs": [
    {
     "data": {
      "image/png": "[encoded data removed]",
      "text/plain": [
       "<Figure size 432x288 with 1 Axes>"
      ]
     },
     "metadata": {
      "needs_background": "light"
     },
     "output_type": "display_data"
    }
   ],
   "source": [
    "quantitativa(data,'tempo_emprego');"
   ]
  },
  {
   "cell_type": "markdown",
   "id": "ec445929",
   "metadata": {},
   "source": [
    "- O tempo de emprego possui um distribuição assimetrica a direita."
   ]
  },
  {
   "cell_type": "code",
   "execution_count": 263,
   "id": "6b7dfa84",
   "metadata": {},
   "outputs": [
    {
     "data": {
      "image/png": "[encoded data removed]",
      "text/plain": [
       "<Figure size 432x288 with 1 Axes>"
      ]
     },
     "metadata": {
      "needs_background": "light"
     },
     "output_type": "display_data"
    }
   ],
   "source": [
    "quantitativa(data,'renda');"
   ]
  },
  {
   "cell_type": "markdown",
   "id": "81897235",
   "metadata": {},
   "source": [
    "- O tempo de emprego possui um distribuição assimetrica a direita."
   ]
  },
  {
   "cell_type": "code",
   "execution_count": 264,
   "id": "c41b896e",
   "metadata": {},
   "outputs": [],
   "source": [
    "def qualitativa(data,var):\n",
    "    \n",
    "    return sns.countplot(x=data[var])\n",
    "    "
   ]
  },
  {
   "cell_type": "code",
   "execution_count": 265,
   "id": "af7fec90",
   "metadata": {},
   "outputs": [
    {
     "data": {
      "text/plain": [
       "<AxesSubplot:xlabel='sexo', ylabel='count'>"
      ]
     },
     "execution_count": 265,
     "metadata": {},
     "output_type": "execute_result"
    },
    {
     "data": {
      "image/png": "[encoded data removed]",
      "text/plain": [
       "<Figure size 432x288 with 1 Axes>"
      ]
     },
     "metadata": {
      "needs_background": "light"
     },
     "output_type": "display_data"
    }
   ],
   "source": [
    "qualitativa(data,'sexo')"
   ]
  },
  {
   "cell_type": "markdown",
   "id": "a3518a7d",
   "metadata": {},
   "source": [
    "- O publica feminino representa a maior parte dos clientes na base de dados"
   ]
  },
  {
   "cell_type": "code",
   "execution_count": 266,
   "id": "eba9debc",
   "metadata": {},
   "outputs": [
    {
     "data": {
      "image/png": "[encoded data removed]",
      "text/plain": [
       "<Figure size 432x288 with 1 Axes>"
      ]
     },
     "metadata": {
      "needs_background": "light"
     },
     "output_type": "display_data"
    }
   ],
   "source": [
    "qualitativa(data,'posse_de_veiculo');"
   ]
  },
  {
   "cell_type": "markdown",
   "id": "c3c60ff2",
   "metadata": {},
   "source": [
    "- A maioria dos clientes não possue veiculos "
   ]
  },
  {
   "cell_type": "code",
   "execution_count": 267,
   "id": "8408ff28",
   "metadata": {},
   "outputs": [
    {
     "data": {
      "image/png": "[encoded data removed]",
      "text/plain": [
       "<Figure size 432x288 with 1 Axes>"
      ]
     },
     "metadata": {
      "needs_background": "light"
     },
     "output_type": "display_data"
    }
   ],
   "source": [
    "qualitativa(data,'posse_de_imovel');"
   ]
  },
  {
   "cell_type": "markdown",
   "id": "b61d992d",
   "metadata": {},
   "source": [
    "- A maioria dos clientes possuem imovel"
   ]
  },
  {
   "cell_type": "code",
   "execution_count": 268,
   "id": "a85ed092",
   "metadata": {},
   "outputs": [
    {
     "data": {
      "image/png": "[encoded data removed]",
      "text/plain": [
       "<Figure size 432x288 with 1 Axes>"
      ]
     },
     "metadata": {
      "needs_background": "light"
     },
     "output_type": "display_data"
    }
   ],
   "source": [
    "qualitativa(data,'educacao');"
   ]
  },
  {
   "cell_type": "markdown",
   "id": "b5d5df73",
   "metadata": {},
   "source": [
    "- O ensino médio representa a maior parte dos clientes na variavel educação"
   ]
  },
  {
   "cell_type": "code",
   "execution_count": 269,
   "id": "0262f6e8",
   "metadata": {},
   "outputs": [
    {
     "data": {
      "image/png": "[encoded data removed]",
      "text/plain": [
       "<Figure size 432x288 with 1 Axes>"
      ]
     },
     "metadata": {
      "needs_background": "light"
     },
     "output_type": "display_data"
    }
   ],
   "source": [
    "qualitativa(data,'mau');"
   ]
  },
  {
   "cell_type": "markdown",
   "id": "72bce348",
   "metadata": {},
   "source": [
    "- Os maus clientes representam a menor parte na nossa base de dados"
   ]
  },
  {
   "cell_type": "code",
   "execution_count": 270,
   "id": "9c998a3d",
   "metadata": {},
   "outputs": [
    {
     "data": {
      "text/plain": [
       "<AxesSubplot:xlabel='estado_civil', ylabel='count'>"
      ]
     },
     "execution_count": 270,
     "metadata": {},
     "output_type": "execute_result"
    },
    {
     "data": {
      "image/png": "[encoded data removed]",
      "text/plain": [
       "<Figure size 432x288 with 1 Axes>"
      ]
     },
     "metadata": {
      "needs_background": "light"
     },
     "output_type": "display_data"
    }
   ],
   "source": [
    "qualitativa(data,'estado_civil')"
   ]
  },
  {
   "cell_type": "markdown",
   "id": "0e1678c1",
   "metadata": {},
   "source": [
    "- Casado é o estado civil da marioria dos clientes"
   ]
  },
  {
   "cell_type": "code",
   "execution_count": 271,
   "id": "0054eadf",
   "metadata": {},
   "outputs": [
    {
     "data": {
      "text/plain": [
       "<AxesSubplot:xlabel='tipo_renda', ylabel='count'>"
      ]
     },
     "execution_count": 271,
     "metadata": {},
     "output_type": "execute_result"
    },
    {
     "data": {
      "image/png": "[encoded data removed]",
      "text/plain": [
       "<Figure size 432x288 with 1 Axes>"
      ]
     },
     "metadata": {
      "needs_background": "light"
     },
     "output_type": "display_data"
    }
   ],
   "source": [
    "qualitativa(data,'tipo_renda')"
   ]
  },
  {
   "cell_type": "markdown",
   "id": "64783c05",
   "metadata": {},
   "source": [
    "- Assalariado é o maior tipo de renda dos clientes"
   ]
  },
  {
   "cell_type": "code",
   "execution_count": 272,
   "id": "fcb6cc98",
   "metadata": {},
   "outputs": [
    {
     "data": {
      "text/plain": [
       "<AxesSubplot:xlabel='tipo_residencia', ylabel='count'>"
      ]
     },
     "execution_count": 272,
     "metadata": {},
     "output_type": "execute_result"
    },
    {
     "data": {
      "image/png": "[encoded data removed]",
      "text/plain": [
       "<Figure size 432x288 with 1 Axes>"
      ]
     },
     "metadata": {
      "needs_background": "light"
     },
     "output_type": "display_data"
    }
   ],
   "source": [
    "qualitativa(data,'tipo_residencia')"
   ]
  },
  {
   "cell_type": "markdown",
   "id": "ec4e1e2d",
   "metadata": {},
   "source": [
    "- Casa representa a maior parte dos clientes em tipos residencia"
   ]
  },
  {
   "cell_type": "markdown",
   "id": "ed02248f",
   "metadata": {},
   "source": [
    "## Descritiva bivariada\n",
    "\n",
    "Faça uma análise descritiva bivariada de cada variável"
   ]
  },
  {
   "cell_type": "code",
   "execution_count": 200,
   "id": "077dd25c",
   "metadata": {},
   "outputs": [],
   "source": [
    "amostragem=data.sample(n=2000)"
   ]
  },
  {
   "cell_type": "code",
   "execution_count": 90,
   "id": "4e4c9783",
   "metadata": {},
   "outputs": [],
   "source": [
    "def biv_discreta(var, data):\n",
    "    data['bom'] = 1-data.mau\n",
    "    g = amostragem.groupby(var)\n",
    "\n",
    "    biv = pd.DataFrame({'qt_bom': g['bom'].sum(),\n",
    "                        'qt_mau': g['mau'].sum(),\n",
    "                        'mau':g['mau'].mean(), \n",
    "                        var: g['mau'].mean().index, \n",
    "                        'cont':g[var].count()})\n",
    "    \n",
    "    \n",
    "    biv['ep'] = (biv.mau*(1-biv.mau)/biv.cont)**.5\n",
    "    biv['mau_sup'] = biv.mau+t.ppf([0.975], biv.cont-1)*biv.ep\n",
    "    biv['mau_inf'] = biv.mau+t.ppf([0.025], biv.cont-1)*biv.ep\n",
    "    \n",
    "    biv['logit'] = np.log(biv.mau/(1-biv.mau))\n",
    "    biv['logit_sup'] = np.log(biv.mau_sup/(1-biv.mau_sup))\n",
    "    biv['logit_inf'] = np.log(biv.mau_inf/(1-biv.mau_inf))\n",
    "\n",
    "    tx_mau_geral = amostragem.mau.mean()\n",
    "    woe_geral = np.log(amostragem.mau.mean() / (1 - amostragem.mau.mean()))\n",
    "\n",
    "    biv['woe'] = biv.logit - woe_geral\n",
    "    biv['woe_sup'] = biv.logit_sup - woe_geral\n",
    "    biv['woe_inf'] = biv.logit_inf - woe_geral\n",
    "\n",
    "    fig, ax = plt.subplots(2,1, figsize=(8,6))\n",
    "    ax[0].plot(biv[var], biv.woe, ':bo', label='woe')\n",
    "    ax[0].plot(biv[var], biv.woe_sup, 'o:g', label='limite superior')\n",
    "    ax[0].plot(biv[var], biv.woe_inf, 'o:r', label='limite inferior')\n",
    "    \n",
    "    num_cat = biv.shape[0]\n",
    "    ax[0].set_xlim([-.3, num_cat-.7])\n",
    "\n",
    "    ax[0].set_ylabel(\"Weight of Evidence\")\n",
    "    ax[0].legend(bbox_to_anchor=(.83, 1.17), ncol=3)\n",
    "    \n",
    "    ax[0].set_xticks(list(range(num_cat)))\n",
    "    ax[0].set_xticklabels(biv[var], rotation=15)\n",
    "    \n",
    "    ax[1] = biv.cont.plot.bar()\n",
    "    return biv"
   ]
  },
  {
   "cell_type": "code",
   "execution_count": 91,
   "id": "23329dbd",
   "metadata": {},
   "outputs": [
    {
     "data": {
      "image/png": "[encoded data removed]",
      "text/plain": [
       "<Figure size 576x432 with 2 Axes>"
      ]
     },
     "metadata": {
      "needs_background": "light"
     },
     "output_type": "display_data"
    }
   ],
   "source": [
    "biv_discreta('sexo',amostragem);"
   ]
  },
  {
   "cell_type": "markdown",
   "id": "0eac130c",
   "metadata": {},
   "source": [
    "- A variável não discrimina muito uma vez que os grupos M(masculino) e F(feminino) estão bem parecidos no intervalo de confiança."
   ]
  },
  {
   "cell_type": "code",
   "execution_count": 88,
   "id": "c0da8db7",
   "metadata": {},
   "outputs": [
    {
     "name": "stderr",
     "output_type": "stream",
     "text": [
      "C:\\Users\\General\\anaconda3\\lib\\site-packages\\pandas\\core\\arraylike.py:397: RuntimeWarning: invalid value encountered in log\n",
      "  result = getattr(ufunc, method)(*inputs, **kwargs)\n"
     ]
    },
    {
     "data": {
      "image/png": "[encoded data removed]",
      "text/plain": [
       "<Figure size 576x432 with 2 Axes>"
      ]
     },
     "metadata": {
      "needs_background": "light"
     },
     "output_type": "display_data"
    }
   ],
   "source": [
    "biv_discreta('qtd_filhos',amostragem);"
   ]
  },
  {
   "cell_type": "code",
   "execution_count": 92,
   "id": "4ad278ee",
   "metadata": {},
   "outputs": [
    {
     "data": {
      "image/png": "[encoded data removed]",
      "text/plain": [
       "<Figure size 576x432 with 2 Axes>"
      ]
     },
     "metadata": {
      "needs_background": "light"
     },
     "output_type": "display_data"
    }
   ],
   "source": [
    "biv_discreta('posse_de_veiculo',amostragem);"
   ]
  },
  {
   "cell_type": "markdown",
   "id": "6bc94fa8",
   "metadata": {},
   "source": [
    "- A variável tem não discrimina de uma forma marcante"
   ]
  },
  {
   "cell_type": "code",
   "execution_count": 93,
   "id": "f6e78a3a",
   "metadata": {},
   "outputs": [
    {
     "data": {
      "image/png": "[encoded data removed]",
      "text/plain": [
       "<Figure size 576x432 with 2 Axes>"
      ]
     },
     "metadata": {
      "needs_background": "light"
     },
     "output_type": "display_data"
    }
   ],
   "source": [
    "biv_discreta('posse_de_imovel',amostragem);"
   ]
  },
  {
   "cell_type": "markdown",
   "id": "5a85136e",
   "metadata": {},
   "source": [
    "- A variável tem não discrimina de uma forma marcante"
   ]
  },
  {
   "cell_type": "code",
   "execution_count": 94,
   "id": "fdc2c532",
   "metadata": {},
   "outputs": [
    {
     "name": "stderr",
     "output_type": "stream",
     "text": [
      "C:\\Users\\General\\anaconda3\\lib\\site-packages\\pandas\\core\\arraylike.py:397: RuntimeWarning: divide by zero encountered in log\n",
      "  result = getattr(ufunc, method)(*inputs, **kwargs)\n",
      "C:\\Users\\General\\anaconda3\\lib\\site-packages\\pandas\\core\\arraylike.py:397: RuntimeWarning: divide by zero encountered in log\n",
      "  result = getattr(ufunc, method)(*inputs, **kwargs)\n",
      "C:\\Users\\General\\anaconda3\\lib\\site-packages\\pandas\\core\\arraylike.py:397: RuntimeWarning: divide by zero encountered in log\n",
      "  result = getattr(ufunc, method)(*inputs, **kwargs)\n"
     ]
    },
    {
     "data": {
      "image/png": "[encoded data removed]",
      "text/plain": [
       "<Figure size 576x432 with 2 Axes>"
      ]
     },
     "metadata": {
      "needs_background": "light"
     },
     "output_type": "display_data"
    }
   ],
   "source": [
    "biv_discreta('tipo_renda',amostragem);"
   ]
  },
  {
   "cell_type": "markdown",
   "id": "36462c47",
   "metadata": {},
   "source": [
    "- Aqui é possível verificar que existe alguns zeros estruturais que podemos tratar agrupando algumas categorias"
   ]
  },
  {
   "cell_type": "code",
   "execution_count": 95,
   "id": "60485976",
   "metadata": {},
   "outputs": [
    {
     "name": "stderr",
     "output_type": "stream",
     "text": [
      "C:\\Users\\General\\anaconda3\\lib\\site-packages\\pandas\\core\\arraylike.py:397: RuntimeWarning: divide by zero encountered in log\n",
      "  result = getattr(ufunc, method)(*inputs, **kwargs)\n",
      "C:\\Users\\General\\anaconda3\\lib\\site-packages\\pandas\\core\\arraylike.py:397: RuntimeWarning: divide by zero encountered in log\n",
      "  result = getattr(ufunc, method)(*inputs, **kwargs)\n",
      "C:\\Users\\General\\anaconda3\\lib\\site-packages\\pandas\\core\\arraylike.py:397: RuntimeWarning: divide by zero encountered in log\n",
      "  result = getattr(ufunc, method)(*inputs, **kwargs)\n",
      "C:\\Users\\General\\anaconda3\\lib\\site-packages\\pandas\\core\\arraylike.py:397: RuntimeWarning: invalid value encountered in log\n",
      "  result = getattr(ufunc, method)(*inputs, **kwargs)\n"
     ]
    },
    {
     "data": {
      "image/png": "[encoded data removed]",
      "text/plain": [
       "<Figure size 576x432 with 2 Axes>"
      ]
     },
     "metadata": {
      "needs_background": "light"
     },
     "output_type": "display_data"
    }
   ],
   "source": [
    "biv_discreta('educacao',amostragem);"
   ]
  },
  {
   "cell_type": "markdown",
   "id": "12f24b52",
   "metadata": {},
   "source": [
    "- Aqui é possível verificar que existe alguns zeros estruturais que podemos tratar agrupando algumas categorias"
   ]
  },
  {
   "cell_type": "code",
   "execution_count": 96,
   "id": "366dabe5",
   "metadata": {},
   "outputs": [
    {
     "name": "stderr",
     "output_type": "stream",
     "text": [
      "C:\\Users\\General\\anaconda3\\lib\\site-packages\\pandas\\core\\arraylike.py:397: RuntimeWarning: invalid value encountered in log\n",
      "  result = getattr(ufunc, method)(*inputs, **kwargs)\n"
     ]
    },
    {
     "data": {
      "image/png": "[encoded data removed]",
      "text/plain": [
       "<Figure size 576x432 with 2 Axes>"
      ]
     },
     "metadata": {
      "needs_background": "light"
     },
     "output_type": "display_data"
    }
   ],
   "source": [
    "biv_discreta('estado_civil',amostragem);"
   ]
  },
  {
   "cell_type": "markdown",
   "id": "3f1de744",
   "metadata": {},
   "source": [
    "- Aqui é possível verificar que existe alguns zeros estruturais que podemos tratar agrupando algumas categorias"
   ]
  },
  {
   "cell_type": "code",
   "execution_count": 97,
   "id": "0dd7abd4",
   "metadata": {},
   "outputs": [
    {
     "name": "stderr",
     "output_type": "stream",
     "text": [
      "C:\\Users\\General\\anaconda3\\lib\\site-packages\\pandas\\core\\arraylike.py:397: RuntimeWarning: divide by zero encountered in log\n",
      "  result = getattr(ufunc, method)(*inputs, **kwargs)\n",
      "C:\\Users\\General\\anaconda3\\lib\\site-packages\\pandas\\core\\arraylike.py:397: RuntimeWarning: divide by zero encountered in log\n",
      "  result = getattr(ufunc, method)(*inputs, **kwargs)\n",
      "C:\\Users\\General\\anaconda3\\lib\\site-packages\\pandas\\core\\arraylike.py:397: RuntimeWarning: divide by zero encountered in log\n",
      "  result = getattr(ufunc, method)(*inputs, **kwargs)\n",
      "C:\\Users\\General\\anaconda3\\lib\\site-packages\\pandas\\core\\arraylike.py:397: RuntimeWarning: invalid value encountered in log\n",
      "  result = getattr(ufunc, method)(*inputs, **kwargs)\n"
     ]
    },
    {
     "data": {
      "image/png": "[encoded data removed]",
      "text/plain": [
       "<Figure size 576x432 with 2 Axes>"
      ]
     },
     "metadata": {
      "needs_background": "light"
     },
     "output_type": "display_data"
    }
   ],
   "source": [
    "biv_discreta('tipo_residencia',amostragem);"
   ]
  },
  {
   "cell_type": "markdown",
   "id": "b2a3dc85",
   "metadata": {},
   "source": [
    "- Aqui é possível verificar que existe alguns zeros estruturais que podemos tratar agrupando algumas categorias"
   ]
  },
  {
   "cell_type": "code",
   "execution_count": 18,
   "id": "c75fd29d",
   "metadata": {},
   "outputs": [
    {
     "data": {
      "text/html": [
       "<div>\n",
       "<style scoped>\n",
       "    .dataframe tbody tr th:only-of-type {\n",
       "        vertical-align: middle;\n",
       "    }\n",
       "\n",
       "    .dataframe tbody tr th {\n",
       "        vertical-align: top;\n",
       "    }\n",
       "\n",
       "    .dataframe thead th {\n",
       "        text-align: right;\n",
       "    }\n",
       "</style>\n",
       "<table border=\"1\" class=\"dataframe\">\n",
       "  <thead>\n",
       "    <tr style=\"text-align: right;\">\n",
       "      <th></th>\n",
       "      <th>dtypes</th>\n",
       "      <th>missing</th>\n",
       "      <th>valores_unicos</th>\n",
       "    </tr>\n",
       "  </thead>\n",
       "  <tbody>\n",
       "    <tr>\n",
       "      <th>data_ref</th>\n",
       "      <td>datetime64[ns]</td>\n",
       "      <td>0</td>\n",
       "      <td>12</td>\n",
       "    </tr>\n",
       "    <tr>\n",
       "      <th>index</th>\n",
       "      <td>int64</td>\n",
       "      <td>0</td>\n",
       "      <td>13857</td>\n",
       "    </tr>\n",
       "    <tr>\n",
       "      <th>sexo</th>\n",
       "      <td>object</td>\n",
       "      <td>0</td>\n",
       "      <td>2</td>\n",
       "    </tr>\n",
       "    <tr>\n",
       "      <th>posse_de_veiculo</th>\n",
       "      <td>object</td>\n",
       "      <td>0</td>\n",
       "      <td>2</td>\n",
       "    </tr>\n",
       "    <tr>\n",
       "      <th>posse_de_imovel</th>\n",
       "      <td>object</td>\n",
       "      <td>0</td>\n",
       "      <td>2</td>\n",
       "    </tr>\n",
       "    <tr>\n",
       "      <th>qtd_filhos</th>\n",
       "      <td>int64</td>\n",
       "      <td>0</td>\n",
       "      <td>8</td>\n",
       "    </tr>\n",
       "    <tr>\n",
       "      <th>tipo_renda</th>\n",
       "      <td>object</td>\n",
       "      <td>0</td>\n",
       "      <td>5</td>\n",
       "    </tr>\n",
       "    <tr>\n",
       "      <th>educacao</th>\n",
       "      <td>object</td>\n",
       "      <td>0</td>\n",
       "      <td>5</td>\n",
       "    </tr>\n",
       "    <tr>\n",
       "      <th>estado_civil</th>\n",
       "      <td>object</td>\n",
       "      <td>0</td>\n",
       "      <td>5</td>\n",
       "    </tr>\n",
       "    <tr>\n",
       "      <th>tipo_residencia</th>\n",
       "      <td>object</td>\n",
       "      <td>0</td>\n",
       "      <td>6</td>\n",
       "    </tr>\n",
       "    <tr>\n",
       "      <th>idade</th>\n",
       "      <td>int64</td>\n",
       "      <td>0</td>\n",
       "      <td>46</td>\n",
       "    </tr>\n",
       "    <tr>\n",
       "      <th>tempo_emprego</th>\n",
       "      <td>float64</td>\n",
       "      <td>0</td>\n",
       "      <td>3004</td>\n",
       "    </tr>\n",
       "    <tr>\n",
       "      <th>qt_pessoas_residencia</th>\n",
       "      <td>float64</td>\n",
       "      <td>0</td>\n",
       "      <td>9</td>\n",
       "    </tr>\n",
       "    <tr>\n",
       "      <th>renda</th>\n",
       "      <td>float64</td>\n",
       "      <td>0</td>\n",
       "      <td>93894</td>\n",
       "    </tr>\n",
       "    <tr>\n",
       "      <th>mau</th>\n",
       "      <td>int64</td>\n",
       "      <td>0</td>\n",
       "      <td>2</td>\n",
       "    </tr>\n",
       "  </tbody>\n",
       "</table>\n",
       "</div>"
      ],
      "text/plain": [
       "                               dtypes  missing  valores_unicos\n",
       "data_ref               datetime64[ns]        0              12\n",
       "index                           int64        0           13857\n",
       "sexo                           object        0               2\n",
       "posse_de_veiculo               object        0               2\n",
       "posse_de_imovel                object        0               2\n",
       "qtd_filhos                      int64        0               8\n",
       "tipo_renda                     object        0               5\n",
       "educacao                       object        0               5\n",
       "estado_civil                   object        0               5\n",
       "tipo_residencia                object        0               6\n",
       "idade                           int64        0              46\n",
       "tempo_emprego                 float64        0            3004\n",
       "qt_pessoas_residencia         float64        0               9\n",
       "renda                         float64        0           93894\n",
       "mau                             int64        0               2"
      ]
     },
     "execution_count": 18,
     "metadata": {},
     "output_type": "execute_result"
    }
   ],
   "source": [
    "metadados=pd.DataFrame(data.dtypes,columns=['dtypes'])\n",
    "metadados['missing']=data.isna().sum()\n",
    "metadados['valores_unicos']=data.nunique()\n",
    "metadados"
   ]
  },
  {
   "cell_type": "code",
   "execution_count": 8,
   "id": "c3c8b524",
   "metadata": {},
   "outputs": [
    {
     "name": "stderr",
     "output_type": "stream",
     "text": [
      "C:\\Users\\General\\AppData\\Local\\Temp\\ipykernel_6864\\1644639960.py:1: SettingWithCopyWarning: \n",
      "A value is trying to be set on a copy of a slice from a DataFrame.\n",
      "Try using .loc[row_indexer,col_indexer] = value instead\n",
      "\n",
      "See the caveats in the documentation: https://pandas.pydata.org/pandas-docs/stable/user_guide/indexing.html#returning-a-view-versus-a-copy\n",
      "  data['mau']=data.mau.astype('int64')\n"
     ]
    }
   ],
   "source": [
    "data['mau']=data.mau.astype('int64')"
   ]
  },
  {
   "cell_type": "code",
   "execution_count": 9,
   "id": "beaa467b",
   "metadata": {},
   "outputs": [
    {
     "data": {
      "text/plain": [
       "0    468960\n",
       "1     30165\n",
       "Name: mau, dtype: int64"
      ]
     },
     "execution_count": 9,
     "metadata": {},
     "output_type": "execute_result"
    }
   ],
   "source": [
    "data.mau.value_counts()"
   ]
  },
  {
   "cell_type": "code",
   "execution_count": 10,
   "id": "b0378d3a",
   "metadata": {},
   "outputs": [
    {
     "data": {
      "text/plain": [
       "1    1000\n",
       "0    1000\n",
       "Name: mau, dtype: int64"
      ]
     },
     "execution_count": 10,
     "metadata": {},
     "output_type": "execute_result"
    }
   ],
   "source": [
    "data_amostra=pd.concat([data[data.mau==1].sample(n=1000),data[data.mau==0].sample(n=1000)])\n",
    "tab_am=data_amostra.mau.value_counts()\n",
    "tab_am"
   ]
  },
  {
   "cell_type": "code",
   "execution_count": 11,
   "id": "368ddfcf",
   "metadata": {},
   "outputs": [
    {
     "data": {
      "text/plain": [
       "0    468960\n",
       "1     30165\n",
       "Name: mau, dtype: int64"
      ]
     },
     "execution_count": 11,
     "metadata": {},
     "output_type": "execute_result"
    }
   ],
   "source": [
    "tab_pop=data.mau.value_counts()\n",
    "tab_pop"
   ]
  },
  {
   "cell_type": "code",
   "execution_count": 12,
   "id": "0b8ff0ca",
   "metadata": {},
   "outputs": [
    {
     "name": "stdout",
     "output_type": "stream",
     "text": [
      "wbom= 0.46978211870773856,wmau= 0.030217881292261457\n"
     ]
    }
   ],
   "source": [
    "rho_mau=tab_am.loc[1]/tab_am.sum()\n",
    "rho_bom=tab_am.loc[0]/tab_am.sum()\n",
    "\n",
    "pi_mau=tab_pop.loc[1]/tab_pop.sum()\n",
    "pi_bom=tab_pop.loc[0]/tab_pop.sum()\n",
    "\n",
    "wbom=pi_bom*rho_bom\n",
    "wmau=pi_mau*rho_mau\n",
    "\n",
    "\n",
    "print(f'wbom= {wbom},wmau= {wmau}')"
   ]
  },
  {
   "cell_type": "code",
   "execution_count": 13,
   "id": "a4202ab0",
   "metadata": {},
   "outputs": [
    {
     "data": {
      "text/plain": [
       "mau\n",
       "0    0.939564\n",
       "1    0.060436\n",
       "Name: w, dtype: float64"
      ]
     },
     "execution_count": 13,
     "metadata": {},
     "output_type": "execute_result"
    }
   ],
   "source": [
    "data_amostra.loc[data_amostra.mau==1,'w']=wmau\n",
    "data_amostra.loc[data_amostra.mau==0,'w']=wbom\n",
    "data_amostra.groupby('mau')['w'].sum()/data_amostra.w.sum()"
   ]
  },
  {
   "cell_type": "code",
   "execution_count": 14,
   "id": "7f1d0a54",
   "metadata": {},
   "outputs": [],
   "source": [
    "def IV(variavel,resposta):\n",
    "    tab=pd.crosstab(variavel,resposta,margins=True,margins_name='total')\n",
    "    \n",
    "    rotulo_evento=tab.columns[0]\n",
    "    rotulo_nao_evento=tab.columns[1]\n",
    "    \n",
    "    tab['pct_evento']=tab[rotulo_evento]/tab.loc['total',rotulo_evento]\n",
    "    tab['ep']=tab[rotulo_evento]/tab.loc['total',rotulo_evento]\n",
    "    \n",
    "    tab['pct_nao_evento']=tab[rotulo_nao_evento]/tab.loc['total',rotulo_nao_evento]\n",
    "    tab['woe']=np.log(tab.pct_evento/tab.pct_nao_evento)\n",
    "    tab['iv_parcial']=(tab.pct_evento-tab.pct_nao_evento)*tab.woe\n",
    "    return tab['iv_parcial'].sum()\n"
   ]
  },
  {
   "cell_type": "code",
   "execution_count": 16,
   "id": "18b3a764",
   "metadata": {},
   "outputs": [
    {
     "data": {
      "text/plain": [
       "0.002514770276738207"
      ]
     },
     "execution_count": 16,
     "metadata": {},
     "output_type": "execute_result"
    }
   ],
   "source": [
    "IV(data.sexo,data.mau)"
   ]
  },
  {
   "cell_type": "code",
   "execution_count": 19,
   "id": "b8a5dd87",
   "metadata": {},
   "outputs": [
    {
     "data": {
      "text/html": [
       "<div>\n",
       "<style scoped>\n",
       "    .dataframe tbody tr th:only-of-type {\n",
       "        vertical-align: middle;\n",
       "    }\n",
       "\n",
       "    .dataframe tbody tr th {\n",
       "        vertical-align: top;\n",
       "    }\n",
       "\n",
       "    .dataframe thead th {\n",
       "        text-align: right;\n",
       "    }\n",
       "</style>\n",
       "<table border=\"1\" class=\"dataframe\">\n",
       "  <thead>\n",
       "    <tr style=\"text-align: right;\">\n",
       "      <th></th>\n",
       "      <th>dtypes</th>\n",
       "      <th>missing</th>\n",
       "      <th>valores_unicos</th>\n",
       "      <th>papel</th>\n",
       "    </tr>\n",
       "  </thead>\n",
       "  <tbody>\n",
       "    <tr>\n",
       "      <th>data_ref</th>\n",
       "      <td>datetime64[ns]</td>\n",
       "      <td>0</td>\n",
       "      <td>12</td>\n",
       "      <td>covariavel</td>\n",
       "    </tr>\n",
       "    <tr>\n",
       "      <th>index</th>\n",
       "      <td>int64</td>\n",
       "      <td>0</td>\n",
       "      <td>13857</td>\n",
       "      <td>covariavel</td>\n",
       "    </tr>\n",
       "    <tr>\n",
       "      <th>sexo</th>\n",
       "      <td>object</td>\n",
       "      <td>0</td>\n",
       "      <td>2</td>\n",
       "      <td>covariavel</td>\n",
       "    </tr>\n",
       "    <tr>\n",
       "      <th>posse_de_veiculo</th>\n",
       "      <td>object</td>\n",
       "      <td>0</td>\n",
       "      <td>2</td>\n",
       "      <td>covariavel</td>\n",
       "    </tr>\n",
       "    <tr>\n",
       "      <th>posse_de_imovel</th>\n",
       "      <td>object</td>\n",
       "      <td>0</td>\n",
       "      <td>2</td>\n",
       "      <td>covariavel</td>\n",
       "    </tr>\n",
       "    <tr>\n",
       "      <th>qtd_filhos</th>\n",
       "      <td>int64</td>\n",
       "      <td>0</td>\n",
       "      <td>8</td>\n",
       "      <td>covariavel</td>\n",
       "    </tr>\n",
       "    <tr>\n",
       "      <th>tipo_renda</th>\n",
       "      <td>object</td>\n",
       "      <td>0</td>\n",
       "      <td>5</td>\n",
       "      <td>covariavel</td>\n",
       "    </tr>\n",
       "    <tr>\n",
       "      <th>educacao</th>\n",
       "      <td>object</td>\n",
       "      <td>0</td>\n",
       "      <td>5</td>\n",
       "      <td>covariavel</td>\n",
       "    </tr>\n",
       "    <tr>\n",
       "      <th>estado_civil</th>\n",
       "      <td>object</td>\n",
       "      <td>0</td>\n",
       "      <td>5</td>\n",
       "      <td>covariavel</td>\n",
       "    </tr>\n",
       "    <tr>\n",
       "      <th>tipo_residencia</th>\n",
       "      <td>object</td>\n",
       "      <td>0</td>\n",
       "      <td>6</td>\n",
       "      <td>covariavel</td>\n",
       "    </tr>\n",
       "    <tr>\n",
       "      <th>idade</th>\n",
       "      <td>int64</td>\n",
       "      <td>0</td>\n",
       "      <td>46</td>\n",
       "      <td>covariavel</td>\n",
       "    </tr>\n",
       "    <tr>\n",
       "      <th>tempo_emprego</th>\n",
       "      <td>float64</td>\n",
       "      <td>0</td>\n",
       "      <td>3004</td>\n",
       "      <td>covariavel</td>\n",
       "    </tr>\n",
       "    <tr>\n",
       "      <th>qt_pessoas_residencia</th>\n",
       "      <td>float64</td>\n",
       "      <td>0</td>\n",
       "      <td>9</td>\n",
       "      <td>covariavel</td>\n",
       "    </tr>\n",
       "    <tr>\n",
       "      <th>renda</th>\n",
       "      <td>float64</td>\n",
       "      <td>0</td>\n",
       "      <td>93894</td>\n",
       "      <td>covariavel</td>\n",
       "    </tr>\n",
       "    <tr>\n",
       "      <th>mau</th>\n",
       "      <td>int64</td>\n",
       "      <td>0</td>\n",
       "      <td>2</td>\n",
       "      <td>resposta</td>\n",
       "    </tr>\n",
       "  </tbody>\n",
       "</table>\n",
       "</div>"
      ],
      "text/plain": [
       "                               dtypes  missing  valores_unicos       papel\n",
       "data_ref               datetime64[ns]        0              12  covariavel\n",
       "index                           int64        0           13857  covariavel\n",
       "sexo                           object        0               2  covariavel\n",
       "posse_de_veiculo               object        0               2  covariavel\n",
       "posse_de_imovel                object        0               2  covariavel\n",
       "qtd_filhos                      int64        0               8  covariavel\n",
       "tipo_renda                     object        0               5  covariavel\n",
       "educacao                       object        0               5  covariavel\n",
       "estado_civil                   object        0               5  covariavel\n",
       "tipo_residencia                object        0               6  covariavel\n",
       "idade                           int64        0              46  covariavel\n",
       "tempo_emprego                 float64        0            3004  covariavel\n",
       "qt_pessoas_residencia         float64        0               9  covariavel\n",
       "renda                         float64        0           93894  covariavel\n",
       "mau                             int64        0               2    resposta"
      ]
     },
     "execution_count": 19,
     "metadata": {},
     "output_type": "execute_result"
    }
   ],
   "source": [
    "metadados['papel']='covariavel'\n",
    "metadados.loc['mau','papel']='resposta'\n",
    "metadados\n"
   ]
  },
  {
   "cell_type": "code",
   "execution_count": 20,
   "id": "906102bf",
   "metadata": {},
   "outputs": [
    {
     "data": {
      "text/html": [
       "<div>\n",
       "<style scoped>\n",
       "    .dataframe tbody tr th:only-of-type {\n",
       "        vertical-align: middle;\n",
       "    }\n",
       "\n",
       "    .dataframe tbody tr th {\n",
       "        vertical-align: top;\n",
       "    }\n",
       "\n",
       "    .dataframe thead th {\n",
       "        text-align: right;\n",
       "    }\n",
       "</style>\n",
       "<table border=\"1\" class=\"dataframe\">\n",
       "  <thead>\n",
       "    <tr style=\"text-align: right;\">\n",
       "      <th></th>\n",
       "      <th>dtypes</th>\n",
       "      <th>missing</th>\n",
       "      <th>valores_unicos</th>\n",
       "      <th>papel</th>\n",
       "      <th>IV</th>\n",
       "    </tr>\n",
       "  </thead>\n",
       "  <tbody>\n",
       "    <tr>\n",
       "      <th>data_ref</th>\n",
       "      <td>datetime64[ns]</td>\n",
       "      <td>0</td>\n",
       "      <td>12</td>\n",
       "      <td>covariavel</td>\n",
       "      <td>0.242563</td>\n",
       "    </tr>\n",
       "    <tr>\n",
       "      <th>index</th>\n",
       "      <td>int64</td>\n",
       "      <td>0</td>\n",
       "      <td>13857</td>\n",
       "      <td>covariavel</td>\n",
       "      <td>0.003312</td>\n",
       "    </tr>\n",
       "    <tr>\n",
       "      <th>sexo</th>\n",
       "      <td>object</td>\n",
       "      <td>0</td>\n",
       "      <td>2</td>\n",
       "      <td>covariavel</td>\n",
       "      <td>0.002515</td>\n",
       "    </tr>\n",
       "    <tr>\n",
       "      <th>posse_de_veiculo</th>\n",
       "      <td>object</td>\n",
       "      <td>0</td>\n",
       "      <td>2</td>\n",
       "      <td>covariavel</td>\n",
       "      <td>0.000036</td>\n",
       "    </tr>\n",
       "    <tr>\n",
       "      <th>posse_de_imovel</th>\n",
       "      <td>object</td>\n",
       "      <td>0</td>\n",
       "      <td>2</td>\n",
       "      <td>covariavel</td>\n",
       "      <td>0.011301</td>\n",
       "    </tr>\n",
       "    <tr>\n",
       "      <th>qtd_filhos</th>\n",
       "      <td>int64</td>\n",
       "      <td>0</td>\n",
       "      <td>8</td>\n",
       "      <td>covariavel</td>\n",
       "      <td>0.000138</td>\n",
       "    </tr>\n",
       "    <tr>\n",
       "      <th>tipo_renda</th>\n",
       "      <td>object</td>\n",
       "      <td>0</td>\n",
       "      <td>5</td>\n",
       "      <td>covariavel</td>\n",
       "      <td>0.011082</td>\n",
       "    </tr>\n",
       "    <tr>\n",
       "      <th>educacao</th>\n",
       "      <td>object</td>\n",
       "      <td>0</td>\n",
       "      <td>5</td>\n",
       "      <td>covariavel</td>\n",
       "      <td>0.003819</td>\n",
       "    </tr>\n",
       "    <tr>\n",
       "      <th>estado_civil</th>\n",
       "      <td>object</td>\n",
       "      <td>0</td>\n",
       "      <td>5</td>\n",
       "      <td>covariavel</td>\n",
       "      <td>0.002406</td>\n",
       "    </tr>\n",
       "    <tr>\n",
       "      <th>tipo_residencia</th>\n",
       "      <td>object</td>\n",
       "      <td>0</td>\n",
       "      <td>6</td>\n",
       "      <td>covariavel</td>\n",
       "      <td>0.004550</td>\n",
       "    </tr>\n",
       "    <tr>\n",
       "      <th>idade</th>\n",
       "      <td>int64</td>\n",
       "      <td>0</td>\n",
       "      <td>46</td>\n",
       "      <td>covariavel</td>\n",
       "      <td>0.027123</td>\n",
       "    </tr>\n",
       "    <tr>\n",
       "      <th>tempo_emprego</th>\n",
       "      <td>float64</td>\n",
       "      <td>0</td>\n",
       "      <td>3004</td>\n",
       "      <td>covariavel</td>\n",
       "      <td>0.360581</td>\n",
       "    </tr>\n",
       "    <tr>\n",
       "      <th>qt_pessoas_residencia</th>\n",
       "      <td>float64</td>\n",
       "      <td>0</td>\n",
       "      <td>9</td>\n",
       "      <td>covariavel</td>\n",
       "      <td>0.002045</td>\n",
       "    </tr>\n",
       "    <tr>\n",
       "      <th>renda</th>\n",
       "      <td>float64</td>\n",
       "      <td>0</td>\n",
       "      <td>93894</td>\n",
       "      <td>covariavel</td>\n",
       "      <td>1.034585</td>\n",
       "    </tr>\n",
       "    <tr>\n",
       "      <th>mau</th>\n",
       "      <td>int64</td>\n",
       "      <td>0</td>\n",
       "      <td>2</td>\n",
       "      <td>resposta</td>\n",
       "      <td>NaN</td>\n",
       "    </tr>\n",
       "  </tbody>\n",
       "</table>\n",
       "</div>"
      ],
      "text/plain": [
       "                               dtypes  missing  valores_unicos       papel  \\\n",
       "data_ref               datetime64[ns]        0              12  covariavel   \n",
       "index                           int64        0           13857  covariavel   \n",
       "sexo                           object        0               2  covariavel   \n",
       "posse_de_veiculo               object        0               2  covariavel   \n",
       "posse_de_imovel                object        0               2  covariavel   \n",
       "qtd_filhos                      int64        0               8  covariavel   \n",
       "tipo_renda                     object        0               5  covariavel   \n",
       "educacao                       object        0               5  covariavel   \n",
       "estado_civil                   object        0               5  covariavel   \n",
       "tipo_residencia                object        0               6  covariavel   \n",
       "idade                           int64        0              46  covariavel   \n",
       "tempo_emprego                 float64        0            3004  covariavel   \n",
       "qt_pessoas_residencia         float64        0               9  covariavel   \n",
       "renda                         float64        0           93894  covariavel   \n",
       "mau                             int64        0               2    resposta   \n",
       "\n",
       "                             IV  \n",
       "data_ref               0.242563  \n",
       "index                  0.003312  \n",
       "sexo                   0.002515  \n",
       "posse_de_veiculo       0.000036  \n",
       "posse_de_imovel        0.011301  \n",
       "qtd_filhos             0.000138  \n",
       "tipo_renda             0.011082  \n",
       "educacao               0.003819  \n",
       "estado_civil           0.002406  \n",
       "tipo_residencia        0.004550  \n",
       "idade                  0.027123  \n",
       "tempo_emprego          0.360581  \n",
       "qt_pessoas_residencia  0.002045  \n",
       "renda                  1.034585  \n",
       "mau                         NaN  "
      ]
     },
     "execution_count": 20,
     "metadata": {},
     "output_type": "execute_result"
    }
   ],
   "source": [
    "for var in metadados[metadados.papel=='covariavel'].index:\n",
    "    if (metadados.loc[var,'valores_unicos']>6):\n",
    "        metadados.loc[var,'IV']=IV(pd.qcut(data[var],q=5,duplicates='drop'),data.mau)\n",
    "    else:\n",
    "        metadados.loc[var,'IV']=IV(data[var],data.mau)\n",
    "        \n",
    "metadados"
   ]
  },
  {
   "cell_type": "code",
   "execution_count": 34,
   "id": "83d75e08",
   "metadata": {},
   "outputs": [],
   "source": [
    "def biv_continua(var, ncat, data):\n",
    "    data['bom'] = 1-df.mau\n",
    "    cat_srs, bins = pd.qcut(df[var], ncat, retbins=True, precision=0, duplicates='drop')\n",
    "    g = data.groupby(cat_srs)\n",
    "\n",
    "    biv = pd.DataFrame({'qt_bom': g['bom'].sum(),\n",
    "                        'qt_mau': g['mau'].sum(),\n",
    "                        'mau':g['mau'].mean(), \n",
    "                        var: g[var].mean(), \n",
    "                        'cont':g[var].count()})\n",
    "    \n",
    "    biv['ep'] = (biv.mau*(1-biv.mau)/biv.cont)**.5\n",
    "    biv['mau_sup'] = biv.mau+t.ppf([0.975], biv.cont-1)*biv.ep\n",
    "    biv['mau_inf'] = biv.mau+t.ppf([0.025], biv.cont-1)*biv.ep\n",
    "    \n",
    "    biv['logit'] = np.log(biv.mau/(1-biv.mau))\n",
    "    biv['logit_sup'] = np.log(biv.mau_sup/(1-biv.mau_sup))\n",
    "    biv['logit_inf'] = np.log(biv.mau_inf/(1-biv.mau_inf))\n",
    "\n",
    "    tx_mau_geral = data.mau.mean()\n",
    "    woe_geral = np.log(data.mau.mean() / (1 - data.mau.mean()))\n",
    "\n",
    "    biv['woe'] = biv.logit - woe_geral\n",
    "    biv['woe_sup'] = biv.logit_sup - woe_geral\n",
    "    biv['woe_inf'] = biv.logit_inf - woe_geral\n",
    "\n",
    "    fig, ax = plt.subplots(2,1, figsize=(8,6))\n",
    "    ax[0].plot(biv[var], biv.woe, ':bo', label='woe')\n",
    "    ax[0].plot(biv[var], biv.woe_sup, 'o:g', label='limite superior')\n",
    "    ax[0].plot(biv[var], biv.woe_inf, 'o:r', label='limite inferior')\n",
    "    \n",
    "    num_cat = biv.shape[0]\n",
    "\n",
    "    ax[0].set_ylabel(\"Weight of Evidence\")\n",
    "    ax[0].legend(bbox_to_anchor=(.83, 1.17), ncol=3)\n",
    "    \n",
    "    ax[1] = biv.cont.plot.bar()\n",
    "    return None"
   ]
  },
  {
   "cell_type": "code",
   "execution_count": 36,
   "id": "f017a987",
   "metadata": {},
   "outputs": [
    {
     "name": "stderr",
     "output_type": "stream",
     "text": [
      "C:\\Users\\General\\anaconda3\\lib\\site-packages\\pandas\\core\\arraylike.py:397: RuntimeWarning: invalid value encountered in log\n",
      "  result = getattr(ufunc, method)(*inputs, **kwargs)\n"
     ]
    },
    {
     "data": {
      "image/png": "[encoded data removed]",
      "text/plain": [
       "<Figure size 576x432 with 2 Axes>"
      ]
     },
     "metadata": {
      "needs_background": "light"
     },
     "output_type": "display_data"
    }
   ],
   "source": [
    "biv_continua('renda',4,amostragem);"
   ]
  },
  {
   "cell_type": "markdown",
   "id": "7117d239",
   "metadata": {},
   "source": [
    "- Quanto maior a renda, menor o risco de se tornar um mau cliente "
   ]
  },
  {
   "cell_type": "code",
   "execution_count": 370,
   "id": "c5523f7e",
   "metadata": {},
   "outputs": [
    {
     "data": {
      "image/png": "[encoded data removed]",
      "text/plain": [
       "<Figure size 576x432 with 2 Axes>"
      ]
     },
     "metadata": {
      "needs_background": "light"
     },
     "output_type": "display_data"
    }
   ],
   "source": [
    "biv_continua('idade',5,amostragem);"
   ]
  },
  {
   "cell_type": "markdown",
   "id": "5ee4636e",
   "metadata": {},
   "source": [
    "- O risco de ser tornar um mau pagador é entre 45 a 52 anos"
   ]
  },
  {
   "cell_type": "code",
   "execution_count": 37,
   "id": "28fe0005",
   "metadata": {},
   "outputs": [
    {
     "data": {
      "image/png": "[encoded data removed]",
      "text/plain": [
       "<Figure size 576x432 with 2 Axes>"
      ]
     },
     "metadata": {
      "needs_background": "light"
     },
     "output_type": "display_data"
    }
   ],
   "source": [
    "biv_continua('tempo_emprego',5,amostragem);"
   ]
  },
  {
   "cell_type": "code",
   "execution_count": 38,
   "id": "3ff6fb79",
   "metadata": {},
   "outputs": [
    {
     "data": {
      "image/png": "[encoded data removed]",
      "text/plain": [
       "<Figure size 576x432 with 2 Axes>"
      ]
     },
     "metadata": {
      "needs_background": "light"
     },
     "output_type": "display_data"
    }
   ],
   "source": [
    "biv_continua('qt_pessoas_residencia',5,amostragem);"
   ]
  },
  {
   "cell_type": "markdown",
   "id": "e2b4cf4e",
   "metadata": {},
   "source": [
    "## Desenvolvimento do modelo\n",
    "\n",
    "Desenvolva um modelo de *credit scoring* através de uma regressão logística.\n",
    "\n",
    "- Trate valores missings e outliers\n",
    "- Trate 'zeros estruturais'\n",
    "- Faça agrupamentos de categorias conforme vimos em aula\n",
    "- Proponha uma equação preditiva para 'mau'\n",
    "- Caso hajam categorias não significantes, justifique"
   ]
  },
  {
   "cell_type": "markdown",
   "id": "f2a2e24b",
   "metadata": {},
   "source": [
    "### Tratanto outliers"
   ]
  },
  {
   "cell_type": "markdown",
   "id": "310d37a9",
   "metadata": {},
   "source": [
    "- Abaixo estou definindo um função para substituir os outliers pela valor minimo naquela variável"
   ]
  },
  {
   "cell_type": "code",
   "execution_count": 215,
   "id": "a6802522",
   "metadata": {},
   "outputs": [],
   "source": [
    "def substituir_outliers(var,data):\n",
    "    q1=np.percentile(data[var],25)\n",
    "    q3=np.percentile(data[var],75)\n",
    "    \n",
    "    c=1.5\n",
    "    intervalo=q3-q1\n",
    "    limite_superior=q3+c*intervalo\n",
    "    limite_inferior=q1-c*intervalo\n",
    "    \n",
    "    variavel_sem_outliers=[]\n",
    "    variavel_com_outliers=[]\n",
    "    for i in data[var]:\n",
    "        if i > limite_superior or i < limite_inferior:\n",
    "            variavel_com_outliers.append(i)\n",
    "        else:\n",
    "            variavel_sem_outliers.append(i)\n",
    "\n",
    "    #media_sem_outliers=pd.DataFrame(variavel_sem_outliers).min()\n",
    "    #print(pd.DataFrame(variavel_com_outliers).mean())\n",
    "    media_sem_outliers=data[var].min()\n",
    "    \n",
    "    data[var].where((data[var]> limite_superior) & (data[var]<limite_inferior),\n",
    "                                      media_sem_outliers)\n",
    "    \n",
    "    sns.boxplot(data[var])\n",
    "    \n",
    "    \n",
    "    return "
   ]
  },
  {
   "cell_type": "code",
   "execution_count": 216,
   "id": "83bd3677",
   "metadata": {},
   "outputs": [
    {
     "name": "stderr",
     "output_type": "stream",
     "text": [
      "C:\\Users\\General\\anaconda3\\lib\\site-packages\\seaborn\\_decorators.py:36: FutureWarning: Pass the following variable as a keyword arg: x. From version 0.12, the only valid positional argument will be `data`, and passing other arguments without an explicit keyword will result in an error or misinterpretation.\n",
      "  warnings.warn(\n"
     ]
    },
    {
     "data": {
      "image/png": "[encoded data removed]",
      "text/plain": [
       "<Figure size 432x288 with 1 Axes>"
      ]
     },
     "metadata": {
      "needs_background": "light"
     },
     "output_type": "display_data"
    }
   ],
   "source": [
    "substituir_outliers('renda',amostragem);"
   ]
  },
  {
   "cell_type": "code",
   "execution_count": 221,
   "id": "5e60ecd1",
   "metadata": {},
   "outputs": [
    {
     "name": "stderr",
     "output_type": "stream",
     "text": [
      "C:\\Users\\General\\anaconda3\\lib\\site-packages\\seaborn\\_decorators.py:36: FutureWarning: Pass the following variable as a keyword arg: x. From version 0.12, the only valid positional argument will be `data`, and passing other arguments without an explicit keyword will result in an error or misinterpretation.\n",
      "  warnings.warn(\n"
     ]
    },
    {
     "data": {
      "text/plain": [
       "<AxesSubplot:xlabel='renda'>"
      ]
     },
     "execution_count": 221,
     "metadata": {},
     "output_type": "execute_result"
    },
    {
     "data": {
      "image/png": "[encoded data removed]",
      "text/plain": [
       "<Figure size 432x288 with 1 Axes>"
      ]
     },
     "metadata": {
      "needs_background": "light"
     },
     "output_type": "display_data"
    }
   ],
   "source": [
    "sns.boxplot(data['renda'])"
   ]
  },
  {
   "cell_type": "code",
   "execution_count": 217,
   "id": "88a83cd7",
   "metadata": {},
   "outputs": [
    {
     "name": "stderr",
     "output_type": "stream",
     "text": [
      "C:\\Users\\General\\anaconda3\\lib\\site-packages\\seaborn\\_decorators.py:36: FutureWarning: Pass the following variable as a keyword arg: x. From version 0.12, the only valid positional argument will be `data`, and passing other arguments without an explicit keyword will result in an error or misinterpretation.\n",
      "  warnings.warn(\n"
     ]
    },
    {
     "data": {
      "image/png": "[encoded data removed]",
      "text/plain": [
       "<Figure size 432x288 with 1 Axes>"
      ]
     },
     "metadata": {
      "needs_background": "light"
     },
     "output_type": "display_data"
    }
   ],
   "source": [
    "substituir_outliers('idade',amostragem);"
   ]
  },
  {
   "cell_type": "code",
   "execution_count": 211,
   "id": "c63132f3",
   "metadata": {},
   "outputs": [
    {
     "name": "stderr",
     "output_type": "stream",
     "text": [
      "C:\\Users\\General\\anaconda3\\lib\\site-packages\\seaborn\\_decorators.py:36: FutureWarning: Pass the following variable as a keyword arg: x. From version 0.12, the only valid positional argument will be `data`, and passing other arguments without an explicit keyword will result in an error or misinterpretation.\n",
      "  warnings.warn(\n"
     ]
    },
    {
     "data": {
      "text/plain": [
       "<AxesSubplot:xlabel='idade'>"
      ]
     },
     "execution_count": 211,
     "metadata": {},
     "output_type": "execute_result"
    },
    {
     "data": {
      "image/png": "[encoded data removed]",
      "text/plain": [
       "<Figure size 432x288 with 1 Axes>"
      ]
     },
     "metadata": {
      "needs_background": "light"
     },
     "output_type": "display_data"
    }
   ],
   "source": [
    "sns.boxplot(amostragem['idade'])"
   ]
  },
  {
   "cell_type": "code",
   "execution_count": 218,
   "id": "68c45dc4",
   "metadata": {},
   "outputs": [
    {
     "name": "stderr",
     "output_type": "stream",
     "text": [
      "C:\\Users\\General\\anaconda3\\lib\\site-packages\\seaborn\\_decorators.py:36: FutureWarning: Pass the following variable as a keyword arg: x. From version 0.12, the only valid positional argument will be `data`, and passing other arguments without an explicit keyword will result in an error or misinterpretation.\n",
      "  warnings.warn(\n"
     ]
    },
    {
     "data": {
      "image/png": "[encoded data removed]",
      "text/plain": [
       "<Figure size 432x288 with 1 Axes>"
      ]
     },
     "metadata": {
      "needs_background": "light"
     },
     "output_type": "display_data"
    }
   ],
   "source": [
    "substituir_outliers('qt_pessoas_residencia',amostragem);"
   ]
  },
  {
   "cell_type": "code",
   "execution_count": 219,
   "id": "87cc5b1e",
   "metadata": {},
   "outputs": [
    {
     "name": "stderr",
     "output_type": "stream",
     "text": [
      "C:\\Users\\General\\anaconda3\\lib\\site-packages\\seaborn\\_decorators.py:36: FutureWarning: Pass the following variable as a keyword arg: x. From version 0.12, the only valid positional argument will be `data`, and passing other arguments without an explicit keyword will result in an error or misinterpretation.\n",
      "  warnings.warn(\n"
     ]
    },
    {
     "data": {
      "image/png": "[encoded data removed]",
      "text/plain": [
       "<Figure size 432x288 with 1 Axes>"
      ]
     },
     "metadata": {
      "needs_background": "light"
     },
     "output_type": "display_data"
    }
   ],
   "source": [
    "substituir_outliers('tempo_emprego',amostragem);"
   ]
  },
  {
   "cell_type": "code",
   "execution_count": 220,
   "id": "588770e5",
   "metadata": {},
   "outputs": [
    {
     "name": "stderr",
     "output_type": "stream",
     "text": [
      "C:\\Users\\General\\anaconda3\\lib\\site-packages\\seaborn\\_decorators.py:36: FutureWarning: Pass the following variable as a keyword arg: x. From version 0.12, the only valid positional argument will be `data`, and passing other arguments without an explicit keyword will result in an error or misinterpretation.\n",
      "  warnings.warn(\n"
     ]
    },
    {
     "data": {
      "image/png": "[encoded data removed]",
      "text/plain": [
       "<Figure size 432x288 with 1 Axes>"
      ]
     },
     "metadata": {
      "needs_background": "light"
     },
     "output_type": "display_data"
    }
   ],
   "source": [
    "sns.boxplot(data['tempo_emprego']);"
   ]
  },
  {
   "cell_type": "markdown",
   "id": "40ac2cb1",
   "metadata": {},
   "source": [
    "### Trantando zeros estruturais"
   ]
  },
  {
   "cell_type": "code",
   "execution_count": 224,
   "id": "9ecd06fd",
   "metadata": {},
   "outputs": [],
   "source": [
    "amostragem['qtd_filhos'].replace({2:3,3:4,3:4,7:3,4:3},inplace=True)"
   ]
  },
  {
   "cell_type": "code",
   "execution_count": 225,
   "id": "624b0a25",
   "metadata": {},
   "outputs": [
    {
     "data": {
      "text/plain": [
       "0    1269\n",
       "1     477\n",
       "4     223\n",
       "3      31\n",
       "Name: qtd_filhos, dtype: int64"
      ]
     },
     "execution_count": 225,
     "metadata": {},
     "output_type": "execute_result"
    }
   ],
   "source": [
    "amostragem['qtd_filhos'].value_counts()"
   ]
  },
  {
   "cell_type": "code",
   "execution_count": 228,
   "id": "72db32ca",
   "metadata": {},
   "outputs": [
    {
     "data": {
      "text/plain": [
       "Médio                          1334\n",
       "Pós graud/Superior completo     578\n",
       "Sup Incompleto                   88\n",
       "Name: educacao, dtype: int64"
      ]
     },
     "execution_count": 228,
     "metadata": {},
     "output_type": "execute_result"
    }
   ],
   "source": [
    "#Aqui vou separar com ensino superior e sem \n",
    "amostragem['educacao'].value_counts()"
   ]
  },
  {
   "cell_type": "code",
   "execution_count": 227,
   "id": "6e1b5768",
   "metadata": {},
   "outputs": [],
   "source": [
    "amostragem['educacao'].replace({'Pós graduação':'Pós graud/Superior completo','Superior completo':'Pós graud/Superior completo',\n",
    "                                'Fundamental':'Sup Incompleto','Superior incompleto':'Sup Incompleto'},inplace=True)"
   ]
  },
  {
   "cell_type": "code",
   "execution_count": 231,
   "id": "39ba24ab",
   "metadata": {},
   "outputs": [
    {
     "data": {
      "text/plain": [
       "Casa                                 1752\n",
       "Aluguel/Com pais                      160\n",
       "Comunitário/Governamental/Estudio      88\n",
       "Name: tipo_residencia, dtype: int64"
      ]
     },
     "execution_count": 231,
     "metadata": {},
     "output_type": "execute_result"
    }
   ],
   "source": [
    "amostragem['tipo_residencia'].value_counts()"
   ]
  },
  {
   "cell_type": "code",
   "execution_count": 230,
   "id": "34906814",
   "metadata": {},
   "outputs": [],
   "source": [
    "amostragem['tipo_residencia'].replace({'Aluguel':'Aluguel/Com pais','Com os pais':'Aluguel/Com pais',\n",
    "                                       'Comunitário':'Comunitário/Governamental/Estudio','Governamental':'Comunitário/Governamental/Estudio','Estúdio':'Comunitário/Governamental/Estudio'},inplace=True)"
   ]
  },
  {
   "cell_type": "markdown",
   "id": "2caa65b7",
   "metadata": {},
   "source": [
    "## Avaliação do modelo\n",
    "\n",
    "Avalie o poder discriminante do modelo pelo menos avaliando acurácia, KS e Gini.\n",
    "\n",
    "Avalie estas métricas nas bases de desenvolvimento e *out of time*."
   ]
  },
  {
   "cell_type": "code",
   "execution_count": 232,
   "id": "8c43047a",
   "metadata": {},
   "outputs": [
    {
     "data": {
      "text/plain": [
       "'data_ref + index + sexo + posse_de_veiculo + posse_de_imovel + qtd_filhos + tipo_renda + educacao + estado_civil + tipo_residencia + idade + tempo_emprego + qt_pessoas_residencia + renda + mau'"
      ]
     },
     "execution_count": 232,
     "metadata": {},
     "output_type": "execute_result"
    }
   ],
   "source": [
    "' + '.join(list(data.columns))"
   ]
  },
  {
   "cell_type": "code",
   "execution_count": 233,
   "id": "dbf72455",
   "metadata": {},
   "outputs": [
    {
     "data": {
      "text/html": [
       "<table class=\"simpletable\">\n",
       "<caption>Generalized Linear Model Regression Results</caption>\n",
       "<tr>\n",
       "  <th>Dep. Variable:</th>   <td>['mau[False]', 'mau[True]']</td> <th>  No. Observations:  </th>  <td>  2000</td> \n",
       "</tr>\n",
       "<tr>\n",
       "  <th>Model:</th>                       <td>GLM</td>             <th>  Df Residuals:      </th>  <td>  1979</td> \n",
       "</tr>\n",
       "<tr>\n",
       "  <th>Model Family:</th>             <td>Binomial</td>           <th>  Df Model:          </th>  <td>    20</td> \n",
       "</tr>\n",
       "<tr>\n",
       "  <th>Link Function:</th>              <td>Logit</td>            <th>  Scale:             </th> <td>  1.0000</td>\n",
       "</tr>\n",
       "<tr>\n",
       "  <th>Method:</th>                     <td>IRLS</td>             <th>  Log-Likelihood:    </th> <td> -431.87</td>\n",
       "</tr>\n",
       "<tr>\n",
       "  <th>Date:</th>                 <td>sex, 14 jul 2023</td>       <th>  Deviance:          </th> <td>  863.75</td>\n",
       "</tr>\n",
       "<tr>\n",
       "  <th>Time:</th>                     <td>14:16:14</td>           <th>  Pearson chi2:      </th> <td>4.30e+03</td>\n",
       "</tr>\n",
       "<tr>\n",
       "  <th>No. Iterations:</th>              <td>19</td>              <th>  Pseudo R-squ. (CS):</th>  <td>0.05049</td>\n",
       "</tr>\n",
       "<tr>\n",
       "  <th>Covariance Type:</th>          <td>nonrobust</td>          <th>                     </th>     <td> </td>   \n",
       "</tr>\n",
       "</table>\n",
       "<table class=\"simpletable\">\n",
       "<tr>\n",
       "                            <td></td>                              <th>coef</th>     <th>std err</th>      <th>z</th>      <th>P>|z|</th>  <th>[0.025</th>    <th>0.975]</th>  \n",
       "</tr>\n",
       "<tr>\n",
       "  <th>Intercept</th>                                            <td>    0.2457</td> <td>    0.930</td> <td>    0.264</td> <td> 0.792</td> <td>   -1.577</td> <td>    2.068</td>\n",
       "</tr>\n",
       "<tr>\n",
       "  <th>sexo[T.M]</th>                                            <td>    0.0118</td> <td>    0.203</td> <td>    0.058</td> <td> 0.954</td> <td>   -0.387</td> <td>    0.410</td>\n",
       "</tr>\n",
       "<tr>\n",
       "  <th>posse_de_veiculo[T.S]</th>                                <td>   -0.0302</td> <td>    0.200</td> <td>   -0.151</td> <td> 0.880</td> <td>   -0.423</td> <td>    0.362</td>\n",
       "</tr>\n",
       "<tr>\n",
       "  <th>posse_de_imovel[T.S]</th>                                 <td>   -0.1333</td> <td>    0.201</td> <td>   -0.664</td> <td> 0.507</td> <td>   -0.527</td> <td>    0.260</td>\n",
       "</tr>\n",
       "<tr>\n",
       "  <th>tipo_renda[T.Bolsista]</th>                               <td>   17.3745</td> <td> 1.24e+04</td> <td>    0.001</td> <td> 0.999</td> <td>-2.44e+04</td> <td> 2.44e+04</td>\n",
       "</tr>\n",
       "<tr>\n",
       "  <th>tipo_renda[T.Empresário]</th>                             <td>    0.0187</td> <td>    0.214</td> <td>    0.087</td> <td> 0.931</td> <td>   -0.401</td> <td>    0.438</td>\n",
       "</tr>\n",
       "<tr>\n",
       "  <th>tipo_renda[T.Pensionista]</th>                            <td>   -2.2545</td> <td>    1.451</td> <td>   -1.554</td> <td> 0.120</td> <td>   -5.098</td> <td>    0.589</td>\n",
       "</tr>\n",
       "<tr>\n",
       "  <th>tipo_renda[T.Servidor público]</th>                       <td>    0.0672</td> <td>    0.375</td> <td>    0.179</td> <td> 0.858</td> <td>   -0.668</td> <td>    0.802</td>\n",
       "</tr>\n",
       "<tr>\n",
       "  <th>educacao[T.Pós graud/Superior completo]</th>              <td>    0.3411</td> <td>    0.227</td> <td>    1.503</td> <td> 0.133</td> <td>   -0.104</td> <td>    0.786</td>\n",
       "</tr>\n",
       "<tr>\n",
       "  <th>educacao[T.Sup Incompleto]</th>                           <td>   -0.1299</td> <td>    0.403</td> <td>   -0.322</td> <td> 0.747</td> <td>   -0.919</td> <td>    0.660</td>\n",
       "</tr>\n",
       "<tr>\n",
       "  <th>estado_civil[T.Separado]</th>                             <td>    0.5712</td> <td>    0.548</td> <td>    1.042</td> <td> 0.298</td> <td>   -0.504</td> <td>    1.646</td>\n",
       "</tr>\n",
       "<tr>\n",
       "  <th>estado_civil[T.Solteiro]</th>                             <td>    0.1985</td> <td>    0.452</td> <td>    0.439</td> <td> 0.661</td> <td>   -0.688</td> <td>    1.085</td>\n",
       "</tr>\n",
       "<tr>\n",
       "  <th>estado_civil[T.União]</th>                                <td>    0.0808</td> <td>    0.377</td> <td>    0.215</td> <td> 0.830</td> <td>   -0.657</td> <td>    0.819</td>\n",
       "</tr>\n",
       "<tr>\n",
       "  <th>estado_civil[T.Viúvo]</th>                                <td>    0.5875</td> <td>    0.838</td> <td>    0.701</td> <td> 0.483</td> <td>   -1.056</td> <td>    2.231</td>\n",
       "</tr>\n",
       "<tr>\n",
       "  <th>tipo_residencia[T.Casa]</th>                              <td>   -0.2845</td> <td>    0.333</td> <td>   -0.854</td> <td> 0.393</td> <td>   -0.938</td> <td>    0.369</td>\n",
       "</tr>\n",
       "<tr>\n",
       "  <th>tipo_residencia[T.Comunitário/Governamental/Estudio]</th> <td>   -0.0338</td> <td>    0.614</td> <td>   -0.055</td> <td> 0.956</td> <td>   -1.236</td> <td>    1.169</td>\n",
       "</tr>\n",
       "<tr>\n",
       "  <th>qtd_filhos</th>                                           <td>   -0.2541</td> <td>    0.195</td> <td>   -1.304</td> <td> 0.192</td> <td>   -0.636</td> <td>    0.128</td>\n",
       "</tr>\n",
       "<tr>\n",
       "  <th>idade</th>                                                <td>    0.0160</td> <td>    0.011</td> <td>    1.431</td> <td> 0.152</td> <td>   -0.006</td> <td>    0.038</td>\n",
       "</tr>\n",
       "<tr>\n",
       "  <th>tempo_emprego</th>                                        <td>    0.0639</td> <td>    0.030</td> <td>    2.156</td> <td> 0.031</td> <td>    0.006</td> <td>    0.122</td>\n",
       "</tr>\n",
       "<tr>\n",
       "  <th>qt_pessoas_residencia</th>                                <td>    0.4512</td> <td>    0.344</td> <td>    1.311</td> <td> 0.190</td> <td>   -0.223</td> <td>    1.126</td>\n",
       "</tr>\n",
       "<tr>\n",
       "  <th>renda</th>                                                <td> 7.455e-05</td> <td> 1.62e-05</td> <td>    4.589</td> <td> 0.000</td> <td> 4.27e-05</td> <td>    0.000</td>\n",
       "</tr>\n",
       "</table>"
      ],
      "text/plain": [
       "<class 'statsmodels.iolib.summary.Summary'>\n",
       "\"\"\"\n",
       "                      Generalized Linear Model Regression Results                      \n",
       "=======================================================================================\n",
       "Dep. Variable:     ['mau[False]', 'mau[True]']   No. Observations:                 2000\n",
       "Model:                                     GLM   Df Residuals:                     1979\n",
       "Model Family:                         Binomial   Df Model:                           20\n",
       "Link Function:                           Logit   Scale:                          1.0000\n",
       "Method:                                   IRLS   Log-Likelihood:                -431.87\n",
       "Date:                         sex, 14 jul 2023   Deviance:                       863.75\n",
       "Time:                                 14:16:14   Pearson chi2:                 4.30e+03\n",
       "No. Iterations:                             19   Pseudo R-squ. (CS):            0.05049\n",
       "Covariance Type:                     nonrobust                                         \n",
       "========================================================================================================================\n",
       "                                                           coef    std err          z      P>|z|      [0.025      0.975]\n",
       "------------------------------------------------------------------------------------------------------------------------\n",
       "Intercept                                                0.2457      0.930      0.264      0.792      -1.577       2.068\n",
       "sexo[T.M]                                                0.0118      0.203      0.058      0.954      -0.387       0.410\n",
       "posse_de_veiculo[T.S]                                   -0.0302      0.200     -0.151      0.880      -0.423       0.362\n",
       "posse_de_imovel[T.S]                                    -0.1333      0.201     -0.664      0.507      -0.527       0.260\n",
       "tipo_renda[T.Bolsista]                                  17.3745   1.24e+04      0.001      0.999   -2.44e+04    2.44e+04\n",
       "tipo_renda[T.Empresário]                                 0.0187      0.214      0.087      0.931      -0.401       0.438\n",
       "tipo_renda[T.Pensionista]                               -2.2545      1.451     -1.554      0.120      -5.098       0.589\n",
       "tipo_renda[T.Servidor público]                           0.0672      0.375      0.179      0.858      -0.668       0.802\n",
       "educacao[T.Pós graud/Superior completo]                  0.3411      0.227      1.503      0.133      -0.104       0.786\n",
       "educacao[T.Sup Incompleto]                              -0.1299      0.403     -0.322      0.747      -0.919       0.660\n",
       "estado_civil[T.Separado]                                 0.5712      0.548      1.042      0.298      -0.504       1.646\n",
       "estado_civil[T.Solteiro]                                 0.1985      0.452      0.439      0.661      -0.688       1.085\n",
       "estado_civil[T.União]                                    0.0808      0.377      0.215      0.830      -0.657       0.819\n",
       "estado_civil[T.Viúvo]                                    0.5875      0.838      0.701      0.483      -1.056       2.231\n",
       "tipo_residencia[T.Casa]                                 -0.2845      0.333     -0.854      0.393      -0.938       0.369\n",
       "tipo_residencia[T.Comunitário/Governamental/Estudio]    -0.0338      0.614     -0.055      0.956      -1.236       1.169\n",
       "qtd_filhos                                              -0.2541      0.195     -1.304      0.192      -0.636       0.128\n",
       "idade                                                    0.0160      0.011      1.431      0.152      -0.006       0.038\n",
       "tempo_emprego                                            0.0639      0.030      2.156      0.031       0.006       0.122\n",
       "qt_pessoas_residencia                                    0.4512      0.344      1.311      0.190      -0.223       1.126\n",
       "renda                                                 7.455e-05   1.62e-05      4.589      0.000    4.27e-05       0.000\n",
       "========================================================================================================================\n",
       "\"\"\""
      ]
     },
     "execution_count": 233,
     "metadata": {},
     "output_type": "execute_result"
    }
   ],
   "source": [
    "formula = ''' mau ~ sexo + posse_de_veiculo + posse_de_imovel + qtd_filhos + tipo_renda + \n",
    "    educacao + estado_civil + tipo_residencia + idade + tempo_emprego + qt_pessoas_residencia + renda\n",
    "'''\n",
    "\n",
    "rl = smf.glm(formula, data=amostragem, family=sm.families.Binomial()).fit()\n",
    "\n",
    "rl.summary()"
   ]
  },
  {
   "cell_type": "code",
   "execution_count": 235,
   "id": "41d5181d",
   "metadata": {},
   "outputs": [
    {
     "name": "stdout",
     "output_type": "stream",
     "text": [
      "Acurácia: 6.6% \n",
      "AUC: 23.3% \n",
      "GINI: -53.3%\n",
      "KS: 41.3%\n"
     ]
    }
   ],
   "source": [
    "amostragem['score'] = rl.predict(amostragem)\n",
    "\n",
    "# Acurácia\n",
    "acc = metrics.accuracy_score(amostragem.mau, amostragem.score>.068)\n",
    "#AUC\n",
    "fpr, tpr, thresholds = metrics.roc_curve(amostragem.mau, amostragem.score)\n",
    "auc = metrics.auc(fpr, tpr)\n",
    "#Gini\n",
    "gini = 2*auc -1\n",
    "ks = ks_2samp(amostragem.loc[amostragem.mau == 1, 'score'], amostragem.loc[amostragem.mau != 1, 'score']).statistic\n",
    "\n",
    "print('Acurácia: {0:.1%} \\nAUC: {1:.1%} \\nGINI: {2:.1%}\\nKS: {3:.1%}'\n",
    "      .format(acc, auc, gini, ks))"
   ]
  },
  {
   "cell_type": "code",
   "execution_count": 201,
   "id": "cd366181",
   "metadata": {},
   "outputs": [
    {
     "data": {
      "text/plain": [
       "Index(['renda', 'data_ref', 'estado_civil', 'idade', 'tipo_renda'], dtype='object')"
      ]
     },
     "execution_count": 201,
     "metadata": {},
     "output_type": "execute_result"
    }
   ],
   "source": [
    "metadados.sort_values(by='IV',ascending=False).head().index"
   ]
  },
  {
   "cell_type": "code",
   "execution_count": 236,
   "id": "b12e41bc",
   "metadata": {},
   "outputs": [
    {
     "data": {
      "text/html": [
       "<table class=\"simpletable\">\n",
       "<caption>Generalized Linear Model Regression Results</caption>\n",
       "<tr>\n",
       "  <th>Dep. Variable:</th>   <td>['C(mau)[False]', 'C(mau)[True]']</td> <th>  No. Observations:  </th>  <td>  2000</td> \n",
       "</tr>\n",
       "<tr>\n",
       "  <th>Model:</th>                          <td>GLM</td>                <th>  Df Residuals:      </th>  <td>  1996</td> \n",
       "</tr>\n",
       "<tr>\n",
       "  <th>Model Family:</th>                <td>Binomial</td>              <th>  Df Model:          </th>  <td>     3</td> \n",
       "</tr>\n",
       "<tr>\n",
       "  <th>Link Function:</th>                 <td>Logit</td>               <th>  Scale:             </th> <td>  1.0000</td>\n",
       "</tr>\n",
       "<tr>\n",
       "  <th>Method:</th>                        <td>IRLS</td>                <th>  Log-Likelihood:    </th> <td> -436.61</td>\n",
       "</tr>\n",
       "<tr>\n",
       "  <th>Date:</th>                    <td>sex, 14 jul 2023</td>          <th>  Deviance:          </th> <td>  873.23</td>\n",
       "</tr>\n",
       "<tr>\n",
       "  <th>Time:</th>                        <td>14:17:04</td>              <th>  Pearson chi2:      </th> <td>4.71e+03</td>\n",
       "</tr>\n",
       "<tr>\n",
       "  <th>No. Iterations:</th>                 <td>10</td>                 <th>  Pseudo R-squ. (CS):</th>  <td>0.04598</td>\n",
       "</tr>\n",
       "<tr>\n",
       "  <th>Covariance Type:</th>             <td>nonrobust</td>             <th>                     </th>     <td> </td>   \n",
       "</tr>\n",
       "</table>\n",
       "<table class=\"simpletable\">\n",
       "<tr>\n",
       "        <td></td>           <th>coef</th>     <th>std err</th>      <th>z</th>      <th>P>|z|</th>  <th>[0.025</th>    <th>0.975]</th>  \n",
       "</tr>\n",
       "<tr>\n",
       "  <th>Intercept</th>     <td>    1.0348</td> <td>    0.402</td> <td>    2.573</td> <td> 0.010</td> <td>    0.247</td> <td>    1.823</td>\n",
       "</tr>\n",
       "<tr>\n",
       "  <th>renda</th>         <td> 7.452e-05</td> <td>  1.6e-05</td> <td>    4.657</td> <td> 0.000</td> <td> 4.32e-05</td> <td>    0.000</td>\n",
       "</tr>\n",
       "<tr>\n",
       "  <th>tempo_emprego</th> <td>    0.0639</td> <td>    0.029</td> <td>    2.203</td> <td> 0.028</td> <td>    0.007</td> <td>    0.121</td>\n",
       "</tr>\n",
       "<tr>\n",
       "  <th>idade</th>         <td>    0.0129</td> <td>    0.010</td> <td>    1.274</td> <td> 0.203</td> <td>   -0.007</td> <td>    0.033</td>\n",
       "</tr>\n",
       "</table>"
      ],
      "text/plain": [
       "<class 'statsmodels.iolib.summary.Summary'>\n",
       "\"\"\"\n",
       "                         Generalized Linear Model Regression Results                         \n",
       "=============================================================================================\n",
       "Dep. Variable:     ['C(mau)[False]', 'C(mau)[True]']   No. Observations:                 2000\n",
       "Model:                                           GLM   Df Residuals:                     1996\n",
       "Model Family:                               Binomial   Df Model:                            3\n",
       "Link Function:                                 Logit   Scale:                          1.0000\n",
       "Method:                                         IRLS   Log-Likelihood:                -436.61\n",
       "Date:                               sex, 14 jul 2023   Deviance:                       873.23\n",
       "Time:                                       14:17:04   Pearson chi2:                 4.71e+03\n",
       "No. Iterations:                                   10   Pseudo R-squ. (CS):            0.04598\n",
       "Covariance Type:                           nonrobust                                         \n",
       "=================================================================================\n",
       "                    coef    std err          z      P>|z|      [0.025      0.975]\n",
       "---------------------------------------------------------------------------------\n",
       "Intercept         1.0348      0.402      2.573      0.010       0.247       1.823\n",
       "renda          7.452e-05    1.6e-05      4.657      0.000    4.32e-05       0.000\n",
       "tempo_emprego     0.0639      0.029      2.203      0.028       0.007       0.121\n",
       "idade             0.0129      0.010      1.274      0.203      -0.007       0.033\n",
       "=================================================================================\n",
       "\"\"\""
      ]
     },
     "execution_count": 236,
     "metadata": {},
     "output_type": "execute_result"
    }
   ],
   "source": [
    "formula = ''' C(mau) ~ renda + tempo_emprego + idade\n",
    "'''\n",
    "\n",
    "rl = smf.glm(formula, data=amostragem, family=sm.families.Binomial()).fit()\n",
    "\n",
    "rl.summary()"
   ]
  },
  {
   "cell_type": "code",
   "execution_count": 237,
   "id": "b92364a6",
   "metadata": {},
   "outputs": [
    {
     "name": "stdout",
     "output_type": "stream",
     "text": [
      "Acurácia: 6.6% \n",
      "AUC: 23.4% \n",
      "GINI: -53.1%\n",
      "KS: 41.8%\n"
     ]
    }
   ],
   "source": [
    "amostragem['score'] = rl.predict(amostragem)\n",
    "\n",
    "# Acurácia\n",
    "acc = metrics.accuracy_score(amostragem.mau, amostragem.score>.068)\n",
    "#AUC\n",
    "fpr, tpr, thresholds = metrics.roc_curve(amostragem.mau, amostragem.score)\n",
    "auc = metrics.auc(fpr, tpr)\n",
    "#Gini\n",
    "gini = 2*auc -1\n",
    "ks = ks_2samp(amostragem.loc[amostragem.mau == 1, 'score'], amostragem.loc[amostragem.mau != 1, 'score']).statistic\n",
    "\n",
    "print('Acurácia: {0:.1%} \\nAUC: {1:.1%} \\nGINI: {2:.1%}\\nKS: {3:.1%}'\n",
    "      .format(acc, auc, gini, ks))\n"
   ]
  },
  {
   "cell_type": "code",
   "execution_count": null,
   "id": "de0fe48b",
   "metadata": {},
   "outputs": [],
   "source": []
  }
 ],
 "metadata": {
  "kernelspec": {
   "display_name": "Python 3 (ipykernel)",
   "language": "python",
   "name": "python3"
  },
  "language_info": {
   "codemirror_mode": {
    "name": "ipython",
    "version": 3
   },
   "file_extension": ".py",
   "mimetype": "text/x-python",
   "name": "python",
   "nbconvert_exporter": "python",
   "pygments_lexer": "ipython3",
   "version": "3.9.12"
  }
 },
 "nbformat": 4,
 "nbformat_minor": 5
}
