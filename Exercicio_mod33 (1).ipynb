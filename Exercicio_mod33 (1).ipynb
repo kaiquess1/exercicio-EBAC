{
 "cells": [
  {
   "cell_type": "code",
   "execution_count": 71,
   "id": "0b332c64",
   "metadata": {},
   "outputs": [
    {
     "name": "stdout",
     "output_type": "stream",
     "text": [
      "Requirement already satisfied: scikit-learn==0.24 in c:\\users\\general\\anaconda3\\lib\\site-packages (0.24.0)\n",
      "Requirement already satisfied: numpy>=1.13.3 in c:\\users\\general\\anaconda3\\lib\\site-packages (from scikit-learn==0.24) (1.21.5)\n",
      "Requirement already satisfied: scipy>=0.19.1 in c:\\users\\general\\anaconda3\\lib\\site-packages (from scikit-learn==0.24) (1.7.3)\n",
      "Requirement already satisfied: joblib>=0.11 in c:\\users\\general\\anaconda3\\lib\\site-packages (from scikit-learn==0.24) (1.1.0)\n",
      "Requirement already satisfied: threadpoolctl>=2.0.0 in c:\\users\\general\\anaconda3\\lib\\site-packages (from scikit-learn==0.24) (2.2.0)\n"
     ]
    }
   ],
   "source": [
    "!pip install scikit-learn==0.24"
   ]
  },
  {
   "cell_type": "code",
   "execution_count": 222,
   "id": "18d0b64d",
   "metadata": {},
   "outputs": [],
   "source": [
    "import pandas as pd\n",
    "import numpy as np\n",
    "import pandas as pd\n",
    "import numpy as np\n",
    "import seaborn as sns\n",
    "import matplotlib.pyplot as plt\n",
    "from sklearn import datasets\n",
    "from sklearn.datasets import load_boston\n",
    "import scipy.stats as st\n",
    "import statsmodels.stats.weightstats as ssw\n",
    "import math\n"
   ]
  },
  {
   "cell_type": "code",
   "execution_count": 223,
   "id": "fdd1068e",
   "metadata": {},
   "outputs": [
    {
     "data": {
      "text/plain": [
       "species               0\n",
       "island                0\n",
       "bill_length_mm        2\n",
       "bill_depth_mm         2\n",
       "flipper_length_mm     2\n",
       "body_mass_g           2\n",
       "sex                  11\n",
       "dtype: int64"
      ]
     },
     "execution_count": 223,
     "metadata": {},
     "output_type": "execute_result"
    }
   ],
   "source": [
    "pg = sns.load_dataset('penguins')\n",
    "pg.isna().sum()"
   ]
  },
  {
   "cell_type": "code",
   "execution_count": 224,
   "id": "3e500002",
   "metadata": {},
   "outputs": [],
   "source": [
    "pg.dropna(inplace=True)"
   ]
  },
  {
   "cell_type": "code",
   "execution_count": 225,
   "id": "99f2d264",
   "metadata": {},
   "outputs": [
    {
     "data": {
      "text/plain": [
       "(333, 7)"
      ]
     },
     "execution_count": 225,
     "metadata": {},
     "output_type": "execute_result"
    }
   ],
   "source": [
    "pg.shape"
   ]
  },
  {
   "cell_type": "code",
   "execution_count": 226,
   "id": "9a505498",
   "metadata": {},
   "outputs": [
    {
     "data": {
      "text/plain": [
       "Male      168\n",
       "Female    165\n",
       "Name: sex, dtype: int64"
      ]
     },
     "execution_count": 226,
     "metadata": {},
     "output_type": "execute_result"
    }
   ],
   "source": [
    "pg.sex.value_counts()"
   ]
  },
  {
   "cell_type": "code",
   "execution_count": 227,
   "id": "e6fe635d",
   "metadata": {},
   "outputs": [
    {
     "data": {
      "text/html": [
       "<div>\n",
       "<style scoped>\n",
       "    .dataframe tbody tr th:only-of-type {\n",
       "        vertical-align: middle;\n",
       "    }\n",
       "\n",
       "    .dataframe tbody tr th {\n",
       "        vertical-align: top;\n",
       "    }\n",
       "\n",
       "    .dataframe thead th {\n",
       "        text-align: right;\n",
       "    }\n",
       "</style>\n",
       "<table border=\"1\" class=\"dataframe\">\n",
       "  <thead>\n",
       "    <tr style=\"text-align: right;\">\n",
       "      <th></th>\n",
       "      <th>count</th>\n",
       "      <th>mean</th>\n",
       "      <th>std</th>\n",
       "      <th>min</th>\n",
       "      <th>25%</th>\n",
       "      <th>50%</th>\n",
       "      <th>75%</th>\n",
       "      <th>max</th>\n",
       "    </tr>\n",
       "    <tr>\n",
       "      <th>sex</th>\n",
       "      <th></th>\n",
       "      <th></th>\n",
       "      <th></th>\n",
       "      <th></th>\n",
       "      <th></th>\n",
       "      <th></th>\n",
       "      <th></th>\n",
       "      <th></th>\n",
       "    </tr>\n",
       "  </thead>\n",
       "  <tbody>\n",
       "    <tr>\n",
       "      <th>Female</th>\n",
       "      <td>165.0</td>\n",
       "      <td>3862.272727</td>\n",
       "      <td>666.172050</td>\n",
       "      <td>2700.0</td>\n",
       "      <td>3350.0</td>\n",
       "      <td>3650.0</td>\n",
       "      <td>4550.0</td>\n",
       "      <td>5200.0</td>\n",
       "    </tr>\n",
       "    <tr>\n",
       "      <th>Male</th>\n",
       "      <td>168.0</td>\n",
       "      <td>4545.684524</td>\n",
       "      <td>787.628884</td>\n",
       "      <td>3250.0</td>\n",
       "      <td>3900.0</td>\n",
       "      <td>4300.0</td>\n",
       "      <td>5312.5</td>\n",
       "      <td>6300.0</td>\n",
       "    </tr>\n",
       "  </tbody>\n",
       "</table>\n",
       "</div>"
      ],
      "text/plain": [
       "        count         mean         std     min     25%     50%     75%     max\n",
       "sex                                                                           \n",
       "Female  165.0  3862.272727  666.172050  2700.0  3350.0  3650.0  4550.0  5200.0\n",
       "Male    168.0  4545.684524  787.628884  3250.0  3900.0  4300.0  5312.5  6300.0"
      ]
     },
     "execution_count": 227,
     "metadata": {},
     "output_type": "execute_result"
    }
   ],
   "source": [
    "pg.groupby('sex')['body_mass_g'].describe()"
   ]
  },
  {
   "cell_type": "code",
   "execution_count": 228,
   "id": "0ac83faf",
   "metadata": {},
   "outputs": [
    {
     "data": {
      "image/png": "[encoded data removed]",
      "text/plain": [
       "<Figure size 576x288 with 2 Axes>"
      ]
     },
     "metadata": {
      "needs_background": "light"
     },
     "output_type": "display_data"
    }
   ],
   "source": [
    "fig,ax=plt.subplots(1,2,figsize=(8,4),sharey=True)\n",
    "sns.boxplot(data=pg,y='body_mass_g',x='sex',ax=ax[0])\n",
    "ax[0].set_ylabel('Diferença de peso')\n",
    "\n",
    "sns.pointplot(data=pg,y='body_mass_g',x='sex',ax=ax[1])\n",
    "ax[1].set_ylabel('')\n",
    "plt.subplots_adjust(wspace=0)"
   ]
  },
  {
   "cell_type": "code",
   "execution_count": 229,
   "id": "e8eb25e8",
   "metadata": {},
   "outputs": [],
   "source": [
    "desvpad=pg.groupby('sex')['body_mass_g'].var().mean()**.5\n",
    "media_male=pg[pg['sex']=='Male'].groupby('sex')['body_mass_g'].mean()['Male']\n",
    "media_female=pg[pg['sex']=='Female'].groupby('sex')['body_mass_g'].mean()['Female']\n",
    "n_male=pg.sex.value_counts()[0]\n",
    "n_female=pg.sex.value_counts()[1]\n",
    "diferenca=media_male-media_female\n"
   ]
  },
  {
   "cell_type": "code",
   "execution_count": 234,
   "id": "25297d74",
   "metadata": {},
   "outputs": [
    {
     "name": "stdout",
     "output_type": "stream",
     "text": [
      "Estatística do teste:0.10\n",
      "Região crítica:1.97 ou mais\n",
      "P-value: 0.45914 ou mais\n"
     ]
    }
   ],
   "source": [
    "t=diferenca/desvpad*math.sqrt(1/n_male+1/n_female)\n",
    "p_value=1-st.t.cdf(t,gl)\n",
    "RC=st.t.ppf(1-p/2,gl)\n",
    "print(f'Estatística do teste:{t:.2f}')\n",
    "print(f'Região crítica:{RC:.2f} ou mais')\n",
    "print(f'P-value: {p_value:.5f} ou mais')"
   ]
  },
  {
   "cell_type": "markdown",
   "id": "121613ed",
   "metadata": {},
   "source": [
    "- Ho:μmacho-μfemea=0\n",
    "- H1:μmacho-μfemea ≠ 0 "
   ]
  },
  {
   "cell_type": "code",
   "execution_count": 238,
   "id": "4ca9804a",
   "metadata": {},
   "outputs": [
    {
     "data": {
      "image/png": "[encoded data removed]",
      "text/plain": [
       "<Figure size 432x288 with 1 Axes>"
      ]
     },
     "metadata": {
      "needs_background": "light"
     },
     "output_type": "display_data"
    }
   ],
   "source": [
    "# Gerar valores para o eixo x (intervalo de -5 a 5)\n",
    "x = np.linspace(-3, 3, 1000)\n",
    "\n",
    "# Calcular a PDF (Probability Density Function) da distribuição t\n",
    "pdf = stats.t.pdf(x, gl)\n",
    "\n",
    "# Plotar a PDF da distribuição t\n",
    "fig, ax = plt.subplots()\n",
    "ax.plot(x, pdf, 'black', label='Distribuição t')\n",
    "\n",
    "# Plotar a estatística do teste t\n",
    "ax.axvline(t, color='r', linestyle='--', label='Estatística do Teste t')\n",
    "\n",
    "# Plotar a região crítica\n",
    "ax.axvline(RC, color='y', linestyle='--', label='Região Crítica')\n",
    "ax.axvline(-RC, color='y', linestyle='--', )\n",
    "\n",
    "# Preencher a área da região crítica\n",
    "ax.fill_between(x, pdf, where=(x >= RC), color='red', alpha=0.25)\n",
    "ax.fill_between(x, pdf, where=(x <= -RC), color='red', alpha=0.25)\n",
    "\n",
    "# Definir rótulos e título do gráfico\n",
    "ax.set_xlabel('Estatística do Teste t')\n",
    "ax.set_ylabel('Densidade de Probabilidade')\n",
    "ax.set_title('Teste t - Visualização da Estatística e Região Crítica')\n",
    "\n",
    "# Adicionar legenda\n",
    "ax.legend()\n",
    "\n",
    "# Exibir o gráfico\n",
    "plt.show()\n"
   ]
  },
  {
   "cell_type": "markdown",
   "id": "575955f5",
   "metadata": {},
   "source": [
    "Aceitamos a hipotese nula uma vez que não houve evidencia de que há diferença estatistica de pesos entre a população de pinguins machos e femeas"
   ]
  },
  {
   "cell_type": "markdown",
   "id": "f6a1d539",
   "metadata": {},
   "source": [
    "# 3. Considere as especies"
   ]
  },
  {
   "cell_type": "code",
   "execution_count": 196,
   "id": "46ec5d2f",
   "metadata": {},
   "outputs": [
    {
     "data": {
      "text/plain": [
       "Adelie       146\n",
       "Gentoo       119\n",
       "Chinstrap     68\n",
       "Name: species, dtype: int64"
      ]
     },
     "execution_count": 196,
     "metadata": {},
     "output_type": "execute_result"
    }
   ],
   "source": [
    "pg.species.value_counts()"
   ]
  },
  {
   "cell_type": "code",
   "execution_count": 199,
   "id": "973621b5",
   "metadata": {},
   "outputs": [],
   "source": [
    "desvpad=pg.groupby('species')['body_mass_g'].var().mean()**.5\n",
    "media_Adelie=pg[pg['species']=='Adelie'].groupby('species')['body_mass_g'].mean()\n",
    "media_Gentoo=pg[pg['species']=='Gentoo'].groupby('species')['body_mass_g'].mean()\n",
    "media_Chinstrap=pg[pg['species']=='Chinstrap'].groupby('species')['body_mass_g'].mean()\n"
   ]
  },
  {
   "cell_type": "code",
   "execution_count": 218,
   "id": "486cd22c",
   "metadata": {},
   "outputs": [
    {
     "name": "stdout",
     "output_type": "stream",
     "text": [
      "O P-value: 0.24834 está associado a especie Adelie\n",
      "\n",
      "O P-value: 0.15056 está associado a especie Gentoo\n",
      "\n",
      "O P-value: 0.15798 está associado a especie Chinstrap\n"
     ]
    }
   ],
   "source": [
    "t_adelie=media_Adelie/desvpad*math.sqrt(1/pg.species.value_counts()[0])\n",
    "t_Gentoo=media_Gentoo/desvpad*math.sqrt(1/pg.species.value_counts()[1])\n",
    "t_Chinstrap=media_Chinstrap/desvpad*math.sqrt(1/pg.species.value_counts()[2])\n",
    "p_value_adelia=1-st.t.cdf(t_adelie,gl)\n",
    "p_value_gentoo=1-st.t.cdf(t_Gentoo,gl)\n",
    "p_value_chinstrap=1-st.t.cdf(t_Chinstrap,gl)\n",
    "print(f'O P-value: {float(p_value_adelia):.5f} está associado a especie Adelie\\n')\n",
    "print(f'O P-value: {float(p_value_gentoo):.5f} está associado a especie Gentoo\\n')\n",
    "print(f'O P-value: {float(p_value_chinstrap):.5f} está associado a especie Chinstrap')"
   ]
  }
 ],
 "metadata": {
  "kernelspec": {
   "display_name": "Python 3 (ipykernel)",
   "language": "python",
   "name": "python3"
  },
  "language_info": {
   "codemirror_mode": {
    "name": "ipython",
    "version": 3
   },
   "file_extension": ".py",
   "mimetype": "text/x-python",
   "name": "python",
   "nbconvert_exporter": "python",
   "pygments_lexer": "ipython3",
   "version": "3.9.12"
  }
 },
 "nbformat": 4,
 "nbformat_minor": 5
}
