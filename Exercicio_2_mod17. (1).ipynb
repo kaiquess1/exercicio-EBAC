{
 "cells": [
  {
   "cell_type": "code",
   "execution_count": 32,
   "id": "a2581afb",
   "metadata": {},
   "outputs": [],
   "source": [
    "import pandas as pd\n",
    "import seaborn as sns\n",
    "import numpy as np\n",
    "import matplotlib.pyplot as plt\n",
    "import numpy as np\n",
    "from sklearn.tree import DecisionTreeRegressor\n",
    "from sklearn.model_selection import train_test_split\n",
    "from sklearn.metrics import confusion_matrix\n",
    "from sklearn.tree import DecisionTreeClassifier\n",
    "from sklearn.model_selection import GridSearchCV\n",
    "from sklearn.metrics import ConfusionMatrixDisplay"
   ]
  },
  {
   "cell_type": "markdown",
   "id": "103139b9",
   "metadata": {},
   "source": [
    "# 1. Carregando as bases"
   ]
  },
  {
   "cell_type": "code",
   "execution_count": 7,
   "id": "4b682ae1",
   "metadata": {},
   "outputs": [
    {
     "data": {
      "text/plain": [
       "0       5\n",
       "1       5\n",
       "2       5\n",
       "3       5\n",
       "4       5\n",
       "       ..\n",
       "2942    2\n",
       "2943    2\n",
       "2944    2\n",
       "2945    2\n",
       "2946    2\n",
       "Name: 0, Length: 2947, dtype: int64"
      ]
     },
     "execution_count": 7,
     "metadata": {},
     "output_type": "execute_result"
    }
   ],
   "source": [
    "X_treino=pd.read_csv('X_train.csv')\n",
    "X_valida=pd.read_csv('X_test.csv')\n",
    "y_treino=pd.read_csv('y_train.csv')\n",
    "y_valida=pd.read_csv('y_test.csv')\n",
    "features=pd.read_csv('features.txt',header=None, delim_whitespace=True)\n",
    "X_treino.drop(columns=['Unnamed: 0','ID'],inplace=True)\n",
    "X_valida.drop(columns=['Unnamed: 0','ID'],inplace=True)\n",
    "y_valida=y_valida['0']\n",
    "y_treino=y_treino['0']\n",
    "y_valida"
   ]
  },
  {
   "cell_type": "markdown",
   "id": "e67d1e67",
   "metadata": {},
   "source": [
    "# 2. Divisão das bases em treino,validação e teste"
   ]
  },
  {
   "cell_type": "code",
   "execution_count": 3,
   "id": "f337d30a",
   "metadata": {},
   "outputs": [
    {
     "name": "stdout",
     "output_type": "stream",
     "text": [
      "(5514, 561)\n",
      "(1838, 561)\n",
      "(5514, 2)\n",
      "(1838, 2)\n"
     ]
    },
    {
     "data": {
      "text/plain": [
       "(None, None, None, None)"
      ]
     },
     "execution_count": 3,
     "metadata": {},
     "output_type": "execute_result"
    }
   ],
   "source": [
    "X_train, X_test, y_train, y_test = train_test_split(X_treino,y_treino,test_size=0.25,random_state=42)\n",
    "print(X_train.shape), print(X_test.shape), print(y_train.shape), print(y_test.shape)"
   ]
  },
  {
   "cell_type": "markdown",
   "id": "2715d6d7",
   "metadata": {},
   "source": [
    "# 3. Melhores três variavéis"
   ]
  },
  {
   "cell_type": "code",
   "execution_count": 8,
   "id": "56041ad6",
   "metadata": {},
   "outputs": [],
   "source": [
    "reg=DecisionTreeClassifier(max_depth=4,random_state=42)\n",
    "reg=reg.fit(X_treino,y_treino)\n",
    "importancias = reg.feature_importances_"
   ]
  },
  {
   "cell_type": "code",
   "execution_count": 10,
   "id": "0af57871",
   "metadata": {},
   "outputs": [],
   "source": [
    "nome_coluna=features"
   ]
  },
  {
   "cell_type": "code",
   "execution_count": 11,
   "id": "532a2d2a",
   "metadata": {},
   "outputs": [
    {
     "data": {
      "text/html": [
       "<div>\n",
       "<style scoped>\n",
       "    .dataframe tbody tr th:only-of-type {\n",
       "        vertical-align: middle;\n",
       "    }\n",
       "\n",
       "    .dataframe tbody tr th {\n",
       "        vertical-align: top;\n",
       "    }\n",
       "\n",
       "    .dataframe thead th {\n",
       "        text-align: right;\n",
       "    }\n",
       "</style>\n",
       "<table border=\"1\" class=\"dataframe\">\n",
       "  <thead>\n",
       "    <tr style=\"text-align: right;\">\n",
       "      <th></th>\n",
       "      <th>0</th>\n",
       "    </tr>\n",
       "  </thead>\n",
       "  <tbody>\n",
       "    <tr>\n",
       "      <th>(53, tGravityAcc-min()-X)</th>\n",
       "      <td>0.283674</td>\n",
       "    </tr>\n",
       "    <tr>\n",
       "      <th>(390, fBodyAccJerk-bandsEnergy()-1,16)</th>\n",
       "      <td>0.254900</td>\n",
       "    </tr>\n",
       "    <tr>\n",
       "      <th>(560, angle(Y,gravityMean))</th>\n",
       "      <td>0.166670</td>\n",
       "    </tr>\n",
       "  </tbody>\n",
       "</table>\n",
       "</div>"
      ],
      "text/plain": [
       "                                               0\n",
       "(53, tGravityAcc-min()-X)               0.283674\n",
       "(390, fBodyAccJerk-bandsEnergy()-1,16)  0.254900\n",
       "(560, angle(Y,gravityMean))             0.166670"
      ]
     },
     "execution_count": 11,
     "metadata": {},
     "output_type": "execute_result"
    }
   ],
   "source": [
    "importancia=pd.DataFrame(importancias,index=nome_coluna)\n",
    "importancia.sort_values(by=0,ascending=False).head(3)"
   ]
  },
  {
   "cell_type": "markdown",
   "id": "75144675",
   "metadata": {},
   "source": [
    "# 4. Construindo uma árvore com as três melhores variavéis"
   ]
  },
  {
   "cell_type": "code",
   "execution_count": 12,
   "id": "76b1693b",
   "metadata": {},
   "outputs": [],
   "source": [
    "x_melhores_var=X_valida[['tGravityAcc-min()-X','fBodyAcc-mean()-X','angle(Y,gravityMean)']]\n"
   ]
  },
  {
   "cell_type": "code",
   "execution_count": 21,
   "id": "72622fe0",
   "metadata": {},
   "outputs": [],
   "source": [
    "clfs=DecisionTreeClassifier(max_depth=4,random_state=42)\n",
    "path=clfs.cost_complexity_pruning_path(x_melhores_var,y_valida)\n",
    "ccp_alphas,impurities = path.ccp_alphas,path.impurities"
   ]
  },
  {
   "cell_type": "code",
   "execution_count": 14,
   "id": "1de10bb3",
   "metadata": {},
   "outputs": [],
   "source": [
    "#clfs=[]\n",
    "#for ccp_alpha in ccp_alphas:\n",
    "#    clf=DecisionTreeClassifier(random_state=42,ccp_alpha=ccp_alpha).fit(x_melhores_var,y_valida)\n",
    "#    clfs.append(clf)"
   ]
  },
  {
   "cell_type": "code",
   "execution_count": 15,
   "id": "2ca886b2",
   "metadata": {},
   "outputs": [
    {
     "data": {
      "text/plain": [
       "array([0.        , 0.00253833, 0.01151209, 0.01464974, 0.03994565,\n",
       "       0.0405901 , 0.07715269, 0.16695651, 0.17899142])"
      ]
     },
     "execution_count": 15,
     "metadata": {},
     "output_type": "execute_result"
    }
   ],
   "source": [
    "ccp_alpha=np.unique(ccp_alphas[ccp_alphas>=0])\n",
    "ccp_alpha"
   ]
  },
  {
   "cell_type": "code",
   "execution_count": 16,
   "id": "2b3ece11",
   "metadata": {},
   "outputs": [],
   "source": [
    "grid_parametros={'ccp_alpha':ccp_alpha}"
   ]
  },
  {
   "cell_type": "code",
   "execution_count": 22,
   "id": "a5690ac7",
   "metadata": {},
   "outputs": [
    {
     "name": "stdout",
     "output_type": "stream",
     "text": [
      "Fitting 10 folds for each of 9 candidates, totalling 90 fits\n",
      "[CV 1/10; 1/9] START ccp_alpha=0.0..............................................\n",
      "[CV 1/10; 1/9] END ............................ccp_alpha=0.0; total time=   0.0s\n",
      "[CV 2/10; 1/9] START ccp_alpha=0.0..............................................\n",
      "[CV 2/10; 1/9] END ............................ccp_alpha=0.0; total time=   0.0s\n",
      "[CV 3/10; 1/9] START ccp_alpha=0.0..............................................\n",
      "[CV 3/10; 1/9] END ............................ccp_alpha=0.0; total time=   0.0s\n",
      "[CV 4/10; 1/9] START ccp_alpha=0.0..............................................\n",
      "[CV 4/10; 1/9] END ............................ccp_alpha=0.0; total time=   0.0s\n",
      "[CV 5/10; 1/9] START ccp_alpha=0.0..............................................\n",
      "[CV 5/10; 1/9] END ............................ccp_alpha=0.0; total time=   0.0s\n",
      "[CV 6/10; 1/9] START ccp_alpha=0.0..............................................\n",
      "[CV 6/10; 1/9] END ............................ccp_alpha=0.0; total time=   0.0s\n",
      "[CV 7/10; 1/9] START ccp_alpha=0.0..............................................\n",
      "[CV 7/10; 1/9] END ............................ccp_alpha=0.0; total time=   0.0s\n",
      "[CV 8/10; 1/9] START ccp_alpha=0.0..............................................\n",
      "[CV 8/10; 1/9] END ............................ccp_alpha=0.0; total time=   0.0s\n",
      "[CV 9/10; 1/9] START ccp_alpha=0.0..............................................\n",
      "[CV 9/10; 1/9] END ............................ccp_alpha=0.0; total time=   0.0s\n",
      "[CV 10/10; 1/9] START ccp_alpha=0.0.............................................\n",
      "[CV 10/10; 1/9] END ...........................ccp_alpha=0.0; total time=   0.0s\n",
      "[CV 1/10; 2/9] START ccp_alpha=0.002538331200893359.............................\n",
      "[CV 1/10; 2/9] END ...........ccp_alpha=0.002538331200893359; total time=   0.0s\n",
      "[CV 2/10; 2/9] START ccp_alpha=0.002538331200893359.............................\n",
      "[CV 2/10; 2/9] END ...........ccp_alpha=0.002538331200893359; total time=   0.0s\n",
      "[CV 3/10; 2/9] START ccp_alpha=0.002538331200893359.............................\n",
      "[CV 3/10; 2/9] END ...........ccp_alpha=0.002538331200893359; total time=   0.0s\n",
      "[CV 4/10; 2/9] START ccp_alpha=0.002538331200893359.............................\n",
      "[CV 4/10; 2/9] END ...........ccp_alpha=0.002538331200893359; total time=   0.0s\n",
      "[CV 5/10; 2/9] START ccp_alpha=0.002538331200893359.............................\n",
      "[CV 5/10; 2/9] END ...........ccp_alpha=0.002538331200893359; total time=   0.0s\n",
      "[CV 6/10; 2/9] START ccp_alpha=0.002538331200893359.............................\n",
      "[CV 6/10; 2/9] END ...........ccp_alpha=0.002538331200893359; total time=   0.0s\n",
      "[CV 7/10; 2/9] START ccp_alpha=0.002538331200893359.............................\n",
      "[CV 7/10; 2/9] END ...........ccp_alpha=0.002538331200893359; total time=   0.0s\n",
      "[CV 8/10; 2/9] START ccp_alpha=0.002538331200893359.............................\n",
      "[CV 8/10; 2/9] END ...........ccp_alpha=0.002538331200893359; total time=   0.0s\n",
      "[CV 9/10; 2/9] START ccp_alpha=0.002538331200893359.............................\n",
      "[CV 9/10; 2/9] END ...........ccp_alpha=0.002538331200893359; total time=   0.0s\n",
      "[CV 10/10; 2/9] START ccp_alpha=0.002538331200893359............................\n",
      "[CV 10/10; 2/9] END ..........ccp_alpha=0.002538331200893359; total time=   0.0s\n",
      "[CV 1/10; 3/9] START ccp_alpha=0.011512094353998928.............................\n",
      "[CV 1/10; 3/9] END ...........ccp_alpha=0.011512094353998928; total time=   0.0s\n",
      "[CV 2/10; 3/9] START ccp_alpha=0.011512094353998928.............................\n",
      "[CV 2/10; 3/9] END ...........ccp_alpha=0.011512094353998928; total time=   0.0s\n",
      "[CV 3/10; 3/9] START ccp_alpha=0.011512094353998928.............................\n",
      "[CV 3/10; 3/9] END ...........ccp_alpha=0.011512094353998928; total time=   0.0s\n",
      "[CV 4/10; 3/9] START ccp_alpha=0.011512094353998928.............................\n",
      "[CV 4/10; 3/9] END ...........ccp_alpha=0.011512094353998928; total time=   0.0s\n",
      "[CV 5/10; 3/9] START ccp_alpha=0.011512094353998928.............................\n",
      "[CV 5/10; 3/9] END ...........ccp_alpha=0.011512094353998928; total time=   0.0s\n",
      "[CV 6/10; 3/9] START ccp_alpha=0.011512094353998928.............................\n",
      "[CV 6/10; 3/9] END ...........ccp_alpha=0.011512094353998928; total time=   0.0s\n",
      "[CV 7/10; 3/9] START ccp_alpha=0.011512094353998928.............................\n",
      "[CV 7/10; 3/9] END ...........ccp_alpha=0.011512094353998928; total time=   0.0s\n",
      "[CV 8/10; 3/9] START ccp_alpha=0.011512094353998928.............................\n",
      "[CV 8/10; 3/9] END ...........ccp_alpha=0.011512094353998928; total time=   0.0s\n",
      "[CV 9/10; 3/9] START ccp_alpha=0.011512094353998928.............................\n",
      "[CV 9/10; 3/9] END ...........ccp_alpha=0.011512094353998928; total time=   0.0s\n",
      "[CV 10/10; 3/9] START ccp_alpha=0.011512094353998928............................\n",
      "[CV 10/10; 3/9] END ..........ccp_alpha=0.011512094353998928; total time=   0.0s\n",
      "[CV 1/10; 4/9] START ccp_alpha=0.014649740245760799.............................\n",
      "[CV 1/10; 4/9] END ...........ccp_alpha=0.014649740245760799; total time=   0.0s\n",
      "[CV 2/10; 4/9] START ccp_alpha=0.014649740245760799.............................\n",
      "[CV 2/10; 4/9] END ...........ccp_alpha=0.014649740245760799; total time=   0.0s\n",
      "[CV 3/10; 4/9] START ccp_alpha=0.014649740245760799.............................\n",
      "[CV 3/10; 4/9] END ...........ccp_alpha=0.014649740245760799; total time=   0.0s\n",
      "[CV 4/10; 4/9] START ccp_alpha=0.014649740245760799.............................\n",
      "[CV 4/10; 4/9] END ...........ccp_alpha=0.014649740245760799; total time=   0.0s\n",
      "[CV 5/10; 4/9] START ccp_alpha=0.014649740245760799.............................\n",
      "[CV 5/10; 4/9] END ...........ccp_alpha=0.014649740245760799; total time=   0.0s\n",
      "[CV 6/10; 4/9] START ccp_alpha=0.014649740245760799.............................\n",
      "[CV 6/10; 4/9] END ...........ccp_alpha=0.014649740245760799; total time=   0.0s\n",
      "[CV 7/10; 4/9] START ccp_alpha=0.014649740245760799.............................\n",
      "[CV 7/10; 4/9] END ...........ccp_alpha=0.014649740245760799; total time=   0.0s\n",
      "[CV 8/10; 4/9] START ccp_alpha=0.014649740245760799.............................\n",
      "[CV 8/10; 4/9] END ...........ccp_alpha=0.014649740245760799; total time=   0.0s\n",
      "[CV 9/10; 4/9] START ccp_alpha=0.014649740245760799.............................\n",
      "[CV 9/10; 4/9] END ...........ccp_alpha=0.014649740245760799; total time=   0.0s\n",
      "[CV 10/10; 4/9] START ccp_alpha=0.014649740245760799............................\n",
      "[CV 10/10; 4/9] END ..........ccp_alpha=0.014649740245760799; total time=   0.0s\n",
      "[CV 1/10; 5/9] START ccp_alpha=0.03994564777693538..............................\n",
      "[CV 1/10; 5/9] END ............ccp_alpha=0.03994564777693538; total time=   0.0s\n",
      "[CV 2/10; 5/9] START ccp_alpha=0.03994564777693538..............................\n",
      "[CV 2/10; 5/9] END ............ccp_alpha=0.03994564777693538; total time=   0.0s\n",
      "[CV 3/10; 5/9] START ccp_alpha=0.03994564777693538..............................\n",
      "[CV 3/10; 5/9] END ............ccp_alpha=0.03994564777693538; total time=   0.0s\n",
      "[CV 4/10; 5/9] START ccp_alpha=0.03994564777693538..............................\n",
      "[CV 4/10; 5/9] END ............ccp_alpha=0.03994564777693538; total time=   0.0s\n",
      "[CV 5/10; 5/9] START ccp_alpha=0.03994564777693538..............................\n",
      "[CV 5/10; 5/9] END ............ccp_alpha=0.03994564777693538; total time=   0.0s\n",
      "[CV 6/10; 5/9] START ccp_alpha=0.03994564777693538..............................\n",
      "[CV 6/10; 5/9] END ............ccp_alpha=0.03994564777693538; total time=   0.0s\n",
      "[CV 7/10; 5/9] START ccp_alpha=0.03994564777693538..............................\n",
      "[CV 7/10; 5/9] END ............ccp_alpha=0.03994564777693538; total time=   0.0s\n",
      "[CV 8/10; 5/9] START ccp_alpha=0.03994564777693538..............................\n",
      "[CV 8/10; 5/9] END ............ccp_alpha=0.03994564777693538; total time=   0.0s\n",
      "[CV 9/10; 5/9] START ccp_alpha=0.03994564777693538..............................\n",
      "[CV 9/10; 5/9] END ............ccp_alpha=0.03994564777693538; total time=   0.0s\n",
      "[CV 10/10; 5/9] START ccp_alpha=0.03994564777693538.............................\n",
      "[CV 10/10; 5/9] END ...........ccp_alpha=0.03994564777693538; total time=   0.0s\n",
      "[CV 1/10; 6/9] START ccp_alpha=0.040590096374256424.............................\n",
      "[CV 1/10; 6/9] END ...........ccp_alpha=0.040590096374256424; total time=   0.0s\n",
      "[CV 2/10; 6/9] START ccp_alpha=0.040590096374256424.............................\n",
      "[CV 2/10; 6/9] END ...........ccp_alpha=0.040590096374256424; total time=   0.0s\n",
      "[CV 3/10; 6/9] START ccp_alpha=0.040590096374256424.............................\n",
      "[CV 3/10; 6/9] END ...........ccp_alpha=0.040590096374256424; total time=   0.0s\n",
      "[CV 4/10; 6/9] START ccp_alpha=0.040590096374256424.............................\n",
      "[CV 4/10; 6/9] END ...........ccp_alpha=0.040590096374256424; total time=   0.0s\n",
      "[CV 5/10; 6/9] START ccp_alpha=0.040590096374256424.............................\n",
      "[CV 5/10; 6/9] END ...........ccp_alpha=0.040590096374256424; total time=   0.0s\n",
      "[CV 6/10; 6/9] START ccp_alpha=0.040590096374256424.............................\n",
      "[CV 6/10; 6/9] END ...........ccp_alpha=0.040590096374256424; total time=   0.0s\n",
      "[CV 7/10; 6/9] START ccp_alpha=0.040590096374256424.............................\n",
      "[CV 7/10; 6/9] END ...........ccp_alpha=0.040590096374256424; total time=   0.0s\n",
      "[CV 8/10; 6/9] START ccp_alpha=0.040590096374256424.............................\n",
      "[CV 8/10; 6/9] END ...........ccp_alpha=0.040590096374256424; total time=   0.0s\n",
      "[CV 9/10; 6/9] START ccp_alpha=0.040590096374256424.............................\n",
      "[CV 9/10; 6/9] END ...........ccp_alpha=0.040590096374256424; total time=   0.0s\n",
      "[CV 10/10; 6/9] START ccp_alpha=0.040590096374256424............................\n",
      "[CV 10/10; 6/9] END ..........ccp_alpha=0.040590096374256424; total time=   0.0s\n",
      "[CV 1/10; 7/9] START ccp_alpha=0.07715268565273038..............................\n",
      "[CV 1/10; 7/9] END ............ccp_alpha=0.07715268565273038; total time=   0.0s\n",
      "[CV 2/10; 7/9] START ccp_alpha=0.07715268565273038..............................\n",
      "[CV 2/10; 7/9] END ............ccp_alpha=0.07715268565273038; total time=   0.0s\n",
      "[CV 3/10; 7/9] START ccp_alpha=0.07715268565273038..............................\n",
      "[CV 3/10; 7/9] END ............ccp_alpha=0.07715268565273038; total time=   0.0s\n",
      "[CV 4/10; 7/9] START ccp_alpha=0.07715268565273038..............................\n",
      "[CV 4/10; 7/9] END ............ccp_alpha=0.07715268565273038; total time=   0.0s\n",
      "[CV 5/10; 7/9] START ccp_alpha=0.07715268565273038..............................\n",
      "[CV 5/10; 7/9] END ............ccp_alpha=0.07715268565273038; total time=   0.0s\n",
      "[CV 6/10; 7/9] START ccp_alpha=0.07715268565273038..............................\n",
      "[CV 6/10; 7/9] END ............ccp_alpha=0.07715268565273038; total time=   0.0s\n",
      "[CV 7/10; 7/9] START ccp_alpha=0.07715268565273038..............................\n",
      "[CV 7/10; 7/9] END ............ccp_alpha=0.07715268565273038; total time=   0.0s\n",
      "[CV 8/10; 7/9] START ccp_alpha=0.07715268565273038..............................\n",
      "[CV 8/10; 7/9] END ............ccp_alpha=0.07715268565273038; total time=   0.0s\n",
      "[CV 9/10; 7/9] START ccp_alpha=0.07715268565273038..............................\n",
      "[CV 9/10; 7/9] END ............ccp_alpha=0.07715268565273038; total time=   0.0s\n",
      "[CV 10/10; 7/9] START ccp_alpha=0.07715268565273038.............................\n",
      "[CV 10/10; 7/9] END ...........ccp_alpha=0.07715268565273038; total time=   0.0s\n",
      "[CV 1/10; 8/9] START ccp_alpha=0.16695651453756688..............................\n",
      "[CV 1/10; 8/9] END ............ccp_alpha=0.16695651453756688; total time=   0.0s\n",
      "[CV 2/10; 8/9] START ccp_alpha=0.16695651453756688..............................\n",
      "[CV 2/10; 8/9] END ............ccp_alpha=0.16695651453756688; total time=   0.0s\n",
      "[CV 3/10; 8/9] START ccp_alpha=0.16695651453756688..............................\n",
      "[CV 3/10; 8/9] END ............ccp_alpha=0.16695651453756688; total time=   0.0s\n",
      "[CV 4/10; 8/9] START ccp_alpha=0.16695651453756688..............................\n",
      "[CV 4/10; 8/9] END ............ccp_alpha=0.16695651453756688; total time=   0.0s\n",
      "[CV 5/10; 8/9] START ccp_alpha=0.16695651453756688..............................\n",
      "[CV 5/10; 8/9] END ............ccp_alpha=0.16695651453756688; total time=   0.0s\n",
      "[CV 6/10; 8/9] START ccp_alpha=0.16695651453756688..............................\n",
      "[CV 6/10; 8/9] END ............ccp_alpha=0.16695651453756688; total time=   0.0s\n",
      "[CV 7/10; 8/9] START ccp_alpha=0.16695651453756688..............................\n",
      "[CV 7/10; 8/9] END ............ccp_alpha=0.16695651453756688; total time=   0.0s\n",
      "[CV 8/10; 8/9] START ccp_alpha=0.16695651453756688..............................\n",
      "[CV 8/10; 8/9] END ............ccp_alpha=0.16695651453756688; total time=   0.0s\n",
      "[CV 9/10; 8/9] START ccp_alpha=0.16695651453756688..............................\n",
      "[CV 9/10; 8/9] END ............ccp_alpha=0.16695651453756688; total time=   0.0s\n",
      "[CV 10/10; 8/9] START ccp_alpha=0.16695651453756688.............................\n",
      "[CV 10/10; 8/9] END ...........ccp_alpha=0.16695651453756688; total time=   0.0s\n",
      "[CV 1/10; 9/9] START ccp_alpha=0.1789914162845193...............................\n",
      "[CV 1/10; 9/9] END .............ccp_alpha=0.1789914162845193; total time=   0.0s\n",
      "[CV 2/10; 9/9] START ccp_alpha=0.1789914162845193...............................\n",
      "[CV 2/10; 9/9] END .............ccp_alpha=0.1789914162845193; total time=   0.0s\n",
      "[CV 3/10; 9/9] START ccp_alpha=0.1789914162845193...............................\n",
      "[CV 3/10; 9/9] END .............ccp_alpha=0.1789914162845193; total time=   0.0s\n",
      "[CV 4/10; 9/9] START ccp_alpha=0.1789914162845193...............................\n",
      "[CV 4/10; 9/9] END .............ccp_alpha=0.1789914162845193; total time=   0.0s\n",
      "[CV 5/10; 9/9] START ccp_alpha=0.1789914162845193...............................\n",
      "[CV 5/10; 9/9] END .............ccp_alpha=0.1789914162845193; total time=   0.0s\n",
      "[CV 6/10; 9/9] START ccp_alpha=0.1789914162845193...............................\n",
      "[CV 6/10; 9/9] END .............ccp_alpha=0.1789914162845193; total time=   0.0s\n",
      "[CV 7/10; 9/9] START ccp_alpha=0.1789914162845193...............................\n",
      "[CV 7/10; 9/9] END .............ccp_alpha=0.1789914162845193; total time=   0.0s\n",
      "[CV 8/10; 9/9] START ccp_alpha=0.1789914162845193...............................\n",
      "[CV 8/10; 9/9] END .............ccp_alpha=0.1789914162845193; total time=   0.0s\n",
      "[CV 9/10; 9/9] START ccp_alpha=0.1789914162845193...............................\n",
      "[CV 9/10; 9/9] END .............ccp_alpha=0.1789914162845193; total time=   0.0s\n",
      "[CV 10/10; 9/9] START ccp_alpha=0.1789914162845193..............................\n",
      "[CV 10/10; 9/9] END ............ccp_alpha=0.1789914162845193; total time=   0.0s\n"
     ]
    },
    {
     "data": {
      "text/plain": [
       "GridSearchCV(cv=10,\n",
       "             estimator=DecisionTreeClassifier(max_depth=4, random_state=42),\n",
       "             param_grid={'ccp_alpha': array([0.        , 0.00253833, 0.01151209, 0.01464974, 0.03994565,\n",
       "       0.0405901 , 0.07715269, 0.16695651, 0.17899142])},\n",
       "             verbose=100)"
      ]
     },
     "execution_count": 22,
     "metadata": {},
     "output_type": "execute_result"
    }
   ],
   "source": [
    "grid=GridSearchCV(estimator=clfs,param_grid=grid_parametros,cv=10,verbose=100)\n",
    "grid.fit(x_melhores_var,y_valida)"
   ]
  },
  {
   "cell_type": "code",
   "execution_count": 23,
   "id": "713b3ae9",
   "metadata": {},
   "outputs": [
    {
     "data": {
      "text/html": [
       "<div>\n",
       "<style scoped>\n",
       "    .dataframe tbody tr th:only-of-type {\n",
       "        vertical-align: middle;\n",
       "    }\n",
       "\n",
       "    .dataframe tbody tr th {\n",
       "        vertical-align: top;\n",
       "    }\n",
       "\n",
       "    .dataframe thead th {\n",
       "        text-align: right;\n",
       "    }\n",
       "</style>\n",
       "<table border=\"1\" class=\"dataframe\">\n",
       "  <thead>\n",
       "    <tr style=\"text-align: right;\">\n",
       "      <th></th>\n",
       "      <th>mean_fit_time</th>\n",
       "      <th>std_fit_time</th>\n",
       "      <th>mean_score_time</th>\n",
       "      <th>std_score_time</th>\n",
       "      <th>param_ccp_alpha</th>\n",
       "      <th>params</th>\n",
       "      <th>split0_test_score</th>\n",
       "      <th>split1_test_score</th>\n",
       "      <th>split2_test_score</th>\n",
       "      <th>split3_test_score</th>\n",
       "      <th>split4_test_score</th>\n",
       "      <th>split5_test_score</th>\n",
       "      <th>split6_test_score</th>\n",
       "      <th>split7_test_score</th>\n",
       "      <th>split8_test_score</th>\n",
       "      <th>split9_test_score</th>\n",
       "      <th>mean_test_score</th>\n",
       "      <th>std_test_score</th>\n",
       "      <th>rank_test_score</th>\n",
       "    </tr>\n",
       "  </thead>\n",
       "  <tbody>\n",
       "    <tr>\n",
       "      <th>0</th>\n",
       "      <td>0.005896</td>\n",
       "      <td>1.135110e-03</td>\n",
       "      <td>0.001200</td>\n",
       "      <td>0.000399</td>\n",
       "      <td>0.0</td>\n",
       "      <td>{'ccp_alpha': 0.0}</td>\n",
       "      <td>0.684746</td>\n",
       "      <td>0.572881</td>\n",
       "      <td>0.708475</td>\n",
       "      <td>0.586441</td>\n",
       "      <td>0.647458</td>\n",
       "      <td>0.762712</td>\n",
       "      <td>0.722034</td>\n",
       "      <td>0.673469</td>\n",
       "      <td>0.721088</td>\n",
       "      <td>0.659864</td>\n",
       "      <td>0.673917</td>\n",
       "      <td>0.057004</td>\n",
       "      <td>3</td>\n",
       "    </tr>\n",
       "    <tr>\n",
       "      <th>1</th>\n",
       "      <td>0.005596</td>\n",
       "      <td>1.018772e-03</td>\n",
       "      <td>0.001200</td>\n",
       "      <td>0.000400</td>\n",
       "      <td>0.002538</td>\n",
       "      <td>{'ccp_alpha': 0.002538331200893359}</td>\n",
       "      <td>0.684746</td>\n",
       "      <td>0.572881</td>\n",
       "      <td>0.708475</td>\n",
       "      <td>0.586441</td>\n",
       "      <td>0.647458</td>\n",
       "      <td>0.762712</td>\n",
       "      <td>0.722034</td>\n",
       "      <td>0.673469</td>\n",
       "      <td>0.721088</td>\n",
       "      <td>0.659864</td>\n",
       "      <td>0.673917</td>\n",
       "      <td>0.057004</td>\n",
       "      <td>3</td>\n",
       "    </tr>\n",
       "    <tr>\n",
       "      <th>2</th>\n",
       "      <td>0.006296</td>\n",
       "      <td>1.268514e-03</td>\n",
       "      <td>0.001500</td>\n",
       "      <td>0.000671</td>\n",
       "      <td>0.011512</td>\n",
       "      <td>{'ccp_alpha': 0.011512094353998928}</td>\n",
       "      <td>0.684746</td>\n",
       "      <td>0.572881</td>\n",
       "      <td>0.708475</td>\n",
       "      <td>0.640678</td>\n",
       "      <td>0.647458</td>\n",
       "      <td>0.762712</td>\n",
       "      <td>0.722034</td>\n",
       "      <td>0.673469</td>\n",
       "      <td>0.724490</td>\n",
       "      <td>0.659864</td>\n",
       "      <td>0.679681</td>\n",
       "      <td>0.050939</td>\n",
       "      <td>2</td>\n",
       "    </tr>\n",
       "    <tr>\n",
       "      <th>3</th>\n",
       "      <td>0.004996</td>\n",
       "      <td>4.238221e-07</td>\n",
       "      <td>0.001201</td>\n",
       "      <td>0.000400</td>\n",
       "      <td>0.01465</td>\n",
       "      <td>{'ccp_alpha': 0.014649740245760799}</td>\n",
       "      <td>0.681356</td>\n",
       "      <td>0.559322</td>\n",
       "      <td>0.705085</td>\n",
       "      <td>0.674576</td>\n",
       "      <td>0.647458</td>\n",
       "      <td>0.762712</td>\n",
       "      <td>0.722034</td>\n",
       "      <td>0.673469</td>\n",
       "      <td>0.724490</td>\n",
       "      <td>0.700680</td>\n",
       "      <td>0.685118</td>\n",
       "      <td>0.052037</td>\n",
       "      <td>1</td>\n",
       "    </tr>\n",
       "    <tr>\n",
       "      <th>4</th>\n",
       "      <td>0.005496</td>\n",
       "      <td>1.024586e-03</td>\n",
       "      <td>0.001201</td>\n",
       "      <td>0.000401</td>\n",
       "      <td>0.039946</td>\n",
       "      <td>{'ccp_alpha': 0.03994564777693538}</td>\n",
       "      <td>0.562712</td>\n",
       "      <td>0.525424</td>\n",
       "      <td>0.542373</td>\n",
       "      <td>0.674576</td>\n",
       "      <td>0.681356</td>\n",
       "      <td>0.647458</td>\n",
       "      <td>0.722034</td>\n",
       "      <td>0.673469</td>\n",
       "      <td>0.646259</td>\n",
       "      <td>0.700680</td>\n",
       "      <td>0.637634</td>\n",
       "      <td>0.065657</td>\n",
       "      <td>5</td>\n",
       "    </tr>\n",
       "    <tr>\n",
       "      <th>5</th>\n",
       "      <td>0.005396</td>\n",
       "      <td>9.160224e-04</td>\n",
       "      <td>0.001300</td>\n",
       "      <td>0.000458</td>\n",
       "      <td>0.04059</td>\n",
       "      <td>{'ccp_alpha': 0.040590096374256424}</td>\n",
       "      <td>0.562712</td>\n",
       "      <td>0.525424</td>\n",
       "      <td>0.542373</td>\n",
       "      <td>0.674576</td>\n",
       "      <td>0.681356</td>\n",
       "      <td>0.647458</td>\n",
       "      <td>0.722034</td>\n",
       "      <td>0.673469</td>\n",
       "      <td>0.646259</td>\n",
       "      <td>0.700680</td>\n",
       "      <td>0.637634</td>\n",
       "      <td>0.065657</td>\n",
       "      <td>5</td>\n",
       "    </tr>\n",
       "    <tr>\n",
       "      <th>6</th>\n",
       "      <td>0.005296</td>\n",
       "      <td>6.398940e-04</td>\n",
       "      <td>0.001300</td>\n",
       "      <td>0.000458</td>\n",
       "      <td>0.077153</td>\n",
       "      <td>{'ccp_alpha': 0.07715268565273038}</td>\n",
       "      <td>0.572881</td>\n",
       "      <td>0.522034</td>\n",
       "      <td>0.542373</td>\n",
       "      <td>0.535593</td>\n",
       "      <td>0.532203</td>\n",
       "      <td>0.532203</td>\n",
       "      <td>0.528814</td>\n",
       "      <td>0.530612</td>\n",
       "      <td>0.530612</td>\n",
       "      <td>0.530612</td>\n",
       "      <td>0.535794</td>\n",
       "      <td>0.013279</td>\n",
       "      <td>7</td>\n",
       "    </tr>\n",
       "    <tr>\n",
       "      <th>7</th>\n",
       "      <td>0.006696</td>\n",
       "      <td>1.551993e-03</td>\n",
       "      <td>0.001599</td>\n",
       "      <td>0.000663</td>\n",
       "      <td>0.166957</td>\n",
       "      <td>{'ccp_alpha': 0.16695651453756688}</td>\n",
       "      <td>0.362712</td>\n",
       "      <td>0.362712</td>\n",
       "      <td>0.359322</td>\n",
       "      <td>0.532203</td>\n",
       "      <td>0.532203</td>\n",
       "      <td>0.532203</td>\n",
       "      <td>0.528814</td>\n",
       "      <td>0.530612</td>\n",
       "      <td>0.530612</td>\n",
       "      <td>0.530612</td>\n",
       "      <td>0.480201</td>\n",
       "      <td>0.077665</td>\n",
       "      <td>8</td>\n",
       "    </tr>\n",
       "    <tr>\n",
       "      <th>8</th>\n",
       "      <td>0.005296</td>\n",
       "      <td>6.396074e-04</td>\n",
       "      <td>0.001400</td>\n",
       "      <td>0.000490</td>\n",
       "      <td>0.178991</td>\n",
       "      <td>{'ccp_alpha': 0.1789914162845193}</td>\n",
       "      <td>0.362712</td>\n",
       "      <td>0.362712</td>\n",
       "      <td>0.359322</td>\n",
       "      <td>0.183051</td>\n",
       "      <td>0.183051</td>\n",
       "      <td>0.183051</td>\n",
       "      <td>0.183051</td>\n",
       "      <td>0.183673</td>\n",
       "      <td>0.183673</td>\n",
       "      <td>0.183673</td>\n",
       "      <td>0.236797</td>\n",
       "      <td>0.081696</td>\n",
       "      <td>9</td>\n",
       "    </tr>\n",
       "  </tbody>\n",
       "</table>\n",
       "</div>"
      ],
      "text/plain": [
       "   mean_fit_time  std_fit_time  mean_score_time  std_score_time  \\\n",
       "0       0.005896  1.135110e-03         0.001200        0.000399   \n",
       "1       0.005596  1.018772e-03         0.001200        0.000400   \n",
       "2       0.006296  1.268514e-03         0.001500        0.000671   \n",
       "3       0.004996  4.238221e-07         0.001201        0.000400   \n",
       "4       0.005496  1.024586e-03         0.001201        0.000401   \n",
       "5       0.005396  9.160224e-04         0.001300        0.000458   \n",
       "6       0.005296  6.398940e-04         0.001300        0.000458   \n",
       "7       0.006696  1.551993e-03         0.001599        0.000663   \n",
       "8       0.005296  6.396074e-04         0.001400        0.000490   \n",
       "\n",
       "  param_ccp_alpha                               params  split0_test_score  \\\n",
       "0             0.0                   {'ccp_alpha': 0.0}           0.684746   \n",
       "1        0.002538  {'ccp_alpha': 0.002538331200893359}           0.684746   \n",
       "2        0.011512  {'ccp_alpha': 0.011512094353998928}           0.684746   \n",
       "3         0.01465  {'ccp_alpha': 0.014649740245760799}           0.681356   \n",
       "4        0.039946   {'ccp_alpha': 0.03994564777693538}           0.562712   \n",
       "5         0.04059  {'ccp_alpha': 0.040590096374256424}           0.562712   \n",
       "6        0.077153   {'ccp_alpha': 0.07715268565273038}           0.572881   \n",
       "7        0.166957   {'ccp_alpha': 0.16695651453756688}           0.362712   \n",
       "8        0.178991    {'ccp_alpha': 0.1789914162845193}           0.362712   \n",
       "\n",
       "   split1_test_score  split2_test_score  split3_test_score  split4_test_score  \\\n",
       "0           0.572881           0.708475           0.586441           0.647458   \n",
       "1           0.572881           0.708475           0.586441           0.647458   \n",
       "2           0.572881           0.708475           0.640678           0.647458   \n",
       "3           0.559322           0.705085           0.674576           0.647458   \n",
       "4           0.525424           0.542373           0.674576           0.681356   \n",
       "5           0.525424           0.542373           0.674576           0.681356   \n",
       "6           0.522034           0.542373           0.535593           0.532203   \n",
       "7           0.362712           0.359322           0.532203           0.532203   \n",
       "8           0.362712           0.359322           0.183051           0.183051   \n",
       "\n",
       "   split5_test_score  split6_test_score  split7_test_score  split8_test_score  \\\n",
       "0           0.762712           0.722034           0.673469           0.721088   \n",
       "1           0.762712           0.722034           0.673469           0.721088   \n",
       "2           0.762712           0.722034           0.673469           0.724490   \n",
       "3           0.762712           0.722034           0.673469           0.724490   \n",
       "4           0.647458           0.722034           0.673469           0.646259   \n",
       "5           0.647458           0.722034           0.673469           0.646259   \n",
       "6           0.532203           0.528814           0.530612           0.530612   \n",
       "7           0.532203           0.528814           0.530612           0.530612   \n",
       "8           0.183051           0.183051           0.183673           0.183673   \n",
       "\n",
       "   split9_test_score  mean_test_score  std_test_score  rank_test_score  \n",
       "0           0.659864         0.673917        0.057004                3  \n",
       "1           0.659864         0.673917        0.057004                3  \n",
       "2           0.659864         0.679681        0.050939                2  \n",
       "3           0.700680         0.685118        0.052037                1  \n",
       "4           0.700680         0.637634        0.065657                5  \n",
       "5           0.700680         0.637634        0.065657                5  \n",
       "6           0.530612         0.535794        0.013279                7  \n",
       "7           0.530612         0.480201        0.077665                8  \n",
       "8           0.183673         0.236797        0.081696                9  "
      ]
     },
     "execution_count": 23,
     "metadata": {},
     "output_type": "execute_result"
    }
   ],
   "source": [
    "resultados=pd.DataFrame(grid.cv_results_)\n",
    "resultados"
   ]
  },
  {
   "cell_type": "code",
   "execution_count": 27,
   "id": "1e64c6f4",
   "metadata": {},
   "outputs": [
    {
     "name": "stdout",
     "output_type": "stream",
     "text": [
      "O melhor ccp_alpha é : 0.014649740245760799\n"
     ]
    }
   ],
   "source": [
    "melhor_ccp=resultados.iloc[grid.best_index_,4]\n",
    "print(f'O melhor ccp_alpha é :',melhor_ccp)"
   ]
  },
  {
   "cell_type": "markdown",
   "id": "aaf84e23",
   "metadata": {},
   "source": [
    "# 5. Avaliando o modelo"
   ]
  },
  {
   "cell_type": "code",
   "execution_count": 26,
   "id": "bffc765a",
   "metadata": {},
   "outputs": [],
   "source": [
    "clf=DecisionTreeClassifier(random_state=42,ccp_alpha=melhor_ccp).fit(x_melhores_var,y_valida)"
   ]
  },
  {
   "cell_type": "code",
   "execution_count": 33,
   "id": "aa3f693d",
   "metadata": {},
   "outputs": [
    {
     "name": "stdout",
     "output_type": "stream",
     "text": [
      "[[287 168  41   0   0   0]\n",
      " [ 21 430  20   0   0   0]\n",
      " [ 24 179 217   0   0   0]\n",
      " [  0   0   0 365 126   0]\n",
      " [  0   0   0  47 485   0]\n",
      " [  0   0   0   0   0 537]]\n"
     ]
    }
   ],
   "source": [
    "y_pred=clf.predict(x_melhores_var)\n",
    "print(confusion_matrix(y_valida,y_pred))"
   ]
  },
  {
   "cell_type": "code",
   "execution_count": 34,
   "id": "4c269924",
   "metadata": {},
   "outputs": [
    {
     "data": {
      "image/png": "[encoded data removed]",
      "text/plain": [
       "<Figure size 432x288 with 2 Axes>"
      ]
     },
     "metadata": {
      "needs_background": "light"
     },
     "output_type": "display_data"
    }
   ],
   "source": [
    "cm = confusion_matrix(y_valida, y_pred, labels=clf.classes_)\n",
    "disp = ConfusionMatrixDisplay(confusion_matrix=cm, display_labels=clf.classes_)\n",
    "disp.plot()\n",
    "plt.show()"
   ]
  },
  {
   "cell_type": "code",
   "execution_count": 41,
   "id": "e1128d15",
   "metadata": {},
   "outputs": [
    {
     "name": "stdout",
     "output_type": "stream",
     "text": [
      "Acuracia do modelo é 78.76%\n"
     ]
    }
   ],
   "source": [
    "acuracia=clf.score(x_melhores_var,y_valida)\n",
    "print(f'Acuracia do modelo é %.2f%%'% (acuracia*100))"
   ]
  },
  {
   "cell_type": "markdown",
   "id": "28ffa513",
   "metadata": {},
   "source": [
    "- É possível verificar que o modelo ainda está errando muito ao classificar algumas atividades"
   ]
  }
 ],
 "metadata": {
  "kernelspec": {
   "display_name": "Python 3 (ipykernel)",
   "language": "python",
   "name": "python3"
  },
  "language_info": {
   "codemirror_mode": {
    "name": "ipython",
    "version": 3
   },
   "file_extension": ".py",
   "mimetype": "text/x-python",
   "name": "python",
   "nbconvert_exporter": "python",
   "pygments_lexer": "ipython3",
   "version": "3.9.12"
  }
 },
 "nbformat": 4,
 "nbformat_minor": 5
}
