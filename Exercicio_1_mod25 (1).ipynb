{
 "cells": [
  {
   "cell_type": "markdown",
   "id": "30eab22e",
   "metadata": {},
   "source": [
    "# 1. Método/algoritmo muito popular em ciencia de dados baseado no uso de derivada"
   ]
  },
  {
   "cell_type": "markdown",
   "id": "664374cb",
   "metadata": {},
   "source": [
    "Método Mínimos Quadrados"
   ]
  },
  {
   "cell_type": "markdown",
   "id": "cefec76e",
   "metadata": {},
   "source": [
    "# 2. Dada uma base de dados com uma variável resposta $y$ e um conjunto de variáveis explicativas. Considere uma estrutura de um modelo de regressão. Explique com suas palavras por que não é possível obter parâmetros que forneçam um erro quadrático médio (EQM) menor que o obtido com estimadores de mínimos quadrados."
   ]
  },
  {
   "cell_type": "markdown",
   "id": "a69bb806",
   "metadata": {},
   "source": [
    "Como o *método mínimos quadrados* tentar minimizar o erro ao encontrar um ponto minimo , acredito que não é possível obter um erro menor com o EQM. (Talvez minha resposta tenha sido muito objetiva mas não consegui pensar em uma outra forma. "
   ]
  }
 ],
 "metadata": {
  "kernelspec": {
   "display_name": "Python 3 (ipykernel)",
   "language": "python",
   "name": "python3"
  },
  "language_info": {
   "codemirror_mode": {
    "name": "ipython",
    "version": 3
   },
   "file_extension": ".py",
   "mimetype": "text/x-python",
   "name": "python",
   "nbconvert_exporter": "python",
   "pygments_lexer": "ipython3",
   "version": "3.9.12"
  }
 },
 "nbformat": 4,
 "nbformat_minor": 5
}
