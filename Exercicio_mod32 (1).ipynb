{
 "cells": [
  {
   "cell_type": "code",
   "execution_count": 29,
   "id": "4212068f",
   "metadata": {},
   "outputs": [],
   "source": [
    "import numpy as np\n",
    "import seaborn as sns\n",
    "import pandas as pd\n",
    "import matplotlib.pyplot as plt\n",
    "from scipy import stats\n",
    "from scipy.stats import norm\n",
    "from scipy.stats import norm, t"
   ]
  },
  {
   "cell_type": "markdown",
   "id": "e5174240",
   "metadata": {},
   "source": [
    "### 1. Uma máquina embala ração para cachorro em pacotes de 15 kg, mas cada pacote produzido acaba tendo um peso aleatório, com distribuição Normal, com média 15kg, mas com desvio padrão 0,1 kg. Obtenha a probabilidade de que um pacote selecionado aleatoriamente dessa produção tenha mais que 15,2 kg."
   ]
  },
  {
   "cell_type": "code",
   "execution_count": 30,
   "id": "a3826582",
   "metadata": {},
   "outputs": [],
   "source": [
    "X = 15.2\n",
    "media = 15\n",
    "desvio_padrao = 0.1"
   ]
  },
  {
   "cell_type": "code",
   "execution_count": 31,
   "id": "9cc633a4",
   "metadata": {},
   "outputs": [
    {
     "name": "stdout",
     "output_type": "stream",
     "text": [
      "A probabilidade do pacote aleatório ter mais que 15.2kg é de: 97.72498680518204\n"
     ]
    }
   ],
   "source": [
    "print(f'A probabilidade do pacote aleatório ter mais que 15.2kg é de:', 100*(stats.norm(media,desvio_padrao).cdf(X)))"
   ]
  },
  {
   "cell_type": "markdown",
   "id": "893b1bdf",
   "metadata": {},
   "source": [
    "### 2. Da máquina descrita acima, obtenha o percentil de ordem 95% para o peso dos pacotes. Ou seja, o valor tal que a probabilidade de um pacote ter peso menor que este seja de 95%.\n"
   ]
  },
  {
   "cell_type": "code",
   "execution_count": 33,
   "id": "c9df45a6",
   "metadata": {},
   "outputs": [
    {
     "name": "stdout",
     "output_type": "stream",
     "text": [
      "Percentil de ordem 95% para o peso dos pacotes: 15.164485362695148\n"
     ]
    }
   ],
   "source": [
    "\n",
    "media = 15\n",
    "desvio_padrao = 0.1\n",
    "percentil_95 = norm.ppf(0.95, media, desvio_padrao)\n",
    "\n",
    "print(\"Percentil de ordem 95% para o peso dos pacotes:\", percentil_95)\n"
   ]
  },
  {
   "cell_type": "markdown",
   "id": "ad375c2f",
   "metadata": {},
   "source": [
    "### 3. Suponha duas variáveis aleatórias $Y_1$ e $Y_2$, a primeira com distribuição Normal Padrão (média=0, variância=1), a segunda com distribuição *t-studdent* com 5 graus de liberdade (também padrão). Calcule, para cada uma, a probabilidade de ser menor que cada um dos valores contidos no objeto $Y$ na célula abaixo:"
   ]
  },
  {
   "cell_type": "code",
   "execution_count": 34,
   "id": "408754ec",
   "metadata": {},
   "outputs": [
    {
     "name": "stdout",
     "output_type": "stream",
     "text": [
      "Probabilidade de Y1 ser menor que cada valor em Y:\n",
      "                 0\n",
      "0    9.865876e-10\n",
      "1    1.427734e-09\n",
      "2    2.058819e-09\n",
      "3    2.958347e-09\n",
      "4    4.235851e-09\n",
      "..            ...\n",
      "195  1.000000e+00\n",
      "196  1.000000e+00\n",
      "197  1.000000e+00\n",
      "198  1.000000e+00\n",
      "199  1.000000e+00\n",
      "\n",
      "[200 rows x 1 columns]\n",
      "\n",
      "Probabilidade de Y2 ser menor que cada valor em Y:             0\n",
      "0    0.000923\n",
      "1    0.000966\n",
      "2    0.001011\n",
      "3    0.001058\n",
      "4    0.001108\n",
      "..        ...\n",
      "195  0.998892\n",
      "196  0.998942\n",
      "197  0.998989\n",
      "198  0.999034\n",
      "199  0.999077\n",
      "\n",
      "[200 rows x 1 columns]\n"
     ]
    }
   ],
   "source": [
    "Y=np.linspace(-6, 6, 200)\n",
    "prob_normal = norm.cdf(Y, loc=0, scale=1)\n",
    "prob_t = t.cdf(Y,loc=0, scale=1, df=5)\n",
    "\n",
    "print(\"Probabilidade de Y1 ser menor que cada valor em Y:\\n\", pd.DataFrame(prob_normal))\n",
    "print(\"\\nProbabilidade de Y2 ser menor que cada valor em Y:\", pd.DataFrame(prob_t))\n"
   ]
  },
  {
   "cell_type": "markdown",
   "id": "64212b0d",
   "metadata": {},
   "source": [
    "###  4. Visualização gráfica "
   ]
  },
  {
   "cell_type": "code",
   "execution_count": 36,
   "id": "90ae8967",
   "metadata": {},
   "outputs": [
    {
     "data": {
      "image/png": "[encoded data removed]",
      "text/plain": [
       "<Figure size 432x288 with 1 Axes>"
      ]
     },
     "metadata": {
      "needs_background": "light"
     },
     "output_type": "display_data"
    }
   ],
   "source": [
    "Y = np.array([-1, 0, 1, 2])\n",
    "prob_normal = norm.cdf(Y, loc=0, scale=1)\n",
    "prob_t = t.cdf(Y, df=5)\n",
    "\n",
    "fig, ax = plt.subplots()\n",
    "ax.bar(Y, prob_normal, width=0.3, label='Y1 (Normal Padrão)')\n",
    "ax.bar(Y + 0.3, prob_t, width=0.3, label='Y2 (t-Student, df=5)')\n",
    "\n",
    "ax.set_xlabel('Valores de Y')\n",
    "ax.set_ylabel('Probabilidade')\n",
    "ax.set_title('Probabilidade de ser menor que cada valor em Y')\n",
    "ax.legend()\n",
    "\n",
    "\n",
    "plt.show()\n"
   ]
  },
  {
   "cell_type": "markdown",
   "id": "d2330287",
   "metadata": {},
   "source": [
    "### 5. Calcular o percentil"
   ]
  },
  {
   "cell_type": "code",
   "execution_count": 25,
   "id": "21d26bcb",
   "metadata": {},
   "outputs": [
    {
     "name": "stdout",
     "output_type": "stream",
     "text": [
      "Probabilidade de Y1 ser menor que cada valor em Y:\n",
      "            0\n",
      "0   0.500000\n",
      "1   0.520987\n",
      "2   0.541917\n",
      "3   0.562730\n",
      "4   0.583372\n",
      "5   0.603786\n",
      "6   0.623919\n",
      "7   0.643720\n",
      "8   0.663142\n",
      "9   0.682137\n",
      "10  0.700666\n",
      "11  0.718688\n",
      "12  0.736169\n",
      "13  0.753079\n",
      "14  0.769391\n",
      "15  0.785082\n",
      "16  0.800135\n",
      "17  0.814536\n",
      "18  0.828274\n",
      "19  0.841345\n",
      "\n",
      "Probabilidade de Y2 ser menor que cada valor em Y:            0\n",
      "0   0.500000\n",
      "1   0.519968\n",
      "2   0.539870\n",
      "3   0.559641\n",
      "4   0.579216\n",
      "5   0.598536\n",
      "6   0.617541\n",
      "7   0.636178\n",
      "8   0.654398\n",
      "9   0.672157\n",
      "10  0.689414\n",
      "11  0.706137\n",
      "12  0.722297\n",
      "13  0.737870\n",
      "14  0.752841\n",
      "15  0.767196\n",
      "16  0.780930\n",
      "17  0.794038\n",
      "18  0.806523\n",
      "19  0.818391\n"
     ]
    }
   ],
   "source": [
    "P=np.linspace(0, 1, 20)\n",
    "coluna=['A','B','C','D','E','F','G','I','H','J','K','L','M','N','O','P','Q','R','S','T']\n",
    "P=pd.DataFrame(P,coluna)\n",
    "\n",
    "\n",
    "prob_normal = norm.cdf(P, loc=0, scale=1)\n",
    "norm.ppf(prob_normal)\n",
    "\n",
    "prob_t = t.cdf(P,loc=0, scale=1, df=5)\n",
    "\n",
    "print(\"Probabilidade de Y1 ser menor que cada valor em Y:\\n\", pd.DataFrame(prob_normal))\n",
    "print(\"\\nProbabilidade de Y2 ser menor que cada valor em Y:\", pd.DataFrame(prob_t))\n"
   ]
  },
  {
   "cell_type": "code",
   "execution_count": 20,
   "id": "3ed459d9",
   "metadata": {},
   "outputs": [
    {
     "data": {
      "text/plain": [
       "array([0.        , 0.05263158, 0.10526316, 0.15789474, 0.21052632,\n",
       "       0.26315789, 0.31578947, 0.36842105, 0.42105263, 0.47368421,\n",
       "       0.52631579, 0.57894737, 0.63157895, 0.68421053, 0.73684211,\n",
       "       0.78947368, 0.84210526, 0.89473684, 0.94736842, 1.        ])"
      ]
     },
     "execution_count": 20,
     "metadata": {},
     "output_type": "execute_result"
    }
   ],
   "source": [
    "P=np.linspace(0, 1, 20)\n",
    "P"
   ]
  },
  {
   "cell_type": "code",
   "execution_count": 41,
   "id": "34066b27",
   "metadata": {},
   "outputs": [
    {
     "name": "stdout",
     "output_type": "stream",
     "text": [
      "Percentis para Y1 (Normal Padrão): [-1.64485363 -0.67448975  0.          0.67448975  1.64485363]\n",
      "Percentis para Y2 (t-Student, df=5): [-2.01504837e+00 -7.26686844e-01  6.97600362e-17  7.26686844e-01\n",
      "  2.01504837e+00]\n"
     ]
    }
   ],
   "source": [
    "P = np.array([.05,.25,.5,.75,.95])\n",
    "percentil_normal = norm.ppf(P, loc=0, scale=1)\n",
    "percentil_t = t.ppf(P, df=5)\n",
    "\n",
    "print(\"Percentis para Y1 (Normal Padrão):\", percentil_normal)\n",
    "print(\"Percentis para Y2 (t-Student, df=5):\", percentil_t)\n"
   ]
  },
  {
   "cell_type": "code",
   "execution_count": 42,
   "id": "a7ce058d",
   "metadata": {},
   "outputs": [
    {
     "data": {
      "image/png": "[encoded data removed]",
      "text/plain": [
       "<Figure size 432x288 with 1 Axes>"
      ]
     },
     "metadata": {
      "needs_background": "light"
     },
     "output_type": "display_data"
    }
   ],
   "source": [
    "fig, ax = plt.subplots()\n",
    "ax.bar(P, percentil_normal, width=0.3, label='Y1 (Normal Padrão)')\n",
    "ax.bar(P + 0.3, percentil_t, width=0.3, label='Y2 (t-Student, df=5)')\n",
    "\n",
    "ax.set_xlabel('Valores de Y')\n",
    "ax.set_ylabel('Probabilidade')\n",
    "ax.set_title('Probabilidade de ser menor que cada valor em Y')\n",
    "ax.legend()\n",
    "\n",
    "plt.show()\n"
   ]
  }
 ],
 "metadata": {
  "kernelspec": {
   "display_name": "Python 3 (ipykernel)",
   "language": "python",
   "name": "python3"
  },
  "language_info": {
   "codemirror_mode": {
    "name": "ipython",
    "version": 3
   },
   "file_extension": ".py",
   "mimetype": "text/x-python",
   "name": "python",
   "nbconvert_exporter": "python",
   "pygments_lexer": "ipython3",
   "version": "3.9.12"
  }
 },
 "nbformat": 4,
 "nbformat_minor": 5
}
