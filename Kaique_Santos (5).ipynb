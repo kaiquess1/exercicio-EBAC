{
  "nbformat": 4,
  "nbformat_minor": 0,
  "metadata": {
    "colab": {
      "provenance": []
    },
    "kernelspec": {
      "name": "python3",
      "display_name": "Python 3"
    },
    "language_info": {
      "name": "python"
    }
  },
  "cells": [
    {
      "cell_type": "markdown",
      "source": [
        "* ### Cinco diferenças entre Adaboost e Random Forest\n",
        "\n",
        " 1. No Random Forest temos **floresta de arvores completas** enquanto no Adaboost temos **Stumps** com apenas um profundidade e duas folhas.\n",
        " 2. Random Forest é baseado em tecnica **baggin** e Adaboost em tecnicas **boost**;\n",
        " 3. Random Forest as arvores são **independentes** e já no Adaboost os Stumps são **influenciados** pelo Stump anterior; \n",
        " 4. No Random Forest todas as arvores possuem **o mesmo peso** e no Adaboost possuem **pesos diferentes**; \n",
        " 5. No Random Forest cada arvore usa **todos os recursos** do dataset original e no Adaboost usa **um recurso** por vez; \n",
        "\n",
        "\n",
        "\n",
        "\n"
      ],
      "metadata": {
        "id": "8xGJgOgcVbBR"
      }
    },
    {
      "cell_type": "code",
      "execution_count": 3,
      "metadata": {
        "id": "cBjxl4t_zMC6"
      },
      "outputs": [],
      "source": [
        "from sklearn import datasets\n",
        "from sklearn.model_selection import train_test_split\n",
        "from sklearn.ensemble import AdaBoostClassifier\n",
        "from sklearn.tree import DecisionTreeClassifier\n",
        "from sklearn.metrics import accuracy_score"
      ]
    },
    {
      "cell_type": "code",
      "source": [
        "X,y=datasets.load_breast_cancer(return_X_y=True)\n",
        "X_train, X_test, y_train, y_test = train_test_split(X, y, test_size=0.33,stratify=y, random_state=42)\n",
        "clf = DecisionTreeClassifier(random_state=42)\n",
        "model=clf.fit(X_train,y_train)\n",
        "y_pred=model.predict(X_test)\n",
        "previsao=accuracy_score(y_test,y_pred)\n",
        "\n",
        "print('Acurácia do modelo usando Decision Tree {:.2f}%'.format(previsao*100))"
      ],
      "metadata": {
        "colab": {
          "base_uri": "https://localhost:8080/"
        },
        "id": "HxD5595KJOoB",
        "outputId": "ce51cece-e0ab-49c3-f0c4-075bb71b2e1a"
      },
      "execution_count": 31,
      "outputs": [
        {
          "output_type": "stream",
          "name": "stdout",
          "text": [
            "Acuracia do modelo usando Decision Tree 90.43%\n"
          ]
        }
      ]
    },
    {
      "cell_type": "code",
      "source": [
        "ada=AdaBoostClassifier(n_estimators=100,learning_rate=1.6,random_state=42)\n",
        "model=ada.fit(X_train,y_train)\n",
        "y_ada=ada.predict(X_test)\n",
        "previsao2=accuracy_score(y_test,y_ada)\n",
        "\n",
        "print('Acurácia do modelo usando Adaboost {:.2f}%'.format(previsao2*100))"
      ],
      "metadata": {
        "colab": {
          "base_uri": "https://localhost:8080/"
        },
        "id": "mwrhs75TUiV3",
        "outputId": "cd242b6d-7ec6-450f-842a-8ca17e75ff32"
      },
      "execution_count": 63,
      "outputs": [
        {
          "output_type": "stream",
          "name": "stdout",
          "text": [
            "Acurácia do modelo usando Adaboost 96.81%\n"
          ]
        }
      ]
    },
    {
      "cell_type": "markdown",
      "source": [
        "* ### Cinco hyperparametros importantes do Adaboost\n",
        "\n",
        "1. estimator;\n",
        "2. n_estimators;\n",
        "3. learning_rate;\n",
        "4. algorithm;\n",
        "5. random_state;\n",
        "\n",
        "\n",
        "\n",
        "\n",
        "\n",
        "\n"
      ],
      "metadata": {
        "id": "VE8mj059cmKa"
      }
    }
  ]
}