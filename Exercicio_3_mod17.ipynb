{
 "cells": [
  {
   "cell_type": "code",
   "execution_count": 193,
   "id": "34c13daa",
   "metadata": {},
   "outputs": [],
   "source": [
    "import pandas as pd\n",
    "import seaborn as sns\n",
    "import matplotlib.pyplot as plt\n",
    "import numpy as np\n",
    "from sklearn.tree import DecisionTreeClassifier\n",
    "from sklearn.model_selection import train_test_split\n",
    "from sklearn.metrics import plot_confusion_matrix\n",
    "from sklearn.model_selection import GridSearchCV\n",
    "from sklearn.metrics import confusion_matrix,ConfusionMatrixDisplay"
   ]
  },
  {
   "cell_type": "markdown",
   "id": "598b33ce",
   "metadata": {},
   "source": [
    "# 1. Carregando as bases"
   ]
  },
  {
   "cell_type": "code",
   "execution_count": 221,
   "id": "d6dbfc23",
   "metadata": {},
   "outputs": [],
   "source": [
    "X_treino=pd.read_csv('X_train.csv')\n",
    "X_valida=pd.read_csv('X_test.csv')\n",
    "y_treino=pd.read_csv('y_train.csv')\n",
    "y_valida=pd.read_csv('y_test.csv')\n",
    "features=pd.read_csv('features.txt',header=None, delim_whitespace=True)\n",
    "X_treino.drop(columns=['Unnamed: 0','ID'],inplace=True)\n",
    "X_valida.drop(columns=['Unnamed: 0','ID'],inplace=True)\n",
    "y_valida=y_valida['0']"
   ]
  },
  {
   "cell_type": "markdown",
   "id": "a5a286c3",
   "metadata": {},
   "source": [
    "# 2. Calculando os ccp_alphas"
   ]
  },
  {
   "cell_type": "code",
   "execution_count": 196,
   "id": "9568a5b9",
   "metadata": {},
   "outputs": [],
   "source": [
    "x_melhores_var=X_treino[['tGravityAcc-min()-X','fBodyAcc-mean()-X','angle(Y,gravityMean)']]\n",
    "X_valida=X_valida[['tGravityAcc-min()-X','fBodyAcc-mean()-X','angle(Y,gravityMean)']]\n",
    "y_melhores_var=y_treino['0']"
   ]
  },
  {
   "cell_type": "markdown",
   "id": "2ad0211c",
   "metadata": {},
   "source": [
    "- Usando as três variavéis de maior importancia identificada no exercicio anterior"
   ]
  },
  {
   "cell_type": "code",
   "execution_count": 197,
   "id": "44040618",
   "metadata": {},
   "outputs": [
    {
     "name": "stdout",
     "output_type": "stream",
     "text": [
      "CPU times: total: 0 ns\n",
      "Wall time: 0 ns\n"
     ]
    }
   ],
   "source": [
    "%%time\n",
    "clf=DecisionTreeClassifier(min_samples_leaf=20,random_state=42)\n",
    "\n"
   ]
  },
  {
   "cell_type": "markdown",
   "id": "8db64c14",
   "metadata": {},
   "source": [
    "# 3. Grid Search"
   ]
  },
  {
   "cell_type": "code",
   "execution_count": 198,
   "id": "76e69079",
   "metadata": {},
   "outputs": [],
   "source": [
    "caminho=clf.cost_complexity_pruning_path(x_melhores_var,y_melhores_var)\n",
    "ccp_alphas,impurities=caminho.ccp_alphas[::10],caminho.impurities"
   ]
  },
  {
   "cell_type": "code",
   "execution_count": 199,
   "id": "f065acf8",
   "metadata": {},
   "outputs": [
    {
     "data": {
      "text/plain": [
       "array([0.00000000e+00, 1.01582623e-05, 4.75633208e-05, 1.03726254e-04,\n",
       "       1.75776346e-04, 2.75465650e-04, 5.12960437e-04, 7.71217104e-04,\n",
       "       1.09014169e-03, 2.16385984e-03, 6.88407984e-03])"
      ]
     },
     "execution_count": 199,
     "metadata": {},
     "output_type": "execute_result"
    }
   ],
   "source": [
    "ccp_alpha=np.unique(ccp_alphas[ccp_alphas>=0])\n",
    "ccp_alpha"
   ]
  },
  {
   "cell_type": "code",
   "execution_count": 200,
   "id": "b0a346bc",
   "metadata": {},
   "outputs": [],
   "source": [
    "clf=DecisionTreeClassifier(random_state=42)"
   ]
  },
  {
   "cell_type": "code",
   "execution_count": 201,
   "id": "30643900",
   "metadata": {},
   "outputs": [],
   "source": [
    "grid_parametros={'ccp_alpha':ccp_alpha}\n"
   ]
  },
  {
   "cell_type": "code",
   "execution_count": 202,
   "id": "2afcbd8b",
   "metadata": {},
   "outputs": [
    {
     "name": "stdout",
     "output_type": "stream",
     "text": [
      "Fitting 10 folds for each of 11 candidates, totalling 110 fits\n",
      "[CV 1/10; 1/11] START ccp_alpha=0.0.............................................\n",
      "[CV 1/10; 1/11] END ...........................ccp_alpha=0.0; total time=   0.0s\n",
      "[CV 2/10; 1/11] START ccp_alpha=0.0.............................................\n",
      "[CV 2/10; 1/11] END ...........................ccp_alpha=0.0; total time=   0.0s\n",
      "[CV 3/10; 1/11] START ccp_alpha=0.0.............................................\n",
      "[CV 3/10; 1/11] END ...........................ccp_alpha=0.0; total time=   0.0s\n",
      "[CV 4/10; 1/11] START ccp_alpha=0.0.............................................\n",
      "[CV 4/10; 1/11] END ...........................ccp_alpha=0.0; total time=   0.0s\n",
      "[CV 5/10; 1/11] START ccp_alpha=0.0.............................................\n",
      "[CV 5/10; 1/11] END ...........................ccp_alpha=0.0; total time=   0.0s\n",
      "[CV 6/10; 1/11] START ccp_alpha=0.0.............................................\n",
      "[CV 6/10; 1/11] END ...........................ccp_alpha=0.0; total time=   0.0s\n",
      "[CV 7/10; 1/11] START ccp_alpha=0.0.............................................\n",
      "[CV 7/10; 1/11] END ...........................ccp_alpha=0.0; total time=   0.0s\n",
      "[CV 8/10; 1/11] START ccp_alpha=0.0.............................................\n",
      "[CV 8/10; 1/11] END ...........................ccp_alpha=0.0; total time=   0.0s\n",
      "[CV 9/10; 1/11] START ccp_alpha=0.0.............................................\n",
      "[CV 9/10; 1/11] END ...........................ccp_alpha=0.0; total time=   0.0s\n",
      "[CV 10/10; 1/11] START ccp_alpha=0.0............................................\n",
      "[CV 10/10; 1/11] END ..........................ccp_alpha=0.0; total time=   0.0s\n",
      "[CV 1/10; 2/11] START ccp_alpha=1.0158262282888679e-05..........................\n",
      "[CV 1/10; 2/11] END ........ccp_alpha=1.0158262282888679e-05; total time=   0.0s\n",
      "[CV 2/10; 2/11] START ccp_alpha=1.0158262282888679e-05..........................\n",
      "[CV 2/10; 2/11] END ........ccp_alpha=1.0158262282888679e-05; total time=   0.0s\n",
      "[CV 3/10; 2/11] START ccp_alpha=1.0158262282888679e-05..........................\n",
      "[CV 3/10; 2/11] END ........ccp_alpha=1.0158262282888679e-05; total time=   0.0s\n",
      "[CV 4/10; 2/11] START ccp_alpha=1.0158262282888679e-05..........................\n",
      "[CV 4/10; 2/11] END ........ccp_alpha=1.0158262282888679e-05; total time=   0.0s\n",
      "[CV 5/10; 2/11] START ccp_alpha=1.0158262282888679e-05..........................\n",
      "[CV 5/10; 2/11] END ........ccp_alpha=1.0158262282888679e-05; total time=   0.0s\n",
      "[CV 6/10; 2/11] START ccp_alpha=1.0158262282888679e-05..........................\n",
      "[CV 6/10; 2/11] END ........ccp_alpha=1.0158262282888679e-05; total time=   0.0s\n",
      "[CV 7/10; 2/11] START ccp_alpha=1.0158262282888679e-05..........................\n",
      "[CV 7/10; 2/11] END ........ccp_alpha=1.0158262282888679e-05; total time=   0.0s\n",
      "[CV 8/10; 2/11] START ccp_alpha=1.0158262282888679e-05..........................\n",
      "[CV 8/10; 2/11] END ........ccp_alpha=1.0158262282888679e-05; total time=   0.0s\n",
      "[CV 9/10; 2/11] START ccp_alpha=1.0158262282888679e-05..........................\n",
      "[CV 9/10; 2/11] END ........ccp_alpha=1.0158262282888679e-05; total time=   0.0s\n",
      "[CV 10/10; 2/11] START ccp_alpha=1.0158262282888679e-05.........................\n",
      "[CV 10/10; 2/11] END .......ccp_alpha=1.0158262282888679e-05; total time=   0.0s\n",
      "[CV 1/10; 3/11] START ccp_alpha=4.7563320809465614e-05..........................\n",
      "[CV 1/10; 3/11] END ........ccp_alpha=4.7563320809465614e-05; total time=   0.0s\n",
      "[CV 2/10; 3/11] START ccp_alpha=4.7563320809465614e-05..........................\n",
      "[CV 2/10; 3/11] END ........ccp_alpha=4.7563320809465614e-05; total time=   0.0s\n",
      "[CV 3/10; 3/11] START ccp_alpha=4.7563320809465614e-05..........................\n",
      "[CV 3/10; 3/11] END ........ccp_alpha=4.7563320809465614e-05; total time=   0.0s\n",
      "[CV 4/10; 3/11] START ccp_alpha=4.7563320809465614e-05..........................\n",
      "[CV 4/10; 3/11] END ........ccp_alpha=4.7563320809465614e-05; total time=   0.0s\n",
      "[CV 5/10; 3/11] START ccp_alpha=4.7563320809465614e-05..........................\n",
      "[CV 5/10; 3/11] END ........ccp_alpha=4.7563320809465614e-05; total time=   0.0s\n",
      "[CV 6/10; 3/11] START ccp_alpha=4.7563320809465614e-05..........................\n",
      "[CV 6/10; 3/11] END ........ccp_alpha=4.7563320809465614e-05; total time=   0.0s\n",
      "[CV 7/10; 3/11] START ccp_alpha=4.7563320809465614e-05..........................\n",
      "[CV 7/10; 3/11] END ........ccp_alpha=4.7563320809465614e-05; total time=   0.0s\n",
      "[CV 8/10; 3/11] START ccp_alpha=4.7563320809465614e-05..........................\n",
      "[CV 8/10; 3/11] END ........ccp_alpha=4.7563320809465614e-05; total time=   0.0s\n",
      "[CV 9/10; 3/11] START ccp_alpha=4.7563320809465614e-05..........................\n",
      "[CV 9/10; 3/11] END ........ccp_alpha=4.7563320809465614e-05; total time=   0.0s\n",
      "[CV 10/10; 3/11] START ccp_alpha=4.7563320809465614e-05.........................\n",
      "[CV 10/10; 3/11] END .......ccp_alpha=4.7563320809465614e-05; total time=   0.0s\n",
      "[CV 1/10; 4/11] START ccp_alpha=0.00010372625405975604..........................\n",
      "[CV 1/10; 4/11] END ........ccp_alpha=0.00010372625405975604; total time=   0.0s\n",
      "[CV 2/10; 4/11] START ccp_alpha=0.00010372625405975604..........................\n",
      "[CV 2/10; 4/11] END ........ccp_alpha=0.00010372625405975604; total time=   0.0s\n",
      "[CV 3/10; 4/11] START ccp_alpha=0.00010372625405975604..........................\n",
      "[CV 3/10; 4/11] END ........ccp_alpha=0.00010372625405975604; total time=   0.0s\n",
      "[CV 4/10; 4/11] START ccp_alpha=0.00010372625405975604..........................\n",
      "[CV 4/10; 4/11] END ........ccp_alpha=0.00010372625405975604; total time=   0.0s\n",
      "[CV 5/10; 4/11] START ccp_alpha=0.00010372625405975604..........................\n",
      "[CV 5/10; 4/11] END ........ccp_alpha=0.00010372625405975604; total time=   0.0s\n",
      "[CV 6/10; 4/11] START ccp_alpha=0.00010372625405975604..........................\n",
      "[CV 6/10; 4/11] END ........ccp_alpha=0.00010372625405975604; total time=   0.0s\n",
      "[CV 7/10; 4/11] START ccp_alpha=0.00010372625405975604..........................\n",
      "[CV 7/10; 4/11] END ........ccp_alpha=0.00010372625405975604; total time=   0.0s\n",
      "[CV 8/10; 4/11] START ccp_alpha=0.00010372625405975604..........................\n",
      "[CV 8/10; 4/11] END ........ccp_alpha=0.00010372625405975604; total time=   0.0s\n",
      "[CV 9/10; 4/11] START ccp_alpha=0.00010372625405975604..........................\n",
      "[CV 9/10; 4/11] END ........ccp_alpha=0.00010372625405975604; total time=   0.0s\n",
      "[CV 10/10; 4/11] START ccp_alpha=0.00010372625405975604.........................\n",
      "[CV 10/10; 4/11] END .......ccp_alpha=0.00010372625405975604; total time=   0.0s\n",
      "[CV 1/10; 5/11] START ccp_alpha=0.00017577634552607378..........................\n",
      "[CV 1/10; 5/11] END ........ccp_alpha=0.00017577634552607378; total time=   0.0s\n",
      "[CV 2/10; 5/11] START ccp_alpha=0.00017577634552607378..........................\n",
      "[CV 2/10; 5/11] END ........ccp_alpha=0.00017577634552607378; total time=   0.0s\n",
      "[CV 3/10; 5/11] START ccp_alpha=0.00017577634552607378..........................\n",
      "[CV 3/10; 5/11] END ........ccp_alpha=0.00017577634552607378; total time=   0.0s\n",
      "[CV 4/10; 5/11] START ccp_alpha=0.00017577634552607378..........................\n",
      "[CV 4/10; 5/11] END ........ccp_alpha=0.00017577634552607378; total time=   0.0s\n",
      "[CV 5/10; 5/11] START ccp_alpha=0.00017577634552607378..........................\n",
      "[CV 5/10; 5/11] END ........ccp_alpha=0.00017577634552607378; total time=   0.0s\n",
      "[CV 6/10; 5/11] START ccp_alpha=0.00017577634552607378..........................\n",
      "[CV 6/10; 5/11] END ........ccp_alpha=0.00017577634552607378; total time=   0.0s\n",
      "[CV 7/10; 5/11] START ccp_alpha=0.00017577634552607378..........................\n",
      "[CV 7/10; 5/11] END ........ccp_alpha=0.00017577634552607378; total time=   0.0s\n",
      "[CV 8/10; 5/11] START ccp_alpha=0.00017577634552607378..........................\n",
      "[CV 8/10; 5/11] END ........ccp_alpha=0.00017577634552607378; total time=   0.0s\n",
      "[CV 9/10; 5/11] START ccp_alpha=0.00017577634552607378..........................\n",
      "[CV 9/10; 5/11] END ........ccp_alpha=0.00017577634552607378; total time=   0.0s\n",
      "[CV 10/10; 5/11] START ccp_alpha=0.00017577634552607378.........................\n",
      "[CV 10/10; 5/11] END .......ccp_alpha=0.00017577634552607378; total time=   0.0s\n",
      "[CV 1/10; 6/11] START ccp_alpha=0.0002754656498527462...........................\n"
     ]
    },
    {
     "name": "stdout",
     "output_type": "stream",
     "text": [
      "[CV 1/10; 6/11] END .........ccp_alpha=0.0002754656498527462; total time=   0.0s\n",
      "[CV 2/10; 6/11] START ccp_alpha=0.0002754656498527462...........................\n",
      "[CV 2/10; 6/11] END .........ccp_alpha=0.0002754656498527462; total time=   0.0s\n",
      "[CV 3/10; 6/11] START ccp_alpha=0.0002754656498527462...........................\n",
      "[CV 3/10; 6/11] END .........ccp_alpha=0.0002754656498527462; total time=   0.0s\n",
      "[CV 4/10; 6/11] START ccp_alpha=0.0002754656498527462...........................\n",
      "[CV 4/10; 6/11] END .........ccp_alpha=0.0002754656498527462; total time=   0.0s\n",
      "[CV 5/10; 6/11] START ccp_alpha=0.0002754656498527462...........................\n",
      "[CV 5/10; 6/11] END .........ccp_alpha=0.0002754656498527462; total time=   0.0s\n",
      "[CV 6/10; 6/11] START ccp_alpha=0.0002754656498527462...........................\n",
      "[CV 6/10; 6/11] END .........ccp_alpha=0.0002754656498527462; total time=   0.0s\n",
      "[CV 7/10; 6/11] START ccp_alpha=0.0002754656498527462...........................\n",
      "[CV 7/10; 6/11] END .........ccp_alpha=0.0002754656498527462; total time=   0.0s\n",
      "[CV 8/10; 6/11] START ccp_alpha=0.0002754656498527462...........................\n",
      "[CV 8/10; 6/11] END .........ccp_alpha=0.0002754656498527462; total time=   0.0s\n",
      "[CV 9/10; 6/11] START ccp_alpha=0.0002754656498527462...........................\n",
      "[CV 9/10; 6/11] END .........ccp_alpha=0.0002754656498527462; total time=   0.0s\n",
      "[CV 10/10; 6/11] START ccp_alpha=0.0002754656498527462..........................\n",
      "[CV 10/10; 6/11] END ........ccp_alpha=0.0002754656498527462; total time=   0.0s\n",
      "[CV 1/10; 7/11] START ccp_alpha=0.0005129604371121416...........................\n",
      "[CV 1/10; 7/11] END .........ccp_alpha=0.0005129604371121416; total time=   0.0s\n",
      "[CV 2/10; 7/11] START ccp_alpha=0.0005129604371121416...........................\n",
      "[CV 2/10; 7/11] END .........ccp_alpha=0.0005129604371121416; total time=   0.0s\n",
      "[CV 3/10; 7/11] START ccp_alpha=0.0005129604371121416...........................\n",
      "[CV 3/10; 7/11] END .........ccp_alpha=0.0005129604371121416; total time=   0.0s\n",
      "[CV 4/10; 7/11] START ccp_alpha=0.0005129604371121416...........................\n",
      "[CV 4/10; 7/11] END .........ccp_alpha=0.0005129604371121416; total time=   0.0s\n",
      "[CV 5/10; 7/11] START ccp_alpha=0.0005129604371121416...........................\n",
      "[CV 5/10; 7/11] END .........ccp_alpha=0.0005129604371121416; total time=   0.0s\n",
      "[CV 6/10; 7/11] START ccp_alpha=0.0005129604371121416...........................\n",
      "[CV 6/10; 7/11] END .........ccp_alpha=0.0005129604371121416; total time=   0.0s\n",
      "[CV 7/10; 7/11] START ccp_alpha=0.0005129604371121416...........................\n",
      "[CV 7/10; 7/11] END .........ccp_alpha=0.0005129604371121416; total time=   0.0s\n",
      "[CV 8/10; 7/11] START ccp_alpha=0.0005129604371121416...........................\n",
      "[CV 8/10; 7/11] END .........ccp_alpha=0.0005129604371121416; total time=   0.0s\n",
      "[CV 9/10; 7/11] START ccp_alpha=0.0005129604371121416...........................\n",
      "[CV 9/10; 7/11] END .........ccp_alpha=0.0005129604371121416; total time=   0.0s\n",
      "[CV 10/10; 7/11] START ccp_alpha=0.0005129604371121416..........................\n",
      "[CV 10/10; 7/11] END ........ccp_alpha=0.0005129604371121416; total time=   0.0s\n",
      "[CV 1/10; 8/11] START ccp_alpha=0.0007712171042603484...........................\n",
      "[CV 1/10; 8/11] END .........ccp_alpha=0.0007712171042603484; total time=   0.0s\n",
      "[CV 2/10; 8/11] START ccp_alpha=0.0007712171042603484...........................\n",
      "[CV 2/10; 8/11] END .........ccp_alpha=0.0007712171042603484; total time=   0.0s\n",
      "[CV 3/10; 8/11] START ccp_alpha=0.0007712171042603484...........................\n",
      "[CV 3/10; 8/11] END .........ccp_alpha=0.0007712171042603484; total time=   0.0s\n",
      "[CV 4/10; 8/11] START ccp_alpha=0.0007712171042603484...........................\n",
      "[CV 4/10; 8/11] END .........ccp_alpha=0.0007712171042603484; total time=   0.0s\n",
      "[CV 5/10; 8/11] START ccp_alpha=0.0007712171042603484...........................\n",
      "[CV 5/10; 8/11] END .........ccp_alpha=0.0007712171042603484; total time=   0.0s\n",
      "[CV 6/10; 8/11] START ccp_alpha=0.0007712171042603484...........................\n",
      "[CV 6/10; 8/11] END .........ccp_alpha=0.0007712171042603484; total time=   0.0s\n",
      "[CV 7/10; 8/11] START ccp_alpha=0.0007712171042603484...........................\n",
      "[CV 7/10; 8/11] END .........ccp_alpha=0.0007712171042603484; total time=   0.0s\n",
      "[CV 8/10; 8/11] START ccp_alpha=0.0007712171042603484...........................\n",
      "[CV 8/10; 8/11] END .........ccp_alpha=0.0007712171042603484; total time=   0.0s\n",
      "[CV 9/10; 8/11] START ccp_alpha=0.0007712171042603484...........................\n",
      "[CV 9/10; 8/11] END .........ccp_alpha=0.0007712171042603484; total time=   0.0s\n",
      "[CV 10/10; 8/11] START ccp_alpha=0.0007712171042603484..........................\n",
      "[CV 10/10; 8/11] END ........ccp_alpha=0.0007712171042603484; total time=   0.0s\n",
      "[CV 1/10; 9/11] START ccp_alpha=0.0010901416898242422...........................\n",
      "[CV 1/10; 9/11] END .........ccp_alpha=0.0010901416898242422; total time=   0.0s\n",
      "[CV 2/10; 9/11] START ccp_alpha=0.0010901416898242422...........................\n",
      "[CV 2/10; 9/11] END .........ccp_alpha=0.0010901416898242422; total time=   0.0s\n",
      "[CV 3/10; 9/11] START ccp_alpha=0.0010901416898242422...........................\n",
      "[CV 3/10; 9/11] END .........ccp_alpha=0.0010901416898242422; total time=   0.0s\n",
      "[CV 4/10; 9/11] START ccp_alpha=0.0010901416898242422...........................\n",
      "[CV 4/10; 9/11] END .........ccp_alpha=0.0010901416898242422; total time=   0.0s\n",
      "[CV 5/10; 9/11] START ccp_alpha=0.0010901416898242422...........................\n",
      "[CV 5/10; 9/11] END .........ccp_alpha=0.0010901416898242422; total time=   0.0s\n",
      "[CV 6/10; 9/11] START ccp_alpha=0.0010901416898242422...........................\n",
      "[CV 6/10; 9/11] END .........ccp_alpha=0.0010901416898242422; total time=   0.0s\n",
      "[CV 7/10; 9/11] START ccp_alpha=0.0010901416898242422...........................\n",
      "[CV 7/10; 9/11] END .........ccp_alpha=0.0010901416898242422; total time=   0.0s\n",
      "[CV 8/10; 9/11] START ccp_alpha=0.0010901416898242422...........................\n",
      "[CV 8/10; 9/11] END .........ccp_alpha=0.0010901416898242422; total time=   0.0s\n",
      "[CV 9/10; 9/11] START ccp_alpha=0.0010901416898242422...........................\n",
      "[CV 9/10; 9/11] END .........ccp_alpha=0.0010901416898242422; total time=   0.0s\n",
      "[CV 10/10; 9/11] START ccp_alpha=0.0010901416898242422..........................\n",
      "[CV 10/10; 9/11] END ........ccp_alpha=0.0010901416898242422; total time=   0.0s\n",
      "[CV 1/10; 10/11] START ccp_alpha=0.0021638598375210427..........................\n",
      "[CV 1/10; 10/11] END ........ccp_alpha=0.0021638598375210427; total time=   0.0s\n",
      "[CV 2/10; 10/11] START ccp_alpha=0.0021638598375210427..........................\n",
      "[CV 2/10; 10/11] END ........ccp_alpha=0.0021638598375210427; total time=   0.0s\n",
      "[CV 3/10; 10/11] START ccp_alpha=0.0021638598375210427..........................\n",
      "[CV 3/10; 10/11] END ........ccp_alpha=0.0021638598375210427; total time=   0.0s\n",
      "[CV 4/10; 10/11] START ccp_alpha=0.0021638598375210427..........................\n",
      "[CV 4/10; 10/11] END ........ccp_alpha=0.0021638598375210427; total time=   0.0s\n",
      "[CV 5/10; 10/11] START ccp_alpha=0.0021638598375210427..........................\n",
      "[CV 5/10; 10/11] END ........ccp_alpha=0.0021638598375210427; total time=   0.0s\n",
      "[CV 6/10; 10/11] START ccp_alpha=0.0021638598375210427..........................\n",
      "[CV 6/10; 10/11] END ........ccp_alpha=0.0021638598375210427; total time=   0.0s\n",
      "[CV 7/10; 10/11] START ccp_alpha=0.0021638598375210427..........................\n",
      "[CV 7/10; 10/11] END ........ccp_alpha=0.0021638598375210427; total time=   0.0s\n",
      "[CV 8/10; 10/11] START ccp_alpha=0.0021638598375210427..........................\n",
      "[CV 8/10; 10/11] END ........ccp_alpha=0.0021638598375210427; total time=   0.0s\n",
      "[CV 9/10; 10/11] START ccp_alpha=0.0021638598375210427..........................\n",
      "[CV 9/10; 10/11] END ........ccp_alpha=0.0021638598375210427; total time=   0.0s\n",
      "[CV 10/10; 10/11] START ccp_alpha=0.0021638598375210427.........................\n",
      "[CV 10/10; 10/11] END .......ccp_alpha=0.0021638598375210427; total time=   0.0s\n",
      "[CV 1/10; 11/11] START ccp_alpha=0.006884079844198691...........................\n",
      "[CV 1/10; 11/11] END .........ccp_alpha=0.006884079844198691; total time=   0.0s\n",
      "[CV 2/10; 11/11] START ccp_alpha=0.006884079844198691...........................\n",
      "[CV 2/10; 11/11] END .........ccp_alpha=0.006884079844198691; total time=   0.0s\n",
      "[CV 3/10; 11/11] START ccp_alpha=0.006884079844198691...........................\n",
      "[CV 3/10; 11/11] END .........ccp_alpha=0.006884079844198691; total time=   0.0s\n",
      "[CV 4/10; 11/11] START ccp_alpha=0.006884079844198691...........................\n",
      "[CV 4/10; 11/11] END .........ccp_alpha=0.006884079844198691; total time=   0.0s\n",
      "[CV 5/10; 11/11] START ccp_alpha=0.006884079844198691...........................\n",
      "[CV 5/10; 11/11] END .........ccp_alpha=0.006884079844198691; total time=   0.0s\n",
      "[CV 6/10; 11/11] START ccp_alpha=0.006884079844198691...........................\n",
      "[CV 6/10; 11/11] END .........ccp_alpha=0.006884079844198691; total time=   0.0s\n",
      "[CV 7/10; 11/11] START ccp_alpha=0.006884079844198691...........................\n",
      "[CV 7/10; 11/11] END .........ccp_alpha=0.006884079844198691; total time=   0.0s\n",
      "[CV 8/10; 11/11] START ccp_alpha=0.006884079844198691...........................\n",
      "[CV 8/10; 11/11] END .........ccp_alpha=0.006884079844198691; total time=   0.0s\n",
      "[CV 9/10; 11/11] START ccp_alpha=0.006884079844198691...........................\n",
      "[CV 9/10; 11/11] END .........ccp_alpha=0.006884079844198691; total time=   0.0s\n",
      "[CV 10/10; 11/11] START ccp_alpha=0.006884079844198691..........................\n"
     ]
    },
    {
     "name": "stdout",
     "output_type": "stream",
     "text": [
      "[CV 10/10; 11/11] END ........ccp_alpha=0.006884079844198691; total time=   0.0s\n"
     ]
    },
    {
     "data": {
      "text/plain": [
       "GridSearchCV(cv=10, estimator=DecisionTreeClassifier(random_state=42),\n",
       "             param_grid={'ccp_alpha': array([0.00000000e+00, 1.01582623e-05, 4.75633208e-05, 1.03726254e-04,\n",
       "       1.75776346e-04, 2.75465650e-04, 5.12960437e-04, 7.71217104e-04,\n",
       "       1.09014169e-03, 2.16385984e-03, 6.88407984e-03])},\n",
       "             verbose=100)"
      ]
     },
     "execution_count": 202,
     "metadata": {},
     "output_type": "execute_result"
    }
   ],
   "source": [
    "grid=GridSearchCV(estimator=clf,param_grid=grid_parametros,cv=10,verbose=100)\n",
    "grid.fit(x_melhores_var,y_melhores_var)\n"
   ]
  },
  {
   "cell_type": "code",
   "execution_count": 203,
   "id": "ed5a7085",
   "metadata": {},
   "outputs": [
    {
     "data": {
      "text/html": [
       "<div>\n",
       "<style scoped>\n",
       "    .dataframe tbody tr th:only-of-type {\n",
       "        vertical-align: middle;\n",
       "    }\n",
       "\n",
       "    .dataframe tbody tr th {\n",
       "        vertical-align: top;\n",
       "    }\n",
       "\n",
       "    .dataframe thead th {\n",
       "        text-align: right;\n",
       "    }\n",
       "</style>\n",
       "<table border=\"1\" class=\"dataframe\">\n",
       "  <thead>\n",
       "    <tr style=\"text-align: right;\">\n",
       "      <th></th>\n",
       "      <th>mean_fit_time</th>\n",
       "      <th>std_fit_time</th>\n",
       "      <th>mean_score_time</th>\n",
       "      <th>std_score_time</th>\n",
       "      <th>param_ccp_alpha</th>\n",
       "      <th>params</th>\n",
       "      <th>split0_test_score</th>\n",
       "      <th>split1_test_score</th>\n",
       "      <th>split2_test_score</th>\n",
       "      <th>split3_test_score</th>\n",
       "      <th>split4_test_score</th>\n",
       "      <th>split5_test_score</th>\n",
       "      <th>split6_test_score</th>\n",
       "      <th>split7_test_score</th>\n",
       "      <th>split8_test_score</th>\n",
       "      <th>split9_test_score</th>\n",
       "      <th>mean_test_score</th>\n",
       "      <th>std_test_score</th>\n",
       "      <th>rank_test_score</th>\n",
       "    </tr>\n",
       "  </thead>\n",
       "  <tbody>\n",
       "    <tr>\n",
       "      <th>0</th>\n",
       "      <td>0.030932</td>\n",
       "      <td>0.019971</td>\n",
       "      <td>0.002101</td>\n",
       "      <td>0.000539</td>\n",
       "      <td>0.0</td>\n",
       "      <td>{'ccp_alpha': 0.0}</td>\n",
       "      <td>0.796196</td>\n",
       "      <td>0.737772</td>\n",
       "      <td>0.813605</td>\n",
       "      <td>0.684354</td>\n",
       "      <td>0.763265</td>\n",
       "      <td>0.770068</td>\n",
       "      <td>0.774150</td>\n",
       "      <td>0.755102</td>\n",
       "      <td>0.827211</td>\n",
       "      <td>0.759184</td>\n",
       "      <td>0.768091</td>\n",
       "      <td>0.038210</td>\n",
       "      <td>7</td>\n",
       "    </tr>\n",
       "    <tr>\n",
       "      <th>1</th>\n",
       "      <td>0.026198</td>\n",
       "      <td>0.003189</td>\n",
       "      <td>0.001799</td>\n",
       "      <td>0.000870</td>\n",
       "      <td>0.00001</td>\n",
       "      <td>{'ccp_alpha': 1.0158262282888679e-05}</td>\n",
       "      <td>0.796196</td>\n",
       "      <td>0.737772</td>\n",
       "      <td>0.813605</td>\n",
       "      <td>0.684354</td>\n",
       "      <td>0.763265</td>\n",
       "      <td>0.770068</td>\n",
       "      <td>0.774150</td>\n",
       "      <td>0.755102</td>\n",
       "      <td>0.827211</td>\n",
       "      <td>0.759184</td>\n",
       "      <td>0.768091</td>\n",
       "      <td>0.038210</td>\n",
       "      <td>7</td>\n",
       "    </tr>\n",
       "    <tr>\n",
       "      <th>2</th>\n",
       "      <td>0.024686</td>\n",
       "      <td>0.003549</td>\n",
       "      <td>0.003298</td>\n",
       "      <td>0.004624</td>\n",
       "      <td>0.000048</td>\n",
       "      <td>{'ccp_alpha': 4.7563320809465614e-05}</td>\n",
       "      <td>0.796196</td>\n",
       "      <td>0.737772</td>\n",
       "      <td>0.813605</td>\n",
       "      <td>0.684354</td>\n",
       "      <td>0.763265</td>\n",
       "      <td>0.770068</td>\n",
       "      <td>0.774150</td>\n",
       "      <td>0.755102</td>\n",
       "      <td>0.827211</td>\n",
       "      <td>0.759184</td>\n",
       "      <td>0.768091</td>\n",
       "      <td>0.038210</td>\n",
       "      <td>7</td>\n",
       "    </tr>\n",
       "    <tr>\n",
       "      <th>3</th>\n",
       "      <td>0.024836</td>\n",
       "      <td>0.003960</td>\n",
       "      <td>0.003199</td>\n",
       "      <td>0.003992</td>\n",
       "      <td>0.000104</td>\n",
       "      <td>{'ccp_alpha': 0.00010372625405975604}</td>\n",
       "      <td>0.796196</td>\n",
       "      <td>0.737772</td>\n",
       "      <td>0.813605</td>\n",
       "      <td>0.684354</td>\n",
       "      <td>0.763265</td>\n",
       "      <td>0.770068</td>\n",
       "      <td>0.774150</td>\n",
       "      <td>0.755102</td>\n",
       "      <td>0.827211</td>\n",
       "      <td>0.759184</td>\n",
       "      <td>0.768091</td>\n",
       "      <td>0.038210</td>\n",
       "      <td>7</td>\n",
       "    </tr>\n",
       "    <tr>\n",
       "      <th>4</th>\n",
       "      <td>0.024786</td>\n",
       "      <td>0.004353</td>\n",
       "      <td>0.001699</td>\n",
       "      <td>0.000781</td>\n",
       "      <td>0.000176</td>\n",
       "      <td>{'ccp_alpha': 0.00017577634552607378}</td>\n",
       "      <td>0.804348</td>\n",
       "      <td>0.748641</td>\n",
       "      <td>0.828571</td>\n",
       "      <td>0.693878</td>\n",
       "      <td>0.782313</td>\n",
       "      <td>0.774150</td>\n",
       "      <td>0.785034</td>\n",
       "      <td>0.770068</td>\n",
       "      <td>0.835374</td>\n",
       "      <td>0.756463</td>\n",
       "      <td>0.777884</td>\n",
       "      <td>0.038848</td>\n",
       "      <td>5</td>\n",
       "    </tr>\n",
       "    <tr>\n",
       "      <th>5</th>\n",
       "      <td>0.031182</td>\n",
       "      <td>0.008825</td>\n",
       "      <td>0.002900</td>\n",
       "      <td>0.001221</td>\n",
       "      <td>0.000275</td>\n",
       "      <td>{'ccp_alpha': 0.0002754656498527462}</td>\n",
       "      <td>0.798913</td>\n",
       "      <td>0.756793</td>\n",
       "      <td>0.834014</td>\n",
       "      <td>0.706122</td>\n",
       "      <td>0.793197</td>\n",
       "      <td>0.774150</td>\n",
       "      <td>0.809524</td>\n",
       "      <td>0.772789</td>\n",
       "      <td>0.835374</td>\n",
       "      <td>0.760544</td>\n",
       "      <td>0.784142</td>\n",
       "      <td>0.036982</td>\n",
       "      <td>3</td>\n",
       "    </tr>\n",
       "    <tr>\n",
       "      <th>6</th>\n",
       "      <td>0.024835</td>\n",
       "      <td>0.003208</td>\n",
       "      <td>0.001800</td>\n",
       "      <td>0.000400</td>\n",
       "      <td>0.000513</td>\n",
       "      <td>{'ccp_alpha': 0.0005129604371121416}</td>\n",
       "      <td>0.755435</td>\n",
       "      <td>0.740489</td>\n",
       "      <td>0.816327</td>\n",
       "      <td>0.726531</td>\n",
       "      <td>0.757823</td>\n",
       "      <td>0.774150</td>\n",
       "      <td>0.790476</td>\n",
       "      <td>0.745578</td>\n",
       "      <td>0.840816</td>\n",
       "      <td>0.752381</td>\n",
       "      <td>0.770001</td>\n",
       "      <td>0.034096</td>\n",
       "      <td>6</td>\n",
       "    </tr>\n",
       "    <tr>\n",
       "      <th>7</th>\n",
       "      <td>0.027884</td>\n",
       "      <td>0.003751</td>\n",
       "      <td>0.002000</td>\n",
       "      <td>0.000999</td>\n",
       "      <td>0.000771</td>\n",
       "      <td>{'ccp_alpha': 0.0007712171042603484}</td>\n",
       "      <td>0.767663</td>\n",
       "      <td>0.730978</td>\n",
       "      <td>0.793197</td>\n",
       "      <td>0.727891</td>\n",
       "      <td>0.763265</td>\n",
       "      <td>0.768707</td>\n",
       "      <td>0.785034</td>\n",
       "      <td>0.710204</td>\n",
       "      <td>0.851701</td>\n",
       "      <td>0.757823</td>\n",
       "      <td>0.765646</td>\n",
       "      <td>0.037844</td>\n",
       "      <td>11</td>\n",
       "    </tr>\n",
       "    <tr>\n",
       "      <th>8</th>\n",
       "      <td>0.025279</td>\n",
       "      <td>0.004575</td>\n",
       "      <td>0.001899</td>\n",
       "      <td>0.000943</td>\n",
       "      <td>0.00109</td>\n",
       "      <td>{'ccp_alpha': 0.0010901416898242422}</td>\n",
       "      <td>0.798913</td>\n",
       "      <td>0.745924</td>\n",
       "      <td>0.805442</td>\n",
       "      <td>0.740136</td>\n",
       "      <td>0.778231</td>\n",
       "      <td>0.767347</td>\n",
       "      <td>0.838095</td>\n",
       "      <td>0.703401</td>\n",
       "      <td>0.862585</td>\n",
       "      <td>0.770068</td>\n",
       "      <td>0.781014</td>\n",
       "      <td>0.044799</td>\n",
       "      <td>4</td>\n",
       "    </tr>\n",
       "    <tr>\n",
       "      <th>9</th>\n",
       "      <td>0.024007</td>\n",
       "      <td>0.003409</td>\n",
       "      <td>0.001599</td>\n",
       "      <td>0.000663</td>\n",
       "      <td>0.002164</td>\n",
       "      <td>{'ccp_alpha': 0.0021638598375210427}</td>\n",
       "      <td>0.846467</td>\n",
       "      <td>0.808424</td>\n",
       "      <td>0.814966</td>\n",
       "      <td>0.763265</td>\n",
       "      <td>0.727891</td>\n",
       "      <td>0.751020</td>\n",
       "      <td>0.821769</td>\n",
       "      <td>0.706122</td>\n",
       "      <td>0.857143</td>\n",
       "      <td>0.786395</td>\n",
       "      <td>0.788346</td>\n",
       "      <td>0.047730</td>\n",
       "      <td>2</td>\n",
       "    </tr>\n",
       "    <tr>\n",
       "      <th>10</th>\n",
       "      <td>0.024101</td>\n",
       "      <td>0.002946</td>\n",
       "      <td>0.001699</td>\n",
       "      <td>0.000640</td>\n",
       "      <td>0.006884</td>\n",
       "      <td>{'ccp_alpha': 0.006884079844198691}</td>\n",
       "      <td>0.834239</td>\n",
       "      <td>0.842391</td>\n",
       "      <td>0.876190</td>\n",
       "      <td>0.783673</td>\n",
       "      <td>0.804082</td>\n",
       "      <td>0.790476</td>\n",
       "      <td>0.812245</td>\n",
       "      <td>0.767347</td>\n",
       "      <td>0.869388</td>\n",
       "      <td>0.723810</td>\n",
       "      <td>0.810384</td>\n",
       "      <td>0.044616</td>\n",
       "      <td>1</td>\n",
       "    </tr>\n",
       "  </tbody>\n",
       "</table>\n",
       "</div>"
      ],
      "text/plain": [
       "    mean_fit_time  std_fit_time  mean_score_time  std_score_time  \\\n",
       "0        0.030932      0.019971         0.002101        0.000539   \n",
       "1        0.026198      0.003189         0.001799        0.000870   \n",
       "2        0.024686      0.003549         0.003298        0.004624   \n",
       "3        0.024836      0.003960         0.003199        0.003992   \n",
       "4        0.024786      0.004353         0.001699        0.000781   \n",
       "5        0.031182      0.008825         0.002900        0.001221   \n",
       "6        0.024835      0.003208         0.001800        0.000400   \n",
       "7        0.027884      0.003751         0.002000        0.000999   \n",
       "8        0.025279      0.004575         0.001899        0.000943   \n",
       "9        0.024007      0.003409         0.001599        0.000663   \n",
       "10       0.024101      0.002946         0.001699        0.000640   \n",
       "\n",
       "   param_ccp_alpha                                 params  split0_test_score  \\\n",
       "0              0.0                     {'ccp_alpha': 0.0}           0.796196   \n",
       "1          0.00001  {'ccp_alpha': 1.0158262282888679e-05}           0.796196   \n",
       "2         0.000048  {'ccp_alpha': 4.7563320809465614e-05}           0.796196   \n",
       "3         0.000104  {'ccp_alpha': 0.00010372625405975604}           0.796196   \n",
       "4         0.000176  {'ccp_alpha': 0.00017577634552607378}           0.804348   \n",
       "5         0.000275   {'ccp_alpha': 0.0002754656498527462}           0.798913   \n",
       "6         0.000513   {'ccp_alpha': 0.0005129604371121416}           0.755435   \n",
       "7         0.000771   {'ccp_alpha': 0.0007712171042603484}           0.767663   \n",
       "8          0.00109   {'ccp_alpha': 0.0010901416898242422}           0.798913   \n",
       "9         0.002164   {'ccp_alpha': 0.0021638598375210427}           0.846467   \n",
       "10        0.006884    {'ccp_alpha': 0.006884079844198691}           0.834239   \n",
       "\n",
       "    split1_test_score  split2_test_score  split3_test_score  \\\n",
       "0            0.737772           0.813605           0.684354   \n",
       "1            0.737772           0.813605           0.684354   \n",
       "2            0.737772           0.813605           0.684354   \n",
       "3            0.737772           0.813605           0.684354   \n",
       "4            0.748641           0.828571           0.693878   \n",
       "5            0.756793           0.834014           0.706122   \n",
       "6            0.740489           0.816327           0.726531   \n",
       "7            0.730978           0.793197           0.727891   \n",
       "8            0.745924           0.805442           0.740136   \n",
       "9            0.808424           0.814966           0.763265   \n",
       "10           0.842391           0.876190           0.783673   \n",
       "\n",
       "    split4_test_score  split5_test_score  split6_test_score  \\\n",
       "0            0.763265           0.770068           0.774150   \n",
       "1            0.763265           0.770068           0.774150   \n",
       "2            0.763265           0.770068           0.774150   \n",
       "3            0.763265           0.770068           0.774150   \n",
       "4            0.782313           0.774150           0.785034   \n",
       "5            0.793197           0.774150           0.809524   \n",
       "6            0.757823           0.774150           0.790476   \n",
       "7            0.763265           0.768707           0.785034   \n",
       "8            0.778231           0.767347           0.838095   \n",
       "9            0.727891           0.751020           0.821769   \n",
       "10           0.804082           0.790476           0.812245   \n",
       "\n",
       "    split7_test_score  split8_test_score  split9_test_score  mean_test_score  \\\n",
       "0            0.755102           0.827211           0.759184         0.768091   \n",
       "1            0.755102           0.827211           0.759184         0.768091   \n",
       "2            0.755102           0.827211           0.759184         0.768091   \n",
       "3            0.755102           0.827211           0.759184         0.768091   \n",
       "4            0.770068           0.835374           0.756463         0.777884   \n",
       "5            0.772789           0.835374           0.760544         0.784142   \n",
       "6            0.745578           0.840816           0.752381         0.770001   \n",
       "7            0.710204           0.851701           0.757823         0.765646   \n",
       "8            0.703401           0.862585           0.770068         0.781014   \n",
       "9            0.706122           0.857143           0.786395         0.788346   \n",
       "10           0.767347           0.869388           0.723810         0.810384   \n",
       "\n",
       "    std_test_score  rank_test_score  \n",
       "0         0.038210                7  \n",
       "1         0.038210                7  \n",
       "2         0.038210                7  \n",
       "3         0.038210                7  \n",
       "4         0.038848                5  \n",
       "5         0.036982                3  \n",
       "6         0.034096                6  \n",
       "7         0.037844               11  \n",
       "8         0.044799                4  \n",
       "9         0.047730                2  \n",
       "10        0.044616                1  "
      ]
     },
     "execution_count": 203,
     "metadata": {},
     "output_type": "execute_result"
    }
   ],
   "source": [
    "resultados=pd.DataFrame(grid.cv_results_)\n",
    "resultados"
   ]
  },
  {
   "cell_type": "code",
   "execution_count": 204,
   "id": "b1ab18f7",
   "metadata": {},
   "outputs": [
    {
     "data": {
      "text/plain": [
       "{'ccp_alpha': 0.006884079844198691}"
      ]
     },
     "execution_count": 204,
     "metadata": {},
     "output_type": "execute_result"
    }
   ],
   "source": [
    "grid.best_params_"
   ]
  },
  {
   "cell_type": "code",
   "execution_count": 205,
   "id": "9337e23f",
   "metadata": {},
   "outputs": [
    {
     "data": {
      "text/plain": [
       "0.810384131913635"
      ]
     },
     "execution_count": 205,
     "metadata": {},
     "output_type": "execute_result"
    }
   ],
   "source": [
    "grid.best_score_"
   ]
  },
  {
   "cell_type": "code",
   "execution_count": 206,
   "id": "2d8d1fa0",
   "metadata": {},
   "outputs": [
    {
     "data": {
      "text/plain": [
       "0.006884079844198691"
      ]
     },
     "execution_count": 206,
     "metadata": {},
     "output_type": "execute_result"
    }
   ],
   "source": [
    "melhor_ccp=resultados.iloc[grid.best_index_,4]\n",
    "melhor_ccp\n"
   ]
  },
  {
   "cell_type": "code",
   "execution_count": 207,
   "id": "9997920e",
   "metadata": {},
   "outputs": [],
   "source": [
    "clf=DecisionTreeClassifier(random_state=42,ccp_alpha=melhor_ccp).fit(x_melhores_var,y_melhores_var)"
   ]
  },
  {
   "cell_type": "markdown",
   "id": "7f3ecada",
   "metadata": {},
   "source": [
    "# 4. Avaliando a arvore"
   ]
  },
  {
   "cell_type": "code",
   "execution_count": 208,
   "id": "52dd554b",
   "metadata": {},
   "outputs": [],
   "source": [
    "acuracia_modelo1=clf.score(X_valida,y_valida)"
   ]
  },
  {
   "cell_type": "code",
   "execution_count": 209,
   "id": "2ab8afb6",
   "metadata": {},
   "outputs": [],
   "source": [
    "y_pred=clf.predict(X_valida)"
   ]
  },
  {
   "cell_type": "code",
   "execution_count": 210,
   "id": "17739df4",
   "metadata": {},
   "outputs": [
    {
     "name": "stdout",
     "output_type": "stream",
     "text": [
      "[[269 187  40   0   0   0]\n",
      " [122 330  19   0   0   0]\n",
      " [139  70 211   0   0   0]\n",
      " [  0   0   0 400  91   0]\n",
      " [  0   0   0 107 425   0]\n",
      " [  0   0   0   0   0 537]]\n"
     ]
    }
   ],
   "source": [
    "print(confusion_matrix(y_valida,y_pred))"
   ]
  },
  {
   "cell_type": "code",
   "execution_count": 211,
   "id": "a6f4dd07",
   "metadata": {},
   "outputs": [
    {
     "data": {
      "image/png": "[encoded data removed]",
      "text/plain": [
       "<Figure size 432x288 with 2 Axes>"
      ]
     },
     "metadata": {
      "needs_background": "light"
     },
     "output_type": "display_data"
    }
   ],
   "source": [
    "cm = confusion_matrix(y_valida, y_pred, labels=clf.classes_)\n",
    "disp = ConfusionMatrixDisplay(confusion_matrix=cm, display_labels=clf.classes_)\n",
    "disp.plot()\n",
    "plt.show()"
   ]
  },
  {
   "cell_type": "markdown",
   "id": "1efac379",
   "metadata": {},
   "source": [
    "- Modelo criado a partir das três variavéis com maior importancia. É possível verificar que o modelo tem uma certa dificuldade para classificar atividade 1,2 e 3 fazendo uma confusão ao tentar prever atividade de um novo individuo. \n"
   ]
  },
  {
   "cell_type": "markdown",
   "id": "86a5e64a",
   "metadata": {},
   "source": [
    "# 5. Melhorando a arvore"
   ]
  },
  {
   "cell_type": "code",
   "execution_count": 212,
   "id": "45938cfc",
   "metadata": {},
   "outputs": [
    {
     "data": {
      "text/plain": [
       "0                         tBodyAcc-mean()-X\n",
       "1                         tBodyAcc-mean()-Y\n",
       "2                         tBodyAcc-mean()-Z\n",
       "3                          tBodyAcc-std()-X\n",
       "4                          tBodyAcc-std()-Y\n",
       "                       ...                 \n",
       "556        angle(tBodyGyroMean,gravityMean)\n",
       "557    angle(tBodyGyroJerkMean,gravityMean)\n",
       "558                    angle(X,gravityMean)\n",
       "559                    angle(Y,gravityMean)\n",
       "560                    angle(Z,gravityMean)\n",
       "Name: 1, Length: 561, dtype: object"
      ]
     },
     "execution_count": 212,
     "metadata": {},
     "output_type": "execute_result"
    }
   ],
   "source": [
    "nome_coluna=features[1]\n",
    "nome_coluna"
   ]
  },
  {
   "cell_type": "code",
   "execution_count": 213,
   "id": "d969fde8",
   "metadata": {},
   "outputs": [],
   "source": [
    "clf=DecisionTreeClassifier(max_depth=4, min_samples_leaf=20 ,random_state=42)\n"
   ]
  },
  {
   "cell_type": "code",
   "execution_count": 214,
   "id": "8dfac846",
   "metadata": {},
   "outputs": [],
   "source": [
    "clf=clf.fit(X_treino,y_treino)\n",
    "importancias = clf.feature_importances_"
   ]
  },
  {
   "cell_type": "code",
   "execution_count": 244,
   "id": "21b61315",
   "metadata": {},
   "outputs": [
    {
     "name": "stdout",
     "output_type": "stream",
     "text": [
      "As seis variavéis com maior importancia:\n",
      "                                     0\n",
      "1                                    \n",
      "tGravityAcc-min()-X          0.283236\n",
      "fBodyAcc-mean()-X            0.254527\n",
      "angle(Y,gravityMean)         0.166498\n",
      "fBodyAccMag-energy()         0.138357\n",
      "tGravityAcc-arCoeff()-Z,2    0.121692\n",
      "tBodyGyro-correlation()-Y,Z  0.018129\n"
     ]
    }
   ],
   "source": [
    "importancia=pd.DataFrame(importancias,index=nome_coluna)\n",
    "print(f'As seis variavéis com maior importancia:\\n',importancia.sort_values(by=0,ascending=False).head(6))"
   ]
  },
  {
   "cell_type": "code",
   "execution_count": 222,
   "id": "6ef63bc8",
   "metadata": {},
   "outputs": [],
   "source": [
    "x_best_var=X_treino[['tGravityAcc-min()-X','fBodyAcc-mean()-X','angle(Y,gravityMean)',\n",
    "                     'fBodyAccMag-energy()','tGravityAcc-arCoeff()-Z,2','tBodyGyro-correlation()-Y,Z']]\n",
    "X_valida=X_valida[['tGravityAcc-min()-X','fBodyAcc-mean()-X','angle(Y,gravityMean)','fBodyAccMag-energy()',\n",
    "                   'tGravityAcc-arCoeff()-Z,2','tBodyGyro-correlation()-Y,Z']]\n",
    "y_best_var=y_treino['0']"
   ]
  },
  {
   "cell_type": "code",
   "execution_count": 223,
   "id": "0225c6f7",
   "metadata": {},
   "outputs": [],
   "source": [
    "clf=DecisionTreeClassifier(max_depth=4,min_samples_leaf=20,random_state=42)\n",
    "clf.fit(x_best_var,y_best_var)\n",
    "y_pred=clf.predict(X_valida)"
   ]
  },
  {
   "cell_type": "code",
   "execution_count": 224,
   "id": "7f0c8507",
   "metadata": {},
   "outputs": [
    {
     "data": {
      "text/plain": [
       "0.8130302002035968"
      ]
     },
     "execution_count": 224,
     "metadata": {},
     "output_type": "execute_result"
    }
   ],
   "source": [
    "acuracia_modelo2=clf.score(X_valida,y_valida)\n",
    "acuracia_modelo2"
   ]
  },
  {
   "cell_type": "code",
   "execution_count": 225,
   "id": "b3d1dd19",
   "metadata": {},
   "outputs": [
    {
     "name": "stdout",
     "output_type": "stream",
     "text": [
      "[[437  48  11   0   0   0]\n",
      " [129 336   6   0   0   0]\n",
      " [107  52 261   0   0   0]\n",
      " [  0   0   0 400  91   0]\n",
      " [  0   0   0 107 425   0]\n",
      " [  0   0   0   0   0 537]]\n"
     ]
    }
   ],
   "source": [
    "print(confusion_matrix(y_valida,y_pred))"
   ]
  },
  {
   "cell_type": "code",
   "execution_count": 226,
   "id": "15b89bad",
   "metadata": {},
   "outputs": [
    {
     "data": {
      "image/png": "[encoded data removed]",
      "text/plain": [
       "<Figure size 432x288 with 2 Axes>"
      ]
     },
     "metadata": {
      "needs_background": "light"
     },
     "output_type": "display_data"
    }
   ],
   "source": [
    "cm = confusion_matrix(y_valida, y_pred, labels=clf.classes_)\n",
    "disp = ConfusionMatrixDisplay(confusion_matrix=cm, display_labels=clf.classes_)\n",
    "disp.plot()\n",
    "plt.show()"
   ]
  },
  {
   "cell_type": "code",
   "execution_count": 233,
   "id": "2704c053",
   "metadata": {},
   "outputs": [],
   "source": [
    "diferenca=acuracia_modelo2 - acuracia_modelo1"
   ]
  },
  {
   "cell_type": "code",
   "execution_count": 240,
   "id": "daa899a1",
   "metadata": {},
   "outputs": [
    {
     "name": "stdout",
     "output_type": "stream",
     "text": [
      "A melhora de um modelo para o outro foi de :7.60%\n"
     ]
    }
   ],
   "source": [
    "print(f'A melhora de um modelo para o outro foi de :%.2f%%'% (diferenca*100))"
   ]
  },
  {
   "cell_type": "markdown",
   "id": "5f98ff56",
   "metadata": {},
   "source": [
    "- É possível verificar uma melhora na classificação das atividades 1,2 e 3 ao incluir as seis variavéis com maior importancia no modelo, diminuindo a quantidade de erros em novas previsões.  "
   ]
  },
  {
   "cell_type": "markdown",
   "id": "aa431c00",
   "metadata": {},
   "source": [
    "1 WALKING - ANDANDO\n",
    "2 WALKING_UPSTAIRS - SUBIR AS ESCADAS\n",
    "3 WALKING_DOWNSTAIRS - DESCENDO AS ESCADAS\n",
    "4 SITTING - SENTADO\n",
    "5 STANDING - DE PÉ\n",
    "6 LAYING - DEITADO"
   ]
  },
  {
   "cell_type": "code",
   "execution_count": null,
   "id": "d69f26c8",
   "metadata": {},
   "outputs": [],
   "source": []
  }
 ],
 "metadata": {
  "kernelspec": {
   "display_name": "Python 3 (ipykernel)",
   "language": "python",
   "name": "python3"
  },
  "language_info": {
   "codemirror_mode": {
    "name": "ipython",
    "version": 3
   },
   "file_extension": ".py",
   "mimetype": "text/x-python",
   "name": "python",
   "nbconvert_exporter": "python",
   "pygments_lexer": "ipython3",
   "version": "3.9.12"
  }
 },
 "nbformat": 4,
 "nbformat_minor": 5
}
