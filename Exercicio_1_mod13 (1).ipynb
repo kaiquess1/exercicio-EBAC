{
 "cells": [
  {
   "cell_type": "code",
   "execution_count": 48,
   "id": "cfccad54",
   "metadata": {},
   "outputs": [],
   "source": [
    "import pandas as pd\n",
    "import numpy as np\n",
    "import pandas as pd\n",
    "import numpy as np\n",
    "import seaborn as sns\n",
    "import matplotlib.pyplot as plt\n",
    "\n",
    "from sklearn.metrics import mean_squared_error\n",
    "from sklearn import datasets\n",
    "from sklearn.tree import DecisionTreeRegressor\n",
    "from sklearn import tree\n",
    "from sklearn.model_selection import train_test_split\n",
    "from sklearn.datasets import load_boston\n",
    "import statsmodels.formula.api as smf\n",
    "import statsmodels.api as sm"
   ]
  },
  {
   "cell_type": "code",
   "execution_count": 49,
   "id": "eba5e783",
   "metadata": {},
   "outputs": [
    {
     "data": {
      "text/html": [
       "<div>\n",
       "<style scoped>\n",
       "    .dataframe tbody tr th:only-of-type {\n",
       "        vertical-align: middle;\n",
       "    }\n",
       "\n",
       "    .dataframe tbody tr th {\n",
       "        vertical-align: top;\n",
       "    }\n",
       "\n",
       "    .dataframe thead th {\n",
       "        text-align: right;\n",
       "    }\n",
       "</style>\n",
       "<table border=\"1\" class=\"dataframe\">\n",
       "  <thead>\n",
       "    <tr style=\"text-align: right;\">\n",
       "      <th></th>\n",
       "      <th>Unnamed: 0</th>\n",
       "      <th>data_ref</th>\n",
       "      <th>id_cliente</th>\n",
       "      <th>sexo</th>\n",
       "      <th>posse_de_veiculo</th>\n",
       "      <th>posse_de_imovel</th>\n",
       "      <th>qtd_filhos</th>\n",
       "      <th>tipo_renda</th>\n",
       "      <th>educacao</th>\n",
       "      <th>estado_civil</th>\n",
       "      <th>tipo_residencia</th>\n",
       "      <th>idade</th>\n",
       "      <th>tempo_emprego</th>\n",
       "      <th>qt_pessoas_residencia</th>\n",
       "      <th>renda</th>\n",
       "    </tr>\n",
       "  </thead>\n",
       "  <tbody>\n",
       "    <tr>\n",
       "      <th>0</th>\n",
       "      <td>0</td>\n",
       "      <td>2015-01-01</td>\n",
       "      <td>15056</td>\n",
       "      <td>F</td>\n",
       "      <td>False</td>\n",
       "      <td>True</td>\n",
       "      <td>0</td>\n",
       "      <td>Empresário</td>\n",
       "      <td>Secundário</td>\n",
       "      <td>Solteiro</td>\n",
       "      <td>Casa</td>\n",
       "      <td>26</td>\n",
       "      <td>6.602740</td>\n",
       "      <td>1.0</td>\n",
       "      <td>8060.34</td>\n",
       "    </tr>\n",
       "    <tr>\n",
       "      <th>1</th>\n",
       "      <td>1</td>\n",
       "      <td>2015-01-01</td>\n",
       "      <td>9968</td>\n",
       "      <td>M</td>\n",
       "      <td>True</td>\n",
       "      <td>True</td>\n",
       "      <td>0</td>\n",
       "      <td>Assalariado</td>\n",
       "      <td>Superior completo</td>\n",
       "      <td>Casado</td>\n",
       "      <td>Casa</td>\n",
       "      <td>28</td>\n",
       "      <td>7.183562</td>\n",
       "      <td>2.0</td>\n",
       "      <td>1852.15</td>\n",
       "    </tr>\n",
       "    <tr>\n",
       "      <th>2</th>\n",
       "      <td>2</td>\n",
       "      <td>2015-01-01</td>\n",
       "      <td>4312</td>\n",
       "      <td>F</td>\n",
       "      <td>True</td>\n",
       "      <td>True</td>\n",
       "      <td>0</td>\n",
       "      <td>Empresário</td>\n",
       "      <td>Superior completo</td>\n",
       "      <td>Casado</td>\n",
       "      <td>Casa</td>\n",
       "      <td>35</td>\n",
       "      <td>0.838356</td>\n",
       "      <td>2.0</td>\n",
       "      <td>2253.89</td>\n",
       "    </tr>\n",
       "    <tr>\n",
       "      <th>3</th>\n",
       "      <td>3</td>\n",
       "      <td>2015-01-01</td>\n",
       "      <td>10639</td>\n",
       "      <td>F</td>\n",
       "      <td>False</td>\n",
       "      <td>True</td>\n",
       "      <td>1</td>\n",
       "      <td>Servidor público</td>\n",
       "      <td>Superior completo</td>\n",
       "      <td>Casado</td>\n",
       "      <td>Casa</td>\n",
       "      <td>30</td>\n",
       "      <td>4.846575</td>\n",
       "      <td>3.0</td>\n",
       "      <td>6600.77</td>\n",
       "    </tr>\n",
       "    <tr>\n",
       "      <th>4</th>\n",
       "      <td>4</td>\n",
       "      <td>2015-01-01</td>\n",
       "      <td>7064</td>\n",
       "      <td>M</td>\n",
       "      <td>True</td>\n",
       "      <td>False</td>\n",
       "      <td>0</td>\n",
       "      <td>Assalariado</td>\n",
       "      <td>Secundário</td>\n",
       "      <td>Solteiro</td>\n",
       "      <td>Governamental</td>\n",
       "      <td>33</td>\n",
       "      <td>4.293151</td>\n",
       "      <td>1.0</td>\n",
       "      <td>6475.97</td>\n",
       "    </tr>\n",
       "  </tbody>\n",
       "</table>\n",
       "</div>"
      ],
      "text/plain": [
       "   Unnamed: 0    data_ref  id_cliente sexo  posse_de_veiculo  posse_de_imovel  \\\n",
       "0           0  2015-01-01       15056    F             False             True   \n",
       "1           1  2015-01-01        9968    M              True             True   \n",
       "2           2  2015-01-01        4312    F              True             True   \n",
       "3           3  2015-01-01       10639    F             False             True   \n",
       "4           4  2015-01-01        7064    M              True            False   \n",
       "\n",
       "   qtd_filhos        tipo_renda           educacao estado_civil  \\\n",
       "0           0        Empresário         Secundário     Solteiro   \n",
       "1           0       Assalariado  Superior completo       Casado   \n",
       "2           0        Empresário  Superior completo       Casado   \n",
       "3           1  Servidor público  Superior completo       Casado   \n",
       "4           0       Assalariado         Secundário     Solteiro   \n",
       "\n",
       "  tipo_residencia  idade  tempo_emprego  qt_pessoas_residencia    renda  \n",
       "0            Casa     26       6.602740                    1.0  8060.34  \n",
       "1            Casa     28       7.183562                    2.0  1852.15  \n",
       "2            Casa     35       0.838356                    2.0  2253.89  \n",
       "3            Casa     30       4.846575                    3.0  6600.77  \n",
       "4   Governamental     33       4.293151                    1.0  6475.97  "
      ]
     },
     "execution_count": 49,
     "metadata": {},
     "output_type": "execute_result"
    }
   ],
   "source": [
    "renda=pd.read_csv('previsao_de_renda.csv')\n",
    "renda.head()"
   ]
  },
  {
   "cell_type": "code",
   "execution_count": 50,
   "id": "04c5082f",
   "metadata": {},
   "outputs": [
    {
     "name": "stdout",
     "output_type": "stream",
     "text": [
      "<class 'pandas.core.frame.DataFrame'>\n",
      "RangeIndex: 15000 entries, 0 to 14999\n",
      "Data columns (total 15 columns):\n",
      " #   Column                 Non-Null Count  Dtype  \n",
      "---  ------                 --------------  -----  \n",
      " 0   Unnamed: 0             15000 non-null  int64  \n",
      " 1   data_ref               15000 non-null  object \n",
      " 2   id_cliente             15000 non-null  int64  \n",
      " 3   sexo                   15000 non-null  object \n",
      " 4   posse_de_veiculo       15000 non-null  bool   \n",
      " 5   posse_de_imovel        15000 non-null  bool   \n",
      " 6   qtd_filhos             15000 non-null  int64  \n",
      " 7   tipo_renda             15000 non-null  object \n",
      " 8   educacao               15000 non-null  object \n",
      " 9   estado_civil           15000 non-null  object \n",
      " 10  tipo_residencia        15000 non-null  object \n",
      " 11  idade                  15000 non-null  int64  \n",
      " 12  tempo_emprego          12427 non-null  float64\n",
      " 13  qt_pessoas_residencia  15000 non-null  float64\n",
      " 14  renda                  15000 non-null  float64\n",
      "dtypes: bool(2), float64(3), int64(4), object(6)\n",
      "memory usage: 1.5+ MB\n"
     ]
    }
   ],
   "source": [
    "renda.info()"
   ]
  },
  {
   "cell_type": "markdown",
   "id": "d91c82df",
   "metadata": {},
   "source": [
    "1. Ajustando modelo para prever a log da renda considerando todas as covariaveis disponíveis "
   ]
  },
  {
   "cell_type": "code",
   "execution_count": 51,
   "id": "1d3c0e22",
   "metadata": {},
   "outputs": [
    {
     "data": {
      "text/plain": [
       "0     10376\n",
       "1      3037\n",
       "2      1376\n",
       "3       185\n",
       "4        17\n",
       "7         5\n",
       "14        2\n",
       "5         2\n",
       "Name: qtd_filhos, dtype: int64"
      ]
     },
     "execution_count": 51,
     "metadata": {},
     "output_type": "execute_result"
    }
   ],
   "source": [
    "renda['qtd_filhos'].value_counts()"
   ]
  },
  {
   "cell_type": "code",
   "execution_count": 52,
   "id": "0d4b05f6",
   "metadata": {},
   "outputs": [
    {
     "data": {
      "text/plain": [
       "Assalariado         7633\n",
       "Empresário          3508\n",
       "Pensionista         2582\n",
       "Servidor público    1268\n",
       "Bolsista               9\n",
       "Name: tipo_renda, dtype: int64"
      ]
     },
     "execution_count": 52,
     "metadata": {},
     "output_type": "execute_result"
    }
   ],
   "source": [
    "renda['tipo_renda'].value_counts()"
   ]
  },
  {
   "cell_type": "code",
   "execution_count": 53,
   "id": "2aefdb1d",
   "metadata": {},
   "outputs": [
    {
     "data": {
      "text/plain": [
       "Secundário             8895\n",
       "Superior completo      5335\n",
       "Superior incompleto     579\n",
       "Primário                165\n",
       "Pós graduação            26\n",
       "Name: educacao, dtype: int64"
      ]
     },
     "execution_count": 53,
     "metadata": {},
     "output_type": "execute_result"
    }
   ],
   "source": [
    "renda['educacao'].value_counts()"
   ]
  },
  {
   "cell_type": "code",
   "execution_count": 54,
   "id": "86691d9b",
   "metadata": {},
   "outputs": [
    {
     "data": {
      "text/plain": [
       "Casado      10534\n",
       "Solteiro     1798\n",
       "União        1078\n",
       "Separado      879\n",
       "Viúvo         711\n",
       "Name: estado_civil, dtype: int64"
      ]
     },
     "execution_count": 54,
     "metadata": {},
     "output_type": "execute_result"
    }
   ],
   "source": [
    "renda['estado_civil'].value_counts()"
   ]
  },
  {
   "cell_type": "code",
   "execution_count": 55,
   "id": "9d7c4cef",
   "metadata": {},
   "outputs": [
    {
     "data": {
      "text/plain": [
       "Casa             13532\n",
       "Com os pais        675\n",
       "Governamental      452\n",
       "Aluguel            194\n",
       "Estúdio             83\n",
       "Comunitário         64\n",
       "Name: tipo_residencia, dtype: int64"
      ]
     },
     "execution_count": 55,
     "metadata": {},
     "output_type": "execute_result"
    }
   ],
   "source": [
    "renda['tipo_residencia'].value_counts()"
   ]
  },
  {
   "cell_type": "code",
   "execution_count": 59,
   "id": "cce8c9bf",
   "metadata": {},
   "outputs": [
    {
     "name": "stdout",
     "output_type": "stream",
     "text": [
      "                            OLS Regression Results                            \n",
      "==============================================================================\n",
      "Dep. Variable:          np.log(renda)   R-squared:                       0.360\n",
      "Model:                            OLS   Adj. R-squared:                  0.357\n",
      "Method:                 Least Squares   F-statistic:                     144.9\n",
      "Date:                Wed, 17 May 2023   Prob (F-statistic):               0.00\n",
      "Time:                        14:41:06   Log-Likelihood:                -13545.\n",
      "No. Observations:               12427   AIC:                         2.719e+04\n",
      "Df Residuals:                   12378   BIC:                         2.755e+04\n",
      "Df Model:                          48                                         \n",
      "Covariance Type:            nonrobust                                         \n",
      "=====================================================================================================================\n",
      "                                                        coef    std err          t      P>|t|      [0.025      0.975]\n",
      "---------------------------------------------------------------------------------------------------------------------\n",
      "Intercept                                             6.8068      0.119     57.361      0.000       6.574       7.039\n",
      "data_ref[T.2015-02-01]                                0.0031      0.035      0.086      0.931      -0.066       0.073\n",
      "data_ref[T.2015-03-01]                                0.0509      0.036      1.432      0.152      -0.019       0.120\n",
      "data_ref[T.2015-04-01]                                0.0502      0.035      1.417      0.157      -0.019       0.120\n",
      "data_ref[T.2015-05-01]                               -0.0193      0.035     -0.547      0.584      -0.089       0.050\n",
      "data_ref[T.2015-06-01]                                0.0743      0.035      2.095      0.036       0.005       0.144\n",
      "data_ref[T.2015-07-01]                                0.0301      0.035      0.852      0.394      -0.039       0.099\n",
      "data_ref[T.2015-08-01]                                0.0010      0.035      0.029      0.977      -0.069       0.071\n",
      "data_ref[T.2015-09-01]                               -0.0066      0.035     -0.188      0.851      -0.076       0.062\n",
      "data_ref[T.2015-10-01]                                0.0234      0.035      0.661      0.509      -0.046       0.093\n",
      "data_ref[T.2015-11-01]                                0.0197      0.035      0.555      0.579      -0.050       0.089\n",
      "data_ref[T.2015-12-01]                                0.0720      0.036      2.023      0.043       0.002       0.142\n",
      "data_ref[T.2016-01-01]                               -0.0368      0.035     -1.038      0.299      -0.106       0.033\n",
      "data_ref[T.2016-02-01]                               -0.0055      0.035     -0.156      0.876      -0.075       0.064\n",
      "data_ref[T.2016-03-01]                               -0.0392      0.036     -1.095      0.274      -0.109       0.031\n",
      "sexo[T.M]                                             0.7885      0.015     53.729      0.000       0.760       0.817\n",
      "posse_de_veiculo[T.True]                              0.0431      0.014      3.049      0.002       0.015       0.071\n",
      "posse_de_imovel[T.True]                               0.0824      0.014      5.883      0.000       0.055       0.110\n",
      "C(qtd_filhos, Treatment(0))[T.1]                     -0.2449      0.112     -2.193      0.028      -0.464      -0.026\n",
      "C(qtd_filhos, Treatment(0))[T.2]                     -0.5632      0.223     -2.530      0.011      -1.000      -0.127\n",
      "C(qtd_filhos, Treatment(0))[T.3]                     -0.5454      0.486     -1.122      0.262      -1.499       0.408\n",
      "C(qtd_filhos, Treatment(0))[T.4]                      0.3421      0.439      0.780      0.436      -0.518       1.202\n",
      "C(qtd_filhos, Treatment(0))[T.5]                      0.2875      0.407      0.707      0.480      -0.510       1.085\n",
      "C(qtd_filhos, Treatment(0))[T.7]                      0.1592      0.171      0.933      0.351      -0.175       0.494\n",
      "C(qtd_filhos, Treatment(0))[T.14]                    -0.3391      0.256     -1.327      0.185      -0.840       0.162\n",
      "C(tipo_renda, Treatment(0))[T.Bolsista]               0.2257      0.241      0.936      0.349      -0.247       0.698\n",
      "C(tipo_renda, Treatment(0))[T.Empresário]             0.1561      0.015     10.454      0.000       0.127       0.185\n",
      "C(tipo_renda, Treatment(0))[T.Pensionista]           -0.2920      0.243     -1.203      0.229      -0.768       0.184\n",
      "C(tipo_renda, Treatment(0))[T.Servidor público]       0.0549      0.022      2.471      0.014       0.011       0.099\n",
      "C(educacao, Treatment(2))[T.Primário]                 0.0165      0.072      0.230      0.818      -0.125       0.158\n",
      "C(educacao, Treatment(2))[T.Pós graduação]            0.1108      0.142      0.778      0.437      -0.168       0.390\n",
      "C(educacao, Treatment(2))[T.Superior completo]        0.1095      0.014      7.743      0.000       0.082       0.137\n",
      "C(educacao, Treatment(2))[T.Superior incompleto]     -0.0283      0.032     -0.874      0.382      -0.092       0.035\n",
      "C(estado_civil, Treatment(0))[T.Separado]             0.3145      0.112      2.804      0.005       0.095       0.534\n",
      "C(estado_civil, Treatment(0))[T.Solteiro]             0.2533      0.110      2.299      0.022       0.037       0.469\n",
      "C(estado_civil, Treatment(0))[T.União]               -0.0323      0.025     -1.284      0.199      -0.082       0.017\n",
      "C(estado_civil, Treatment(0))[T.Viúvo]                0.3543      0.117      3.024      0.003       0.125       0.584\n",
      "C(tipo_residencia, Treatment(1))[T.Aluguel]           0.0393      0.054      0.725      0.468      -0.067       0.145\n",
      "C(tipo_residencia, Treatment(1))[T.Com os pais]       0.0195      0.029      0.662      0.508      -0.038       0.077\n",
      "C(tipo_residencia, Treatment(1))[T.Comunitário]      -0.0759      0.092     -0.827      0.408      -0.256       0.104\n",
      "C(tipo_residencia, Treatment(1))[T.Estúdio]           0.1047      0.084      1.247      0.212      -0.060       0.269\n",
      "C(tipo_residencia, Treatment(1))[T.Governamental]    -0.0120      0.039     -0.308      0.758      -0.089       0.065\n",
      "C(qt_pessoas_residencia)[T.2.0]                       0.2686      0.110      2.437      0.015       0.053       0.485\n",
      "C(qt_pessoas_residencia)[T.3.0]                       0.5638      0.219      2.576      0.010       0.135       0.993\n",
      "C(qt_pessoas_residencia)[T.4.0]                       0.9184      0.325      2.822      0.005       0.281       1.556\n",
      "C(qt_pessoas_residencia)[T.5.0]                       0.7757      0.565      1.373      0.170      -0.332       1.883\n",
      "C(qt_pessoas_residencia)[T.6.0]                       0.2991      0.407      0.736      0.462      -0.498       1.096\n",
      "C(qt_pessoas_residencia)[T.7.0]                       0.3305      0.665      0.497      0.619      -0.972       1.633\n",
      "C(qt_pessoas_residencia)[T.9.0]                       0.1592      0.171      0.933      0.351      -0.175       0.494\n",
      "C(qt_pessoas_residencia)[T.15.0]                     -0.3391      0.256     -1.327      0.185      -0.840       0.162\n",
      "idade                                                 0.0056      0.001      6.955      0.000       0.004       0.007\n",
      "tempo_emprego                                         0.0616      0.001     59.257      0.000       0.060       0.064\n",
      "==============================================================================\n",
      "Omnibus:                        1.503   Durbin-Watson:                   2.028\n",
      "Prob(Omnibus):                  0.472   Jarque-Bera (JB):                1.473\n",
      "Skew:                           0.024   Prob(JB):                        0.479\n",
      "Kurtosis:                       3.022   Cond. No.                     1.03e+16\n",
      "==============================================================================\n",
      "\n",
      "Notes:\n",
      "[1] Standard Errors assume that the covariance matrix of the errors is correctly specified.\n",
      "[2] The smallest eigenvalue is 2.13e-25. This might indicate that there are\n",
      "strong multicollinearity problems or that the design matrix is singular.\n"
     ]
    }
   ],
   "source": [
    "model = smf.ols('np.log(renda) ~ data_ref + sexo + posse_de_veiculo + posse_de_imovel + C(qtd_filhos,Treatment(0)) + C(tipo_renda,Treatment(0)) + C(educacao,Treatment(2)) + C(estado_civil,Treatment(0)) + C(tipo_residencia,Treatment(1)) + idade + tempo_emprego + C(qt_pessoas_residencia)',data=renda).fit()\n",
    "print(model.summary())"
   ]
  },
  {
   "cell_type": "markdown",
   "id": "feae4c3f",
   "metadata": {},
   "source": [
    "\n",
    "* Vemos que para as variaveis **data_ref,posse_de_veiculo,tipo_renda,educacao,estado_civil,qtd_filhos,qt_pessoas_residencia, e tipo_residencia** não parecem significativa para ajudar a explicar a variavél **renda**, sendo assim, vamos remover essas variavéis. "
   ]
  },
  {
   "cell_type": "markdown",
   "id": "2f2817cc",
   "metadata": {},
   "source": [
    "2. Removendo variaveis não significativas"
   ]
  },
  {
   "cell_type": "code",
   "execution_count": 57,
   "id": "6f06f550",
   "metadata": {},
   "outputs": [
    {
     "name": "stdout",
     "output_type": "stream",
     "text": [
      "                            OLS Regression Results                            \n",
      "==============================================================================\n",
      "Dep. Variable:          np.log(renda)   R-squared:                       0.346\n",
      "Model:                            OLS   Adj. R-squared:                  0.346\n",
      "Method:                 Least Squares   F-statistic:                     1315.\n",
      "Date:                Wed, 17 May 2023   Prob (F-statistic):               0.00\n",
      "Time:                        14:39:54   Log-Likelihood:                -13676.\n",
      "No. Observations:               12427   AIC:                         2.736e+04\n",
      "Df Residuals:                   12421   BIC:                         2.741e+04\n",
      "Df Model:                           5                                         \n",
      "Covariance Type:            nonrobust                                         \n",
      "============================================================================================\n",
      "                               coef    std err          t      P>|t|      [0.025      0.975]\n",
      "--------------------------------------------------------------------------------------------\n",
      "Intercept                    7.2550      0.032    228.981      0.000       7.193       7.317\n",
      "sexo[T.M]                    0.7700      0.015     52.851      0.000       0.741       0.799\n",
      "posse_de_veiculo[T.True]     0.0579      0.014      4.116      0.000       0.030       0.085\n",
      "posse_de_imovel[T.True]      0.0880      0.014      6.379      0.000       0.061       0.115\n",
      "idade                        0.0044      0.001      5.871      0.000       0.003       0.006\n",
      "tempo_emprego                0.0611      0.001     59.199      0.000       0.059       0.063\n",
      "==============================================================================\n",
      "Omnibus:                        1.248   Durbin-Watson:                   2.026\n",
      "Prob(Omnibus):                  0.536   Jarque-Bera (JB):                1.221\n",
      "Skew:                           0.022   Prob(JB):                        0.543\n",
      "Kurtosis:                       3.019   Cond. No.                         209.\n",
      "==============================================================================\n",
      "\n",
      "Notes:\n",
      "[1] Standard Errors assume that the covariance matrix of the errors is correctly specified.\n"
     ]
    }
   ],
   "source": [
    "\n",
    "model2 = smf.ols('np.log(renda) ~ sexo + posse_de_veiculo + posse_de_imovel + idade + tempo_emprego',data=renda).fit()\n",
    "print(model2.summary())"
   ]
  },
  {
   "cell_type": "markdown",
   "id": "d0a94244",
   "metadata": {},
   "source": [
    "* Aparentemente o modelo ficou pior.\n",
    "2. **posse_de_veiculo** pessoas que possuem imovel ganham *0.0552*;\n",
    "3. **posse_de_imovel** pessoas que possuem imovel ganham *0.0871*;\n",
    "4. **idade** para cada *0.0048* log da idade maior será a renda;\n",
    "5. **tempo_emprego** a cada *0.0610      * a mais de tempo de emprego mais será a renda;\n",
    "6. **log qt_pessoas_residencia** para cada *0.0161* do log da quantidade de pessoas na residencia maior será a renda;\n"
   ]
  },
  {
   "cell_type": "markdown",
   "id": "6d38a97e",
   "metadata": {},
   "source": [
    "3.Comparando modelos final com inicial"
   ]
  },
  {
   "cell_type": "markdown",
   "id": "990dae26",
   "metadata": {},
   "source": [
    "*Paramêtros* | *Primeiro modelo*  |*Segundo modelo*|\n",
    ":----------------|:-----------:       |-------------- :|     \n",
    "$${R^2}$$            |  0.360           | 0.346\n",
    "$${R^2}-ajustado$$        |  0.357           |0.346\n",
    "**AIC**             |  2.718e+04       |2.736e+04"
   ]
  },
  {
   "cell_type": "markdown",
   "id": "4c910a95",
   "metadata": {},
   "source": [
    "* Realizando os comparativos o segundo modelo performou pior que o primeiro modelo, mesmo após a retirada de variaveis não significativas. "
   ]
  }
 ],
 "metadata": {
  "kernelspec": {
   "display_name": "Python 3 (ipykernel)",
   "language": "python",
   "name": "python3"
  },
  "language_info": {
   "codemirror_mode": {
    "name": "ipython",
    "version": 3
   },
   "file_extension": ".py",
   "mimetype": "text/x-python",
   "name": "python",
   "nbconvert_exporter": "python",
   "pygments_lexer": "ipython3",
   "version": "3.9.12"
  }
 },
 "nbformat": 4,
 "nbformat_minor": 5
}
