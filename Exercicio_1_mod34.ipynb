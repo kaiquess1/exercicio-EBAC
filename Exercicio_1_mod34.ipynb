{
 "cells": [
  {
   "cell_type": "code",
   "execution_count": 1,
   "id": "98941020",
   "metadata": {},
   "outputs": [],
   "source": [
    "import pandas as pd\n",
    "import numpy as np\n",
    "import pandas as pd\n",
    "import numpy as np\n",
    "import seaborn as sns\n",
    "import matplotlib.pyplot as plt\n",
    "import patsy\n",
    "import statsmodels.formula.api as smf\n",
    "import statsmodels.api as sm\n",
    "import patsy\n",
    "\n",
    "from scipy.interpolate import interp1d"
   ]
  },
  {
   "cell_type": "code",
   "execution_count": 2,
   "id": "35c1a524",
   "metadata": {},
   "outputs": [
    {
     "data": {
      "text/html": [
       "<div>\n",
       "<style scoped>\n",
       "    .dataframe tbody tr th:only-of-type {\n",
       "        vertical-align: middle;\n",
       "    }\n",
       "\n",
       "    .dataframe tbody tr th {\n",
       "        vertical-align: top;\n",
       "    }\n",
       "\n",
       "    .dataframe thead th {\n",
       "        text-align: right;\n",
       "    }\n",
       "</style>\n",
       "<table border=\"1\" class=\"dataframe\">\n",
       "  <thead>\n",
       "    <tr style=\"text-align: right;\">\n",
       "      <th></th>\n",
       "      <th>data_ref</th>\n",
       "      <th>index</th>\n",
       "      <th>sexo</th>\n",
       "      <th>posse_de_veiculo</th>\n",
       "      <th>posse_de_imovel</th>\n",
       "      <th>qtd_filhos</th>\n",
       "      <th>tipo_renda</th>\n",
       "      <th>educacao</th>\n",
       "      <th>estado_civil</th>\n",
       "      <th>tipo_residencia</th>\n",
       "      <th>idade</th>\n",
       "      <th>tempo_emprego</th>\n",
       "      <th>qt_pessoas_residencia</th>\n",
       "      <th>renda</th>\n",
       "    </tr>\n",
       "  </thead>\n",
       "  <tbody>\n",
       "    <tr>\n",
       "      <th>0</th>\n",
       "      <td>2015-01-01</td>\n",
       "      <td>5762</td>\n",
       "      <td>M</td>\n",
       "      <td>S</td>\n",
       "      <td>N</td>\n",
       "      <td>0</td>\n",
       "      <td>Empresário</td>\n",
       "      <td>Superior completo</td>\n",
       "      <td>Casado</td>\n",
       "      <td>Casa</td>\n",
       "      <td>47</td>\n",
       "      <td>16.717808</td>\n",
       "      <td>2.0</td>\n",
       "      <td>11138.14</td>\n",
       "    </tr>\n",
       "    <tr>\n",
       "      <th>1</th>\n",
       "      <td>2015-01-01</td>\n",
       "      <td>1279</td>\n",
       "      <td>M</td>\n",
       "      <td>S</td>\n",
       "      <td>N</td>\n",
       "      <td>0</td>\n",
       "      <td>Assalariado</td>\n",
       "      <td>Superior incompleto</td>\n",
       "      <td>Casado</td>\n",
       "      <td>Casa</td>\n",
       "      <td>30</td>\n",
       "      <td>9.600000</td>\n",
       "      <td>2.0</td>\n",
       "      <td>2424.81</td>\n",
       "    </tr>\n",
       "    <tr>\n",
       "      <th>2</th>\n",
       "      <td>2015-01-01</td>\n",
       "      <td>14111</td>\n",
       "      <td>M</td>\n",
       "      <td>S</td>\n",
       "      <td>N</td>\n",
       "      <td>0</td>\n",
       "      <td>Assalariado</td>\n",
       "      <td>Superior completo</td>\n",
       "      <td>Casado</td>\n",
       "      <td>Casa</td>\n",
       "      <td>28</td>\n",
       "      <td>8.208219</td>\n",
       "      <td>2.0</td>\n",
       "      <td>13749.66</td>\n",
       "    </tr>\n",
       "    <tr>\n",
       "      <th>3</th>\n",
       "      <td>2015-01-01</td>\n",
       "      <td>8189</td>\n",
       "      <td>M</td>\n",
       "      <td>N</td>\n",
       "      <td>S</td>\n",
       "      <td>2</td>\n",
       "      <td>Assalariado</td>\n",
       "      <td>Médio</td>\n",
       "      <td>Casado</td>\n",
       "      <td>Casa</td>\n",
       "      <td>44</td>\n",
       "      <td>1.301370</td>\n",
       "      <td>4.0</td>\n",
       "      <td>2361.84</td>\n",
       "    </tr>\n",
       "    <tr>\n",
       "      <th>4</th>\n",
       "      <td>2015-01-01</td>\n",
       "      <td>1830</td>\n",
       "      <td>F</td>\n",
       "      <td>N</td>\n",
       "      <td>S</td>\n",
       "      <td>2</td>\n",
       "      <td>Assalariado</td>\n",
       "      <td>Superior completo</td>\n",
       "      <td>Casado</td>\n",
       "      <td>Casa</td>\n",
       "      <td>33</td>\n",
       "      <td>1.254795</td>\n",
       "      <td>4.0</td>\n",
       "      <td>790.78</td>\n",
       "    </tr>\n",
       "  </tbody>\n",
       "</table>\n",
       "</div>"
      ],
      "text/plain": [
       "     data_ref  index sexo posse_de_veiculo posse_de_imovel  qtd_filhos  \\\n",
       "0  2015-01-01   5762    M                S               N           0   \n",
       "1  2015-01-01   1279    M                S               N           0   \n",
       "2  2015-01-01  14111    M                S               N           0   \n",
       "3  2015-01-01   8189    M                N               S           2   \n",
       "4  2015-01-01   1830    F                N               S           2   \n",
       "\n",
       "    tipo_renda             educacao estado_civil tipo_residencia  idade  \\\n",
       "0   Empresário    Superior completo       Casado            Casa     47   \n",
       "1  Assalariado  Superior incompleto       Casado            Casa     30   \n",
       "2  Assalariado    Superior completo       Casado            Casa     28   \n",
       "3  Assalariado                Médio       Casado            Casa     44   \n",
       "4  Assalariado    Superior completo       Casado            Casa     33   \n",
       "\n",
       "   tempo_emprego  qt_pessoas_residencia     renda  \n",
       "0      16.717808                    2.0  11138.14  \n",
       "1       9.600000                    2.0   2424.81  \n",
       "2       8.208219                    2.0  13749.66  \n",
       "3       1.301370                    4.0   2361.84  \n",
       "4       1.254795                    4.0    790.78  "
      ]
     },
     "execution_count": 2,
     "metadata": {},
     "output_type": "execute_result"
    }
   ],
   "source": [
    "#Baixando a base de dados \n",
    "\n",
    "data=pd.read_csv('previsao_de_renda_II.csv')\n",
    "data.head()"
   ]
  },
  {
   "cell_type": "code",
   "execution_count": 3,
   "id": "c7c99b3f",
   "metadata": {},
   "outputs": [
    {
     "name": "stdout",
     "output_type": "stream",
     "text": [
      "<class 'pandas.core.frame.DataFrame'>\n",
      "RangeIndex: 750000 entries, 0 to 749999\n",
      "Data columns (total 14 columns):\n",
      " #   Column                 Non-Null Count   Dtype  \n",
      "---  ------                 --------------   -----  \n",
      " 0   data_ref               750000 non-null  object \n",
      " 1   index                  750000 non-null  int64  \n",
      " 2   sexo                   750000 non-null  object \n",
      " 3   posse_de_veiculo       750000 non-null  object \n",
      " 4   posse_de_imovel        750000 non-null  object \n",
      " 5   qtd_filhos             750000 non-null  int64  \n",
      " 6   tipo_renda             750000 non-null  object \n",
      " 7   educacao               750000 non-null  object \n",
      " 8   estado_civil           750000 non-null  object \n",
      " 9   tipo_residencia        750000 non-null  object \n",
      " 10  idade                  750000 non-null  int64  \n",
      " 11  tempo_emprego          624240 non-null  float64\n",
      " 12  qt_pessoas_residencia  750000 non-null  float64\n",
      " 13  renda                  750000 non-null  float64\n",
      "dtypes: float64(3), int64(3), object(8)\n",
      "memory usage: 80.1+ MB\n"
     ]
    }
   ],
   "source": [
    "data.info()"
   ]
  },
  {
   "cell_type": "markdown",
   "id": "00f0e3f1",
   "metadata": {},
   "source": [
    "## Avaliando valores missing e substituindo pela média"
   ]
  },
  {
   "cell_type": "code",
   "execution_count": 4,
   "id": "3bd8df6d",
   "metadata": {},
   "outputs": [
    {
     "data": {
      "text/plain": [
       "data_ref                      0\n",
       "index                         0\n",
       "sexo                          0\n",
       "posse_de_veiculo              0\n",
       "posse_de_imovel               0\n",
       "qtd_filhos                    0\n",
       "tipo_renda                    0\n",
       "educacao                      0\n",
       "estado_civil                  0\n",
       "tipo_residencia               0\n",
       "idade                         0\n",
       "tempo_emprego            125760\n",
       "qt_pessoas_residencia         0\n",
       "renda                         0\n",
       "dtype: int64"
      ]
     },
     "execution_count": 4,
     "metadata": {},
     "output_type": "execute_result"
    }
   ],
   "source": [
    "data.isna().sum()"
   ]
  },
  {
   "cell_type": "markdown",
   "id": "58455b63",
   "metadata": {},
   "source": [
    "- Substituindo os valores faltantes com a média "
   ]
  },
  {
   "cell_type": "code",
   "execution_count": 5,
   "id": "f81e69a2",
   "metadata": {},
   "outputs": [],
   "source": [
    "data.fillna(data['tempo_emprego'].mean(),inplace=True)"
   ]
  },
  {
   "cell_type": "markdown",
   "id": "9ce036a3",
   "metadata": {},
   "source": [
    "- Separandos os três ultimos meses como base teste"
   ]
  },
  {
   "cell_type": "markdown",
   "id": "5c56515b",
   "metadata": {},
   "source": [
    "## Base de teste"
   ]
  },
  {
   "cell_type": "code",
   "execution_count": 6,
   "id": "82e899dd",
   "metadata": {},
   "outputs": [
    {
     "data": {
      "text/plain": [
       "2015-01-01    50000\n",
       "2015-02-01    50000\n",
       "2015-03-01    50000\n",
       "2015-04-01    50000\n",
       "2015-05-01    50000\n",
       "2015-06-01    50000\n",
       "2015-07-01    50000\n",
       "2015-08-01    50000\n",
       "2015-09-01    50000\n",
       "2015-10-01    50000\n",
       "2015-11-01    50000\n",
       "2015-12-01    50000\n",
       "2016-01-01    50000\n",
       "2016-02-01    50000\n",
       "2016-03-01    50000\n",
       "Name: data_ref, dtype: int64"
      ]
     },
     "execution_count": 6,
     "metadata": {},
     "output_type": "execute_result"
    }
   ],
   "source": [
    "#Verificando os meses que aparece na base\n",
    "data['data_ref'].value_counts()"
   ]
  },
  {
   "cell_type": "code",
   "execution_count": 7,
   "id": "ab5d40b3",
   "metadata": {},
   "outputs": [
    {
     "data": {
      "text/plain": [
       "2016-01-01    50000\n",
       "2016-02-01    50000\n",
       "2016-03-01    50000\n",
       "Name: data_ref, dtype: int64"
      ]
     },
     "execution_count": 7,
     "metadata": {},
     "output_type": "execute_result"
    }
   ],
   "source": [
    "#Separando os três ultimos meses como base teste\n",
    "teste=data[data['data_ref']>'2015-12-01']\n",
    "teste['data_ref'].value_counts()"
   ]
  },
  {
   "cell_type": "code",
   "execution_count": 8,
   "id": "a642c934",
   "metadata": {
    "scrolled": false
   },
   "outputs": [
    {
     "data": {
      "text/plain": [
       "2015-01-01    50000\n",
       "2015-02-01    50000\n",
       "2015-03-01    50000\n",
       "2015-04-01    50000\n",
       "2015-05-01    50000\n",
       "2015-06-01    50000\n",
       "2015-07-01    50000\n",
       "2015-08-01    50000\n",
       "2015-09-01    50000\n",
       "2015-10-01    50000\n",
       "2015-11-01    50000\n",
       "2015-12-01    50000\n",
       "Name: data_ref, dtype: int64"
      ]
     },
     "execution_count": 8,
     "metadata": {},
     "output_type": "execute_result"
    }
   ],
   "source": [
    "#Separando a base que vamos treinar o modelo\n",
    "data=data[data['data_ref']<'2016-01-01']\n",
    "data['data_ref'].value_counts()"
   ]
  },
  {
   "cell_type": "code",
   "execution_count": 9,
   "id": "3813db80",
   "metadata": {},
   "outputs": [
    {
     "data": {
      "text/plain": [
       "Index(['data_ref', 'index', 'sexo', 'posse_de_veiculo', 'posse_de_imovel',\n",
       "       'qtd_filhos', 'tipo_renda', 'educacao', 'estado_civil',\n",
       "       'tipo_residencia', 'idade', 'tempo_emprego', 'qt_pessoas_residencia',\n",
       "       'renda'],\n",
       "      dtype='object')"
      ]
     },
     "execution_count": 9,
     "metadata": {},
     "output_type": "execute_result"
    }
   ],
   "source": [
    "data.columns"
   ]
  },
  {
   "cell_type": "markdown",
   "id": "25d40b88",
   "metadata": {},
   "source": [
    "Avaliando o modelo com $R^2 ajustado$"
   ]
  },
  {
   "cell_type": "code",
   "execution_count": 10,
   "id": "247eaa21",
   "metadata": {},
   "outputs": [
    {
     "data": {
      "text/html": [
       "<table class=\"simpletable\">\n",
       "<caption>OLS Regression Results</caption>\n",
       "<tr>\n",
       "  <th>Dep. Variable:</th>      <td>np.log(renda)</td>  <th>  R-squared:         </th>  <td>   0.438</td>  \n",
       "</tr>\n",
       "<tr>\n",
       "  <th>Model:</th>                   <td>OLS</td>       <th>  Adj. R-squared:    </th>  <td>   0.438</td>  \n",
       "</tr>\n",
       "<tr>\n",
       "  <th>Method:</th>             <td>Least Squares</td>  <th>  F-statistic:       </th>  <td>1.947e+04</td> \n",
       "</tr>\n",
       "<tr>\n",
       "  <th>Date:</th>             <td>Wed, 05 Jul 2023</td> <th>  Prob (F-statistic):</th>   <td>  0.00</td>   \n",
       "</tr>\n",
       "<tr>\n",
       "  <th>Time:</th>                 <td>19:13:15</td>     <th>  Log-Likelihood:    </th> <td>-7.9748e+05</td>\n",
       "</tr>\n",
       "<tr>\n",
       "  <th>No. Observations:</th>      <td>600000</td>      <th>  AIC:               </th>  <td>1.595e+06</td> \n",
       "</tr>\n",
       "<tr>\n",
       "  <th>Df Residuals:</th>          <td>599975</td>      <th>  BIC:               </th>  <td>1.595e+06</td> \n",
       "</tr>\n",
       "<tr>\n",
       "  <th>Df Model:</th>              <td>    24</td>      <th>                     </th>      <td> </td>     \n",
       "</tr>\n",
       "<tr>\n",
       "  <th>Covariance Type:</th>      <td>nonrobust</td>    <th>                     </th>      <td> </td>     \n",
       "</tr>\n",
       "</table>\n",
       "<table class=\"simpletable\">\n",
       "<tr>\n",
       "                  <td></td>                    <th>coef</th>     <th>std err</th>      <th>t</th>      <th>P>|t|</th>  <th>[0.025</th>    <th>0.975]</th>  \n",
       "</tr>\n",
       "<tr>\n",
       "  <th>Intercept</th>                        <td>    7.6405</td> <td>    0.048</td> <td>  160.310</td> <td> 0.000</td> <td>    7.547</td> <td>    7.734</td>\n",
       "</tr>\n",
       "<tr>\n",
       "  <th>sexo[T.M]</th>                        <td>    0.1354</td> <td>    0.003</td> <td>   48.568</td> <td> 0.000</td> <td>    0.130</td> <td>    0.141</td>\n",
       "</tr>\n",
       "<tr>\n",
       "  <th>posse_de_veiculo[T.S]</th>            <td>    0.0055</td> <td>    0.003</td> <td>    2.087</td> <td> 0.037</td> <td>    0.000</td> <td>    0.011</td>\n",
       "</tr>\n",
       "<tr>\n",
       "  <th>posse_de_imovel[T.S]</th>             <td>    0.1852</td> <td>    0.003</td> <td>   71.417</td> <td> 0.000</td> <td>    0.180</td> <td>    0.190</td>\n",
       "</tr>\n",
       "<tr>\n",
       "  <th>tipo_renda[T.Bolsista]</th>           <td>   -0.2166</td> <td>    0.052</td> <td>   -4.129</td> <td> 0.000</td> <td>   -0.319</td> <td>   -0.114</td>\n",
       "</tr>\n",
       "<tr>\n",
       "  <th>tipo_renda[T.Empresário]</th>         <td>    0.1452</td> <td>    0.003</td> <td>   48.527</td> <td> 0.000</td> <td>    0.139</td> <td>    0.151</td>\n",
       "</tr>\n",
       "<tr>\n",
       "  <th>tipo_renda[T.Pensionista]</th>        <td>   -0.2974</td> <td>    0.004</td> <td>  -69.709</td> <td> 0.000</td> <td>   -0.306</td> <td>   -0.289</td>\n",
       "</tr>\n",
       "<tr>\n",
       "  <th>tipo_renda[T.Servidor público]</th>   <td>    0.1333</td> <td>    0.004</td> <td>   30.253</td> <td> 0.000</td> <td>    0.125</td> <td>    0.142</td>\n",
       "</tr>\n",
       "<tr>\n",
       "  <th>educacao[T.Médio]</th>                <td>    0.0301</td> <td>    0.011</td> <td>    2.689</td> <td> 0.007</td> <td>    0.008</td> <td>    0.052</td>\n",
       "</tr>\n",
       "<tr>\n",
       "  <th>educacao[T.Pós graduação]</th>        <td>    0.1542</td> <td>    0.038</td> <td>    4.043</td> <td> 0.000</td> <td>    0.079</td> <td>    0.229</td>\n",
       "</tr>\n",
       "<tr>\n",
       "  <th>educacao[T.Superior completo]</th>    <td>    0.1233</td> <td>    0.011</td> <td>   10.896</td> <td> 0.000</td> <td>    0.101</td> <td>    0.146</td>\n",
       "</tr>\n",
       "<tr>\n",
       "  <th>educacao[T.Superior incompleto]</th>  <td>    0.0434</td> <td>    0.013</td> <td>    3.424</td> <td> 0.001</td> <td>    0.019</td> <td>    0.068</td>\n",
       "</tr>\n",
       "<tr>\n",
       "  <th>estado_civil[T.Separado]</th>         <td>    0.1793</td> <td>    0.023</td> <td>    7.792</td> <td> 0.000</td> <td>    0.134</td> <td>    0.224</td>\n",
       "</tr>\n",
       "<tr>\n",
       "  <th>estado_civil[T.Solteiro]</th>         <td>    0.1614</td> <td>    0.023</td> <td>    7.151</td> <td> 0.000</td> <td>    0.117</td> <td>    0.206</td>\n",
       "</tr>\n",
       "<tr>\n",
       "  <th>estado_civil[T.União]</th>            <td>    0.0097</td> <td>    0.005</td> <td>    2.161</td> <td> 0.031</td> <td>    0.001</td> <td>    0.019</td>\n",
       "</tr>\n",
       "<tr>\n",
       "  <th>estado_civil[T.Viúvo]</th>            <td>    0.1634</td> <td>    0.023</td> <td>    7.027</td> <td> 0.000</td> <td>    0.118</td> <td>    0.209</td>\n",
       "</tr>\n",
       "<tr>\n",
       "  <th>tipo_residencia[T.Casa]</th>          <td>   -0.0881</td> <td>    0.010</td> <td>   -8.651</td> <td> 0.000</td> <td>   -0.108</td> <td>   -0.068</td>\n",
       "</tr>\n",
       "<tr>\n",
       "  <th>tipo_residencia[T.Com os pais]</th>   <td>   -0.0557</td> <td>    0.012</td> <td>   -4.823</td> <td> 0.000</td> <td>   -0.078</td> <td>   -0.033</td>\n",
       "</tr>\n",
       "<tr>\n",
       "  <th>tipo_residencia[T.Comunitário]</th>   <td>   -0.1404</td> <td>    0.021</td> <td>   -6.835</td> <td> 0.000</td> <td>   -0.181</td> <td>   -0.100</td>\n",
       "</tr>\n",
       "<tr>\n",
       "  <th>tipo_residencia[T.Estúdio]</th>       <td>   -0.1408</td> <td>    0.017</td> <td>   -8.203</td> <td> 0.000</td> <td>   -0.174</td> <td>   -0.107</td>\n",
       "</tr>\n",
       "<tr>\n",
       "  <th>tipo_residencia[T.Governamental]</th> <td>   -0.0942</td> <td>    0.012</td> <td>   -7.773</td> <td> 0.000</td> <td>   -0.118</td> <td>   -0.070</td>\n",
       "</tr>\n",
       "<tr>\n",
       "  <th>qtd_filhos</th>                       <td>   -0.1498</td> <td>    0.022</td> <td>   -6.668</td> <td> 0.000</td> <td>   -0.194</td> <td>   -0.106</td>\n",
       "</tr>\n",
       "<tr>\n",
       "  <th>idade</th>                            <td>    0.0042</td> <td>    0.000</td> <td>   26.893</td> <td> 0.000</td> <td>    0.004</td> <td>    0.004</td>\n",
       "</tr>\n",
       "<tr>\n",
       "  <th>tempo_emprego</th>                    <td>    0.1290</td> <td>    0.000</td> <td>  619.711</td> <td> 0.000</td> <td>    0.129</td> <td>    0.129</td>\n",
       "</tr>\n",
       "<tr>\n",
       "  <th>qt_pessoas_residencia</th>            <td>    0.1554</td> <td>    0.022</td> <td>    6.929</td> <td> 0.000</td> <td>    0.111</td> <td>    0.199</td>\n",
       "</tr>\n",
       "</table>\n",
       "<table class=\"simpletable\">\n",
       "<tr>\n",
       "  <th>Omnibus:</th>       <td>1088.041</td> <th>  Durbin-Watson:     </th> <td>   1.234</td> \n",
       "</tr>\n",
       "<tr>\n",
       "  <th>Prob(Omnibus):</th>  <td> 0.000</td>  <th>  Jarque-Bera (JB):  </th> <td> 957.929</td> \n",
       "</tr>\n",
       "<tr>\n",
       "  <th>Skew:</th>           <td>-0.052</td>  <th>  Prob(JB):          </th> <td>9.73e-209</td>\n",
       "</tr>\n",
       "<tr>\n",
       "  <th>Kurtosis:</th>       <td> 2.835</td>  <th>  Cond. No.          </th> <td>2.66e+03</td> \n",
       "</tr>\n",
       "</table><br/><br/>Notes:<br/>[1] Standard Errors assume that the covariance matrix of the errors is correctly specified.<br/>[2] The condition number is large, 2.66e+03. This might indicate that there are<br/>strong multicollinearity or other numerical problems."
      ],
      "text/plain": [
       "<class 'statsmodels.iolib.summary.Summary'>\n",
       "\"\"\"\n",
       "                            OLS Regression Results                            \n",
       "==============================================================================\n",
       "Dep. Variable:          np.log(renda)   R-squared:                       0.438\n",
       "Model:                            OLS   Adj. R-squared:                  0.438\n",
       "Method:                 Least Squares   F-statistic:                 1.947e+04\n",
       "Date:                Wed, 05 Jul 2023   Prob (F-statistic):               0.00\n",
       "Time:                        19:13:15   Log-Likelihood:            -7.9748e+05\n",
       "No. Observations:              600000   AIC:                         1.595e+06\n",
       "Df Residuals:                  599975   BIC:                         1.595e+06\n",
       "Df Model:                          24                                         \n",
       "Covariance Type:            nonrobust                                         \n",
       "====================================================================================================\n",
       "                                       coef    std err          t      P>|t|      [0.025      0.975]\n",
       "----------------------------------------------------------------------------------------------------\n",
       "Intercept                            7.6405      0.048    160.310      0.000       7.547       7.734\n",
       "sexo[T.M]                            0.1354      0.003     48.568      0.000       0.130       0.141\n",
       "posse_de_veiculo[T.S]                0.0055      0.003      2.087      0.037       0.000       0.011\n",
       "posse_de_imovel[T.S]                 0.1852      0.003     71.417      0.000       0.180       0.190\n",
       "tipo_renda[T.Bolsista]              -0.2166      0.052     -4.129      0.000      -0.319      -0.114\n",
       "tipo_renda[T.Empresário]             0.1452      0.003     48.527      0.000       0.139       0.151\n",
       "tipo_renda[T.Pensionista]           -0.2974      0.004    -69.709      0.000      -0.306      -0.289\n",
       "tipo_renda[T.Servidor público]       0.1333      0.004     30.253      0.000       0.125       0.142\n",
       "educacao[T.Médio]                    0.0301      0.011      2.689      0.007       0.008       0.052\n",
       "educacao[T.Pós graduação]            0.1542      0.038      4.043      0.000       0.079       0.229\n",
       "educacao[T.Superior completo]        0.1233      0.011     10.896      0.000       0.101       0.146\n",
       "educacao[T.Superior incompleto]      0.0434      0.013      3.424      0.001       0.019       0.068\n",
       "estado_civil[T.Separado]             0.1793      0.023      7.792      0.000       0.134       0.224\n",
       "estado_civil[T.Solteiro]             0.1614      0.023      7.151      0.000       0.117       0.206\n",
       "estado_civil[T.União]                0.0097      0.005      2.161      0.031       0.001       0.019\n",
       "estado_civil[T.Viúvo]                0.1634      0.023      7.027      0.000       0.118       0.209\n",
       "tipo_residencia[T.Casa]             -0.0881      0.010     -8.651      0.000      -0.108      -0.068\n",
       "tipo_residencia[T.Com os pais]      -0.0557      0.012     -4.823      0.000      -0.078      -0.033\n",
       "tipo_residencia[T.Comunitário]      -0.1404      0.021     -6.835      0.000      -0.181      -0.100\n",
       "tipo_residencia[T.Estúdio]          -0.1408      0.017     -8.203      0.000      -0.174      -0.107\n",
       "tipo_residencia[T.Governamental]    -0.0942      0.012     -7.773      0.000      -0.118      -0.070\n",
       "qtd_filhos                          -0.1498      0.022     -6.668      0.000      -0.194      -0.106\n",
       "idade                                0.0042      0.000     26.893      0.000       0.004       0.004\n",
       "tempo_emprego                        0.1290      0.000    619.711      0.000       0.129       0.129\n",
       "qt_pessoas_residencia                0.1554      0.022      6.929      0.000       0.111       0.199\n",
       "==============================================================================\n",
       "Omnibus:                     1088.041   Durbin-Watson:                   1.234\n",
       "Prob(Omnibus):                  0.000   Jarque-Bera (JB):              957.929\n",
       "Skew:                          -0.052   Prob(JB):                    9.73e-209\n",
       "Kurtosis:                       2.835   Cond. No.                     2.66e+03\n",
       "==============================================================================\n",
       "\n",
       "Notes:\n",
       "[1] Standard Errors assume that the covariance matrix of the errors is correctly specified.\n",
       "[2] The condition number is large, 2.66e+03. This might indicate that there are\n",
       "strong multicollinearity or other numerical problems.\n",
       "\"\"\""
      ]
     },
     "execution_count": 10,
     "metadata": {},
     "output_type": "execute_result"
    }
   ],
   "source": [
    "res_modelo = smf.ols('''np.log(renda) ~ sexo + posse_de_veiculo + posse_de_imovel + qtd_filhos + tipo_renda + educacao + estado_civil + tipo_residencia + idade + tempo_emprego + qt_pessoas_residencia''',data=data).fit()\n",
    "res_modelo.summary()\n"
   ]
  },
  {
   "cell_type": "markdown",
   "id": "8e786d5b",
   "metadata": {},
   "source": [
    "- Todas as variavéis incluidas no modelo são significamente importantes para explicar a renda (variável predita), no entanto o modelo ainda não é muito explicativo. Vou tentar melhor o modelo. "
   ]
  },
  {
   "cell_type": "code",
   "execution_count": 11,
   "id": "35f6d714",
   "metadata": {},
   "outputs": [
    {
     "name": "stdout",
     "output_type": "stream",
     "text": [
      "O R2 do modelo é : 43.78%\n"
     ]
    }
   ],
   "source": [
    "print(f'O R2 do modelo é : {res_modelo.rsquared:.2%}')"
   ]
  },
  {
   "cell_type": "markdown",
   "id": "3a679f7a",
   "metadata": {},
   "source": [
    "## Análise de perfil "
   ]
  },
  {
   "cell_type": "code",
   "execution_count": 12,
   "id": "fe969292",
   "metadata": {},
   "outputs": [],
   "source": [
    "#Categorizando a variável tempo_emprego em 20 quantis\n",
    "data['tempo_emprego_cat'], quebras = pd.qcut(data['tempo_emprego'], 20, duplicates='drop', retbins=True)\n",
    "data\n",
    "y_media = pd.DataFrame()\n",
    "\n",
    "#Criando uma variáveis com a quantidade de observações por quartil\n",
    "y_media['qtd_observacoes'] = data.groupby('tempo_emprego_cat')['renda'].count()\n",
    "\n",
    "#Criando uma variável com a média de renda por quartil\n",
    "y_media['renda'] = data.groupby('tempo_emprego_cat')['renda'].mean()\n",
    "\n",
    "#Criando uma variável com o log da renda\n",
    "data['log_renda']=np.log(data['renda'])\n",
    "\n",
    "#Criando uma variável com a média do log da renda por quartil\n",
    "y_media['media_log_renda'] = data.groupby('tempo_emprego_cat')['log_renda'].mean()\n",
    "\n",
    "#Criando uma variável com a média do tempo_emprego por quartil\n",
    "y_media['media_tempo_emprego'] = data.groupby('tempo_emprego_cat')['tempo_emprego'].mean()\n"
   ]
  },
  {
   "cell_type": "code",
   "execution_count": 13,
   "id": "b9610e9a",
   "metadata": {},
   "outputs": [
    {
     "data": {
      "text/html": [
       "<div>\n",
       "<style scoped>\n",
       "    .dataframe tbody tr th:only-of-type {\n",
       "        vertical-align: middle;\n",
       "    }\n",
       "\n",
       "    .dataframe tbody tr th {\n",
       "        vertical-align: top;\n",
       "    }\n",
       "\n",
       "    .dataframe thead th {\n",
       "        text-align: right;\n",
       "    }\n",
       "</style>\n",
       "<table border=\"1\" class=\"dataframe\">\n",
       "  <thead>\n",
       "    <tr style=\"text-align: right;\">\n",
       "      <th></th>\n",
       "      <th>qtd_observacoes</th>\n",
       "      <th>renda</th>\n",
       "      <th>media_log_renda</th>\n",
       "      <th>media_tempo_emprego</th>\n",
       "    </tr>\n",
       "    <tr>\n",
       "      <th>tempo_emprego_cat</th>\n",
       "      <th></th>\n",
       "      <th></th>\n",
       "      <th></th>\n",
       "      <th></th>\n",
       "    </tr>\n",
       "  </thead>\n",
       "  <tbody>\n",
       "    <tr>\n",
       "      <th>(0.11699999999999999, 0.816]</th>\n",
       "      <td>30234</td>\n",
       "      <td>6406.615090</td>\n",
       "      <td>8.364965</td>\n",
       "      <td>0.515042</td>\n",
       "    </tr>\n",
       "    <tr>\n",
       "      <th>(0.816, 1.458]</th>\n",
       "      <td>30031</td>\n",
       "      <td>7316.772629</td>\n",
       "      <td>8.454323</td>\n",
       "      <td>1.125014</td>\n",
       "    </tr>\n",
       "    <tr>\n",
       "      <th>(1.458, 2.096]</th>\n",
       "      <td>29736</td>\n",
       "      <td>8037.073066</td>\n",
       "      <td>8.569544</td>\n",
       "      <td>1.781261</td>\n",
       "    </tr>\n",
       "    <tr>\n",
       "      <th>(2.096, 2.912]</th>\n",
       "      <td>30013</td>\n",
       "      <td>8674.879755</td>\n",
       "      <td>8.624148</td>\n",
       "      <td>2.510920</td>\n",
       "    </tr>\n",
       "    <tr>\n",
       "      <th>(2.912, 3.636]</th>\n",
       "      <td>30408</td>\n",
       "      <td>9762.372783</td>\n",
       "      <td>8.755365</td>\n",
       "      <td>3.301180</td>\n",
       "    </tr>\n",
       "    <tr>\n",
       "      <th>(3.636, 4.299]</th>\n",
       "      <td>29625</td>\n",
       "      <td>11041.231269</td>\n",
       "      <td>8.855078</td>\n",
       "      <td>3.987156</td>\n",
       "    </tr>\n",
       "    <tr>\n",
       "      <th>(4.299, 4.934]</th>\n",
       "      <td>30109</td>\n",
       "      <td>11396.170754</td>\n",
       "      <td>8.903273</td>\n",
       "      <td>4.610421</td>\n",
       "    </tr>\n",
       "    <tr>\n",
       "      <th>(4.934, 5.759]</th>\n",
       "      <td>29991</td>\n",
       "      <td>12888.668890</td>\n",
       "      <td>9.049495</td>\n",
       "      <td>5.367829</td>\n",
       "    </tr>\n",
       "    <tr>\n",
       "      <th>(5.759, 6.622]</th>\n",
       "      <td>30003</td>\n",
       "      <td>13859.133577</td>\n",
       "      <td>9.139216</td>\n",
       "      <td>6.205546</td>\n",
       "    </tr>\n",
       "    <tr>\n",
       "      <th>(6.622, 7.471]</th>\n",
       "      <td>29926</td>\n",
       "      <td>15278.462948</td>\n",
       "      <td>9.224298</td>\n",
       "      <td>7.009358</td>\n",
       "    </tr>\n",
       "    <tr>\n",
       "      <th>(7.471, 7.746]</th>\n",
       "      <td>109408</td>\n",
       "      <td>12746.542821</td>\n",
       "      <td>9.051499</td>\n",
       "      <td>7.734500</td>\n",
       "    </tr>\n",
       "    <tr>\n",
       "      <th>(7.746, 8.107]</th>\n",
       "      <td>10796</td>\n",
       "      <td>17395.070942</td>\n",
       "      <td>9.368066</td>\n",
       "      <td>7.930257</td>\n",
       "    </tr>\n",
       "    <tr>\n",
       "      <th>(8.107, 9.082]</th>\n",
       "      <td>29740</td>\n",
       "      <td>18854.104510</td>\n",
       "      <td>9.428302</td>\n",
       "      <td>8.572256</td>\n",
       "    </tr>\n",
       "    <tr>\n",
       "      <th>(9.082, 10.436]</th>\n",
       "      <td>30005</td>\n",
       "      <td>22215.315137</td>\n",
       "      <td>9.599298</td>\n",
       "      <td>9.741024</td>\n",
       "    </tr>\n",
       "    <tr>\n",
       "      <th>(10.436, 12.466]</th>\n",
       "      <td>29991</td>\n",
       "      <td>25830.727913</td>\n",
       "      <td>9.773545</td>\n",
       "      <td>11.383356</td>\n",
       "    </tr>\n",
       "    <tr>\n",
       "      <th>(12.466, 15.214]</th>\n",
       "      <td>30025</td>\n",
       "      <td>37019.631677</td>\n",
       "      <td>10.127487</td>\n",
       "      <td>13.855346</td>\n",
       "    </tr>\n",
       "    <tr>\n",
       "      <th>(15.214, 20.216]</th>\n",
       "      <td>29999</td>\n",
       "      <td>66694.044864</td>\n",
       "      <td>10.657687</td>\n",
       "      <td>17.538365</td>\n",
       "    </tr>\n",
       "    <tr>\n",
       "      <th>(20.216, 42.907]</th>\n",
       "      <td>29960</td>\n",
       "      <td>234020.045065</td>\n",
       "      <td>11.732204</td>\n",
       "      <td>26.457212</td>\n",
       "    </tr>\n",
       "  </tbody>\n",
       "</table>\n",
       "</div>"
      ],
      "text/plain": [
       "                              qtd_observacoes          renda  media_log_renda  \\\n",
       "tempo_emprego_cat                                                               \n",
       "(0.11699999999999999, 0.816]            30234    6406.615090         8.364965   \n",
       "(0.816, 1.458]                          30031    7316.772629         8.454323   \n",
       "(1.458, 2.096]                          29736    8037.073066         8.569544   \n",
       "(2.096, 2.912]                          30013    8674.879755         8.624148   \n",
       "(2.912, 3.636]                          30408    9762.372783         8.755365   \n",
       "(3.636, 4.299]                          29625   11041.231269         8.855078   \n",
       "(4.299, 4.934]                          30109   11396.170754         8.903273   \n",
       "(4.934, 5.759]                          29991   12888.668890         9.049495   \n",
       "(5.759, 6.622]                          30003   13859.133577         9.139216   \n",
       "(6.622, 7.471]                          29926   15278.462948         9.224298   \n",
       "(7.471, 7.746]                         109408   12746.542821         9.051499   \n",
       "(7.746, 8.107]                          10796   17395.070942         9.368066   \n",
       "(8.107, 9.082]                          29740   18854.104510         9.428302   \n",
       "(9.082, 10.436]                         30005   22215.315137         9.599298   \n",
       "(10.436, 12.466]                        29991   25830.727913         9.773545   \n",
       "(12.466, 15.214]                        30025   37019.631677        10.127487   \n",
       "(15.214, 20.216]                        29999   66694.044864        10.657687   \n",
       "(20.216, 42.907]                        29960  234020.045065        11.732204   \n",
       "\n",
       "                              media_tempo_emprego  \n",
       "tempo_emprego_cat                                  \n",
       "(0.11699999999999999, 0.816]             0.515042  \n",
       "(0.816, 1.458]                           1.125014  \n",
       "(1.458, 2.096]                           1.781261  \n",
       "(2.096, 2.912]                           2.510920  \n",
       "(2.912, 3.636]                           3.301180  \n",
       "(3.636, 4.299]                           3.987156  \n",
       "(4.299, 4.934]                           4.610421  \n",
       "(4.934, 5.759]                           5.367829  \n",
       "(5.759, 6.622]                           6.205546  \n",
       "(6.622, 7.471]                           7.009358  \n",
       "(7.471, 7.746]                           7.734500  \n",
       "(7.746, 8.107]                           7.930257  \n",
       "(8.107, 9.082]                           8.572256  \n",
       "(9.082, 10.436]                          9.741024  \n",
       "(10.436, 12.466]                        11.383356  \n",
       "(12.466, 15.214]                        13.855346  \n",
       "(15.214, 20.216]                        17.538365  \n",
       "(20.216, 42.907]                        26.457212  "
      ]
     },
     "execution_count": 13,
     "metadata": {},
     "output_type": "execute_result"
    }
   ],
   "source": [
    "y_media"
   ]
  },
  {
   "cell_type": "code",
   "execution_count": 14,
   "id": "9f61f58c",
   "metadata": {
    "scrolled": true
   },
   "outputs": [
    {
     "data": {
      "text/plain": [
       "<AxesSubplot:xlabel='media_log_renda', ylabel='media_tempo_emprego'>"
      ]
     },
     "execution_count": 14,
     "metadata": {},
     "output_type": "execute_result"
    },
    {
     "data": {
      "image/png": "[encoded data removed]",
      "text/plain": [
       "<Figure size 432x288 with 1 Axes>"
      ]
     },
     "metadata": {
      "needs_background": "light"
     },
     "output_type": "display_data"
    }
   ],
   "source": [
    "\n",
    "sns.regplot(y='media_tempo_emprego',x='media_log_renda',color='r',data=y_media)"
   ]
  },
  {
   "cell_type": "markdown",
   "id": "8dacc1e4",
   "metadata": {},
   "source": [
    "- Transformação da variável tornou os dados observados de uma forma que muito linear onde é possível traçar uma reta com moir facilidade. "
   ]
  },
  {
   "cell_type": "code",
   "execution_count": 15,
   "id": "3662bbb4",
   "metadata": {
    "scrolled": true
   },
   "outputs": [
    {
     "name": "stderr",
     "output_type": "stream",
     "text": [
      "C:\\Users\\General\\anaconda3\\lib\\site-packages\\scipy\\stats\\stats.py:1541: UserWarning: kurtosistest only valid for n>=20 ... continuing anyway, n=18\n",
      "  warnings.warn(\"kurtosistest only valid for n>=20 ... continuing \"\n"
     ]
    },
    {
     "data": {
      "text/html": [
       "<table class=\"simpletable\">\n",
       "<caption>OLS Regression Results</caption>\n",
       "<tr>\n",
       "  <th>Dep. Variable:</th>     <td>media_log_renda</td> <th>  R-squared:         </th> <td>   0.993</td>\n",
       "</tr>\n",
       "<tr>\n",
       "  <th>Model:</th>                   <td>OLS</td>       <th>  Adj. R-squared:    </th> <td>   0.993</td>\n",
       "</tr>\n",
       "<tr>\n",
       "  <th>Method:</th>             <td>Least Squares</td>  <th>  F-statistic:       </th> <td>   2400.</td>\n",
       "</tr>\n",
       "<tr>\n",
       "  <th>Date:</th>             <td>Wed, 05 Jul 2023</td> <th>  Prob (F-statistic):</th> <td>7.28e-19</td>\n",
       "</tr>\n",
       "<tr>\n",
       "  <th>Time:</th>                 <td>19:13:21</td>     <th>  Log-Likelihood:    </th> <td>  23.144</td>\n",
       "</tr>\n",
       "<tr>\n",
       "  <th>No. Observations:</th>      <td>    18</td>      <th>  AIC:               </th> <td>  -42.29</td>\n",
       "</tr>\n",
       "<tr>\n",
       "  <th>Df Residuals:</th>          <td>    16</td>      <th>  BIC:               </th> <td>  -40.51</td>\n",
       "</tr>\n",
       "<tr>\n",
       "  <th>Df Model:</th>              <td>     1</td>      <th>                     </th>     <td> </td>   \n",
       "</tr>\n",
       "<tr>\n",
       "  <th>Covariance Type:</th>      <td>nonrobust</td>    <th>                     </th>     <td> </td>   \n",
       "</tr>\n",
       "</table>\n",
       "<table class=\"simpletable\">\n",
       "<tr>\n",
       "           <td></td>              <th>coef</th>     <th>std err</th>      <th>t</th>      <th>P>|t|</th>  <th>[0.025</th>    <th>0.975]</th>  \n",
       "</tr>\n",
       "<tr>\n",
       "  <th>Intercept</th>           <td>    8.3054</td> <td>    0.027</td> <td>  312.879</td> <td> 0.000</td> <td>    8.249</td> <td>    8.362</td>\n",
       "</tr>\n",
       "<tr>\n",
       "  <th>media_tempo_emprego</th> <td>    0.1302</td> <td>    0.003</td> <td>   48.992</td> <td> 0.000</td> <td>    0.125</td> <td>    0.136</td>\n",
       "</tr>\n",
       "</table>\n",
       "<table class=\"simpletable\">\n",
       "<tr>\n",
       "  <th>Omnibus:</th>       <td>39.163</td> <th>  Durbin-Watson:     </th> <td>   2.202</td>\n",
       "</tr>\n",
       "<tr>\n",
       "  <th>Prob(Omnibus):</th> <td> 0.000</td> <th>  Jarque-Bera (JB):  </th> <td> 105.156</td>\n",
       "</tr>\n",
       "<tr>\n",
       "  <th>Skew:</th>          <td>-3.200</td> <th>  Prob(JB):          </th> <td>1.46e-23</td>\n",
       "</tr>\n",
       "<tr>\n",
       "  <th>Kurtosis:</th>      <td>12.963</td> <th>  Cond. No.          </th> <td>    16.0</td>\n",
       "</tr>\n",
       "</table><br/><br/>Notes:<br/>[1] Standard Errors assume that the covariance matrix of the errors is correctly specified."
      ],
      "text/plain": [
       "<class 'statsmodels.iolib.summary.Summary'>\n",
       "\"\"\"\n",
       "                            OLS Regression Results                            \n",
       "==============================================================================\n",
       "Dep. Variable:        media_log_renda   R-squared:                       0.993\n",
       "Model:                            OLS   Adj. R-squared:                  0.993\n",
       "Method:                 Least Squares   F-statistic:                     2400.\n",
       "Date:                Wed, 05 Jul 2023   Prob (F-statistic):           7.28e-19\n",
       "Time:                        19:13:21   Log-Likelihood:                 23.144\n",
       "No. Observations:                  18   AIC:                            -42.29\n",
       "Df Residuals:                      16   BIC:                            -40.51\n",
       "Df Model:                           1                                         \n",
       "Covariance Type:            nonrobust                                         \n",
       "=======================================================================================\n",
       "                          coef    std err          t      P>|t|      [0.025      0.975]\n",
       "---------------------------------------------------------------------------------------\n",
       "Intercept               8.3054      0.027    312.879      0.000       8.249       8.362\n",
       "media_tempo_emprego     0.1302      0.003     48.992      0.000       0.125       0.136\n",
       "==============================================================================\n",
       "Omnibus:                       39.163   Durbin-Watson:                   2.202\n",
       "Prob(Omnibus):                  0.000   Jarque-Bera (JB):              105.156\n",
       "Skew:                          -3.200   Prob(JB):                     1.46e-23\n",
       "Kurtosis:                      12.963   Cond. No.                         16.0\n",
       "==============================================================================\n",
       "\n",
       "Notes:\n",
       "[1] Standard Errors assume that the covariance matrix of the errors is correctly specified.\n",
       "\"\"\""
      ]
     },
     "execution_count": 15,
     "metadata": {},
     "output_type": "execute_result"
    }
   ],
   "source": [
    "res = smf.ols('media_log_renda ~ media_tempo_emprego',data=y_media).fit()\n",
    "res.summary()\n"
   ]
  },
  {
   "cell_type": "code",
   "execution_count": 16,
   "id": "2b2b2994",
   "metadata": {},
   "outputs": [
    {
     "data": {
      "text/html": [
       "<div>\n",
       "<style scoped>\n",
       "    .dataframe tbody tr th:only-of-type {\n",
       "        vertical-align: middle;\n",
       "    }\n",
       "\n",
       "    .dataframe tbody tr th {\n",
       "        vertical-align: top;\n",
       "    }\n",
       "\n",
       "    .dataframe thead th {\n",
       "        text-align: right;\n",
       "    }\n",
       "</style>\n",
       "<table border=\"1\" class=\"dataframe\">\n",
       "  <thead>\n",
       "    <tr style=\"text-align: right;\">\n",
       "      <th></th>\n",
       "      <th>data_ref</th>\n",
       "      <th>index</th>\n",
       "      <th>sexo</th>\n",
       "      <th>posse_de_veiculo</th>\n",
       "      <th>posse_de_imovel</th>\n",
       "      <th>qtd_filhos</th>\n",
       "      <th>tipo_renda</th>\n",
       "      <th>educacao</th>\n",
       "      <th>estado_civil</th>\n",
       "      <th>tipo_residencia</th>\n",
       "      <th>idade</th>\n",
       "      <th>tempo_emprego</th>\n",
       "      <th>qt_pessoas_residencia</th>\n",
       "      <th>renda</th>\n",
       "      <th>tempo_emprego_cat</th>\n",
       "      <th>log_renda</th>\n",
       "    </tr>\n",
       "  </thead>\n",
       "  <tbody>\n",
       "    <tr>\n",
       "      <th>0</th>\n",
       "      <td>2015-01-01</td>\n",
       "      <td>5762</td>\n",
       "      <td>M</td>\n",
       "      <td>S</td>\n",
       "      <td>N</td>\n",
       "      <td>0</td>\n",
       "      <td>Empresário</td>\n",
       "      <td>Superior completo</td>\n",
       "      <td>Casado</td>\n",
       "      <td>Casa</td>\n",
       "      <td>47</td>\n",
       "      <td>16.717808</td>\n",
       "      <td>2.0</td>\n",
       "      <td>11138.14</td>\n",
       "      <td>(15.214, 20.216]</td>\n",
       "      <td>9.318131</td>\n",
       "    </tr>\n",
       "    <tr>\n",
       "      <th>1</th>\n",
       "      <td>2015-01-01</td>\n",
       "      <td>1279</td>\n",
       "      <td>M</td>\n",
       "      <td>S</td>\n",
       "      <td>N</td>\n",
       "      <td>0</td>\n",
       "      <td>Assalariado</td>\n",
       "      <td>Superior incompleto</td>\n",
       "      <td>Casado</td>\n",
       "      <td>Casa</td>\n",
       "      <td>30</td>\n",
       "      <td>9.600000</td>\n",
       "      <td>2.0</td>\n",
       "      <td>2424.81</td>\n",
       "      <td>(9.082, 10.436]</td>\n",
       "      <td>7.793508</td>\n",
       "    </tr>\n",
       "    <tr>\n",
       "      <th>2</th>\n",
       "      <td>2015-01-01</td>\n",
       "      <td>14111</td>\n",
       "      <td>M</td>\n",
       "      <td>S</td>\n",
       "      <td>N</td>\n",
       "      <td>0</td>\n",
       "      <td>Assalariado</td>\n",
       "      <td>Superior completo</td>\n",
       "      <td>Casado</td>\n",
       "      <td>Casa</td>\n",
       "      <td>28</td>\n",
       "      <td>8.208219</td>\n",
       "      <td>2.0</td>\n",
       "      <td>13749.66</td>\n",
       "      <td>(8.107, 9.082]</td>\n",
       "      <td>9.528769</td>\n",
       "    </tr>\n",
       "    <tr>\n",
       "      <th>3</th>\n",
       "      <td>2015-01-01</td>\n",
       "      <td>8189</td>\n",
       "      <td>M</td>\n",
       "      <td>N</td>\n",
       "      <td>S</td>\n",
       "      <td>2</td>\n",
       "      <td>Assalariado</td>\n",
       "      <td>Médio</td>\n",
       "      <td>Casado</td>\n",
       "      <td>Casa</td>\n",
       "      <td>44</td>\n",
       "      <td>1.301370</td>\n",
       "      <td>4.0</td>\n",
       "      <td>2361.84</td>\n",
       "      <td>(0.816, 1.458]</td>\n",
       "      <td>7.767196</td>\n",
       "    </tr>\n",
       "    <tr>\n",
       "      <th>4</th>\n",
       "      <td>2015-01-01</td>\n",
       "      <td>1830</td>\n",
       "      <td>F</td>\n",
       "      <td>N</td>\n",
       "      <td>S</td>\n",
       "      <td>2</td>\n",
       "      <td>Assalariado</td>\n",
       "      <td>Superior completo</td>\n",
       "      <td>Casado</td>\n",
       "      <td>Casa</td>\n",
       "      <td>33</td>\n",
       "      <td>1.254795</td>\n",
       "      <td>4.0</td>\n",
       "      <td>790.78</td>\n",
       "      <td>(0.816, 1.458]</td>\n",
       "      <td>6.673020</td>\n",
       "    </tr>\n",
       "    <tr>\n",
       "      <th>...</th>\n",
       "      <td>...</td>\n",
       "      <td>...</td>\n",
       "      <td>...</td>\n",
       "      <td>...</td>\n",
       "      <td>...</td>\n",
       "      <td>...</td>\n",
       "      <td>...</td>\n",
       "      <td>...</td>\n",
       "      <td>...</td>\n",
       "      <td>...</td>\n",
       "      <td>...</td>\n",
       "      <td>...</td>\n",
       "      <td>...</td>\n",
       "      <td>...</td>\n",
       "      <td>...</td>\n",
       "      <td>...</td>\n",
       "    </tr>\n",
       "    <tr>\n",
       "      <th>599995</th>\n",
       "      <td>2015-12-01</td>\n",
       "      <td>4650</td>\n",
       "      <td>F</td>\n",
       "      <td>N</td>\n",
       "      <td>S</td>\n",
       "      <td>1</td>\n",
       "      <td>Assalariado</td>\n",
       "      <td>Superior incompleto</td>\n",
       "      <td>Solteiro</td>\n",
       "      <td>Casa</td>\n",
       "      <td>37</td>\n",
       "      <td>4.441096</td>\n",
       "      <td>2.0</td>\n",
       "      <td>1893.35</td>\n",
       "      <td>(4.299, 4.934]</td>\n",
       "      <td>7.546103</td>\n",
       "    </tr>\n",
       "    <tr>\n",
       "      <th>599996</th>\n",
       "      <td>2015-12-01</td>\n",
       "      <td>9717</td>\n",
       "      <td>M</td>\n",
       "      <td>S</td>\n",
       "      <td>S</td>\n",
       "      <td>0</td>\n",
       "      <td>Empresário</td>\n",
       "      <td>Médio</td>\n",
       "      <td>Casado</td>\n",
       "      <td>Estúdio</td>\n",
       "      <td>44</td>\n",
       "      <td>2.345205</td>\n",
       "      <td>2.0</td>\n",
       "      <td>3080.48</td>\n",
       "      <td>(2.096, 2.912]</td>\n",
       "      <td>8.032841</td>\n",
       "    </tr>\n",
       "    <tr>\n",
       "      <th>599997</th>\n",
       "      <td>2015-12-01</td>\n",
       "      <td>7485</td>\n",
       "      <td>M</td>\n",
       "      <td>S</td>\n",
       "      <td>S</td>\n",
       "      <td>0</td>\n",
       "      <td>Assalariado</td>\n",
       "      <td>Médio</td>\n",
       "      <td>Casado</td>\n",
       "      <td>Casa</td>\n",
       "      <td>28</td>\n",
       "      <td>0.736986</td>\n",
       "      <td>2.0</td>\n",
       "      <td>5131.20</td>\n",
       "      <td>(0.11699999999999999, 0.816]</td>\n",
       "      <td>8.543095</td>\n",
       "    </tr>\n",
       "    <tr>\n",
       "      <th>599998</th>\n",
       "      <td>2015-12-01</td>\n",
       "      <td>15500</td>\n",
       "      <td>F</td>\n",
       "      <td>S</td>\n",
       "      <td>S</td>\n",
       "      <td>1</td>\n",
       "      <td>Empresário</td>\n",
       "      <td>Superior completo</td>\n",
       "      <td>Solteiro</td>\n",
       "      <td>Casa</td>\n",
       "      <td>27</td>\n",
       "      <td>6.791781</td>\n",
       "      <td>2.0</td>\n",
       "      <td>20449.25</td>\n",
       "      <td>(6.622, 7.471]</td>\n",
       "      <td>9.925701</td>\n",
       "    </tr>\n",
       "    <tr>\n",
       "      <th>599999</th>\n",
       "      <td>2015-12-01</td>\n",
       "      <td>1103</td>\n",
       "      <td>F</td>\n",
       "      <td>S</td>\n",
       "      <td>S</td>\n",
       "      <td>1</td>\n",
       "      <td>Servidor público</td>\n",
       "      <td>Superior completo</td>\n",
       "      <td>Viúvo</td>\n",
       "      <td>Casa</td>\n",
       "      <td>49</td>\n",
       "      <td>1.164384</td>\n",
       "      <td>2.0</td>\n",
       "      <td>1935.87</td>\n",
       "      <td>(0.816, 1.458]</td>\n",
       "      <td>7.568312</td>\n",
       "    </tr>\n",
       "  </tbody>\n",
       "</table>\n",
       "<p>600000 rows × 16 columns</p>\n",
       "</div>"
      ],
      "text/plain": [
       "          data_ref  index sexo posse_de_veiculo posse_de_imovel  qtd_filhos  \\\n",
       "0       2015-01-01   5762    M                S               N           0   \n",
       "1       2015-01-01   1279    M                S               N           0   \n",
       "2       2015-01-01  14111    M                S               N           0   \n",
       "3       2015-01-01   8189    M                N               S           2   \n",
       "4       2015-01-01   1830    F                N               S           2   \n",
       "...            ...    ...  ...              ...             ...         ...   \n",
       "599995  2015-12-01   4650    F                N               S           1   \n",
       "599996  2015-12-01   9717    M                S               S           0   \n",
       "599997  2015-12-01   7485    M                S               S           0   \n",
       "599998  2015-12-01  15500    F                S               S           1   \n",
       "599999  2015-12-01   1103    F                S               S           1   \n",
       "\n",
       "              tipo_renda             educacao estado_civil tipo_residencia  \\\n",
       "0             Empresário    Superior completo       Casado            Casa   \n",
       "1            Assalariado  Superior incompleto       Casado            Casa   \n",
       "2            Assalariado    Superior completo       Casado            Casa   \n",
       "3            Assalariado                Médio       Casado            Casa   \n",
       "4            Assalariado    Superior completo       Casado            Casa   \n",
       "...                  ...                  ...          ...             ...   \n",
       "599995       Assalariado  Superior incompleto     Solteiro            Casa   \n",
       "599996        Empresário                Médio       Casado         Estúdio   \n",
       "599997       Assalariado                Médio       Casado            Casa   \n",
       "599998        Empresário    Superior completo     Solteiro            Casa   \n",
       "599999  Servidor público    Superior completo        Viúvo            Casa   \n",
       "\n",
       "        idade  tempo_emprego  qt_pessoas_residencia     renda  \\\n",
       "0          47      16.717808                    2.0  11138.14   \n",
       "1          30       9.600000                    2.0   2424.81   \n",
       "2          28       8.208219                    2.0  13749.66   \n",
       "3          44       1.301370                    4.0   2361.84   \n",
       "4          33       1.254795                    4.0    790.78   \n",
       "...       ...            ...                    ...       ...   \n",
       "599995     37       4.441096                    2.0   1893.35   \n",
       "599996     44       2.345205                    2.0   3080.48   \n",
       "599997     28       0.736986                    2.0   5131.20   \n",
       "599998     27       6.791781                    2.0  20449.25   \n",
       "599999     49       1.164384                    2.0   1935.87   \n",
       "\n",
       "                   tempo_emprego_cat  log_renda  \n",
       "0                   (15.214, 20.216]   9.318131  \n",
       "1                    (9.082, 10.436]   7.793508  \n",
       "2                     (8.107, 9.082]   9.528769  \n",
       "3                     (0.816, 1.458]   7.767196  \n",
       "4                     (0.816, 1.458]   6.673020  \n",
       "...                              ...        ...  \n",
       "599995                (4.299, 4.934]   7.546103  \n",
       "599996                (2.096, 2.912]   8.032841  \n",
       "599997  (0.11699999999999999, 0.816]   8.543095  \n",
       "599998                (6.622, 7.471]   9.925701  \n",
       "599999                (0.816, 1.458]   7.568312  \n",
       "\n",
       "[600000 rows x 16 columns]"
      ]
     },
     "execution_count": 16,
     "metadata": {},
     "output_type": "execute_result"
    }
   ],
   "source": [
    "data"
   ]
  },
  {
   "cell_type": "code",
   "execution_count": 18,
   "id": "a2f82272",
   "metadata": {},
   "outputs": [
    {
     "name": "stdout",
     "output_type": "stream",
     "text": [
      "R2 ao realizar a usar a tecnica de segmentação 38.80% \n"
     ]
    },
    {
     "name": "stderr",
     "output_type": "stream",
     "text": [
      "C:\\Users\\General\\anaconda3\\lib\\site-packages\\scipy\\stats\\stats.py:1541: UserWarning: kurtosistest only valid for n>=20 ... continuing anyway, n=18\n",
      "  warnings.warn(\"kurtosistest only valid for n>=20 ... continuing \"\n"
     ]
    },
    {
     "data": {
      "text/plain": [
       "<AxesSubplot:xlabel='media_log_renda', ylabel='media_tempo_emprego'>"
      ]
     },
     "execution_count": 18,
     "metadata": {},
     "output_type": "execute_result"
    },
    {
     "data": {
      "image/png": "[encoded data removed]",
      "text/plain": [
       "<Figure size 432x288 with 1 Axes>"
      ]
     },
     "metadata": {
      "needs_background": "light"
     },
     "output_type": "display_data"
    }
   ],
   "source": [
    "# Resegmentação \n",
    "c1=10\n",
    "c2=30\n",
    "data['x_1']=(data.tempo_emprego<=c1)* data.tempo_emprego + (data.tempo_emprego>c1)*c1\n",
    "data['x_2']=(data.tempo_emprego<=c1)*0 + ((data.tempo_emprego>c1) & (data.tempo_emprego<=c2))*(data.tempo_emprego-c1)+ (data.tempo_emprego>c2)*(c2-c1)\n",
    "data['x_3']=(data.tempo_emprego<=c2)*0+(data.tempo_emprego>c2)*(data.tempo_emprego-c2)\n",
    "\n",
    "res_segmentacao=sm.OLS(data['renda'],data['tempo_emprego']).fit()\n",
    "res_segmentacao=smf.ols('renda ~ x_1 + x_2+ x_3',data=data).fit()\n",
    "print(f'R2 ao realizar a usar a tecnica de segmentação {res_segmentacao.rsquared:.2%} ')\n",
    "res.summary()\n",
    "fig,ax=plt.subplots()\n",
    "ax.plot(data.tempo_emprego,data.renda,'o',label='Dados observados',alpha=1)\n",
    "ax.plot(data.tempo_emprego,res_segmentacao.predict())\n",
    "sns.regplot(y='media_tempo_emprego',x='media_log_renda',color='r',data=y_media)"
   ]
  },
  {
   "cell_type": "code",
   "execution_count": 19,
   "id": "49d7559f",
   "metadata": {},
   "outputs": [
    {
     "data": {
      "text/plain": [
       "[<matplotlib.lines.Line2D at 0x196970348b0>]"
      ]
     },
     "execution_count": 19,
     "metadata": {},
     "output_type": "execute_result"
    },
    {
     "data": {
      "image/png": "[encoded data removed]",
      "text/plain": [
       "<Figure size 432x288 with 1 Axes>"
      ]
     },
     "metadata": {
      "needs_background": "light"
     },
     "output_type": "display_data"
    }
   ],
   "source": [
    "#Lowess\n",
    "\n",
    "lowess=sm.nonparametric.lowess(data['renda'],data['tempo_emprego'],frac=2/4)\n",
    "lowess_y=lowess[:,1 ]\n",
    "lowess_x=lowess[:,0 ]\n",
    "fig,ax=plt.subplots()\n",
    "ax.plot(data.tempo_emprego,data.renda,'o',label='Dados observados',alpha=0.1)\n",
    "ax.plot(data.tempo_emprego,lowess_y,'r--.',label='lowess')"
   ]
  },
  {
   "cell_type": "code",
   "execution_count": 20,
   "id": "c2c848b0",
   "metadata": {},
   "outputs": [],
   "source": [
    "f=interp1d(lowess_x,lowess_y,bounds_error=False)\n",
    "data['x1_lowess']=f(data.tempo_emprego)"
   ]
  },
  {
   "cell_type": "code",
   "execution_count": 21,
   "id": "c5ce46b0",
   "metadata": {},
   "outputs": [
    {
     "name": "stdout",
     "output_type": "stream",
     "text": [
      "R2 com a tecnica Lowess 35.23%\n"
     ]
    }
   ],
   "source": [
    "res_lowess=smf.ols('renda ~ x1_lowess',data=data).fit()\n",
    "print(f'R2 com a tecnica Lowess {res_lowess.rsquared:.2%}')\n"
   ]
  },
  {
   "cell_type": "code",
   "execution_count": 22,
   "id": "99cad010",
   "metadata": {},
   "outputs": [
    {
     "data": {
      "image/png": "[encoded data removed]",
      "text/plain": [
       "<Figure size 432x288 with 1 Axes>"
      ]
     },
     "metadata": {
      "needs_background": "light"
     },
     "output_type": "display_data"
    }
   ],
   "source": [
    "plt.plot(data['tempo_emprego'],data['renda'],'ko',label='data',alpha=0.25)\n",
    "plt.plot(data['tempo_emprego'],res_lowess.predict(),'r--',label='predict')\n",
    "plt.xlabel('reach')\n",
    "plt.ylabel('outr')\n",
    "plt.show()"
   ]
  },
  {
   "cell_type": "markdown",
   "id": "3d621ffb",
   "metadata": {},
   "source": [
    "- A tecnica de categorização teve uma perfomace melhor como podemos visualizar. "
   ]
  },
  {
   "cell_type": "code",
   "execution_count": 23,
   "id": "da28c524",
   "metadata": {},
   "outputs": [
    {
     "name": "stdout",
     "output_type": "stream",
     "text": [
      "R2 com a tecnica Lowess 35.23%\n",
      "R2 ao realizar a usar a tecnica de segmentação 38.80% \n",
      "O R2 do modelo é : 43.78%\n"
     ]
    }
   ],
   "source": [
    "print(f'R2 com a tecnica Lowess {res_lowess.rsquared:.2%}')\n",
    "print(f'R2 ao realizar a usar a tecnica de segmentação {res_segmentacao.rsquared:.2%} ')\n",
    "print(f'O R2 do modelo é : {res_modelo.rsquared:.2%}')"
   ]
  },
  {
   "cell_type": "code",
   "execution_count": null,
   "id": "f3dbde64",
   "metadata": {},
   "outputs": [],
   "source": []
  }
 ],
 "metadata": {
  "kernelspec": {
   "display_name": "Python 3 (ipykernel)",
   "language": "python",
   "name": "python3"
  },
  "language_info": {
   "codemirror_mode": {
    "name": "ipython",
    "version": 3
   },
   "file_extension": ".py",
   "mimetype": "text/x-python",
   "name": "python",
   "nbconvert_exporter": "python",
   "pygments_lexer": "ipython3",
   "version": "3.9.12"
  }
 },
 "nbformat": 4,
 "nbformat_minor": 5
}
