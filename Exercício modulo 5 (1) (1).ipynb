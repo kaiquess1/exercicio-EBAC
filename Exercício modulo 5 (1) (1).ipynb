{
 "cells": [
  {
   "cell_type": "code",
   "execution_count": 3,
   "id": "eccdb112",
   "metadata": {},
   "outputs": [],
   "source": [
    "import pandas as pd\n",
    "import numpy as np"
   ]
  },
  {
   "cell_type": "markdown",
   "id": "1208a6ff",
   "metadata": {},
   "source": [
    "**1)**"
   ]
  },
  {
   "cell_type": "code",
   "execution_count": 48,
   "id": "f5f66470",
   "metadata": {},
   "outputs": [
    {
     "name": "stdout",
     "output_type": "stream",
     "text": [
      "Sem tratativo dos valores duplicados (27028, 69)\n",
      "Com tratativo dos valores duplicados (27028, 69)\n",
      "Não há valores duplicados\n"
     ]
    }
   ],
   "source": [
    "sinasc=pd.read_csv('SINASC_RO_2019.csv')\n",
    "total=sinasc.shape\n",
    "sinasc_novo=sinasc.drop_duplicates().shape\n",
    "print(f'Sem tratativo dos valores duplicados {total}')\n",
    "print(f'Com tratativo dos valores duplicados {sinasc_novo}')\n",
    "print('Não há valores duplicados')\n"
   ]
  },
  {
   "cell_type": "markdown",
   "id": "8e502994",
   "metadata": {},
   "source": [
    "**2)**"
   ]
  },
  {
   "cell_type": "code",
   "execution_count": 49,
   "id": "c05a644a",
   "metadata": {},
   "outputs": [
    {
     "data": {
      "text/plain": [
       "ORIGEM          0\n",
       "CODESTAB      115\n",
       "CODMUNNASC      0\n",
       "LOCNASC         0\n",
       "IDADEMAE        0\n",
       "             ... \n",
       "munResUf        0\n",
       "munResLat       1\n",
       "munResLon       1\n",
       "munResAlt       1\n",
       "munResArea      1\n",
       "Length: 69, dtype: int64"
      ]
     },
     "execution_count": 49,
     "metadata": {},
     "output_type": "execute_result"
    }
   ],
   "source": [
    "sinasc.isna().sum()\n",
    "#valores faltantes acumulado por coluna"
   ]
  },
  {
   "cell_type": "markdown",
   "id": "6d9baeb7",
   "metadata": {},
   "source": [
    "**3)**"
   ]
  },
  {
   "cell_type": "code",
   "execution_count": 50,
   "id": "84b15800",
   "metadata": {},
   "outputs": [],
   "source": [
    "sinasc=sinasc[['LOCNASC', 'IDADEMAE', 'ESTCIVMAE', 'ESCMAE', 'QTDFILVIVO', \n",
    "    'GESTACAO', 'GRAVIDEZ', 'CONSULTAS', 'APGAR5']]"
   ]
  },
  {
   "cell_type": "code",
   "execution_count": 51,
   "id": "ee672240",
   "metadata": {},
   "outputs": [
    {
     "data": {
      "text/plain": [
       "LOCNASC          0\n",
       "IDADEMAE         0\n",
       "ESTCIVMAE      317\n",
       "ESCMAE         312\n",
       "QTDFILVIVO    1573\n",
       "GESTACAO      1232\n",
       "GRAVIDEZ        79\n",
       "CONSULTAS        0\n",
       "APGAR5         103\n",
       "dtype: int64"
      ]
     },
     "execution_count": 51,
     "metadata": {},
     "output_type": "execute_result"
    }
   ],
   "source": [
    "sinasc.isna().sum()\n",
    "#valores faltantes acumulado por coluna"
   ]
  },
  {
   "cell_type": "markdown",
   "id": "5c54b249",
   "metadata": {},
   "source": [
    "**4)**"
   ]
  },
  {
   "cell_type": "code",
   "execution_count": 52,
   "id": "0182be90",
   "metadata": {},
   "outputs": [],
   "source": [
    "sinasc.dropna(subset=['APGAR5'],inplace=True)"
   ]
  },
  {
   "cell_type": "code",
   "execution_count": 53,
   "id": "10fec756",
   "metadata": {},
   "outputs": [
    {
     "data": {
      "text/plain": [
       "LOCNASC          0\n",
       "IDADEMAE         0\n",
       "ESTCIVMAE      315\n",
       "ESCMAE         310\n",
       "QTDFILVIVO    1566\n",
       "GESTACAO      1216\n",
       "GRAVIDEZ        76\n",
       "CONSULTAS        0\n",
       "APGAR5           0\n",
       "dtype: int64"
      ]
     },
     "execution_count": 53,
     "metadata": {},
     "output_type": "execute_result"
    }
   ],
   "source": [
    "sinasc.isna().sum()"
   ]
  },
  {
   "cell_type": "markdown",
   "id": "e318e51c",
   "metadata": {},
   "source": [
    "**5)**"
   ]
  },
  {
   "cell_type": "code",
   "execution_count": 54,
   "id": "f41a4b3e",
   "metadata": {},
   "outputs": [],
   "source": [
    "filtro1=sinasc[sinasc['ESTCIVMAE']==9.0].index\n",
    "filtro2=sinasc[sinasc['CONSULTAS']==9].index\n",
    "sinasc.drop(filtro1,inplace=True)\n",
    "sinasc.drop(filtro2,inplace=True)\n",
    "#Acredito que tenha uma maneira menos poluida para executar o código, mas não consegui fazer de outra maneira. "
   ]
  },
  {
   "cell_type": "code",
   "execution_count": 55,
   "id": "2d5b5740",
   "metadata": {},
   "outputs": [
    {
     "name": "stdout",
     "output_type": "stream",
     "text": [
      "2.0    9893\n",
      "1.0    8881\n",
      "5.0    7135\n",
      "4.0     450\n",
      "3.0      57\n",
      "Name: ESTCIVMAE, dtype: int64\n",
      "4    18486\n",
      "3     5925\n",
      "2     1354\n",
      "1      966\n",
      "Name: CONSULTAS, dtype: int64\n"
     ]
    }
   ],
   "source": [
    "print(sinasc['ESTCIVMAE'].value_counts())\n",
    "print(sinasc['CONSULTAS'].value_counts())"
   ]
  },
  {
   "cell_type": "markdown",
   "id": "76da6bac",
   "metadata": {},
   "source": [
    "**6)**"
   ]
  },
  {
   "cell_type": "code",
   "execution_count": 56,
   "id": "4a4f401f",
   "metadata": {},
   "outputs": [],
   "source": [
    "sinasc['QTDFILVIVO'].fillna(0,inplace=True)"
   ]
  },
  {
   "cell_type": "markdown",
   "id": "ef2c9753",
   "metadata": {},
   "source": [
    "**7)**"
   ]
  },
  {
   "cell_type": "code",
   "execution_count": 57,
   "id": "60329adc",
   "metadata": {},
   "outputs": [
    {
     "data": {
      "text/plain": [
       "LOCNASC          0\n",
       "IDADEMAE         0\n",
       "ESTCIVMAE      315\n",
       "ESCMAE         288\n",
       "QTDFILVIVO       0\n",
       "GESTACAO      1197\n",
       "GRAVIDEZ        75\n",
       "CONSULTAS        0\n",
       "APGAR5           0\n",
       "dtype: int64"
      ]
     },
     "execution_count": 57,
     "metadata": {},
     "output_type": "execute_result"
    }
   ],
   "source": [
    "sinasc.isna().sum()"
   ]
  },
  {
   "cell_type": "code",
   "execution_count": 58,
   "id": "ae210ff1",
   "metadata": {},
   "outputs": [],
   "source": [
    "sinasc.dropna(inplace=True)\n",
    "# Optei por dropar todos os valores faltantes, tendo em vista que ainda teriamos uma base de dados suficiente para análise. \n",
    "# Com isso, podemos obter uma análise sem o impacto dos dados não informados. "
   ]
  },
  {
   "cell_type": "code",
   "execution_count": 59,
   "id": "e7d9772f",
   "metadata": {},
   "outputs": [
    {
     "name": "stdout",
     "output_type": "stream",
     "text": [
      "<class 'pandas.core.frame.DataFrame'>\n",
      "Int64Index: 24967 entries, 0 to 27027\n",
      "Data columns (total 9 columns):\n",
      " #   Column      Non-Null Count  Dtype  \n",
      "---  ------      --------------  -----  \n",
      " 0   LOCNASC     24967 non-null  int64  \n",
      " 1   IDADEMAE    24967 non-null  int64  \n",
      " 2   ESTCIVMAE   24967 non-null  float64\n",
      " 3   ESCMAE      24967 non-null  object \n",
      " 4   QTDFILVIVO  24967 non-null  float64\n",
      " 5   GESTACAO    24967 non-null  object \n",
      " 6   GRAVIDEZ    24967 non-null  object \n",
      " 7   CONSULTAS   24967 non-null  int64  \n",
      " 8   APGAR5      24967 non-null  float64\n",
      "dtypes: float64(3), int64(3), object(3)\n",
      "memory usage: 1.9+ MB\n"
     ]
    }
   ],
   "source": [
    "sinasc.info()"
   ]
  },
  {
   "cell_type": "markdown",
   "id": "bddbb333",
   "metadata": {},
   "source": [
    "**8)**"
   ]
  },
  {
   "cell_type": "code",
   "execution_count": 60,
   "id": "b1bdfc23",
   "metadata": {},
   "outputs": [
    {
     "data": {
      "text/plain": [
       "9.0     14927\n",
       "10.0     7777\n",
       "8.0      1843\n",
       "7.0       226\n",
       "6.0        69\n",
       "5.0        39\n",
       "1.0        22\n",
       "4.0        20\n",
       "0.0        15\n",
       "2.0        15\n",
       "3.0        14\n",
       "Name: APGAR5, dtype: int64"
      ]
     },
     "execution_count": 60,
     "metadata": {},
     "output_type": "execute_result"
    }
   ],
   "source": [
    "sinasc['APGAR5'].value_counts()"
   ]
  },
  {
   "cell_type": "code",
   "execution_count": 63,
   "id": "298acfc5",
   "metadata": {
    "scrolled": true
   },
   "outputs": [],
   "source": [
    "sinasc.loc[(sinasc['APGAR5'] >= 8.0) & (sinasc['APGAR5'] <= 10.0), 'nível_asfixia'] = 'normal'\n",
    "sinasc.loc[(sinasc['APGAR5'] >= 6.0) & (sinasc['APGAR5'] <= 7.0), 'nível_asfixia'] = 'asfixia leve'\n",
    "sinasc.loc[(sinasc['APGAR5'] >= 4.0) & (sinasc['APGAR5'] <= 5.0), 'nível_asfixia'] = 'asfixia moderada'\n",
    "sinasc.loc[(sinasc['APGAR5'] >= 0.0) & (sinasc['APGAR5'] <= 3.0), 'nível_asfixia'] = 'asfixia severa'\n"
   ]
  },
  {
   "cell_type": "code",
   "execution_count": 70,
   "id": "2448285f",
   "metadata": {},
   "outputs": [
    {
     "data": {
      "text/plain": [
       "normal              24547\n",
       "asfixia leve          295\n",
       "asfixia severa         66\n",
       "asfixia moderada       59\n",
       "Name: nível_asfixia, dtype: int64"
      ]
     },
     "execution_count": 70,
     "metadata": {},
     "output_type": "execute_result"
    }
   ],
   "source": [
    "sinasc['nível_asfixia'].value_counts()"
   ]
  },
  {
   "cell_type": "markdown",
   "id": "7406ac57",
   "metadata": {},
   "source": [
    "**9)**"
   ]
  },
  {
   "cell_type": "code",
   "execution_count": 76,
   "id": "ce24f2ff",
   "metadata": {},
   "outputs": [
    {
     "data": {
      "text/plain": [
       "Index(['LOCNASC', 'IDADEMAE', 'ESTCIVMAE', 'ESCMAE', 'QTDFILVIVO', 'GESTACAO',\n",
       "       'GRAVIDEZ', 'CONSULTAS', 'APGAR5', 'nível_asfixia'],\n",
       "      dtype='object')"
      ]
     },
     "execution_count": 76,
     "metadata": {},
     "output_type": "execute_result"
    }
   ],
   "source": [
    "sinasc.columns"
   ]
  },
  {
   "cell_type": "code",
   "execution_count": 78,
   "id": "e52ae672",
   "metadata": {},
   "outputs": [
    {
     "name": "stdout",
     "output_type": "stream",
     "text": [
      "locnasc\n",
      "idademae\n",
      "estcivmae\n",
      "escmae\n",
      "qtdfilvivo\n",
      "gestacao\n",
      "gravidez\n",
      "consultas\n",
      "apgar5\n",
      "nível_asfixia\n"
     ]
    }
   ],
   "source": [
    "for coluna in ['LOCNASC', 'IDADEMAE', 'ESTCIVMAE', 'ESCMAE', 'QTDFILVIVO', 'GESTACAO',\n",
    "       'GRAVIDEZ', 'CONSULTAS', 'APGAR5', 'nível_asfixia']:\n",
    "    colunas= coluna.lower()\n",
    "    sinasc\n",
    "    print(colunas)"
   ]
  },
  {
   "cell_type": "code",
   "execution_count": 103,
   "id": "231076b3",
   "metadata": {},
   "outputs": [],
   "source": [
    "sinasc.rename(columns={'LOCNASC':'locnasc','IDADEMAE':'idademae','ESTCIVMAE':'estcivmae',\n",
    "                      'ESCMAE':'escmae','QTDFILVIVO':'qtdfilvivo','GESTACAO':'gestacao','GRAVIDEZ':'gravidez',\n",
    "                      'CONSULTAS':'consultas','APGAR5':'apgar5'},inplace=True)\n",
    "#Acredito que tenha uma outra maneira de substituir os nomes das colunas. "
   ]
  },
  {
   "cell_type": "code",
   "execution_count": 104,
   "id": "082ff0ba",
   "metadata": {},
   "outputs": [
    {
     "data": {
      "text/html": [
       "<div>\n",
       "<style scoped>\n",
       "    .dataframe tbody tr th:only-of-type {\n",
       "        vertical-align: middle;\n",
       "    }\n",
       "\n",
       "    .dataframe tbody tr th {\n",
       "        vertical-align: top;\n",
       "    }\n",
       "\n",
       "    .dataframe thead th {\n",
       "        text-align: right;\n",
       "    }\n",
       "</style>\n",
       "<table border=\"1\" class=\"dataframe\">\n",
       "  <thead>\n",
       "    <tr style=\"text-align: right;\">\n",
       "      <th></th>\n",
       "      <th>locnasc</th>\n",
       "      <th>idademae</th>\n",
       "      <th>estcivmae</th>\n",
       "      <th>escmae</th>\n",
       "      <th>qtdfilvivo</th>\n",
       "      <th>gestacao</th>\n",
       "      <th>gravidez</th>\n",
       "      <th>consultas</th>\n",
       "      <th>apgar5</th>\n",
       "      <th>nível_asfixia</th>\n",
       "    </tr>\n",
       "  </thead>\n",
       "  <tbody>\n",
       "    <tr>\n",
       "      <th>0</th>\n",
       "      <td>1</td>\n",
       "      <td>19</td>\n",
       "      <td>5.0</td>\n",
       "      <td>8 a 11 anos</td>\n",
       "      <td>0.0</td>\n",
       "      <td>37 a 41 semanas</td>\n",
       "      <td>Única</td>\n",
       "      <td>4</td>\n",
       "      <td>10.0</td>\n",
       "      <td>normal</td>\n",
       "    </tr>\n",
       "    <tr>\n",
       "      <th>1</th>\n",
       "      <td>1</td>\n",
       "      <td>29</td>\n",
       "      <td>2.0</td>\n",
       "      <td>8 a 11 anos</td>\n",
       "      <td>1.0</td>\n",
       "      <td>37 a 41 semanas</td>\n",
       "      <td>Única</td>\n",
       "      <td>4</td>\n",
       "      <td>9.0</td>\n",
       "      <td>normal</td>\n",
       "    </tr>\n",
       "    <tr>\n",
       "      <th>3</th>\n",
       "      <td>1</td>\n",
       "      <td>30</td>\n",
       "      <td>5.0</td>\n",
       "      <td>12 anos ou mais</td>\n",
       "      <td>0.0</td>\n",
       "      <td>37 a 41 semanas</td>\n",
       "      <td>Única</td>\n",
       "      <td>3</td>\n",
       "      <td>10.0</td>\n",
       "      <td>normal</td>\n",
       "    </tr>\n",
       "    <tr>\n",
       "      <th>4</th>\n",
       "      <td>1</td>\n",
       "      <td>30</td>\n",
       "      <td>2.0</td>\n",
       "      <td>8 a 11 anos</td>\n",
       "      <td>1.0</td>\n",
       "      <td>37 a 41 semanas</td>\n",
       "      <td>Única</td>\n",
       "      <td>4</td>\n",
       "      <td>10.0</td>\n",
       "      <td>normal</td>\n",
       "    </tr>\n",
       "    <tr>\n",
       "      <th>5</th>\n",
       "      <td>1</td>\n",
       "      <td>33</td>\n",
       "      <td>5.0</td>\n",
       "      <td>1 a 3 anos</td>\n",
       "      <td>2.0</td>\n",
       "      <td>37 a 41 semanas</td>\n",
       "      <td>Única</td>\n",
       "      <td>4</td>\n",
       "      <td>10.0</td>\n",
       "      <td>normal</td>\n",
       "    </tr>\n",
       "    <tr>\n",
       "      <th>...</th>\n",
       "      <td>...</td>\n",
       "      <td>...</td>\n",
       "      <td>...</td>\n",
       "      <td>...</td>\n",
       "      <td>...</td>\n",
       "      <td>...</td>\n",
       "      <td>...</td>\n",
       "      <td>...</td>\n",
       "      <td>...</td>\n",
       "      <td>...</td>\n",
       "    </tr>\n",
       "    <tr>\n",
       "      <th>27023</th>\n",
       "      <td>1</td>\n",
       "      <td>32</td>\n",
       "      <td>2.0</td>\n",
       "      <td>12 anos ou mais</td>\n",
       "      <td>1.0</td>\n",
       "      <td>32 a 36 semanas</td>\n",
       "      <td>Única</td>\n",
       "      <td>4</td>\n",
       "      <td>9.0</td>\n",
       "      <td>normal</td>\n",
       "    </tr>\n",
       "    <tr>\n",
       "      <th>27024</th>\n",
       "      <td>1</td>\n",
       "      <td>19</td>\n",
       "      <td>1.0</td>\n",
       "      <td>8 a 11 anos</td>\n",
       "      <td>0.0</td>\n",
       "      <td>37 a 41 semanas</td>\n",
       "      <td>Única</td>\n",
       "      <td>4</td>\n",
       "      <td>9.0</td>\n",
       "      <td>normal</td>\n",
       "    </tr>\n",
       "    <tr>\n",
       "      <th>27025</th>\n",
       "      <td>1</td>\n",
       "      <td>24</td>\n",
       "      <td>2.0</td>\n",
       "      <td>8 a 11 anos</td>\n",
       "      <td>0.0</td>\n",
       "      <td>37 a 41 semanas</td>\n",
       "      <td>Única</td>\n",
       "      <td>4</td>\n",
       "      <td>10.0</td>\n",
       "      <td>normal</td>\n",
       "    </tr>\n",
       "    <tr>\n",
       "      <th>27026</th>\n",
       "      <td>1</td>\n",
       "      <td>21</td>\n",
       "      <td>2.0</td>\n",
       "      <td>8 a 11 anos</td>\n",
       "      <td>1.0</td>\n",
       "      <td>32 a 36 semanas</td>\n",
       "      <td>Única</td>\n",
       "      <td>4</td>\n",
       "      <td>9.0</td>\n",
       "      <td>normal</td>\n",
       "    </tr>\n",
       "    <tr>\n",
       "      <th>27027</th>\n",
       "      <td>1</td>\n",
       "      <td>18</td>\n",
       "      <td>5.0</td>\n",
       "      <td>8 a 11 anos</td>\n",
       "      <td>1.0</td>\n",
       "      <td>37 a 41 semanas</td>\n",
       "      <td>Única</td>\n",
       "      <td>4</td>\n",
       "      <td>8.0</td>\n",
       "      <td>normal</td>\n",
       "    </tr>\n",
       "  </tbody>\n",
       "</table>\n",
       "<p>24967 rows × 10 columns</p>\n",
       "</div>"
      ],
      "text/plain": [
       "       locnasc  idademae  estcivmae           escmae  qtdfilvivo  \\\n",
       "0            1        19        5.0      8 a 11 anos         0.0   \n",
       "1            1        29        2.0      8 a 11 anos         1.0   \n",
       "3            1        30        5.0  12 anos ou mais         0.0   \n",
       "4            1        30        2.0      8 a 11 anos         1.0   \n",
       "5            1        33        5.0       1 a 3 anos         2.0   \n",
       "...        ...       ...        ...              ...         ...   \n",
       "27023        1        32        2.0  12 anos ou mais         1.0   \n",
       "27024        1        19        1.0      8 a 11 anos         0.0   \n",
       "27025        1        24        2.0      8 a 11 anos         0.0   \n",
       "27026        1        21        2.0      8 a 11 anos         1.0   \n",
       "27027        1        18        5.0      8 a 11 anos         1.0   \n",
       "\n",
       "              gestacao gravidez  consultas  apgar5 nível_asfixia  \n",
       "0      37 a 41 semanas    Única          4    10.0        normal  \n",
       "1      37 a 41 semanas    Única          4     9.0        normal  \n",
       "3      37 a 41 semanas    Única          3    10.0        normal  \n",
       "4      37 a 41 semanas    Única          4    10.0        normal  \n",
       "5      37 a 41 semanas    Única          4    10.0        normal  \n",
       "...                ...      ...        ...     ...           ...  \n",
       "27023  32 a 36 semanas    Única          4     9.0        normal  \n",
       "27024  37 a 41 semanas    Única          4     9.0        normal  \n",
       "27025  37 a 41 semanas    Única          4    10.0        normal  \n",
       "27026  32 a 36 semanas    Única          4     9.0        normal  \n",
       "27027  37 a 41 semanas    Única          4     8.0        normal  \n",
       "\n",
       "[24967 rows x 10 columns]"
      ]
     },
     "execution_count": 104,
     "metadata": {},
     "output_type": "execute_result"
    }
   ],
   "source": [
    "sinasc"
   ]
  }
 ],
 "metadata": {
  "kernelspec": {
   "display_name": "Python 3 (ipykernel)",
   "language": "python",
   "name": "python3"
  },
  "language_info": {
   "codemirror_mode": {
    "name": "ipython",
    "version": 3
   },
   "file_extension": ".py",
   "mimetype": "text/x-python",
   "name": "python",
   "nbconvert_exporter": "python",
   "pygments_lexer": "ipython3",
   "version": "3.9.12"
  }
 },
 "nbformat": 4,
 "nbformat_minor": 5
}
